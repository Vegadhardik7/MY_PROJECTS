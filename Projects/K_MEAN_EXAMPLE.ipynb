{
 "cells": [
  {
   "cell_type": "code",
   "execution_count": 1,
   "metadata": {},
   "outputs": [],
   "source": [
    "#Problem is based on the student consumsion of alcohol\n",
    "#Cluster students with similar characteristics\n",
    "\n",
    "\n",
    "\n",
    "import pandas as pd\n",
    "import numpy as np\n",
    "import matplotlib.pyplot as plt\n",
    "%matplotlib inline"
   ]
  },
  {
   "cell_type": "code",
   "execution_count": 2,
   "metadata": {},
   "outputs": [
    {
     "data": {
      "text/html": [
       "<div>\n",
       "<style scoped>\n",
       "    .dataframe tbody tr th:only-of-type {\n",
       "        vertical-align: middle;\n",
       "    }\n",
       "\n",
       "    .dataframe tbody tr th {\n",
       "        vertical-align: top;\n",
       "    }\n",
       "\n",
       "    .dataframe thead th {\n",
       "        text-align: right;\n",
       "    }\n",
       "</style>\n",
       "<table border=\"1\" class=\"dataframe\">\n",
       "  <thead>\n",
       "    <tr style=\"text-align: right;\">\n",
       "      <th></th>\n",
       "      <th>BIO_SEX</th>\n",
       "      <th>age</th>\n",
       "      <th>TREG1</th>\n",
       "      <th>ALCEVR1</th>\n",
       "      <th>ALCPROBS1</th>\n",
       "      <th>marever1</th>\n",
       "      <th>cocever1</th>\n",
       "      <th>inhever1</th>\n",
       "      <th>cigavail</th>\n",
       "      <th>DEP1</th>\n",
       "      <th>ESTEEM1</th>\n",
       "      <th>VIOL1</th>\n",
       "      <th>PASSIST</th>\n",
       "      <th>DEVIANT1</th>\n",
       "      <th>SCHCONN1</th>\n",
       "      <th>GPA1</th>\n",
       "      <th>EXPEL1</th>\n",
       "      <th>FAMCONCT</th>\n",
       "      <th>PARACTV</th>\n",
       "      <th>PARPRES</th>\n",
       "    </tr>\n",
       "  </thead>\n",
       "  <tbody>\n",
       "    <tr>\n",
       "      <td>0</td>\n",
       "      <td>2.0</td>\n",
       "      <td>NaN</td>\n",
       "      <td>0.0</td>\n",
       "      <td>1.0</td>\n",
       "      <td>2</td>\n",
       "      <td>1</td>\n",
       "      <td>0</td>\n",
       "      <td>0</td>\n",
       "      <td>0.0</td>\n",
       "      <td>10.0</td>\n",
       "      <td>47.0</td>\n",
       "      <td>4.0</td>\n",
       "      <td>0</td>\n",
       "      <td>5.0</td>\n",
       "      <td>NaN</td>\n",
       "      <td>NaN</td>\n",
       "      <td>0.0</td>\n",
       "      <td>24.3</td>\n",
       "      <td>8.0</td>\n",
       "      <td>15.0</td>\n",
       "    </tr>\n",
       "    <tr>\n",
       "      <td>1</td>\n",
       "      <td>2.0</td>\n",
       "      <td>19.427397</td>\n",
       "      <td>1.0</td>\n",
       "      <td>1.0</td>\n",
       "      <td>1</td>\n",
       "      <td>0</td>\n",
       "      <td>0</td>\n",
       "      <td>0</td>\n",
       "      <td>1.0</td>\n",
       "      <td>17.0</td>\n",
       "      <td>35.0</td>\n",
       "      <td>1.0</td>\n",
       "      <td>0</td>\n",
       "      <td>5.0</td>\n",
       "      <td>22.0</td>\n",
       "      <td>2.333333</td>\n",
       "      <td>0.0</td>\n",
       "      <td>23.3</td>\n",
       "      <td>9.0</td>\n",
       "      <td>15.0</td>\n",
       "    </tr>\n",
       "    <tr>\n",
       "      <td>2</td>\n",
       "      <td>1.0</td>\n",
       "      <td>NaN</td>\n",
       "      <td>0.0</td>\n",
       "      <td>0.0</td>\n",
       "      <td>0</td>\n",
       "      <td>0</td>\n",
       "      <td>0</td>\n",
       "      <td>0</td>\n",
       "      <td>0.0</td>\n",
       "      <td>2.0</td>\n",
       "      <td>45.0</td>\n",
       "      <td>0.0</td>\n",
       "      <td>0</td>\n",
       "      <td>1.0</td>\n",
       "      <td>30.0</td>\n",
       "      <td>2.250000</td>\n",
       "      <td>0.0</td>\n",
       "      <td>24.3</td>\n",
       "      <td>3.0</td>\n",
       "      <td>15.0</td>\n",
       "    </tr>\n",
       "    <tr>\n",
       "      <td>3</td>\n",
       "      <td>1.0</td>\n",
       "      <td>20.430137</td>\n",
       "      <td>1.0</td>\n",
       "      <td>0.0</td>\n",
       "      <td>0</td>\n",
       "      <td>1</td>\n",
       "      <td>1</td>\n",
       "      <td>1</td>\n",
       "      <td>1.0</td>\n",
       "      <td>19.0</td>\n",
       "      <td>47.0</td>\n",
       "      <td>4.0</td>\n",
       "      <td>1</td>\n",
       "      <td>4.0</td>\n",
       "      <td>19.0</td>\n",
       "      <td>2.000000</td>\n",
       "      <td>0.0</td>\n",
       "      <td>18.7</td>\n",
       "      <td>6.0</td>\n",
       "      <td>14.0</td>\n",
       "    </tr>\n",
       "    <tr>\n",
       "      <td>4</td>\n",
       "      <td>2.0</td>\n",
       "      <td>NaN</td>\n",
       "      <td>0.0</td>\n",
       "      <td>1.0</td>\n",
       "      <td>0</td>\n",
       "      <td>0</td>\n",
       "      <td>0</td>\n",
       "      <td>0</td>\n",
       "      <td>0.0</td>\n",
       "      <td>6.0</td>\n",
       "      <td>39.0</td>\n",
       "      <td>0.0</td>\n",
       "      <td>0</td>\n",
       "      <td>5.0</td>\n",
       "      <td>32.0</td>\n",
       "      <td>3.000000</td>\n",
       "      <td>0.0</td>\n",
       "      <td>20.0</td>\n",
       "      <td>9.0</td>\n",
       "      <td>6.0</td>\n",
       "    </tr>\n",
       "  </tbody>\n",
       "</table>\n",
       "</div>"
      ],
      "text/plain": [
       "   BIO_SEX        age  TREG1  ALCEVR1  ALCPROBS1  marever1  cocever1  \\\n",
       "0      2.0        NaN    0.0      1.0          2         1         0   \n",
       "1      2.0  19.427397    1.0      1.0          1         0         0   \n",
       "2      1.0        NaN    0.0      0.0          0         0         0   \n",
       "3      1.0  20.430137    1.0      0.0          0         1         1   \n",
       "4      2.0        NaN    0.0      1.0          0         0         0   \n",
       "\n",
       "   inhever1  cigavail  DEP1  ESTEEM1  VIOL1  PASSIST  DEVIANT1  SCHCONN1  \\\n",
       "0         0       0.0  10.0     47.0    4.0        0       5.0       NaN   \n",
       "1         0       1.0  17.0     35.0    1.0        0       5.0      22.0   \n",
       "2         0       0.0   2.0     45.0    0.0        0       1.0      30.0   \n",
       "3         1       1.0  19.0     47.0    4.0        1       4.0      19.0   \n",
       "4         0       0.0   6.0     39.0    0.0        0       5.0      32.0   \n",
       "\n",
       "       GPA1  EXPEL1  FAMCONCT  PARACTV  PARPRES  \n",
       "0       NaN     0.0      24.3      8.0     15.0  \n",
       "1  2.333333     0.0      23.3      9.0     15.0  \n",
       "2  2.250000     0.0      24.3      3.0     15.0  \n",
       "3  2.000000     0.0      18.7      6.0     14.0  \n",
       "4  3.000000     0.0      20.0      9.0      6.0  "
      ]
     },
     "execution_count": 2,
     "metadata": {},
     "output_type": "execute_result"
    }
   ],
   "source": [
    "data = pd.read_csv(r\"D:/Dig/health_data.csv\")\n",
    "data.head()"
   ]
  },
  {
   "cell_type": "code",
   "execution_count": 3,
   "metadata": {},
   "outputs": [
    {
     "data": {
      "text/html": [
       "<div>\n",
       "<style scoped>\n",
       "    .dataframe tbody tr th:only-of-type {\n",
       "        vertical-align: middle;\n",
       "    }\n",
       "\n",
       "    .dataframe tbody tr th {\n",
       "        vertical-align: top;\n",
       "    }\n",
       "\n",
       "    .dataframe thead th {\n",
       "        text-align: right;\n",
       "    }\n",
       "</style>\n",
       "<table border=\"1\" class=\"dataframe\">\n",
       "  <thead>\n",
       "    <tr style=\"text-align: right;\">\n",
       "      <th></th>\n",
       "      <th>BIO_SEX</th>\n",
       "      <th>age</th>\n",
       "      <th>TREG1</th>\n",
       "      <th>ALCEVR1</th>\n",
       "      <th>ALCPROBS1</th>\n",
       "      <th>marever1</th>\n",
       "      <th>cocever1</th>\n",
       "      <th>inhever1</th>\n",
       "      <th>cigavail</th>\n",
       "      <th>DEP1</th>\n",
       "      <th>ESTEEM1</th>\n",
       "      <th>VIOL1</th>\n",
       "      <th>PASSIST</th>\n",
       "      <th>DEVIANT1</th>\n",
       "      <th>SCHCONN1</th>\n",
       "      <th>GPA1</th>\n",
       "      <th>EXPEL1</th>\n",
       "      <th>FAMCONCT</th>\n",
       "      <th>PARACTV</th>\n",
       "      <th>PARPRES</th>\n",
       "    </tr>\n",
       "  </thead>\n",
       "  <tbody>\n",
       "    <tr>\n",
       "      <td>6499</td>\n",
       "      <td>2.0</td>\n",
       "      <td>14.260274</td>\n",
       "      <td>0.0</td>\n",
       "      <td>0.0</td>\n",
       "      <td>0</td>\n",
       "      <td>0</td>\n",
       "      <td>0</td>\n",
       "      <td>0</td>\n",
       "      <td>0.0</td>\n",
       "      <td>4.0</td>\n",
       "      <td>38.0</td>\n",
       "      <td>2.0</td>\n",
       "      <td>0</td>\n",
       "      <td>2.0</td>\n",
       "      <td>27.0</td>\n",
       "      <td>3.50</td>\n",
       "      <td>0.0</td>\n",
       "      <td>23.0</td>\n",
       "      <td>3.0</td>\n",
       "      <td>14.0</td>\n",
       "    </tr>\n",
       "    <tr>\n",
       "      <td>6500</td>\n",
       "      <td>1.0</td>\n",
       "      <td>NaN</td>\n",
       "      <td>0.0</td>\n",
       "      <td>0.0</td>\n",
       "      <td>0</td>\n",
       "      <td>0</td>\n",
       "      <td>0</td>\n",
       "      <td>0</td>\n",
       "      <td>0.0</td>\n",
       "      <td>2.0</td>\n",
       "      <td>35.0</td>\n",
       "      <td>0.0</td>\n",
       "      <td>1</td>\n",
       "      <td>0.0</td>\n",
       "      <td>32.0</td>\n",
       "      <td>3.00</td>\n",
       "      <td>0.0</td>\n",
       "      <td>23.3</td>\n",
       "      <td>9.0</td>\n",
       "      <td>15.0</td>\n",
       "    </tr>\n",
       "    <tr>\n",
       "      <td>6501</td>\n",
       "      <td>1.0</td>\n",
       "      <td>15.093151</td>\n",
       "      <td>1.0</td>\n",
       "      <td>1.0</td>\n",
       "      <td>4</td>\n",
       "      <td>1</td>\n",
       "      <td>0</td>\n",
       "      <td>0</td>\n",
       "      <td>1.0</td>\n",
       "      <td>25.0</td>\n",
       "      <td>50.0</td>\n",
       "      <td>13.0</td>\n",
       "      <td>0</td>\n",
       "      <td>2.0</td>\n",
       "      <td>14.0</td>\n",
       "      <td>1.00</td>\n",
       "      <td>0.0</td>\n",
       "      <td>23.7</td>\n",
       "      <td>9.0</td>\n",
       "      <td>13.0</td>\n",
       "    </tr>\n",
       "    <tr>\n",
       "      <td>6502</td>\n",
       "      <td>2.0</td>\n",
       "      <td>15.509589</td>\n",
       "      <td>0.0</td>\n",
       "      <td>0.0</td>\n",
       "      <td>0</td>\n",
       "      <td>0</td>\n",
       "      <td>0</td>\n",
       "      <td>0</td>\n",
       "      <td>0.0</td>\n",
       "      <td>13.0</td>\n",
       "      <td>29.0</td>\n",
       "      <td>1.0</td>\n",
       "      <td>1</td>\n",
       "      <td>6.0</td>\n",
       "      <td>26.0</td>\n",
       "      <td>3.00</td>\n",
       "      <td>0.0</td>\n",
       "      <td>21.3</td>\n",
       "      <td>1.0</td>\n",
       "      <td>12.0</td>\n",
       "    </tr>\n",
       "    <tr>\n",
       "      <td>6503</td>\n",
       "      <td>1.0</td>\n",
       "      <td>NaN</td>\n",
       "      <td>0.0</td>\n",
       "      <td>1.0</td>\n",
       "      <td>1</td>\n",
       "      <td>1</td>\n",
       "      <td>0</td>\n",
       "      <td>0</td>\n",
       "      <td>1.0</td>\n",
       "      <td>11.0</td>\n",
       "      <td>41.0</td>\n",
       "      <td>15.0</td>\n",
       "      <td>1</td>\n",
       "      <td>14.0</td>\n",
       "      <td>25.0</td>\n",
       "      <td>1.25</td>\n",
       "      <td>0.0</td>\n",
       "      <td>17.0</td>\n",
       "      <td>5.0</td>\n",
       "      <td>8.0</td>\n",
       "    </tr>\n",
       "  </tbody>\n",
       "</table>\n",
       "</div>"
      ],
      "text/plain": [
       "      BIO_SEX        age  TREG1  ALCEVR1  ALCPROBS1  marever1  cocever1  \\\n",
       "6499      2.0  14.260274    0.0      0.0          0         0         0   \n",
       "6500      1.0        NaN    0.0      0.0          0         0         0   \n",
       "6501      1.0  15.093151    1.0      1.0          4         1         0   \n",
       "6502      2.0  15.509589    0.0      0.0          0         0         0   \n",
       "6503      1.0        NaN    0.0      1.0          1         1         0   \n",
       "\n",
       "      inhever1  cigavail  DEP1  ESTEEM1  VIOL1  PASSIST  DEVIANT1  SCHCONN1  \\\n",
       "6499         0       0.0   4.0     38.0    2.0        0       2.0      27.0   \n",
       "6500         0       0.0   2.0     35.0    0.0        1       0.0      32.0   \n",
       "6501         0       1.0  25.0     50.0   13.0        0       2.0      14.0   \n",
       "6502         0       0.0  13.0     29.0    1.0        1       6.0      26.0   \n",
       "6503         0       1.0  11.0     41.0   15.0        1      14.0      25.0   \n",
       "\n",
       "      GPA1  EXPEL1  FAMCONCT  PARACTV  PARPRES  \n",
       "6499  3.50     0.0      23.0      3.0     14.0  \n",
       "6500  3.00     0.0      23.3      9.0     15.0  \n",
       "6501  1.00     0.0      23.7      9.0     13.0  \n",
       "6502  3.00     0.0      21.3      1.0     12.0  \n",
       "6503  1.25     0.0      17.0      5.0      8.0  "
      ]
     },
     "execution_count": 3,
     "metadata": {},
     "output_type": "execute_result"
    }
   ],
   "source": [
    "data.tail()"
   ]
  },
  {
   "cell_type": "code",
   "execution_count": 4,
   "metadata": {},
   "outputs": [
    {
     "name": "stdout",
     "output_type": "stream",
     "text": [
      "<class 'pandas.core.frame.DataFrame'>\n",
      "RangeIndex: 6504 entries, 0 to 6503\n",
      "Data columns (total 20 columns):\n",
      "BIO_SEX      6503 non-null float64\n",
      "age          4837 non-null float64\n",
      "TREG1        6500 non-null float64\n",
      "ALCEVR1      6444 non-null float64\n",
      "ALCPROBS1    6504 non-null int64\n",
      "marever1     6504 non-null int64\n",
      "cocever1     6504 non-null int64\n",
      "inhever1     6504 non-null int64\n",
      "cigavail     6444 non-null float64\n",
      "DEP1         6486 non-null float64\n",
      "ESTEEM1      6483 non-null float64\n",
      "VIOL1        6454 non-null float64\n",
      "PASSIST      6504 non-null int64\n",
      "DEVIANT1     6448 non-null float64\n",
      "SCHCONN1     6368 non-null float64\n",
      "GPA1         6274 non-null float64\n",
      "EXPEL1       6486 non-null float64\n",
      "FAMCONCT     6504 non-null float64\n",
      "PARACTV      6477 non-null float64\n",
      "PARPRES      6369 non-null float64\n",
      "dtypes: float64(15), int64(5)\n",
      "memory usage: 1016.4 KB\n"
     ]
    }
   ],
   "source": [
    "data.info()"
   ]
  },
  {
   "cell_type": "code",
   "execution_count": 6,
   "metadata": {},
   "outputs": [
    {
     "data": {
      "text/plain": [
       "BIO_SEX         1\n",
       "age          1667\n",
       "TREG1           4\n",
       "ALCEVR1        60\n",
       "ALCPROBS1       0\n",
       "marever1        0\n",
       "cocever1        0\n",
       "inhever1        0\n",
       "cigavail       60\n",
       "DEP1           18\n",
       "ESTEEM1        21\n",
       "VIOL1          50\n",
       "PASSIST         0\n",
       "DEVIANT1       56\n",
       "SCHCONN1      136\n",
       "GPA1          230\n",
       "EXPEL1         18\n",
       "FAMCONCT        0\n",
       "PARACTV        27\n",
       "PARPRES       135\n",
       "dtype: int64"
      ]
     },
     "execution_count": 6,
     "metadata": {},
     "output_type": "execute_result"
    }
   ],
   "source": [
    "data.isnull().sum()"
   ]
  },
  {
   "cell_type": "code",
   "execution_count": 7,
   "metadata": {},
   "outputs": [],
   "source": [
    "data=data.dropna()"
   ]
  },
  {
   "cell_type": "code",
   "execution_count": 8,
   "metadata": {},
   "outputs": [
    {
     "data": {
      "text/html": [
       "<div>\n",
       "<style scoped>\n",
       "    .dataframe tbody tr th:only-of-type {\n",
       "        vertical-align: middle;\n",
       "    }\n",
       "\n",
       "    .dataframe tbody tr th {\n",
       "        vertical-align: top;\n",
       "    }\n",
       "\n",
       "    .dataframe thead th {\n",
       "        text-align: right;\n",
       "    }\n",
       "</style>\n",
       "<table border=\"1\" class=\"dataframe\">\n",
       "  <thead>\n",
       "    <tr style=\"text-align: right;\">\n",
       "      <th></th>\n",
       "      <th>BIO_SEX</th>\n",
       "      <th>age</th>\n",
       "      <th>TREG1</th>\n",
       "      <th>ALCEVR1</th>\n",
       "      <th>ALCPROBS1</th>\n",
       "      <th>marever1</th>\n",
       "      <th>cocever1</th>\n",
       "      <th>inhever1</th>\n",
       "      <th>cigavail</th>\n",
       "      <th>DEP1</th>\n",
       "      <th>ESTEEM1</th>\n",
       "      <th>VIOL1</th>\n",
       "      <th>PASSIST</th>\n",
       "      <th>DEVIANT1</th>\n",
       "      <th>SCHCONN1</th>\n",
       "      <th>GPA1</th>\n",
       "      <th>EXPEL1</th>\n",
       "      <th>FAMCONCT</th>\n",
       "      <th>PARACTV</th>\n",
       "      <th>PARPRES</th>\n",
       "    </tr>\n",
       "  </thead>\n",
       "  <tbody>\n",
       "    <tr>\n",
       "      <td>1</td>\n",
       "      <td>2.0</td>\n",
       "      <td>19.427397</td>\n",
       "      <td>1.0</td>\n",
       "      <td>1.0</td>\n",
       "      <td>1</td>\n",
       "      <td>0</td>\n",
       "      <td>0</td>\n",
       "      <td>0</td>\n",
       "      <td>1.0</td>\n",
       "      <td>17.0</td>\n",
       "      <td>35.0</td>\n",
       "      <td>1.0</td>\n",
       "      <td>0</td>\n",
       "      <td>5.0</td>\n",
       "      <td>22.0</td>\n",
       "      <td>2.333333</td>\n",
       "      <td>0.0</td>\n",
       "      <td>23.3</td>\n",
       "      <td>9.0</td>\n",
       "      <td>15.0</td>\n",
       "    </tr>\n",
       "    <tr>\n",
       "      <td>3</td>\n",
       "      <td>1.0</td>\n",
       "      <td>20.430137</td>\n",
       "      <td>1.0</td>\n",
       "      <td>0.0</td>\n",
       "      <td>0</td>\n",
       "      <td>1</td>\n",
       "      <td>1</td>\n",
       "      <td>1</td>\n",
       "      <td>1.0</td>\n",
       "      <td>19.0</td>\n",
       "      <td>47.0</td>\n",
       "      <td>4.0</td>\n",
       "      <td>1</td>\n",
       "      <td>4.0</td>\n",
       "      <td>19.0</td>\n",
       "      <td>2.000000</td>\n",
       "      <td>0.0</td>\n",
       "      <td>18.7</td>\n",
       "      <td>6.0</td>\n",
       "      <td>14.0</td>\n",
       "    </tr>\n",
       "  </tbody>\n",
       "</table>\n",
       "</div>"
      ],
      "text/plain": [
       "   BIO_SEX        age  TREG1  ALCEVR1  ALCPROBS1  marever1  cocever1  \\\n",
       "1      2.0  19.427397    1.0      1.0          1         0         0   \n",
       "3      1.0  20.430137    1.0      0.0          0         1         1   \n",
       "\n",
       "   inhever1  cigavail  DEP1  ESTEEM1  VIOL1  PASSIST  DEVIANT1  SCHCONN1  \\\n",
       "1         0       1.0  17.0     35.0    1.0        0       5.0      22.0   \n",
       "3         1       1.0  19.0     47.0    4.0        1       4.0      19.0   \n",
       "\n",
       "       GPA1  EXPEL1  FAMCONCT  PARACTV  PARPRES  \n",
       "1  2.333333     0.0      23.3      9.0     15.0  \n",
       "3  2.000000     0.0      18.7      6.0     14.0  "
      ]
     },
     "execution_count": 8,
     "metadata": {},
     "output_type": "execute_result"
    }
   ],
   "source": [
    "data.head(2)"
   ]
  },
  {
   "cell_type": "code",
   "execution_count": 9,
   "metadata": {},
   "outputs": [
    {
     "data": {
      "text/plain": [
       "BIO_SEX      0\n",
       "age          0\n",
       "TREG1        0\n",
       "ALCEVR1      0\n",
       "ALCPROBS1    0\n",
       "marever1     0\n",
       "cocever1     0\n",
       "inhever1     0\n",
       "cigavail     0\n",
       "DEP1         0\n",
       "ESTEEM1      0\n",
       "VIOL1        0\n",
       "PASSIST      0\n",
       "DEVIANT1     0\n",
       "SCHCONN1     0\n",
       "GPA1         0\n",
       "EXPEL1       0\n",
       "FAMCONCT     0\n",
       "PARACTV      0\n",
       "PARPRES      0\n",
       "dtype: int64"
      ]
     },
     "execution_count": 9,
     "metadata": {},
     "output_type": "execute_result"
    }
   ],
   "source": [
    "data.isnull().sum()"
   ]
  },
  {
   "cell_type": "code",
   "execution_count": 12,
   "metadata": {},
   "outputs": [],
   "source": [
    "from sklearn.model_selection import train_test_split\n",
    "from sklearn.cluster import KMeans\n",
    "from sklearn import preprocessing"
   ]
  },
  {
   "cell_type": "code",
   "execution_count": 17,
   "metadata": {},
   "outputs": [],
   "source": [
    "cluster = data[['ALCEVR1','marever1','ALCPROBS1','DEVIANT1','VIOL1',\\\n",
    "               'DEP1','ESTEEM1','SCHCONN1','PARACTV','PARPRES','FAMCONCT']]\n",
    "\n",
    "# before doing any kinda clustering we have to standardized them because all the variables are measured in diff scales\n",
    "#normalization helps us to scale down our features from 0-1\n",
    "#standardization helps us to scale down our feaures based in standard normal distribution where mean = 0 & StandardDeviation = 1"
   ]
  },
  {
   "cell_type": "code",
   "execution_count": 18,
   "metadata": {},
   "outputs": [],
   "source": [
    "#Let standardize our variable mean=0,sd=1\n",
    "clu=cluster.copy()\n",
    "\n",
    "clu['ALCEVR1'] = preprocessing.scale(clu['ALCEVR1'].astype('float64'))\n",
    "clu['marever1'] = preprocessing.scale(clu['marever1'].astype('float64'))\n",
    "clu['ALCPROBS1'] = preprocessing.scale(clu['ALCPROBS1'].astype('float64'))\n",
    "clu['DEVIANT1'] = preprocessing.scale(clu['DEVIANT1'].astype('float64'))\n",
    "clu['VIOL1'] = preprocessing.scale(clu['VIOL1'].astype('float64'))\n",
    "clu['DEP1'] = preprocessing.scale(clu['DEP1'].astype('float64'))\n",
    "clu['ESTEEM1'] = preprocessing.scale(clu['ESTEEM1'].astype('float64'))\n",
    "clu['SCHCONN1'] = preprocessing.scale(clu['SCHCONN1'].astype('float64'))\n",
    "clu['PARACTV'] = preprocessing.scale(clu['PARACTV'].astype('float64'))\n",
    "clu['PARPRES'] = preprocessing.scale(clu['PARPRES'].astype('float64'))\n",
    "clu['FAMCONCT'] = preprocessing.scale(clu['FAMCONCT'].astype('float64'))"
   ]
  },
  {
   "cell_type": "code",
   "execution_count": 19,
   "metadata": {},
   "outputs": [],
   "source": [
    "# Lets do K-means clustering for 1 to 10 clusters\n",
    "clu_train,clu_test = train_test_split(clu,test_size=0.3)"
   ]
  },
  {
   "cell_type": "code",
   "execution_count": 20,
   "metadata": {},
   "outputs": [
    {
     "data": {
      "text/html": [
       "<div>\n",
       "<style scoped>\n",
       "    .dataframe tbody tr th:only-of-type {\n",
       "        vertical-align: middle;\n",
       "    }\n",
       "\n",
       "    .dataframe tbody tr th {\n",
       "        vertical-align: top;\n",
       "    }\n",
       "\n",
       "    .dataframe thead th {\n",
       "        text-align: right;\n",
       "    }\n",
       "</style>\n",
       "<table border=\"1\" class=\"dataframe\">\n",
       "  <thead>\n",
       "    <tr style=\"text-align: right;\">\n",
       "      <th></th>\n",
       "      <th>ALCEVR1</th>\n",
       "      <th>marever1</th>\n",
       "      <th>ALCPROBS1</th>\n",
       "      <th>DEVIANT1</th>\n",
       "      <th>VIOL1</th>\n",
       "      <th>DEP1</th>\n",
       "      <th>ESTEEM1</th>\n",
       "      <th>SCHCONN1</th>\n",
       "      <th>PARACTV</th>\n",
       "      <th>PARPRES</th>\n",
       "      <th>FAMCONCT</th>\n",
       "    </tr>\n",
       "  </thead>\n",
       "  <tbody>\n",
       "    <tr>\n",
       "      <td>6440</td>\n",
       "      <td>-1.055206</td>\n",
       "      <td>-0.564215</td>\n",
       "      <td>-0.412003</td>\n",
       "      <td>-0.467218</td>\n",
       "      <td>-0.623928</td>\n",
       "      <td>-0.385257</td>\n",
       "      <td>-0.176794</td>\n",
       "      <td>1.286780</td>\n",
       "      <td>-0.978282</td>\n",
       "      <td>-0.671211</td>\n",
       "      <td>-0.220322</td>\n",
       "    </tr>\n",
       "    <tr>\n",
       "      <td>3534</td>\n",
       "      <td>-1.055206</td>\n",
       "      <td>-0.564215</td>\n",
       "      <td>-0.412003</td>\n",
       "      <td>0.670775</td>\n",
       "      <td>-0.238134</td>\n",
       "      <td>-0.233301</td>\n",
       "      <td>-2.403848</td>\n",
       "      <td>-1.617406</td>\n",
       "      <td>-0.680828</td>\n",
       "      <td>0.766295</td>\n",
       "      <td>-2.020452</td>\n",
       "    </tr>\n",
       "    <tr>\n",
       "      <td>2336</td>\n",
       "      <td>-1.055206</td>\n",
       "      <td>-0.564215</td>\n",
       "      <td>-0.412003</td>\n",
       "      <td>-0.751716</td>\n",
       "      <td>-0.623928</td>\n",
       "      <td>-0.993080</td>\n",
       "      <td>1.122320</td>\n",
       "      <td>1.093167</td>\n",
       "      <td>-0.978282</td>\n",
       "      <td>-0.192042</td>\n",
       "      <td>0.813795</td>\n",
       "    </tr>\n",
       "    <tr>\n",
       "      <td>5054</td>\n",
       "      <td>0.947683</td>\n",
       "      <td>-0.564215</td>\n",
       "      <td>-0.412003</td>\n",
       "      <td>0.386277</td>\n",
       "      <td>-0.623928</td>\n",
       "      <td>0.374523</td>\n",
       "      <td>0.008793</td>\n",
       "      <td>0.512330</td>\n",
       "      <td>0.211534</td>\n",
       "      <td>-0.671211</td>\n",
       "      <td>0.660592</td>\n",
       "    </tr>\n",
       "    <tr>\n",
       "      <td>2941</td>\n",
       "      <td>-1.055206</td>\n",
       "      <td>-0.564215</td>\n",
       "      <td>-0.412003</td>\n",
       "      <td>-0.467218</td>\n",
       "      <td>0.533454</td>\n",
       "      <td>-0.841125</td>\n",
       "      <td>0.379969</td>\n",
       "      <td>0.318718</td>\n",
       "      <td>0.211534</td>\n",
       "      <td>-0.671211</td>\n",
       "      <td>0.277586</td>\n",
       "    </tr>\n",
       "  </tbody>\n",
       "</table>\n",
       "</div>"
      ],
      "text/plain": [
       "       ALCEVR1  marever1  ALCPROBS1  DEVIANT1     VIOL1      DEP1   ESTEEM1  \\\n",
       "6440 -1.055206 -0.564215  -0.412003 -0.467218 -0.623928 -0.385257 -0.176794   \n",
       "3534 -1.055206 -0.564215  -0.412003  0.670775 -0.238134 -0.233301 -2.403848   \n",
       "2336 -1.055206 -0.564215  -0.412003 -0.751716 -0.623928 -0.993080  1.122320   \n",
       "5054  0.947683 -0.564215  -0.412003  0.386277 -0.623928  0.374523  0.008793   \n",
       "2941 -1.055206 -0.564215  -0.412003 -0.467218  0.533454 -0.841125  0.379969   \n",
       "\n",
       "      SCHCONN1   PARACTV   PARPRES  FAMCONCT  \n",
       "6440  1.286780 -0.978282 -0.671211 -0.220322  \n",
       "3534 -1.617406 -0.680828  0.766295 -2.020452  \n",
       "2336  1.093167 -0.978282 -0.192042  0.813795  \n",
       "5054  0.512330  0.211534 -0.671211  0.660592  \n",
       "2941  0.318718  0.211534 -0.671211  0.277586  "
      ]
     },
     "execution_count": 20,
     "metadata": {},
     "output_type": "execute_result"
    }
   ],
   "source": [
    "clu_train.head()"
   ]
  },
  {
   "cell_type": "code",
   "execution_count": 22,
   "metadata": {},
   "outputs": [
    {
     "data": {
      "text/plain": [
       "(3220, 11)"
      ]
     },
     "execution_count": 22,
     "metadata": {},
     "output_type": "execute_result"
    }
   ],
   "source": [
    "clu_train.shape"
   ]
  },
  {
   "cell_type": "code",
   "execution_count": 23,
   "metadata": {},
   "outputs": [
    {
     "data": {
      "text/html": [
       "<div>\n",
       "<style scoped>\n",
       "    .dataframe tbody tr th:only-of-type {\n",
       "        vertical-align: middle;\n",
       "    }\n",
       "\n",
       "    .dataframe tbody tr th {\n",
       "        vertical-align: top;\n",
       "    }\n",
       "\n",
       "    .dataframe thead th {\n",
       "        text-align: right;\n",
       "    }\n",
       "</style>\n",
       "<table border=\"1\" class=\"dataframe\">\n",
       "  <thead>\n",
       "    <tr style=\"text-align: right;\">\n",
       "      <th></th>\n",
       "      <th>ALCEVR1</th>\n",
       "      <th>marever1</th>\n",
       "      <th>ALCPROBS1</th>\n",
       "      <th>DEVIANT1</th>\n",
       "      <th>VIOL1</th>\n",
       "      <th>DEP1</th>\n",
       "      <th>ESTEEM1</th>\n",
       "      <th>SCHCONN1</th>\n",
       "      <th>PARACTV</th>\n",
       "      <th>PARPRES</th>\n",
       "      <th>FAMCONCT</th>\n",
       "    </tr>\n",
       "  </thead>\n",
       "  <tbody>\n",
       "    <tr>\n",
       "      <td>66</td>\n",
       "      <td>-1.055206</td>\n",
       "      <td>-0.564215</td>\n",
       "      <td>-0.412003</td>\n",
       "      <td>-0.467218</td>\n",
       "      <td>-0.623928</td>\n",
       "      <td>0.070611</td>\n",
       "      <td>1.122320</td>\n",
       "      <td>1.286780</td>\n",
       "      <td>-0.978282</td>\n",
       "      <td>0.766295</td>\n",
       "      <td>0.928697</td>\n",
       "    </tr>\n",
       "    <tr>\n",
       "      <td>2263</td>\n",
       "      <td>0.947683</td>\n",
       "      <td>1.772375</td>\n",
       "      <td>-0.412003</td>\n",
       "      <td>1.239771</td>\n",
       "      <td>-0.623928</td>\n",
       "      <td>-0.841125</td>\n",
       "      <td>1.307908</td>\n",
       "      <td>1.093167</td>\n",
       "      <td>-1.275736</td>\n",
       "      <td>-2.108718</td>\n",
       "      <td>-2.518360</td>\n",
       "    </tr>\n",
       "    <tr>\n",
       "      <td>4033</td>\n",
       "      <td>0.947683</td>\n",
       "      <td>1.772375</td>\n",
       "      <td>-0.412003</td>\n",
       "      <td>3.515756</td>\n",
       "      <td>2.848219</td>\n",
       "      <td>2.197994</td>\n",
       "      <td>-0.733558</td>\n",
       "      <td>-0.649344</td>\n",
       "      <td>-1.870644</td>\n",
       "      <td>0.766295</td>\n",
       "      <td>-1.752347</td>\n",
       "    </tr>\n",
       "    <tr>\n",
       "      <td>1680</td>\n",
       "      <td>-1.055206</td>\n",
       "      <td>-0.564215</td>\n",
       "      <td>-0.412003</td>\n",
       "      <td>-0.182719</td>\n",
       "      <td>0.919248</td>\n",
       "      <td>0.678435</td>\n",
       "      <td>-0.547970</td>\n",
       "      <td>0.125105</td>\n",
       "      <td>0.806442</td>\n",
       "      <td>0.766295</td>\n",
       "      <td>0.162684</td>\n",
       "    </tr>\n",
       "    <tr>\n",
       "      <td>2078</td>\n",
       "      <td>-1.055206</td>\n",
       "      <td>-0.564215</td>\n",
       "      <td>-0.412003</td>\n",
       "      <td>0.386277</td>\n",
       "      <td>0.147660</td>\n",
       "      <td>0.678435</td>\n",
       "      <td>0.565557</td>\n",
       "      <td>-1.036569</td>\n",
       "      <td>0.806442</td>\n",
       "      <td>0.766295</td>\n",
       "      <td>0.813795</td>\n",
       "    </tr>\n",
       "  </tbody>\n",
       "</table>\n",
       "</div>"
      ],
      "text/plain": [
       "       ALCEVR1  marever1  ALCPROBS1  DEVIANT1     VIOL1      DEP1   ESTEEM1  \\\n",
       "66   -1.055206 -0.564215  -0.412003 -0.467218 -0.623928  0.070611  1.122320   \n",
       "2263  0.947683  1.772375  -0.412003  1.239771 -0.623928 -0.841125  1.307908   \n",
       "4033  0.947683  1.772375  -0.412003  3.515756  2.848219  2.197994 -0.733558   \n",
       "1680 -1.055206 -0.564215  -0.412003 -0.182719  0.919248  0.678435 -0.547970   \n",
       "2078 -1.055206 -0.564215  -0.412003  0.386277  0.147660  0.678435  0.565557   \n",
       "\n",
       "      SCHCONN1   PARACTV   PARPRES  FAMCONCT  \n",
       "66    1.286780 -0.978282  0.766295  0.928697  \n",
       "2263  1.093167 -1.275736 -2.108718 -2.518360  \n",
       "4033 -0.649344 -1.870644  0.766295 -1.752347  \n",
       "1680  0.125105  0.806442  0.766295  0.162684  \n",
       "2078 -1.036569  0.806442  0.766295  0.813795  "
      ]
     },
     "execution_count": 23,
     "metadata": {},
     "output_type": "execute_result"
    }
   ],
   "source": [
    "clu_test.head()"
   ]
  },
  {
   "cell_type": "code",
   "execution_count": 24,
   "metadata": {},
   "outputs": [
    {
     "data": {
      "text/plain": [
       "(1381, 11)"
      ]
     },
     "execution_count": 24,
     "metadata": {},
     "output_type": "execute_result"
    }
   ],
   "source": [
    "clu_test.shape"
   ]
  },
  {
   "cell_type": "code",
   "execution_count": 25,
   "metadata": {},
   "outputs": [
    {
     "data": {
      "text/plain": [
       "(4601, 20)"
      ]
     },
     "execution_count": 25,
     "metadata": {},
     "output_type": "execute_result"
    }
   ],
   "source": [
    "data.shape"
   ]
  },
  {
   "cell_type": "code",
   "execution_count": 30,
   "metadata": {},
   "outputs": [],
   "source": [
    "# Avg distance calculated for over 1-10 clusters\n",
    "from scipy.spatial.distance import cdist\n",
    "cluster=range(1,11)\n",
    "mean_dis=[]\n",
    "for k in cluster:\n",
    "    model=KMeans(n_clusters=k)\n",
    "    model.fit(clu_train)\n",
    "    \n",
    "    #calucluate sum of distances in the cluster centroids\n",
    "    #cdist use to calculate distance\n",
    "    #cluster_centers_ calculate number of centriods\n",
    "    #euclident tells cdist to helps us to calculate distance between each observation in our cluster train dataset\n",
    "    #np.min use to determine the smallest / minimum difference for each observation among our cluster centriods\n",
    "    mean_dis.append(sum(np.min(cdist(clu_train,model.cluster_centers_,'euclidean'),\\\n",
    "                                   axis=1))/clu_train.shape[0])"
   ]
  },
  {
   "cell_type": "code",
   "execution_count": 37,
   "metadata": {},
   "outputs": [
    {
     "name": "stdout",
     "output_type": "stream",
     "text": [
      "3220\n"
     ]
    },
    {
     "data": {
      "text/plain": [
       "Text(0.5, 1.0, 'Elbow method for our k value')"
      ]
     },
     "execution_count": 37,
     "metadata": {},
     "output_type": "execute_result"
    },
    {
     "data": {
      "image/png": "[encoded data removed]",
      "text/plain": [
       "<Figure size 432x288 with 1 Axes>"
      ]
     },
     "metadata": {
      "needs_background": "light"
     },
     "output_type": "display_data"
    }
   ],
   "source": [
    "print(clu_train.shape[0])\n",
    "plt.plot(cluster,mean_dis)\n",
    "plt.xlabel(\"Num of Cluster\")\n",
    "plt.ylabel(\"Avg Distance\")\n",
    "plt.title(\"Elbow method for our k value\")"
   ]
  },
  {
   "cell_type": "code",
   "execution_count": 43,
   "metadata": {},
   "outputs": [
    {
     "name": "stdout",
     "output_type": "stream",
     "text": [
      "KMeans(algorithm='auto', copy_x=True, init='k-means++', max_iter=300,\n",
      "       n_clusters=3, n_init=10, n_jobs=None, precompute_distances='auto',\n",
      "       random_state=None, tol=0.0001, verbose=0)\n"
     ]
    },
    {
     "data": {
      "image/png": "[encoded data removed]",
      "text/plain": [
       "<Figure size 720x432 with 1 Axes>"
      ]
     },
     "metadata": {
      "needs_background": "light"
     },
     "output_type": "display_data"
    }
   ],
   "source": [
    "    #canonical discriminate analysis -> it is a data reduction technique which creates a smaller number of variables that are linear\n",
    "#                                   conbinations of 11 clustering variables in our case\n",
    "\n",
    "#1st larger proportion of varient <- 1st canonical variable\n",
    "#2nd larger proportion of varient <- 2nd canonical variable\n",
    "#...\n",
    "\n",
    "#canonical discriminate analysis done by PCA function\n",
    "\n",
    "plt.figure(figsize=(10,6))\n",
    "model_1=KMeans(n_clusters=3)\n",
    "print(model_1.fit(clu_train))\n",
    "from sklearn.decomposition import PCA\n",
    "pca_2 = PCA(2)\n",
    "plot_col = pca_2.fit_transform(clu_train)\n",
    "plt.scatter(x=plot_col[:,0],y=plot_col[:,1],c=model_1.labels_,)\n",
    "plt.xlabel(\"Can onical var 1\")\n",
    "plt.ylabel(\"Canonical var 2\")\n",
    "plt.title(\"scatter plot for 3 cluster solution using 2 canonical variable\")\n",
    "plt.show()"
   ]
  },
  {
   "cell_type": "code",
   "execution_count": 42,
   "metadata": {},
   "outputs": [
    {
     "name": "stdout",
     "output_type": "stream",
     "text": [
      "KMeans(algorithm='auto', copy_x=True, init='k-means++', max_iter=300,\n",
      "       n_clusters=2, n_init=10, n_jobs=None, precompute_distances='auto',\n",
      "       random_state=None, tol=0.0001, verbose=0)\n"
     ]
    },
    {
     "data": {
      "image/png": "[encoded data removed]",
      "text/plain": [
       "<Figure size 720x432 with 1 Axes>"
      ]
     },
     "metadata": {
      "needs_background": "light"
     },
     "output_type": "display_data"
    }
   ],
   "source": [
    "plt.figure(figsize=(10,6))\n",
    "model_2=KMeans(n_clusters=2)\n",
    "print(model_2.fit(clu_train))\n",
    "from sklearn.decomposition import PCA\n",
    "pca_2 = PCA(2)\n",
    "plot_col = pca_2.fit_transform(clu_train)\n",
    "plt.scatter(x=plot_col[:,0],y=plot_col[:,1],c=model_2.labels_,)\n",
    "plt.xlabel(\"Canonical var 1\")\n",
    "plt.ylabel(\"Canonical var 2\")\n",
    "plt.title(\"scatter plot for 3 cluster solution using 2 canonical variable\")\n",
    "plt.show()"
   ]
  },
  {
   "cell_type": "code",
   "execution_count": 38,
   "metadata": {},
   "outputs": [],
   "source": [
    "k_rng=range(1,11)\n",
    "sse=[]\n",
    "for k in k_rng:\n",
    "    km=KMeans(n_clusters=k)\n",
    "    km.fit(clu_train)\n",
    "    sse.append(km.inertia_)"
   ]
  },
  {
   "cell_type": "code",
   "execution_count": 39,
   "metadata": {},
   "outputs": [
    {
     "name": "stdout",
     "output_type": "stream",
     "text": [
      "[35569.49228688171, 28425.094175929455, 25853.80869026018, 23738.498798191147, 22253.879426626543, 21218.966422498976, 20359.141570912347, 19527.072980437886, 18731.655194953753, 18130.1896828322]\n"
     ]
    },
    {
     "data": {
      "text/plain": [
       "[<matplotlib.lines.Line2D at 0x1f49fa48708>]"
      ]
     },
     "execution_count": 39,
     "metadata": {},
     "output_type": "execute_result"
    },
    {
     "data": {
      "image/png": "[encoded data removed]",
      "text/plain": [
       "<Figure size 432x288 with 1 Axes>"
      ]
     },
     "metadata": {
      "needs_background": "light"
     },
     "output_type": "display_data"
    }
   ],
   "source": [
    "print(sse)\n",
    "plt.xlabel(\"K\")\n",
    "plt.ylabel(\"SSE\")\n",
    "plt.plot(k_rng,sse)"
   ]
  },
  {
   "cell_type": "code",
   "execution_count": null,
   "metadata": {},
   "outputs": [],
   "source": []
  },
  {
   "cell_type": "code",
   "execution_count": null,
   "metadata": {},
   "outputs": [],
   "source": []
  },
  {
   "cell_type": "code",
   "execution_count": null,
   "metadata": {},
   "outputs": [],
   "source": []
  }
 ],
 "metadata": {
  "kernelspec": {
   "display_name": "Python 3",
   "language": "python",
   "name": "python3"
  },
  "language_info": {
   "codemirror_mode": {
    "name": "ipython",
    "version": 3
   },
   "file_extension": ".py",
   "mimetype": "text/x-python",
   "name": "python",
   "nbconvert_exporter": "python",
   "pygments_lexer": "ipython3",
   "version": "3.7.4"
  }
 },
 "nbformat": 4,
 "nbformat_minor": 2
}
