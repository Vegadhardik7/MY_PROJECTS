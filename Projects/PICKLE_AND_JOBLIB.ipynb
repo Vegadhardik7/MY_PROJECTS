{
 "cells": [
  {
   "cell_type": "code",
   "execution_count": 1,
   "metadata": {},
   "outputs": [],
   "source": [
    "#PICKLING A PYTHON OBJECT\n",
    "\n",
    "import pickle #allows to serialize your python object into a file\n",
    "cars = [\"BMW\",\"Audi\",\"Ferrari\",\"Maruti\",\"Swift\"]\n",
    "#now we will store this list in a by making its object\n",
    "file = \"mycar.pkl\"\n",
    "fileobj = open(file,'wb')\n",
    "pickle.dump(cars,fileobj)\n",
    "fileobj.close()"
   ]
  },
  {
   "cell_type": "code",
   "execution_count": 2,
   "metadata": {},
   "outputs": [
    {
     "name": "stdout",
     "output_type": "stream",
     "text": [
      "['BMW', 'Audi', 'Ferrari', 'Maruti', 'Swift']\n"
     ]
    }
   ],
   "source": [
    "file1=\"mycar.pkl\"\n",
    "fileobj1=open(file1,'rb')\n",
    "mycar=pickle.load(fileobj1)\n",
    "print(mycar)"
   ]
  },
  {
   "cell_type": "code",
   "execution_count": 3,
   "metadata": {},
   "outputs": [
    {
     "name": "stdout",
     "output_type": "stream",
     "text": [
      "<class 'list'>\n"
     ]
    }
   ],
   "source": [
    "print(type(mycar))"
   ]
  },
  {
   "cell_type": "code",
   "execution_count": 7,
   "metadata": {},
   "outputs": [],
   "source": [
    "with open('cars_pickle','wb') as f:\n",
    "    pickle.dump(cars,f)"
   ]
  },
  {
   "cell_type": "code",
   "execution_count": 8,
   "metadata": {},
   "outputs": [],
   "source": [
    "with open('cars_pickle','rb') as f:\n",
    "    mp=pickle.load(f)"
   ]
  },
  {
   "cell_type": "code",
   "execution_count": null,
   "metadata": {},
   "outputs": [],
   "source": [
    "# joblib is used for large numpy array"
   ]
  }
 ],
 "metadata": {
  "kernelspec": {
   "display_name": "Python 3",
   "language": "python",
   "name": "python3"
  },
  "language_info": {
   "codemirror_mode": {
    "name": "ipython",
    "version": 3
   },
   "file_extension": ".py",
   "mimetype": "text/x-python",
   "name": "python",
   "nbconvert_exporter": "python",
   "pygments_lexer": "ipython3",
   "version": "3.7.4"
  }
 },
 "nbformat": 4,
 "nbformat_minor": 2
}
