{
 "cells": [
  {
   "cell_type": "code",
   "execution_count": 1,
   "metadata": {},
   "outputs": [],
   "source": [
    "import pandas as pd\n",
    "import numpy as np"
   ]
  },
  {
   "cell_type": "code",
   "execution_count": 2,
   "metadata": {},
   "outputs": [
    {
     "data": {
      "text/html": [
       "<div>\n",
       "<style scoped>\n",
       "    .dataframe tbody tr th:only-of-type {\n",
       "        vertical-align: middle;\n",
       "    }\n",
       "\n",
       "    .dataframe tbody tr th {\n",
       "        vertical-align: top;\n",
       "    }\n",
       "\n",
       "    .dataframe thead th {\n",
       "        text-align: right;\n",
       "    }\n",
       "</style>\n",
       "<table border=\"1\" class=\"dataframe\">\n",
       "  <thead>\n",
       "    <tr style=\"text-align: right;\">\n",
       "      <th></th>\n",
       "      <th>Label</th>\n",
       "      <th>Message</th>\n",
       "    </tr>\n",
       "  </thead>\n",
       "  <tbody>\n",
       "    <tr>\n",
       "      <td>0</td>\n",
       "      <td>ham</td>\n",
       "      <td>Go until jurong point, crazy.. Available only ...</td>\n",
       "    </tr>\n",
       "    <tr>\n",
       "      <td>1</td>\n",
       "      <td>ham</td>\n",
       "      <td>Ok lar... Joking wif u oni...</td>\n",
       "    </tr>\n",
       "    <tr>\n",
       "      <td>2</td>\n",
       "      <td>spam</td>\n",
       "      <td>Free entry in 2 a wkly comp to win FA Cup fina...</td>\n",
       "    </tr>\n",
       "    <tr>\n",
       "      <td>3</td>\n",
       "      <td>ham</td>\n",
       "      <td>U dun say so early hor... U c already then say...</td>\n",
       "    </tr>\n",
       "    <tr>\n",
       "      <td>4</td>\n",
       "      <td>ham</td>\n",
       "      <td>Nah I don't think he goes to usf, he lives aro...</td>\n",
       "    </tr>\n",
       "  </tbody>\n",
       "</table>\n",
       "</div>"
      ],
      "text/plain": [
       "  Label                                            Message\n",
       "0   ham  Go until jurong point, crazy.. Available only ...\n",
       "1   ham                      Ok lar... Joking wif u oni...\n",
       "2  spam  Free entry in 2 a wkly comp to win FA Cup fina...\n",
       "3   ham  U dun say so early hor... U c already then say...\n",
       "4   ham  Nah I don't think he goes to usf, he lives aro..."
      ]
     },
     "execution_count": 2,
     "metadata": {},
     "output_type": "execute_result"
    }
   ],
   "source": [
    "data=pd.read_csv(r\"D:\\Dig\\SMSSpamCollection\",sep=\"\\t\",names=['Label','Message'])\n",
    "data.head()"
   ]
  },
  {
   "cell_type": "code",
   "execution_count": 3,
   "metadata": {},
   "outputs": [
    {
     "data": {
      "text/html": [
       "<div>\n",
       "<style scoped>\n",
       "    .dataframe tbody tr th:only-of-type {\n",
       "        vertical-align: middle;\n",
       "    }\n",
       "\n",
       "    .dataframe tbody tr th {\n",
       "        vertical-align: top;\n",
       "    }\n",
       "\n",
       "    .dataframe thead th {\n",
       "        text-align: right;\n",
       "    }\n",
       "</style>\n",
       "<table border=\"1\" class=\"dataframe\">\n",
       "  <thead>\n",
       "    <tr style=\"text-align: right;\">\n",
       "      <th></th>\n",
       "      <th>Label</th>\n",
       "      <th>Message</th>\n",
       "    </tr>\n",
       "  </thead>\n",
       "  <tbody>\n",
       "    <tr>\n",
       "      <td>count</td>\n",
       "      <td>5572</td>\n",
       "      <td>5572</td>\n",
       "    </tr>\n",
       "    <tr>\n",
       "      <td>unique</td>\n",
       "      <td>2</td>\n",
       "      <td>5169</td>\n",
       "    </tr>\n",
       "    <tr>\n",
       "      <td>top</td>\n",
       "      <td>ham</td>\n",
       "      <td>Sorry, I'll call later</td>\n",
       "    </tr>\n",
       "    <tr>\n",
       "      <td>freq</td>\n",
       "      <td>4825</td>\n",
       "      <td>30</td>\n",
       "    </tr>\n",
       "  </tbody>\n",
       "</table>\n",
       "</div>"
      ],
      "text/plain": [
       "       Label                 Message\n",
       "count   5572                    5572\n",
       "unique     2                    5169\n",
       "top      ham  Sorry, I'll call later\n",
       "freq    4825                      30"
      ]
     },
     "execution_count": 3,
     "metadata": {},
     "output_type": "execute_result"
    }
   ],
   "source": [
    "data.describe()"
   ]
  },
  {
   "cell_type": "code",
   "execution_count": 5,
   "metadata": {},
   "outputs": [
    {
     "data": {
      "text/html": [
       "<div>\n",
       "<style scoped>\n",
       "    .dataframe tbody tr th:only-of-type {\n",
       "        vertical-align: middle;\n",
       "    }\n",
       "\n",
       "    .dataframe tbody tr th {\n",
       "        vertical-align: top;\n",
       "    }\n",
       "\n",
       "    .dataframe thead th {\n",
       "        text-align: right;\n",
       "    }\n",
       "</style>\n",
       "<table border=\"1\" class=\"dataframe\">\n",
       "  <thead>\n",
       "    <tr style=\"text-align: right;\">\n",
       "      <th></th>\n",
       "      <th>Label</th>\n",
       "      <th>Message</th>\n",
       "    </tr>\n",
       "  </thead>\n",
       "  <tbody>\n",
       "    <tr>\n",
       "      <td>5570</td>\n",
       "      <td>ham</td>\n",
       "      <td>The guy did some bitching but I acted like i'd...</td>\n",
       "    </tr>\n",
       "    <tr>\n",
       "      <td>5571</td>\n",
       "      <td>ham</td>\n",
       "      <td>Rofl. Its true to its name</td>\n",
       "    </tr>\n",
       "  </tbody>\n",
       "</table>\n",
       "</div>"
      ],
      "text/plain": [
       "     Label                                            Message\n",
       "5570   ham  The guy did some bitching but I acted like i'd...\n",
       "5571   ham                         Rofl. Its true to its name"
      ]
     },
     "execution_count": 5,
     "metadata": {},
     "output_type": "execute_result"
    }
   ],
   "source": [
    "data.tail(2)"
   ]
  },
  {
   "cell_type": "code",
   "execution_count": 7,
   "metadata": {},
   "outputs": [
    {
     "data": {
      "text/plain": [
       "(5572, 2)"
      ]
     },
     "execution_count": 7,
     "metadata": {},
     "output_type": "execute_result"
    }
   ],
   "source": [
    "data.shape"
   ]
  },
  {
   "cell_type": "code",
   "execution_count": 9,
   "metadata": {},
   "outputs": [
    {
     "name": "stdout",
     "output_type": "stream",
     "text": [
      "<class 'pandas.core.frame.DataFrame'>\n",
      "RangeIndex: 5572 entries, 0 to 5571\n",
      "Data columns (total 2 columns):\n",
      "Label      5572 non-null object\n",
      "Message    5572 non-null object\n",
      "dtypes: object(2)\n",
      "memory usage: 87.2+ KB\n"
     ]
    }
   ],
   "source": [
    "data.info()"
   ]
  },
  {
   "cell_type": "code",
   "execution_count": 10,
   "metadata": {},
   "outputs": [
    {
     "data": {
      "text/plain": [
       "ham     4825\n",
       "spam     747\n",
       "Name: Label, dtype: int64"
      ]
     },
     "execution_count": 10,
     "metadata": {},
     "output_type": "execute_result"
    }
   ],
   "source": [
    "data.Label.value_counts()"
   ]
  },
  {
   "cell_type": "code",
   "execution_count": 11,
   "metadata": {},
   "outputs": [],
   "source": [
    "# spam:1 & ham:0\n",
    "data['Label_num']=data.Label.map({'spam':1,'ham':0})"
   ]
  },
  {
   "cell_type": "code",
   "execution_count": 12,
   "metadata": {},
   "outputs": [
    {
     "data": {
      "text/html": [
       "<div>\n",
       "<style scoped>\n",
       "    .dataframe tbody tr th:only-of-type {\n",
       "        vertical-align: middle;\n",
       "    }\n",
       "\n",
       "    .dataframe tbody tr th {\n",
       "        vertical-align: top;\n",
       "    }\n",
       "\n",
       "    .dataframe thead th {\n",
       "        text-align: right;\n",
       "    }\n",
       "</style>\n",
       "<table border=\"1\" class=\"dataframe\">\n",
       "  <thead>\n",
       "    <tr style=\"text-align: right;\">\n",
       "      <th></th>\n",
       "      <th>Label</th>\n",
       "      <th>Message</th>\n",
       "      <th>Label_num</th>\n",
       "    </tr>\n",
       "  </thead>\n",
       "  <tbody>\n",
       "    <tr>\n",
       "      <td>0</td>\n",
       "      <td>ham</td>\n",
       "      <td>Go until jurong point, crazy.. Available only ...</td>\n",
       "      <td>0</td>\n",
       "    </tr>\n",
       "    <tr>\n",
       "      <td>1</td>\n",
       "      <td>ham</td>\n",
       "      <td>Ok lar... Joking wif u oni...</td>\n",
       "      <td>0</td>\n",
       "    </tr>\n",
       "    <tr>\n",
       "      <td>2</td>\n",
       "      <td>spam</td>\n",
       "      <td>Free entry in 2 a wkly comp to win FA Cup fina...</td>\n",
       "      <td>1</td>\n",
       "    </tr>\n",
       "    <tr>\n",
       "      <td>3</td>\n",
       "      <td>ham</td>\n",
       "      <td>U dun say so early hor... U c already then say...</td>\n",
       "      <td>0</td>\n",
       "    </tr>\n",
       "    <tr>\n",
       "      <td>4</td>\n",
       "      <td>ham</td>\n",
       "      <td>Nah I don't think he goes to usf, he lives aro...</td>\n",
       "      <td>0</td>\n",
       "    </tr>\n",
       "  </tbody>\n",
       "</table>\n",
       "</div>"
      ],
      "text/plain": [
       "  Label                                            Message  Label_num\n",
       "0   ham  Go until jurong point, crazy.. Available only ...          0\n",
       "1   ham                      Ok lar... Joking wif u oni...          0\n",
       "2  spam  Free entry in 2 a wkly comp to win FA Cup fina...          1\n",
       "3   ham  U dun say so early hor... U c already then say...          0\n",
       "4   ham  Nah I don't think he goes to usf, he lives aro...          0"
      ]
     },
     "execution_count": 12,
     "metadata": {},
     "output_type": "execute_result"
    }
   ],
   "source": [
    "data.head()"
   ]
  },
  {
   "cell_type": "code",
   "execution_count": 13,
   "metadata": {},
   "outputs": [],
   "source": [
    "X=data.Message\n",
    "y=data.Label_num"
   ]
  },
  {
   "cell_type": "code",
   "execution_count": 14,
   "metadata": {},
   "outputs": [
    {
     "data": {
      "text/plain": [
       "(5572,)"
      ]
     },
     "execution_count": 14,
     "metadata": {},
     "output_type": "execute_result"
    }
   ],
   "source": [
    "X.shape"
   ]
  },
  {
   "cell_type": "code",
   "execution_count": 15,
   "metadata": {},
   "outputs": [
    {
     "data": {
      "text/plain": [
       "(5572,)"
      ]
     },
     "execution_count": 15,
     "metadata": {},
     "output_type": "execute_result"
    }
   ],
   "source": [
    "y.shape"
   ]
  },
  {
   "cell_type": "code",
   "execution_count": 16,
   "metadata": {},
   "outputs": [],
   "source": [
    "from sklearn.model_selection import train_test_split\n",
    "X_train,X_test,y_train,y_test = train_test_split(X,y,test_size=0.2)"
   ]
  },
  {
   "cell_type": "code",
   "execution_count": 20,
   "metadata": {},
   "outputs": [
    {
     "name": "stdout",
     "output_type": "stream",
     "text": [
      "(4457,)\n",
      "(1115,)\n"
     ]
    }
   ],
   "source": [
    "print(X_train.shape)\n",
    "print(X_test.shape)"
   ]
  },
  {
   "cell_type": "code",
   "execution_count": 21,
   "metadata": {},
   "outputs": [
    {
     "name": "stdout",
     "output_type": "stream",
     "text": [
      "(4457,)\n",
      "(1115,)\n"
     ]
    }
   ],
   "source": [
    "print(y_train.shape)\n",
    "print(y_test.shape)"
   ]
  },
  {
   "cell_type": "code",
   "execution_count": 22,
   "metadata": {},
   "outputs": [],
   "source": [
    "#Now we will instantiate CountVectorizer obj & then conver our training dataset into documenter matrix\n",
    "# Why did we split our data into training and testing then efore we instantiate our count vectorizer?\n",
    "#->The reason is bcz when we anayise our dataset there will be certain words that your model will not able to recognize ,\n",
    "# so we want to be able to drop those features\n",
    "\n",
    "from sklearn.feature_extraction.text import CountVectorizer\n",
    "\n",
    "vector = CountVectorizer()"
   ]
  },
  {
   "cell_type": "code",
   "execution_count": 23,
   "metadata": {},
   "outputs": [
    {
     "data": {
      "text/plain": [
       "CountVectorizer(analyzer='word', binary=False, decode_error='strict',\n",
       "                dtype=<class 'numpy.int64'>, encoding='utf-8', input='content',\n",
       "                lowercase=True, max_df=1.0, max_features=None, min_df=1,\n",
       "                ngram_range=(1, 1), preprocessor=None, stop_words=None,\n",
       "                strip_accents=None, token_pattern='(?u)\\\\b\\\\w\\\\w+\\\\b',\n",
       "                tokenizer=None, vocabulary=None)"
      ]
     },
     "execution_count": 23,
     "metadata": {},
     "output_type": "execute_result"
    }
   ],
   "source": [
    "vector.fit(X_train)"
   ]
  },
  {
   "cell_type": "code",
   "execution_count": 25,
   "metadata": {},
   "outputs": [
    {
     "data": {
      "text/plain": [
       "(4457, 7781)"
      ]
     },
     "execution_count": 25,
     "metadata": {},
     "output_type": "execute_result"
    }
   ],
   "source": [
    "#Convert 1D into 2D therefore we will call transform method\n",
    "X_train_dtmatrix=vector.transform(X_train)\n",
    "X_train_dtmatrix.shape"
   ]
  },
  {
   "cell_type": "code",
   "execution_count": 26,
   "metadata": {},
   "outputs": [
    {
     "data": {
      "text/plain": [
       "(4457, 7781)"
      ]
     },
     "execution_count": 26,
     "metadata": {},
     "output_type": "execute_result"
    }
   ],
   "source": [
    "#The above 2 steps would have be done in an single step and that is by using fit_transform\n",
    "#X_train_val=vector.fit_transform(X_train)\n",
    "#X_train_val.shape"
   ]
  },
  {
   "cell_type": "code",
   "execution_count": 27,
   "metadata": {},
   "outputs": [
    {
     "data": {
      "text/plain": [
       "<4457x7781 sparse matrix of type '<class 'numpy.int64'>'\n",
       "\twith 59839 stored elements in Compressed Sparse Row format>"
      ]
     },
     "execution_count": 27,
     "metadata": {},
     "output_type": "execute_result"
    }
   ],
   "source": [
    "X_train_dtmatrix"
   ]
  },
  {
   "cell_type": "code",
   "execution_count": 28,
   "metadata": {},
   "outputs": [
    {
     "data": {
      "text/plain": [
       "(1115, 7781)"
      ]
     },
     "execution_count": 28,
     "metadata": {},
     "output_type": "execute_result"
    }
   ],
   "source": [
    "#CountVectorizer object takes 1D obj and transform it to 2D object\n",
    "X_test_dtmatrix=vector.transform(X_test)\n",
    "X_test_dtmatrix.shape"
   ]
  },
  {
   "cell_type": "code",
   "execution_count": 29,
   "metadata": {},
   "outputs": [],
   "source": [
    "#We didnt use fit method before tansform bcz now any new word in our X_test dataset will be droped "
   ]
  },
  {
   "cell_type": "code",
   "execution_count": 30,
   "metadata": {},
   "outputs": [
    {
     "data": {
      "text/plain": [
       "MultinomialNB(alpha=1.0, class_prior=None, fit_prior=True)"
      ]
     },
     "execution_count": 30,
     "metadata": {},
     "output_type": "execute_result"
    }
   ],
   "source": [
    "#Now we are ready to build our model....for that we will use MultinomialNiveBase \n",
    "from sklearn.naive_bayes import MultinomialNB  \n",
    "\n",
    "#then we will call fit method to train our model out X_train Documental matrix & y_train datasets\n",
    "\n",
    "nb_model=MultinomialNB()\n",
    "nb_model.fit(X_train_dtmatrix,y_train)"
   ]
  },
  {
   "cell_type": "code",
   "execution_count": 31,
   "metadata": {},
   "outputs": [],
   "source": [
    "y_predict = nb_model.predict(X_test_dtmatrix)"
   ]
  },
  {
   "cell_type": "code",
   "execution_count": 32,
   "metadata": {},
   "outputs": [
    {
     "name": "stdout",
     "output_type": "stream",
     "text": [
      "0.9865470852017937\n"
     ]
    }
   ],
   "source": [
    "#Now we will compair y_predict with y_test. y_test which is actual result\n",
    "from sklearn import metrics\n",
    "print(metrics.accuracy_score(y_test,y_predict))"
   ]
  },
  {
   "cell_type": "code",
   "execution_count": 33,
   "metadata": {},
   "outputs": [
    {
     "name": "stdout",
     "output_type": "stream",
     "text": [
      "[[966   2]\n",
      " [ 13 134]]\n"
     ]
    }
   ],
   "source": [
    "print(metrics.confusion_matrix(y_test,y_predict))\n",
    "# 15 elements are not detected properly"
   ]
  },
  {
   "cell_type": "code",
   "execution_count": 34,
   "metadata": {},
   "outputs": [
    {
     "name": "stdout",
     "output_type": "stream",
     "text": [
      "              precision    recall  f1-score   support\n",
      "\n",
      "           0       0.99      1.00      0.99       968\n",
      "           1       0.99      0.91      0.95       147\n",
      "\n",
      "    accuracy                           0.99      1115\n",
      "   macro avg       0.99      0.95      0.97      1115\n",
      "weighted avg       0.99      0.99      0.99      1115\n",
      "\n"
     ]
    }
   ],
   "source": [
    "print(metrics.classification_report(y_test,y_predict))"
   ]
  },
  {
   "cell_type": "code",
   "execution_count": 35,
   "metadata": {},
   "outputs": [],
   "source": [
    "#NOW WE WILL USE LOGISTIC REGRESSION MODEL & COMPAIR IT WITH THE MULTINOMIALNB\n",
    "from sklearn.linear_model import LogisticRegression\n",
    "Log_model=LogisticRegression()"
   ]
  },
  {
   "cell_type": "code",
   "execution_count": 36,
   "metadata": {},
   "outputs": [
    {
     "name": "stderr",
     "output_type": "stream",
     "text": [
      "D:\\Anaconda\\lib\\site-packages\\sklearn\\linear_model\\logistic.py:432: FutureWarning: Default solver will be changed to 'lbfgs' in 0.22. Specify a solver to silence this warning.\n",
      "  FutureWarning)\n"
     ]
    },
    {
     "data": {
      "text/plain": [
       "LogisticRegression(C=1.0, class_weight=None, dual=False, fit_intercept=True,\n",
       "                   intercept_scaling=1, l1_ratio=None, max_iter=100,\n",
       "                   multi_class='warn', n_jobs=None, penalty='l2',\n",
       "                   random_state=None, solver='warn', tol=0.0001, verbose=0,\n",
       "                   warm_start=False)"
      ]
     },
     "execution_count": 36,
     "metadata": {},
     "output_type": "execute_result"
    }
   ],
   "source": [
    "Log_model.fit(X_train_dtmatrix,y_train)"
   ]
  },
  {
   "cell_type": "code",
   "execution_count": 37,
   "metadata": {},
   "outputs": [],
   "source": [
    "y_log_predict = Log_model.predict(X_test_dtmatrix) "
   ]
  },
  {
   "cell_type": "code",
   "execution_count": 38,
   "metadata": {},
   "outputs": [
    {
     "name": "stdout",
     "output_type": "stream",
     "text": [
      "0.9856502242152466\n"
     ]
    }
   ],
   "source": [
    "print(metrics.accuracy_score(y_test,y_log_predict))"
   ]
  },
  {
   "cell_type": "code",
   "execution_count": 39,
   "metadata": {},
   "outputs": [
    {
     "name": "stdout",
     "output_type": "stream",
     "text": [
      "[[968   0]\n",
      " [ 16 131]]\n"
     ]
    }
   ],
   "source": [
    "print(metrics.confusion_matrix(y_test,y_log_predict))\n",
    "#16 elements are not detected properly"
   ]
  },
  {
   "cell_type": "code",
   "execution_count": 40,
   "metadata": {},
   "outputs": [
    {
     "name": "stdout",
     "output_type": "stream",
     "text": [
      "              precision    recall  f1-score   support\n",
      "\n",
      "           0       0.98      1.00      0.99       968\n",
      "           1       1.00      0.89      0.94       147\n",
      "\n",
      "    accuracy                           0.99      1115\n",
      "   macro avg       0.99      0.95      0.97      1115\n",
      "weighted avg       0.99      0.99      0.99      1115\n",
      "\n"
     ]
    }
   ],
   "source": [
    "print(metrics.classification_report(y_test,y_log_predict))"
   ]
  },
  {
   "cell_type": "code",
   "execution_count": 41,
   "metadata": {},
   "outputs": [],
   "source": [
    "#HENCE MULTINOMILANB IS MORE ACCURATE THAN LOGISTICREGRESSION"
   ]
  },
  {
   "cell_type": "code",
   "execution_count": 42,
   "metadata": {},
   "outputs": [],
   "source": [
    "#How could we tell difference between (FALSEPOSITIVE & FALSENEGATIVE)\n",
    "#For that : y_test < y_predict \n",
    "#for spam & ham it is 1 & 0"
   ]
  },
  {
   "cell_type": "code",
   "execution_count": 50,
   "metadata": {},
   "outputs": [
    {
     "name": "stdout",
     "output_type": "stream",
     "text": [
      "Actually they are ham predicted as spam :\n",
      " 5475    Dhoni have luck to win some big title.so we wi...\n",
      "3890                    Unlimited texts. Limited minutes.\n",
      "Name: Message, dtype: object\n",
      "Shape :  (2,)\n",
      "Length :  2\n"
     ]
    }
   ],
   "source": [
    "# for FALSEPOSITIVE : Actually they are ham predicted as spam\n",
    "fp = X_test[y_test < y_predict]\n",
    "print(\"Actually they are ham predicted as spam :\\n\",fp)\n",
    "print(\"Shape : \",fp.shape)\n",
    "print(\"Length : \",len(fp))"
   ]
  },
  {
   "cell_type": "code",
   "execution_count": 51,
   "metadata": {},
   "outputs": [
    {
     "name": "stdout",
     "output_type": "stream",
     "text": [
      "Actually they are spam predicted as ham :\n",
      " 3064    Hi babe its Jordan, how r u? Im home from abro...\n",
      "4298    thesmszone.com lets you send free anonymous an...\n",
      "1663    Hi if ur lookin 4 saucy daytime fun wiv busty ...\n",
      "751     Do you realize that in about 40 years, we'll h...\n",
      "5       FreeMsg Hey there darling it's been 3 week's n...\n",
      "1893    CALL 09090900040 & LISTEN TO EXTREME DIRTY LIV...\n",
      "68      Did you hear about the new \"Divorce Barbie\"? I...\n",
      "2402    Babe: U want me dont u baby! Im nasty and have...\n",
      "2575    Your next amazing xxx PICSFREE1 video will be ...\n",
      "1875    Would you like to see my XXX pics they are so ...\n",
      "955             Filthy stories and GIRLS waiting for your\n",
      "3419    LIFE has never been this much fun and great un...\n",
      "2558    This message is brought to you by GMW Ltd. and...\n",
      "Name: Message, dtype: object\n",
      "Shape :  (13,)\n",
      "Length :  13\n"
     ]
    }
   ],
   "source": [
    "# for FALSENEGATIVE : Actually they are spam predicted as ham\n",
    "fn = X_test[y_test > y_predict]\n",
    "print(\"Actually they are spam predicted as ham :\\n\",fn)\n",
    "print(\"Shape : \",fn.shape)\n",
    "print(\"Length : \",len(fn))"
   ]
  },
  {
   "cell_type": "code",
   "execution_count": 53,
   "metadata": {},
   "outputs": [
    {
     "data": {
      "text/plain": [
       "7781"
      ]
     },
     "execution_count": 53,
     "metadata": {},
     "output_type": "execute_result"
    }
   ],
   "source": [
    "# LETS FIND OUT MOST COMMON SPAM AND HAM WORDS\n",
    "\n",
    "X_train_words = vector.get_feature_names()\n",
    "len(X_train_words)"
   ]
  },
  {
   "cell_type": "code",
   "execution_count": 54,
   "metadata": {},
   "outputs": [
    {
     "data": {
      "text/plain": [
       "['00', '000', '000pes', '008704050406', '0089']"
      ]
     },
     "execution_count": 54,
     "metadata": {},
     "output_type": "execute_result"
    }
   ],
   "source": [
    "X_train_words[0:5]"
   ]
  },
  {
   "cell_type": "code",
   "execution_count": 55,
   "metadata": {},
   "outputs": [
    {
     "data": {
      "text/plain": [
       "array([[ 0.,  0.,  1., ...,  1.,  0.,  1.],\n",
       "       [ 7., 22.,  0., ...,  0.,  1.,  0.]])"
      ]
     },
     "execution_count": 55,
     "metadata": {},
     "output_type": "execute_result"
    }
   ],
   "source": [
    "#feature_count_ : how many times a word or token appeared\n",
    "nb_model.feature_count_"
   ]
  },
  {
   "cell_type": "code",
   "execution_count": 56,
   "metadata": {},
   "outputs": [
    {
     "data": {
      "text/plain": [
       "(2, 7781)"
      ]
     },
     "execution_count": 56,
     "metadata": {},
     "output_type": "execute_result"
    }
   ],
   "source": [
    "#This output means that the 1st token appeared 0 times in ham and 7 times in spam\n",
    "#To check that :\n",
    "nb_model.feature_count_.shape"
   ]
  },
  {
   "cell_type": "code",
   "execution_count": 57,
   "metadata": {},
   "outputs": [],
   "source": [
    "#Now if we index this array 1st row will be index 0 and 2nd row will be index 1\n",
    "#After indexing we will store 1st row in certain variable and 2nd row in certain variable\n",
    "#And those variable will represend words in ham & words in our spam"
   ]
  },
  {
   "cell_type": "code",
   "execution_count": 58,
   "metadata": {},
   "outputs": [],
   "source": [
    "ham_word  = nb_model.feature_count_[0,:]\n",
    "spam_word = nb_model.feature_count_[1,:]"
   ]
  },
  {
   "cell_type": "code",
   "execution_count": 59,
   "metadata": {},
   "outputs": [
    {
     "name": "stdout",
     "output_type": "stream",
     "text": [
      "[0. 0. 1. ... 1. 0. 1.]\n",
      "(7781,)\n"
     ]
    }
   ],
   "source": [
    "print(ham_word)\n",
    "print(ham_word.shape)"
   ]
  },
  {
   "cell_type": "code",
   "execution_count": 60,
   "metadata": {},
   "outputs": [
    {
     "name": "stdout",
     "output_type": "stream",
     "text": [
      "[ 7. 22.  0. ...  0.  1.  0.]\n",
      "(7781,)\n"
     ]
    }
   ],
   "source": [
    "print(spam_word)\n",
    "print(spam_word.shape)"
   ]
  },
  {
   "cell_type": "code",
   "execution_count": 61,
   "metadata": {},
   "outputs": [
    {
     "data": {
      "text/html": [
       "<div>\n",
       "<style scoped>\n",
       "    .dataframe tbody tr th:only-of-type {\n",
       "        vertical-align: middle;\n",
       "    }\n",
       "\n",
       "    .dataframe tbody tr th {\n",
       "        vertical-align: top;\n",
       "    }\n",
       "\n",
       "    .dataframe thead th {\n",
       "        text-align: right;\n",
       "    }\n",
       "</style>\n",
       "<table border=\"1\" class=\"dataframe\">\n",
       "  <thead>\n",
       "    <tr style=\"text-align: right;\">\n",
       "      <th></th>\n",
       "      <th>token</th>\n",
       "      <th>Ham</th>\n",
       "      <th>Spam</th>\n",
       "    </tr>\n",
       "  </thead>\n",
       "  <tbody>\n",
       "    <tr>\n",
       "      <td>0</td>\n",
       "      <td>00</td>\n",
       "      <td>0.0</td>\n",
       "      <td>7.0</td>\n",
       "    </tr>\n",
       "    <tr>\n",
       "      <td>1</td>\n",
       "      <td>000</td>\n",
       "      <td>0.0</td>\n",
       "      <td>22.0</td>\n",
       "    </tr>\n",
       "    <tr>\n",
       "      <td>2</td>\n",
       "      <td>000pes</td>\n",
       "      <td>1.0</td>\n",
       "      <td>0.0</td>\n",
       "    </tr>\n",
       "    <tr>\n",
       "      <td>3</td>\n",
       "      <td>008704050406</td>\n",
       "      <td>0.0</td>\n",
       "      <td>1.0</td>\n",
       "    </tr>\n",
       "    <tr>\n",
       "      <td>4</td>\n",
       "      <td>0089</td>\n",
       "      <td>0.0</td>\n",
       "      <td>1.0</td>\n",
       "    </tr>\n",
       "  </tbody>\n",
       "</table>\n",
       "</div>"
      ],
      "text/plain": [
       "          token  Ham  Spam\n",
       "0            00  0.0   7.0\n",
       "1           000  0.0  22.0\n",
       "2        000pes  1.0   0.0\n",
       "3  008704050406  0.0   1.0\n",
       "4          0089  0.0   1.0"
      ]
     },
     "execution_count": 61,
     "metadata": {},
     "output_type": "execute_result"
    }
   ],
   "source": [
    "#Now lets combine this 2 together and Create a DataFrame which will represent ham , spam & list of words\n",
    "\n",
    "tokens = pd.DataFrame({'token':X_train_words , 'Ham':ham_word , 'Spam':spam_word})\n",
    "tokens.head()"
   ]
  },
  {
   "cell_type": "code",
   "execution_count": 62,
   "metadata": {},
   "outputs": [
    {
     "data": {
      "text/html": [
       "<div>\n",
       "<style scoped>\n",
       "    .dataframe tbody tr th:only-of-type {\n",
       "        vertical-align: middle;\n",
       "    }\n",
       "\n",
       "    .dataframe tbody tr th {\n",
       "        vertical-align: top;\n",
       "    }\n",
       "\n",
       "    .dataframe thead th {\n",
       "        text-align: right;\n",
       "    }\n",
       "</style>\n",
       "<table border=\"1\" class=\"dataframe\">\n",
       "  <thead>\n",
       "    <tr style=\"text-align: right;\">\n",
       "      <th></th>\n",
       "      <th>Ham</th>\n",
       "      <th>Spam</th>\n",
       "    </tr>\n",
       "    <tr>\n",
       "      <th>token</th>\n",
       "      <th></th>\n",
       "      <th></th>\n",
       "    </tr>\n",
       "  </thead>\n",
       "  <tbody>\n",
       "    <tr>\n",
       "      <td>00</td>\n",
       "      <td>0.0</td>\n",
       "      <td>7.0</td>\n",
       "    </tr>\n",
       "    <tr>\n",
       "      <td>000</td>\n",
       "      <td>0.0</td>\n",
       "      <td>22.0</td>\n",
       "    </tr>\n",
       "    <tr>\n",
       "      <td>000pes</td>\n",
       "      <td>1.0</td>\n",
       "      <td>0.0</td>\n",
       "    </tr>\n",
       "    <tr>\n",
       "      <td>008704050406</td>\n",
       "      <td>0.0</td>\n",
       "      <td>1.0</td>\n",
       "    </tr>\n",
       "    <tr>\n",
       "      <td>0089</td>\n",
       "      <td>0.0</td>\n",
       "      <td>1.0</td>\n",
       "    </tr>\n",
       "  </tbody>\n",
       "</table>\n",
       "</div>"
      ],
      "text/plain": [
       "              Ham  Spam\n",
       "token                  \n",
       "00            0.0   7.0\n",
       "000           0.0  22.0\n",
       "000pes        1.0   0.0\n",
       "008704050406  0.0   1.0\n",
       "0089          0.0   1.0"
      ]
     },
     "execution_count": 62,
     "metadata": {},
     "output_type": "execute_result"
    }
   ],
   "source": [
    "#Lets change our index token itself\n",
    "tokens = tokens.set_index('token')\n",
    "tokens.head()"
   ]
  },
  {
   "cell_type": "code",
   "execution_count": 63,
   "metadata": {},
   "outputs": [
    {
     "data": {
      "text/html": [
       "<div>\n",
       "<style scoped>\n",
       "    .dataframe tbody tr th:only-of-type {\n",
       "        vertical-align: middle;\n",
       "    }\n",
       "\n",
       "    .dataframe tbody tr th {\n",
       "        vertical-align: top;\n",
       "    }\n",
       "\n",
       "    .dataframe thead th {\n",
       "        text-align: right;\n",
       "    }\n",
       "</style>\n",
       "<table border=\"1\" class=\"dataframe\">\n",
       "  <thead>\n",
       "    <tr style=\"text-align: right;\">\n",
       "      <th></th>\n",
       "      <th>Ham</th>\n",
       "      <th>Spam</th>\n",
       "    </tr>\n",
       "    <tr>\n",
       "      <th>token</th>\n",
       "      <th></th>\n",
       "      <th></th>\n",
       "    </tr>\n",
       "  </thead>\n",
       "  <tbody>\n",
       "    <tr>\n",
       "      <td>zoe</td>\n",
       "      <td>1.0</td>\n",
       "      <td>0.0</td>\n",
       "    </tr>\n",
       "    <tr>\n",
       "      <td>zogtorius</td>\n",
       "      <td>1.0</td>\n",
       "      <td>0.0</td>\n",
       "    </tr>\n",
       "    <tr>\n",
       "      <td>zoom</td>\n",
       "      <td>1.0</td>\n",
       "      <td>0.0</td>\n",
       "    </tr>\n",
       "    <tr>\n",
       "      <td>zouk</td>\n",
       "      <td>0.0</td>\n",
       "      <td>1.0</td>\n",
       "    </tr>\n",
       "    <tr>\n",
       "      <td>èn</td>\n",
       "      <td>1.0</td>\n",
       "      <td>0.0</td>\n",
       "    </tr>\n",
       "  </tbody>\n",
       "</table>\n",
       "</div>"
      ],
      "text/plain": [
       "           Ham  Spam\n",
       "token               \n",
       "zoe        1.0   0.0\n",
       "zogtorius  1.0   0.0\n",
       "zoom       1.0   0.0\n",
       "zouk       0.0   1.0\n",
       "èn         1.0   0.0"
      ]
     },
     "execution_count": 63,
     "metadata": {},
     "output_type": "execute_result"
    }
   ],
   "source": [
    "tokens.tail()"
   ]
  },
  {
   "cell_type": "code",
   "execution_count": 64,
   "metadata": {},
   "outputs": [
    {
     "data": {
      "text/plain": [
       "array([3857.,  600.])"
      ]
     },
     "execution_count": 64,
     "metadata": {},
     "output_type": "execute_result"
    }
   ],
   "source": [
    "#Class_count : It will tell the number of observations that we have in our ham and spam classes\n",
    "\n",
    "nb_model.class_count_"
   ]
  },
  {
   "cell_type": "code",
   "execution_count": 65,
   "metadata": {},
   "outputs": [],
   "source": [
    "# Now we will take instansiates of observations & then try to cal the freq of each word in our ham and spam class \n",
    "# And once we converted this observations into freq we will cal ham to spam ratio for each of the words \n",
    "# And the after that we can dedact which words are most common in spam and which are most common in ham message "
   ]
  },
  {
   "cell_type": "code",
   "execution_count": 68,
   "metadata": {},
   "outputs": [],
   "source": [
    "# if we have to calculate the ratios right now we would have to div eg: 1 / 0 and that would give us a ZeroDivisionError\n",
    "# and in order or avoid that since we have zero both in ham and spam what we will do is to add some num that way we will not run\n",
    "# into a zero division error"
   ]
  },
  {
   "cell_type": "code",
   "execution_count": 69,
   "metadata": {},
   "outputs": [],
   "source": [
    "tokens['Ham'] = tokens.Ham + 10\n",
    "tokens['Spam'] = tokens.Spam + 10"
   ]
  },
  {
   "cell_type": "code",
   "execution_count": 70,
   "metadata": {},
   "outputs": [
    {
     "data": {
      "text/html": [
       "<div>\n",
       "<style scoped>\n",
       "    .dataframe tbody tr th:only-of-type {\n",
       "        vertical-align: middle;\n",
       "    }\n",
       "\n",
       "    .dataframe tbody tr th {\n",
       "        vertical-align: top;\n",
       "    }\n",
       "\n",
       "    .dataframe thead th {\n",
       "        text-align: right;\n",
       "    }\n",
       "</style>\n",
       "<table border=\"1\" class=\"dataframe\">\n",
       "  <thead>\n",
       "    <tr style=\"text-align: right;\">\n",
       "      <th></th>\n",
       "      <th>Ham</th>\n",
       "      <th>Spam</th>\n",
       "    </tr>\n",
       "    <tr>\n",
       "      <th>token</th>\n",
       "      <th></th>\n",
       "      <th></th>\n",
       "    </tr>\n",
       "  </thead>\n",
       "  <tbody>\n",
       "    <tr>\n",
       "      <td>00</td>\n",
       "      <td>10.0</td>\n",
       "      <td>17.0</td>\n",
       "    </tr>\n",
       "    <tr>\n",
       "      <td>000</td>\n",
       "      <td>10.0</td>\n",
       "      <td>32.0</td>\n",
       "    </tr>\n",
       "    <tr>\n",
       "      <td>000pes</td>\n",
       "      <td>11.0</td>\n",
       "      <td>10.0</td>\n",
       "    </tr>\n",
       "    <tr>\n",
       "      <td>008704050406</td>\n",
       "      <td>10.0</td>\n",
       "      <td>11.0</td>\n",
       "    </tr>\n",
       "    <tr>\n",
       "      <td>0089</td>\n",
       "      <td>10.0</td>\n",
       "      <td>11.0</td>\n",
       "    </tr>\n",
       "  </tbody>\n",
       "</table>\n",
       "</div>"
      ],
      "text/plain": [
       "               Ham  Spam\n",
       "token                   \n",
       "00            10.0  17.0\n",
       "000           10.0  32.0\n",
       "000pes        11.0  10.0\n",
       "008704050406  10.0  11.0\n",
       "0089          10.0  11.0"
      ]
     },
     "execution_count": 70,
     "metadata": {},
     "output_type": "execute_result"
    }
   ],
   "source": [
    "tokens.head()"
   ]
  },
  {
   "cell_type": "code",
   "execution_count": 71,
   "metadata": {},
   "outputs": [],
   "source": [
    "#Take Ham col div it with its appropriate class count observation and we will convert this num into freq\n",
    "\n",
    "from __future__ import division\n",
    "\n",
    "tokens['Ham']=tokens.Ham/nb_model.class_count_[0]\n",
    "tokens['Spam']=tokens.Spam/nb_model.class_count_[1]"
   ]
  },
  {
   "cell_type": "code",
   "execution_count": 72,
   "metadata": {},
   "outputs": [
    {
     "data": {
      "text/html": [
       "<div>\n",
       "<style scoped>\n",
       "    .dataframe tbody tr th:only-of-type {\n",
       "        vertical-align: middle;\n",
       "    }\n",
       "\n",
       "    .dataframe tbody tr th {\n",
       "        vertical-align: top;\n",
       "    }\n",
       "\n",
       "    .dataframe thead th {\n",
       "        text-align: right;\n",
       "    }\n",
       "</style>\n",
       "<table border=\"1\" class=\"dataframe\">\n",
       "  <thead>\n",
       "    <tr style=\"text-align: right;\">\n",
       "      <th></th>\n",
       "      <th>Ham</th>\n",
       "      <th>Spam</th>\n",
       "    </tr>\n",
       "    <tr>\n",
       "      <th>token</th>\n",
       "      <th></th>\n",
       "      <th></th>\n",
       "    </tr>\n",
       "  </thead>\n",
       "  <tbody>\n",
       "    <tr>\n",
       "      <td>00</td>\n",
       "      <td>0.002593</td>\n",
       "      <td>0.028333</td>\n",
       "    </tr>\n",
       "    <tr>\n",
       "      <td>000</td>\n",
       "      <td>0.002593</td>\n",
       "      <td>0.053333</td>\n",
       "    </tr>\n",
       "    <tr>\n",
       "      <td>000pes</td>\n",
       "      <td>0.002852</td>\n",
       "      <td>0.016667</td>\n",
       "    </tr>\n",
       "    <tr>\n",
       "      <td>008704050406</td>\n",
       "      <td>0.002593</td>\n",
       "      <td>0.018333</td>\n",
       "    </tr>\n",
       "    <tr>\n",
       "      <td>0089</td>\n",
       "      <td>0.002593</td>\n",
       "      <td>0.018333</td>\n",
       "    </tr>\n",
       "  </tbody>\n",
       "</table>\n",
       "</div>"
      ],
      "text/plain": [
       "                   Ham      Spam\n",
       "token                           \n",
       "00            0.002593  0.028333\n",
       "000           0.002593  0.053333\n",
       "000pes        0.002852  0.016667\n",
       "008704050406  0.002593  0.018333\n",
       "0089          0.002593  0.018333"
      ]
     },
     "execution_count": 72,
     "metadata": {},
     "output_type": "execute_result"
    }
   ],
   "source": [
    "tokens.head()"
   ]
  },
  {
   "cell_type": "code",
   "execution_count": 73,
   "metadata": {},
   "outputs": [
    {
     "data": {
      "text/html": [
       "<div>\n",
       "<style scoped>\n",
       "    .dataframe tbody tr th:only-of-type {\n",
       "        vertical-align: middle;\n",
       "    }\n",
       "\n",
       "    .dataframe tbody tr th {\n",
       "        vertical-align: top;\n",
       "    }\n",
       "\n",
       "    .dataframe thead th {\n",
       "        text-align: right;\n",
       "    }\n",
       "</style>\n",
       "<table border=\"1\" class=\"dataframe\">\n",
       "  <thead>\n",
       "    <tr style=\"text-align: right;\">\n",
       "      <th></th>\n",
       "      <th>Ham</th>\n",
       "      <th>Spam</th>\n",
       "      <th>Ham_to_spam_ratio</th>\n",
       "    </tr>\n",
       "    <tr>\n",
       "      <th>token</th>\n",
       "      <th></th>\n",
       "      <th></th>\n",
       "      <th></th>\n",
       "    </tr>\n",
       "  </thead>\n",
       "  <tbody>\n",
       "    <tr>\n",
       "      <td>00</td>\n",
       "      <td>0.002593</td>\n",
       "      <td>0.028333</td>\n",
       "      <td>0.091507</td>\n",
       "    </tr>\n",
       "    <tr>\n",
       "      <td>000</td>\n",
       "      <td>0.002593</td>\n",
       "      <td>0.053333</td>\n",
       "      <td>0.048613</td>\n",
       "    </tr>\n",
       "    <tr>\n",
       "      <td>000pes</td>\n",
       "      <td>0.002852</td>\n",
       "      <td>0.016667</td>\n",
       "      <td>0.171117</td>\n",
       "    </tr>\n",
       "    <tr>\n",
       "      <td>008704050406</td>\n",
       "      <td>0.002593</td>\n",
       "      <td>0.018333</td>\n",
       "      <td>0.141419</td>\n",
       "    </tr>\n",
       "    <tr>\n",
       "      <td>0089</td>\n",
       "      <td>0.002593</td>\n",
       "      <td>0.018333</td>\n",
       "      <td>0.141419</td>\n",
       "    </tr>\n",
       "  </tbody>\n",
       "</table>\n",
       "</div>"
      ],
      "text/plain": [
       "                   Ham      Spam  Ham_to_spam_ratio\n",
       "token                                              \n",
       "00            0.002593  0.028333           0.091507\n",
       "000           0.002593  0.053333           0.048613\n",
       "000pes        0.002852  0.016667           0.171117\n",
       "008704050406  0.002593  0.018333           0.141419\n",
       "0089          0.002593  0.018333           0.141419"
      ]
     },
     "execution_count": 73,
     "metadata": {},
     "output_type": "execute_result"
    }
   ],
   "source": [
    "tokens['Ham_to_spam_ratio'] = tokens.Ham/tokens.Spam\n",
    "tokens.head()"
   ]
  },
  {
   "cell_type": "code",
   "execution_count": 83,
   "metadata": {},
   "outputs": [
    {
     "data": {
      "text/html": [
       "<div>\n",
       "<style scoped>\n",
       "    .dataframe tbody tr th:only-of-type {\n",
       "        vertical-align: middle;\n",
       "    }\n",
       "\n",
       "    .dataframe tbody tr th {\n",
       "        vertical-align: top;\n",
       "    }\n",
       "\n",
       "    .dataframe thead th {\n",
       "        text-align: right;\n",
       "    }\n",
       "</style>\n",
       "<table border=\"1\" class=\"dataframe\">\n",
       "  <thead>\n",
       "    <tr style=\"text-align: right;\">\n",
       "      <th></th>\n",
       "      <th>Ham</th>\n",
       "      <th>Spam</th>\n",
       "      <th>Ham_to_spam_ratio</th>\n",
       "    </tr>\n",
       "    <tr>\n",
       "      <th>token</th>\n",
       "      <th></th>\n",
       "      <th></th>\n",
       "      <th></th>\n",
       "    </tr>\n",
       "  </thead>\n",
       "  <tbody>\n",
       "    <tr>\n",
       "      <td>my</td>\n",
       "      <td>0.162043</td>\n",
       "      <td>0.035000</td>\n",
       "      <td>4.629801</td>\n",
       "    </tr>\n",
       "    <tr>\n",
       "      <td>gt</td>\n",
       "      <td>0.068966</td>\n",
       "      <td>0.016667</td>\n",
       "      <td>4.137931</td>\n",
       "    </tr>\n",
       "    <tr>\n",
       "      <td>lt</td>\n",
       "      <td>0.068447</td>\n",
       "      <td>0.016667</td>\n",
       "      <td>4.106819</td>\n",
       "    </tr>\n",
       "    <tr>\n",
       "      <td>he</td>\n",
       "      <td>0.054965</td>\n",
       "      <td>0.016667</td>\n",
       "      <td>3.297900</td>\n",
       "    </tr>\n",
       "    <tr>\n",
       "      <td>but</td>\n",
       "      <td>0.093337</td>\n",
       "      <td>0.028333</td>\n",
       "      <td>3.294240</td>\n",
       "    </tr>\n",
       "    <tr>\n",
       "      <td>ok</td>\n",
       "      <td>0.061706</td>\n",
       "      <td>0.020000</td>\n",
       "      <td>3.085299</td>\n",
       "    </tr>\n",
       "    <tr>\n",
       "      <td>me</td>\n",
       "      <td>0.162821</td>\n",
       "      <td>0.055000</td>\n",
       "      <td>2.960379</td>\n",
       "    </tr>\n",
       "    <tr>\n",
       "      <td>ll</td>\n",
       "      <td>0.057298</td>\n",
       "      <td>0.020000</td>\n",
       "      <td>2.864921</td>\n",
       "    </tr>\n",
       "    <tr>\n",
       "      <td>it</td>\n",
       "      <td>0.151672</td>\n",
       "      <td>0.060000</td>\n",
       "      <td>2.527871</td>\n",
       "    </tr>\n",
       "    <tr>\n",
       "      <td>come</td>\n",
       "      <td>0.049780</td>\n",
       "      <td>0.020000</td>\n",
       "      <td>2.488981</td>\n",
       "    </tr>\n",
       "  </tbody>\n",
       "</table>\n",
       "</div>"
      ],
      "text/plain": [
       "            Ham      Spam  Ham_to_spam_ratio\n",
       "token                                       \n",
       "my     0.162043  0.035000           4.629801\n",
       "gt     0.068966  0.016667           4.137931\n",
       "lt     0.068447  0.016667           4.106819\n",
       "he     0.054965  0.016667           3.297900\n",
       "but    0.093337  0.028333           3.294240\n",
       "ok     0.061706  0.020000           3.085299\n",
       "me     0.162821  0.055000           2.960379\n",
       "ll     0.057298  0.020000           2.864921\n",
       "it     0.151672  0.060000           2.527871\n",
       "come   0.049780  0.020000           2.488981"
      ]
     },
     "execution_count": 83,
     "metadata": {},
     "output_type": "execute_result"
    }
   ],
   "source": [
    "#Those are the most common ham words exists in the 'Ham_to_spam_ratio'\n",
    "#Arrange it to the decending order \n",
    "tokens.sort_values(by=['Ham_to_spam_ratio'],ascending=False).head(10)"
   ]
  },
  {
   "cell_type": "code",
   "execution_count": 82,
   "metadata": {},
   "outputs": [
    {
     "data": {
      "text/html": [
       "<div>\n",
       "<style scoped>\n",
       "    .dataframe tbody tr th:only-of-type {\n",
       "        vertical-align: middle;\n",
       "    }\n",
       "\n",
       "    .dataframe tbody tr th {\n",
       "        vertical-align: top;\n",
       "    }\n",
       "\n",
       "    .dataframe thead th {\n",
       "        text-align: right;\n",
       "    }\n",
       "</style>\n",
       "<table border=\"1\" class=\"dataframe\">\n",
       "  <thead>\n",
       "    <tr style=\"text-align: right;\">\n",
       "      <th></th>\n",
       "      <th>Ham</th>\n",
       "      <th>Spam</th>\n",
       "      <th>Ham_to_spam_ratio</th>\n",
       "    </tr>\n",
       "    <tr>\n",
       "      <th>token</th>\n",
       "      <th></th>\n",
       "      <th></th>\n",
       "      <th></th>\n",
       "    </tr>\n",
       "  </thead>\n",
       "  <tbody>\n",
       "    <tr>\n",
       "      <td>mobile</td>\n",
       "      <td>0.005704</td>\n",
       "      <td>0.191667</td>\n",
       "      <td>0.029760</td>\n",
       "    </tr>\n",
       "    <tr>\n",
       "      <td>tone</td>\n",
       "      <td>0.002593</td>\n",
       "      <td>0.093333</td>\n",
       "      <td>0.027779</td>\n",
       "    </tr>\n",
       "    <tr>\n",
       "      <td>co</td>\n",
       "      <td>0.002593</td>\n",
       "      <td>0.093333</td>\n",
       "      <td>0.027779</td>\n",
       "    </tr>\n",
       "    <tr>\n",
       "      <td>nokia</td>\n",
       "      <td>0.002852</td>\n",
       "      <td>0.105000</td>\n",
       "      <td>0.027161</td>\n",
       "    </tr>\n",
       "    <tr>\n",
       "      <td>txt</td>\n",
       "      <td>0.005704</td>\n",
       "      <td>0.226667</td>\n",
       "      <td>0.025164</td>\n",
       "    </tr>\n",
       "    <tr>\n",
       "      <td>150p</td>\n",
       "      <td>0.002593</td>\n",
       "      <td>0.103333</td>\n",
       "      <td>0.025091</td>\n",
       "    </tr>\n",
       "    <tr>\n",
       "      <td>uk</td>\n",
       "      <td>0.002852</td>\n",
       "      <td>0.116667</td>\n",
       "      <td>0.024445</td>\n",
       "    </tr>\n",
       "    <tr>\n",
       "      <td>prize</td>\n",
       "      <td>0.002593</td>\n",
       "      <td>0.133333</td>\n",
       "      <td>0.019445</td>\n",
       "    </tr>\n",
       "    <tr>\n",
       "      <td>www</td>\n",
       "      <td>0.002852</td>\n",
       "      <td>0.151667</td>\n",
       "      <td>0.018804</td>\n",
       "    </tr>\n",
       "    <tr>\n",
       "      <td>claim</td>\n",
       "      <td>0.002593</td>\n",
       "      <td>0.175000</td>\n",
       "      <td>0.014815</td>\n",
       "    </tr>\n",
       "  </tbody>\n",
       "</table>\n",
       "</div>"
      ],
      "text/plain": [
       "             Ham      Spam  Ham_to_spam_ratio\n",
       "token                                        \n",
       "mobile  0.005704  0.191667           0.029760\n",
       "tone    0.002593  0.093333           0.027779\n",
       "co      0.002593  0.093333           0.027779\n",
       "nokia   0.002852  0.105000           0.027161\n",
       "txt     0.005704  0.226667           0.025164\n",
       "150p    0.002593  0.103333           0.025091\n",
       "uk      0.002852  0.116667           0.024445\n",
       "prize   0.002593  0.133333           0.019445\n",
       "www     0.002852  0.151667           0.018804\n",
       "claim   0.002593  0.175000           0.014815"
      ]
     },
     "execution_count": 82,
     "metadata": {},
     "output_type": "execute_result"
    }
   ],
   "source": [
    "#Those are the most common spam words exists in the 'Ham_to_spam_ratio' check from the bottomaz DDC\n",
    "#Arrange it to the decending order \n",
    "tokens.sort_values(by=['Ham_to_spam_ratio'],ascending=False).tail(10)"
   ]
  },
  {
   "cell_type": "code",
   "execution_count": 85,
   "metadata": {},
   "outputs": [
    {
     "data": {
      "text/html": [
       "<div>\n",
       "<style scoped>\n",
       "    .dataframe tbody tr th:only-of-type {\n",
       "        vertical-align: middle;\n",
       "    }\n",
       "\n",
       "    .dataframe tbody tr th {\n",
       "        vertical-align: top;\n",
       "    }\n",
       "\n",
       "    .dataframe thead th {\n",
       "        text-align: right;\n",
       "    }\n",
       "</style>\n",
       "<table border=\"1\" class=\"dataframe\">\n",
       "  <thead>\n",
       "    <tr style=\"text-align: right;\">\n",
       "      <th></th>\n",
       "      <th>Ham</th>\n",
       "      <th>Spam</th>\n",
       "      <th>Ham_to_spam_ratio</th>\n",
       "      <th>Spam_to_Ham_ratio</th>\n",
       "    </tr>\n",
       "    <tr>\n",
       "      <th>token</th>\n",
       "      <th></th>\n",
       "      <th></th>\n",
       "      <th></th>\n",
       "      <th></th>\n",
       "    </tr>\n",
       "  </thead>\n",
       "  <tbody>\n",
       "    <tr>\n",
       "      <td>claim</td>\n",
       "      <td>0.002593</td>\n",
       "      <td>0.175000</td>\n",
       "      <td>0.014815</td>\n",
       "      <td>67.497500</td>\n",
       "    </tr>\n",
       "    <tr>\n",
       "      <td>www</td>\n",
       "      <td>0.002852</td>\n",
       "      <td>0.151667</td>\n",
       "      <td>0.018804</td>\n",
       "      <td>53.179848</td>\n",
       "    </tr>\n",
       "    <tr>\n",
       "      <td>prize</td>\n",
       "      <td>0.002593</td>\n",
       "      <td>0.133333</td>\n",
       "      <td>0.019445</td>\n",
       "      <td>51.426667</td>\n",
       "    </tr>\n",
       "    <tr>\n",
       "      <td>uk</td>\n",
       "      <td>0.002852</td>\n",
       "      <td>0.116667</td>\n",
       "      <td>0.024445</td>\n",
       "      <td>40.907576</td>\n",
       "    </tr>\n",
       "    <tr>\n",
       "      <td>150p</td>\n",
       "      <td>0.002593</td>\n",
       "      <td>0.103333</td>\n",
       "      <td>0.025091</td>\n",
       "      <td>39.855667</td>\n",
       "    </tr>\n",
       "  </tbody>\n",
       "</table>\n",
       "</div>"
      ],
      "text/plain": [
       "            Ham      Spam  Ham_to_spam_ratio  Spam_to_Ham_ratio\n",
       "token                                                          \n",
       "claim  0.002593  0.175000           0.014815          67.497500\n",
       "www    0.002852  0.151667           0.018804          53.179848\n",
       "prize  0.002593  0.133333           0.019445          51.426667\n",
       "uk     0.002852  0.116667           0.024445          40.907576\n",
       "150p   0.002593  0.103333           0.025091          39.855667"
      ]
     },
     "execution_count": 85,
     "metadata": {},
     "output_type": "execute_result"
    }
   ],
   "source": [
    "tokens['Spam_to_Ham_ratio'] = tokens.Spam/tokens.Ham\n",
    "tokens.head()"
   ]
  },
  {
   "cell_type": "code",
   "execution_count": 86,
   "metadata": {},
   "outputs": [
    {
     "data": {
      "text/html": [
       "<div>\n",
       "<style scoped>\n",
       "    .dataframe tbody tr th:only-of-type {\n",
       "        vertical-align: middle;\n",
       "    }\n",
       "\n",
       "    .dataframe tbody tr th {\n",
       "        vertical-align: top;\n",
       "    }\n",
       "\n",
       "    .dataframe thead th {\n",
       "        text-align: right;\n",
       "    }\n",
       "</style>\n",
       "<table border=\"1\" class=\"dataframe\">\n",
       "  <thead>\n",
       "    <tr style=\"text-align: right;\">\n",
       "      <th></th>\n",
       "      <th>Ham</th>\n",
       "      <th>Spam</th>\n",
       "      <th>Ham_to_spam_ratio</th>\n",
       "      <th>Spam_to_Ham_ratio</th>\n",
       "    </tr>\n",
       "    <tr>\n",
       "      <th>token</th>\n",
       "      <th></th>\n",
       "      <th></th>\n",
       "      <th></th>\n",
       "      <th></th>\n",
       "    </tr>\n",
       "  </thead>\n",
       "  <tbody>\n",
       "    <tr>\n",
       "      <td>claim</td>\n",
       "      <td>0.002593</td>\n",
       "      <td>0.175000</td>\n",
       "      <td>0.014815</td>\n",
       "      <td>67.497500</td>\n",
       "    </tr>\n",
       "    <tr>\n",
       "      <td>www</td>\n",
       "      <td>0.002852</td>\n",
       "      <td>0.151667</td>\n",
       "      <td>0.018804</td>\n",
       "      <td>53.179848</td>\n",
       "    </tr>\n",
       "    <tr>\n",
       "      <td>prize</td>\n",
       "      <td>0.002593</td>\n",
       "      <td>0.133333</td>\n",
       "      <td>0.019445</td>\n",
       "      <td>51.426667</td>\n",
       "    </tr>\n",
       "    <tr>\n",
       "      <td>uk</td>\n",
       "      <td>0.002852</td>\n",
       "      <td>0.116667</td>\n",
       "      <td>0.024445</td>\n",
       "      <td>40.907576</td>\n",
       "    </tr>\n",
       "    <tr>\n",
       "      <td>150p</td>\n",
       "      <td>0.002593</td>\n",
       "      <td>0.103333</td>\n",
       "      <td>0.025091</td>\n",
       "      <td>39.855667</td>\n",
       "    </tr>\n",
       "    <tr>\n",
       "      <td>txt</td>\n",
       "      <td>0.005704</td>\n",
       "      <td>0.226667</td>\n",
       "      <td>0.025164</td>\n",
       "      <td>39.738788</td>\n",
       "    </tr>\n",
       "    <tr>\n",
       "      <td>nokia</td>\n",
       "      <td>0.002852</td>\n",
       "      <td>0.105000</td>\n",
       "      <td>0.027161</td>\n",
       "      <td>36.816818</td>\n",
       "    </tr>\n",
       "    <tr>\n",
       "      <td>co</td>\n",
       "      <td>0.002593</td>\n",
       "      <td>0.093333</td>\n",
       "      <td>0.027779</td>\n",
       "      <td>35.998667</td>\n",
       "    </tr>\n",
       "    <tr>\n",
       "      <td>tone</td>\n",
       "      <td>0.002593</td>\n",
       "      <td>0.093333</td>\n",
       "      <td>0.027779</td>\n",
       "      <td>35.998667</td>\n",
       "    </tr>\n",
       "    <tr>\n",
       "      <td>mobile</td>\n",
       "      <td>0.005704</td>\n",
       "      <td>0.191667</td>\n",
       "      <td>0.029760</td>\n",
       "      <td>33.602652</td>\n",
       "    </tr>\n",
       "  </tbody>\n",
       "</table>\n",
       "</div>"
      ],
      "text/plain": [
       "             Ham      Spam  Ham_to_spam_ratio  Spam_to_Ham_ratio\n",
       "token                                                           \n",
       "claim   0.002593  0.175000           0.014815          67.497500\n",
       "www     0.002852  0.151667           0.018804          53.179848\n",
       "prize   0.002593  0.133333           0.019445          51.426667\n",
       "uk      0.002852  0.116667           0.024445          40.907576\n",
       "150p    0.002593  0.103333           0.025091          39.855667\n",
       "txt     0.005704  0.226667           0.025164          39.738788\n",
       "nokia   0.002852  0.105000           0.027161          36.816818\n",
       "co      0.002593  0.093333           0.027779          35.998667\n",
       "tone    0.002593  0.093333           0.027779          35.998667\n",
       "mobile  0.005704  0.191667           0.029760          33.602652"
      ]
     },
     "execution_count": 86,
     "metadata": {},
     "output_type": "execute_result"
    }
   ],
   "source": [
    "#Those are the most common spam words exists in the 'Spam_to_ham_ratio'\n",
    "#Arrange it to the decending order \n",
    "tokens.sort_values(by=['Spam_to_Ham_ratio'],ascending=False).head(10)"
   ]
  },
  {
   "cell_type": "code",
   "execution_count": null,
   "metadata": {},
   "outputs": [],
   "source": []
  }
 ],
 "metadata": {
  "kernelspec": {
   "display_name": "Python 3",
   "language": "python",
   "name": "python3"
  },
  "language_info": {
   "codemirror_mode": {
    "name": "ipython",
    "version": 3
   },
   "file_extension": ".py",
   "mimetype": "text/x-python",
   "name": "python",
   "nbconvert_exporter": "python",
   "pygments_lexer": "ipython3",
   "version": "3.7.4"
  }
 },
 "nbformat": 4,
 "nbformat_minor": 2
}
