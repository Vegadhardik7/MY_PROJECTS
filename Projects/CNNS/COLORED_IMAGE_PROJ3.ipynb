{
 "cells": [
  {
   "cell_type": "code",
   "execution_count": 1,
   "metadata": {},
   "outputs": [],
   "source": [
    "import os"
   ]
  },
  {
   "cell_type": "code",
   "execution_count": 2,
   "metadata": {},
   "outputs": [],
   "source": [
    "data = \"D:\\\\corona\\\\CNN_data\\\\cell_images\""
   ]
  },
  {
   "cell_type": "code",
   "execution_count": 3,
   "metadata": {},
   "outputs": [
    {
     "data": {
      "text/plain": [
       "['test', 'train']"
      ]
     },
     "execution_count": 3,
     "metadata": {},
     "output_type": "execute_result"
    }
   ],
   "source": [
    "os.listdir(data)"
   ]
  },
  {
   "cell_type": "markdown",
   "metadata": {},
   "source": [
    "# Does the Cell is effected by Malaria?\n",
    "\n",
    "### MAIN_TASK : So we are going to build a model that just based on the image of a cell can predict wheather it is infected or not\n",
    "\n",
    "\n",
    "## Using CNN for custom Images"
   ]
  },
  {
   "cell_type": "markdown",
   "metadata": {},
   "source": [
    "# Part1 : The Data"
   ]
  },
  {
   "cell_type": "code",
   "execution_count": 4,
   "metadata": {},
   "outputs": [],
   "source": [
    "import pandas as pd\n",
    "import numpy as np\n",
    "import seaborn as sns\n",
    "import matplotlib.pyplot as plt\n",
    "%matplotlib inline"
   ]
  },
  {
   "cell_type": "code",
   "execution_count": 5,
   "metadata": {},
   "outputs": [],
   "source": [
    "# import which will help us to read in image files directly\n",
    "from matplotlib.image import imread"
   ]
  },
  {
   "cell_type": "code",
   "execution_count": 6,
   "metadata": {},
   "outputs": [],
   "source": [
    "# Add test & train directory to my data path \n",
    "test_path = data+\"\\\\test\\\\\"       \n",
    "train_path = data+\"\\\\train\\\\\""
   ]
  },
  {
   "cell_type": "code",
   "execution_count": 7,
   "metadata": {},
   "outputs": [
    {
     "data": {
      "text/plain": [
       "'D:\\\\corona\\\\CNN_data\\\\cell_images\\\\test\\\\'"
      ]
     },
     "execution_count": 7,
     "metadata": {},
     "output_type": "execute_result"
    }
   ],
   "source": [
    "test_path"
   ]
  },
  {
   "cell_type": "code",
   "execution_count": 8,
   "metadata": {},
   "outputs": [
    {
     "data": {
      "text/plain": [
       "['parasitized', 'uninfected']"
      ]
     },
     "execution_count": 8,
     "metadata": {},
     "output_type": "execute_result"
    }
   ],
   "source": [
    "os.listdir(test_path) # these are the 2 folders inside test directory"
   ]
  },
  {
   "cell_type": "code",
   "execution_count": 9,
   "metadata": {},
   "outputs": [
    {
     "data": {
      "text/plain": [
       "['parasitized', 'uninfected']"
      ]
     },
     "execution_count": 9,
     "metadata": {},
     "output_type": "execute_result"
    }
   ],
   "source": [
    "os.listdir(train_path)"
   ]
  },
  {
   "cell_type": "code",
   "execution_count": 10,
   "metadata": {},
   "outputs": [
    {
     "data": {
      "text/plain": [
       "'C100P61ThinF_IMG_20150918_144104_cell_162.png'"
      ]
     },
     "execution_count": 10,
     "metadata": {},
     "output_type": "execute_result"
    }
   ],
   "source": [
    "# lets look into the single image\n",
    "\n",
    "os.listdir(train_path+'parasitized')[0]"
   ]
  },
  {
   "cell_type": "code",
   "execution_count": 11,
   "metadata": {},
   "outputs": [
    {
     "data": {
      "text/plain": [
       "array([[[0., 0., 0.],\n",
       "        [0., 0., 0.],\n",
       "        [0., 0., 0.],\n",
       "        ...,\n",
       "        [0., 0., 0.],\n",
       "        [0., 0., 0.],\n",
       "        [0., 0., 0.]],\n",
       "\n",
       "       [[0., 0., 0.],\n",
       "        [0., 0., 0.],\n",
       "        [0., 0., 0.],\n",
       "        ...,\n",
       "        [0., 0., 0.],\n",
       "        [0., 0., 0.],\n",
       "        [0., 0., 0.]],\n",
       "\n",
       "       [[0., 0., 0.],\n",
       "        [0., 0., 0.],\n",
       "        [0., 0., 0.],\n",
       "        ...,\n",
       "        [0., 0., 0.],\n",
       "        [0., 0., 0.],\n",
       "        [0., 0., 0.]],\n",
       "\n",
       "       ...,\n",
       "\n",
       "       [[0., 0., 0.],\n",
       "        [0., 0., 0.],\n",
       "        [0., 0., 0.],\n",
       "        ...,\n",
       "        [0., 0., 0.],\n",
       "        [0., 0., 0.],\n",
       "        [0., 0., 0.]],\n",
       "\n",
       "       [[0., 0., 0.],\n",
       "        [0., 0., 0.],\n",
       "        [0., 0., 0.],\n",
       "        ...,\n",
       "        [0., 0., 0.],\n",
       "        [0., 0., 0.],\n",
       "        [0., 0., 0.]],\n",
       "\n",
       "       [[0., 0., 0.],\n",
       "        [0., 0., 0.],\n",
       "        [0., 0., 0.],\n",
       "        ...,\n",
       "        [0., 0., 0.],\n",
       "        [0., 0., 0.],\n",
       "        [0., 0., 0.]]], dtype=float32)"
      ]
     },
     "execution_count": 11,
     "metadata": {},
     "output_type": "execute_result"
    }
   ],
   "source": [
    "# Now basically i have to tell image read function where this file actually located\n",
    "para_cell = train_path+'parasitized\\\\'+'C100P61ThinF_IMG_20150918_144104_cell_162.png'\n",
    "imread(para_cell)"
   ]
  },
  {
   "cell_type": "code",
   "execution_count": 12,
   "metadata": {},
   "outputs": [
    {
     "data": {
      "text/plain": [
       "(148, 142, 3)"
      ]
     },
     "execution_count": 12,
     "metadata": {},
     "output_type": "execute_result"
    }
   ],
   "source": [
    "imread(para_cell).shape"
   ]
  },
  {
   "cell_type": "code",
   "execution_count": 13,
   "metadata": {},
   "outputs": [
    {
     "data": {
      "text/plain": [
       "<matplotlib.image.AxesImage at 0x15c3ef95548>"
      ]
     },
     "execution_count": 13,
     "metadata": {},
     "output_type": "execute_result"
    },
    {
     "data": {
      "image/png": "[encoded data removed]",
      "text/plain": [
       "<Figure size 432x288 with 1 Axes>"
      ]
     },
     "metadata": {
      "needs_background": "light"
     },
     "output_type": "display_data"
    }
   ],
   "source": [
    "plt.imshow(imread(para_cell))"
   ]
  },
  {
   "cell_type": "code",
   "execution_count": 14,
   "metadata": {},
   "outputs": [
    {
     "data": {
      "text/plain": [
       "'C100P61ThinF_IMG_20150918_144104_cell_128.png'"
      ]
     },
     "execution_count": 14,
     "metadata": {},
     "output_type": "execute_result"
    }
   ],
   "source": [
    "os.listdir(train_path+'uninfected')[0]"
   ]
  },
  {
   "cell_type": "code",
   "execution_count": 15,
   "metadata": {},
   "outputs": [
    {
     "data": {
      "text/plain": [
       "'D:\\\\corona\\\\CNN_data\\\\cell_images\\\\train\\\\uninfected\\\\C100P61ThinF_IMG_20150918_144104_cell_128.png'"
      ]
     },
     "execution_count": 15,
     "metadata": {},
     "output_type": "execute_result"
    }
   ],
   "source": [
    "uninfected_cell = train_path+\"uninfected\\\\\"+'C100P61ThinF_IMG_20150918_144104_cell_128.png'\n",
    "uninfected_cell"
   ]
  },
  {
   "cell_type": "code",
   "execution_count": 16,
   "metadata": {},
   "outputs": [
    {
     "data": {
      "text/plain": [
       "array([[[0., 0., 0.],\n",
       "        [0., 0., 0.],\n",
       "        [0., 0., 0.],\n",
       "        ...,\n",
       "        [0., 0., 0.],\n",
       "        [0., 0., 0.],\n",
       "        [0., 0., 0.]],\n",
       "\n",
       "       [[0., 0., 0.],\n",
       "        [0., 0., 0.],\n",
       "        [0., 0., 0.],\n",
       "        ...,\n",
       "        [0., 0., 0.],\n",
       "        [0., 0., 0.],\n",
       "        [0., 0., 0.]],\n",
       "\n",
       "       [[0., 0., 0.],\n",
       "        [0., 0., 0.],\n",
       "        [0., 0., 0.],\n",
       "        ...,\n",
       "        [0., 0., 0.],\n",
       "        [0., 0., 0.],\n",
       "        [0., 0., 0.]],\n",
       "\n",
       "       ...,\n",
       "\n",
       "       [[0., 0., 0.],\n",
       "        [0., 0., 0.],\n",
       "        [0., 0., 0.],\n",
       "        ...,\n",
       "        [0., 0., 0.],\n",
       "        [0., 0., 0.],\n",
       "        [0., 0., 0.]],\n",
       "\n",
       "       [[0., 0., 0.],\n",
       "        [0., 0., 0.],\n",
       "        [0., 0., 0.],\n",
       "        ...,\n",
       "        [0., 0., 0.],\n",
       "        [0., 0., 0.],\n",
       "        [0., 0., 0.]],\n",
       "\n",
       "       [[0., 0., 0.],\n",
       "        [0., 0., 0.],\n",
       "        [0., 0., 0.],\n",
       "        ...,\n",
       "        [0., 0., 0.],\n",
       "        [0., 0., 0.],\n",
       "        [0., 0., 0.]]], dtype=float32)"
      ]
     },
     "execution_count": 16,
     "metadata": {},
     "output_type": "execute_result"
    }
   ],
   "source": [
    "uninfected_cell = imread(uninfected_cell)\n",
    "uninfected_cell"
   ]
  },
  {
   "cell_type": "code",
   "execution_count": 17,
   "metadata": {},
   "outputs": [
    {
     "data": {
      "text/plain": [
       "<matplotlib.image.AxesImage at 0x15c3f041908>"
      ]
     },
     "execution_count": 17,
     "metadata": {},
     "output_type": "execute_result"
    },
    {
     "data": {
      "image/png": "[encoded data removed]",
      "text/plain": [
       "<Figure size 432x288 with 1 Axes>"
      ]
     },
     "metadata": {
      "needs_background": "light"
     },
     "output_type": "display_data"
    }
   ],
   "source": [
    "plt.imshow(uninfected_cell)"
   ]
  },
  {
   "cell_type": "code",
   "execution_count": 18,
   "metadata": {},
   "outputs": [
    {
     "data": {
      "text/plain": [
       "12480"
      ]
     },
     "execution_count": 18,
     "metadata": {},
     "output_type": "execute_result"
    }
   ],
   "source": [
    "len(os.listdir(train_path+'parasitized'))"
   ]
  },
  {
   "cell_type": "code",
   "execution_count": 19,
   "metadata": {},
   "outputs": [
    {
     "data": {
      "text/plain": [
       "12480"
      ]
     },
     "execution_count": 19,
     "metadata": {},
     "output_type": "execute_result"
    }
   ],
   "source": [
    "len(os.listdir(train_path+'uninfected'))"
   ]
  },
  {
   "cell_type": "code",
   "execution_count": 20,
   "metadata": {},
   "outputs": [
    {
     "data": {
      "text/plain": [
       "1300"
      ]
     },
     "execution_count": 20,
     "metadata": {},
     "output_type": "execute_result"
    }
   ],
   "source": [
    "len(os.listdir(test_path+'parasitized'))"
   ]
  },
  {
   "cell_type": "code",
   "execution_count": 21,
   "metadata": {},
   "outputs": [
    {
     "data": {
      "text/plain": [
       "1300"
      ]
     },
     "execution_count": 21,
     "metadata": {},
     "output_type": "execute_result"
    }
   ],
   "source": [
    "len(os.listdir(test_path+'uninfected'))"
   ]
  },
  {
   "cell_type": "markdown",
   "metadata": {},
   "source": [
    "### Figuring out the average shape of single image\n",
    "\n",
    "#### inreal life images they have lot of different dimensions \n",
    "##### one way to do this :\n",
    "##### setup 2 list & create a for loop where you iterate through all the images & read them"
   ]
  },
  {
   "cell_type": "code",
   "execution_count": 22,
   "metadata": {},
   "outputs": [],
   "source": [
    "dim1 = []\n",
    "dim2 = []\n",
    "\n",
    "# for x in __loc__: \n",
    "#       img = read_that_file_as_array\n",
    "\n",
    "for image_filename in os.listdir(test_path+'uninfected'):\n",
    "    img = imread(test_path+'uninfected\\\\'+image_filename)\n",
    "    \n",
    "    # iterating through every file \n",
    "    # Check shape of each of them & then save there first & second dimension\n",
    "    \n",
    "    d1,d2,colors = img.shape\n",
    "    dim1.append(d1)\n",
    "    dim2.append(d2)"
   ]
  },
  {
   "cell_type": "code",
   "execution_count": 23,
   "metadata": {},
   "outputs": [
    {
     "data": {
      "text/plain": [
       "[118,\n",
       " 145,\n",
       " 151,\n",
       " 145,\n",
       " 139,\n",
       " 136,\n",
       " 160,\n",
       " 121,\n",
       " 142,\n",
       " 121,\n",
       " 100,\n",
       " 151,\n",
       " 139,\n",
       " 151,\n",
       " 112,\n",
       " 124,\n",
       " 145,\n",
       " 115,\n",
       " 166,\n",
       " 130,\n",
       " 133,\n",
       " 130,\n",
       " 136,\n",
       " 136,\n",
       " 124,\n",
       " 115,\n",
       " 142,\n",
       " 190,\n",
       " 151,\n",
       " 163,\n",
       " 112,\n",
       " 142,\n",
       " 151,\n",
       " 127,\n",
       " 142,\n",
       " 172,\n",
       " 151,\n",
       " 127,\n",
       " 154,\n",
       " 91,\n",
       " 124,\n",
       " 139,\n",
       " 124,\n",
       " 127,\n",
       " 148,\n",
       " 118,\n",
       " 148,\n",
       " 157,\n",
       " 139,\n",
       " 145,\n",
       " 154,\n",
       " 163,\n",
       " 148,\n",
       " 130,\n",
       " 160,\n",
       " 136,\n",
       " 121,\n",
       " 169,\n",
       " 145,\n",
       " 115,\n",
       " 106,\n",
       " 124,\n",
       " 130,\n",
       " 112,\n",
       " 124,\n",
       " 106,\n",
       " 112,\n",
       " 121,\n",
       " 100,\n",
       " 115,\n",
       " 136,\n",
       " 118,\n",
       " 127,\n",
       " 148,\n",
       " 130,\n",
       " 118,\n",
       " 124,\n",
       " 139,\n",
       " 133,\n",
       " 118,\n",
       " 121,\n",
       " 127,\n",
       " 136,\n",
       " 127,\n",
       " 124,\n",
       " 124,\n",
       " 136,\n",
       " 130,\n",
       " 130,\n",
       " 112,\n",
       " 127,\n",
       " 136,\n",
       " 130,\n",
       " 124,\n",
       " 130,\n",
       " 109,\n",
       " 169,\n",
       " 124,\n",
       " 142,\n",
       " 127,\n",
       " 106,\n",
       " 130,\n",
       " 97,\n",
       " 100,\n",
       " 145,\n",
       " 106,\n",
       " 148,\n",
       " 136,\n",
       " 136,\n",
       " 133,\n",
       " 121,\n",
       " 133,\n",
       " 136,\n",
       " 157,\n",
       " 133,\n",
       " 139,\n",
       " 127,\n",
       " 139,\n",
       " 151,\n",
       " 157,\n",
       " 148,\n",
       " 163,\n",
       " 145,\n",
       " 136,\n",
       " 127,\n",
       " 130,\n",
       " 160,\n",
       " 133,\n",
       " 130,\n",
       " 121,\n",
       " 136,\n",
       " 145,\n",
       " 121,\n",
       " 142,\n",
       " 148,\n",
       " 148,\n",
       " 127,\n",
       " 139,\n",
       " 148,\n",
       " 148,\n",
       " 151,\n",
       " 160,\n",
       " 154,\n",
       " 145,\n",
       " 139,\n",
       " 127,\n",
       " 121,\n",
       " 106,\n",
       " 106,\n",
       " 145,\n",
       " 112,\n",
       " 130,\n",
       " 124,\n",
       " 139,\n",
       " 145,\n",
       " 142,\n",
       " 151,\n",
       " 130,\n",
       " 118,\n",
       " 133,\n",
       " 154,\n",
       " 136,\n",
       " 139,\n",
       " 121,\n",
       " 142,\n",
       " 148,\n",
       " 136,\n",
       " 172,\n",
       " 124,\n",
       " 205,\n",
       " 175,\n",
       " 118,\n",
       " 127,\n",
       " 130,\n",
       " 124,\n",
       " 112,\n",
       " 142,\n",
       " 142,\n",
       " 106,\n",
       " 127,\n",
       " 118,\n",
       " 139,\n",
       " 139,\n",
       " 124,\n",
       " 121,\n",
       " 151,\n",
       " 139,\n",
       " 130,\n",
       " 124,\n",
       " 136,\n",
       " 151,\n",
       " 115,\n",
       " 130,\n",
       " 130,\n",
       " 121,\n",
       " 130,\n",
       " 106,\n",
       " 121,\n",
       " 145,\n",
       " 121,\n",
       " 151,\n",
       " 133,\n",
       " 139,\n",
       " 157,\n",
       " 145,\n",
       " 127,\n",
       " 166,\n",
       " 154,\n",
       " 133,\n",
       " 163,\n",
       " 127,\n",
       " 157,\n",
       " 127,\n",
       " 133,\n",
       " 166,\n",
       " 133,\n",
       " 127,\n",
       " 121,\n",
       " 136,\n",
       " 127,\n",
       " 118,\n",
       " 109,\n",
       " 94,\n",
       " 136,\n",
       " 139,\n",
       " 121,\n",
       " 115,\n",
       " 145,\n",
       " 94,\n",
       " 151,\n",
       " 148,\n",
       " 160,\n",
       " 139,\n",
       " 157,\n",
       " 139,\n",
       " 142,\n",
       " 106,\n",
       " 133,\n",
       " 136,\n",
       " 142,\n",
       " 151,\n",
       " 142,\n",
       " 175,\n",
       " 100,\n",
       " 127,\n",
       " 142,\n",
       " 124,\n",
       " 145,\n",
       " 145,\n",
       " 112,\n",
       " 130,\n",
       " 124,\n",
       " 106,\n",
       " 130,\n",
       " 121,\n",
       " 127,\n",
       " 100,\n",
       " 148,\n",
       " 115,\n",
       " 121,\n",
       " 115,\n",
       " 106,\n",
       " 127,\n",
       " 145,\n",
       " 160,\n",
       " 133,\n",
       " 142,\n",
       " 160,\n",
       " 115,\n",
       " 121,\n",
       " 133,\n",
       " 115,\n",
       " 112,\n",
       " 133,\n",
       " 112,\n",
       " 130,\n",
       " 130,\n",
       " 181,\n",
       " 118,\n",
       " 121,\n",
       " 139,\n",
       " 133,\n",
       " 115,\n",
       " 124,\n",
       " 133,\n",
       " 136,\n",
       " 133,\n",
       " 136,\n",
       " 136,\n",
       " 124,\n",
       " 121,\n",
       " 151,\n",
       " 145,\n",
       " 127,\n",
       " 106,\n",
       " 130,\n",
       " 145,\n",
       " 121,\n",
       " 112,\n",
       " 121,\n",
       " 103,\n",
       " 121,\n",
       " 109,\n",
       " 115,\n",
       " 118,\n",
       " 151,\n",
       " 139,\n",
       " 136,\n",
       " 148,\n",
       " 112,\n",
       " 127,\n",
       " 124,\n",
       " 112,\n",
       " 112,\n",
       " 130,\n",
       " 124,\n",
       " 115,\n",
       " 127,\n",
       " 118,\n",
       " 145,\n",
       " 130,\n",
       " 163,\n",
       " 133,\n",
       " 160,\n",
       " 148,\n",
       " 139,\n",
       " 142,\n",
       " 100,\n",
       " 133,\n",
       " 118,\n",
       " 130,\n",
       " 94,\n",
       " 133,\n",
       " 169,\n",
       " 118,\n",
       " 157,\n",
       " 124,\n",
       " 133,\n",
       " 148,\n",
       " 118,\n",
       " 115,\n",
       " 130,\n",
       " 133,\n",
       " 130,\n",
       " 133,\n",
       " 127,\n",
       " 130,\n",
       " 130,\n",
       " 118,\n",
       " 124,\n",
       " 118,\n",
       " 112,\n",
       " 145,\n",
       " 115,\n",
       " 118,\n",
       " 121,\n",
       " 121,\n",
       " 145,\n",
       " 121,\n",
       " 145,\n",
       " 130,\n",
       " 103,\n",
       " 112,\n",
       " 124,\n",
       " 106,\n",
       " 121,\n",
       " 118,\n",
       " 166,\n",
       " 118,\n",
       " 151,\n",
       " 112,\n",
       " 136,\n",
       " 124,\n",
       " 115,\n",
       " 130,\n",
       " 124,\n",
       " 121,\n",
       " 133,\n",
       " 100,\n",
       " 121,\n",
       " 118,\n",
       " 109,\n",
       " 112,\n",
       " 115,\n",
       " 121,\n",
       " 118,\n",
       " 118,\n",
       " 130,\n",
       " 115,\n",
       " 127,\n",
       " 121,\n",
       " 121,\n",
       " 166,\n",
       " 121,\n",
       " 124,\n",
       " 133,\n",
       " 142,\n",
       " 115,\n",
       " 130,\n",
       " 115,\n",
       " 103,\n",
       " 127,\n",
       " 118,\n",
       " 112,\n",
       " 118,\n",
       " 130,\n",
       " 121,\n",
       " 127,\n",
       " 142,\n",
       " 112,\n",
       " 139,\n",
       " 151,\n",
       " 133,\n",
       " 136,\n",
       " 133,\n",
       " 136,\n",
       " 118,\n",
       " 106,\n",
       " 127,\n",
       " 106,\n",
       " 109,\n",
       " 109,\n",
       " 139,\n",
       " 106,\n",
       " 94,\n",
       " 85,\n",
       " 97,\n",
       " 133,\n",
       " 109,\n",
       " 118,\n",
       " 121,\n",
       " 112,\n",
       " 121,\n",
       " 106,\n",
       " 112,\n",
       " 118,\n",
       " 157,\n",
       " 151,\n",
       " 127,\n",
       " 139,\n",
       " 136,\n",
       " 127,\n",
       " 133,\n",
       " 193,\n",
       " 217,\n",
       " 136,\n",
       " 136,\n",
       " 139,\n",
       " 142,\n",
       " 124,\n",
       " 115,\n",
       " 115,\n",
       " 124,\n",
       " 106,\n",
       " 118,\n",
       " 133,\n",
       " 118,\n",
       " 100,\n",
       " 103,\n",
       " 103,\n",
       " 109,\n",
       " 112,\n",
       " 124,\n",
       " 115,\n",
       " 139,\n",
       " 112,\n",
       " 124,\n",
       " 127,\n",
       " 109,\n",
       " 139,\n",
       " 100,\n",
       " 109,\n",
       " 103,\n",
       " 115,\n",
       " 112,\n",
       " 118,\n",
       " 127,\n",
       " 118,\n",
       " 130,\n",
       " 130,\n",
       " 130,\n",
       " 127,\n",
       " 130,\n",
       " 127,\n",
       " 115,\n",
       " 130,\n",
       " 127,\n",
       " 151,\n",
       " 145,\n",
       " 121,\n",
       " 163,\n",
       " 139,\n",
       " 133,\n",
       " 112,\n",
       " 115,\n",
       " 109,\n",
       " 112,\n",
       " 118,\n",
       " 100,\n",
       " 103,\n",
       " 172,\n",
       " 139,\n",
       " 133,\n",
       " 127,\n",
       " 106,\n",
       " 97,\n",
       " 94,\n",
       " 82,\n",
       " 106,\n",
       " 127,\n",
       " 109,\n",
       " 133,\n",
       " 118,\n",
       " 106,\n",
       " 91,\n",
       " 121,\n",
       " 148,\n",
       " 133,\n",
       " 151,\n",
       " 109,\n",
       " 178,\n",
       " 154,\n",
       " 145,\n",
       " 94,\n",
       " 97,\n",
       " 115,\n",
       " 124,\n",
       " 100,\n",
       " 70,\n",
       " 103,\n",
       " 109,\n",
       " 121,\n",
       " 130,\n",
       " 136,\n",
       " 142,\n",
       " 112,\n",
       " 118,\n",
       " 103,\n",
       " 133,\n",
       " 151,\n",
       " 172,\n",
       " 118,\n",
       " 133,\n",
       " 142,\n",
       " 154,\n",
       " 118,\n",
       " 103,\n",
       " 112,\n",
       " 139,\n",
       " 139,\n",
       " 124,\n",
       " 127,\n",
       " 136,\n",
       " 139,\n",
       " 121,\n",
       " 136,\n",
       " 163,\n",
       " 142,\n",
       " 130,\n",
       " 112,\n",
       " 109,\n",
       " 103,\n",
       " 115,\n",
       " 112,\n",
       " 190,\n",
       " 121,\n",
       " 124,\n",
       " 130,\n",
       " 112,\n",
       " 100,\n",
       " 100,\n",
       " 109,\n",
       " 106,\n",
       " 130,\n",
       " 109,\n",
       " 124,\n",
       " 124,\n",
       " 115,\n",
       " 79,\n",
       " 148,\n",
       " 157,\n",
       " 121,\n",
       " 160,\n",
       " 118,\n",
       " 124,\n",
       " 115,\n",
       " 130,\n",
       " 166,\n",
       " 133,\n",
       " 127,\n",
       " 103,\n",
       " 142,\n",
       " 142,\n",
       " 127,\n",
       " 121,\n",
       " 139,\n",
       " 148,\n",
       " 118,\n",
       " 130,\n",
       " 145,\n",
       " 130,\n",
       " 175,\n",
       " 127,\n",
       " 139,\n",
       " 166,\n",
       " 136,\n",
       " 139,\n",
       " 157,\n",
       " 115,\n",
       " 127,\n",
       " 127,\n",
       " 124,\n",
       " 145,\n",
       " 124,\n",
       " 124,\n",
       " 124,\n",
       " 142,\n",
       " 142,\n",
       " 133,\n",
       " 133,\n",
       " 142,\n",
       " 142,\n",
       " 136,\n",
       " 133,\n",
       " 169,\n",
       " 124,\n",
       " 130,\n",
       " 127,\n",
       " 136,\n",
       " 115,\n",
       " 118,\n",
       " 127,\n",
       " 106,\n",
       " 148,\n",
       " 136,\n",
       " 139,\n",
       " 136,\n",
       " 184,\n",
       " 142,\n",
       " 136,\n",
       " 121,\n",
       " 133,\n",
       " 118,\n",
       " 148,\n",
       " 121,\n",
       " 133,\n",
       " 127,\n",
       " 133,\n",
       " 88,\n",
       " 130,\n",
       " 124,\n",
       " 118,\n",
       " 112,\n",
       " 136,\n",
       " 124,\n",
       " 148,\n",
       " 106,\n",
       " 151,\n",
       " 148,\n",
       " 145,\n",
       " 133,\n",
       " 124,\n",
       " 124,\n",
       " 130,\n",
       " 121,\n",
       " 139,\n",
       " 121,\n",
       " 142,\n",
       " 118,\n",
       " 124,\n",
       " 115,\n",
       " 133,\n",
       " 124,\n",
       " 121,\n",
       " 115,\n",
       " 142,\n",
       " 136,\n",
       " 136,\n",
       " 154,\n",
       " 154,\n",
       " 127,\n",
       " 139,\n",
       " 148,\n",
       " 139,\n",
       " 160,\n",
       " 148,\n",
       " 145,\n",
       " 148,\n",
       " 112,\n",
       " 148,\n",
       " 136,\n",
       " 124,\n",
       " 133,\n",
       " 142,\n",
       " 145,\n",
       " 136,\n",
       " 118,\n",
       " 184,\n",
       " 124,\n",
       " 121,\n",
       " 136,\n",
       " 142,\n",
       " 145,\n",
       " 139,\n",
       " 145,\n",
       " 124,\n",
       " 124,\n",
       " 142,\n",
       " 133,\n",
       " 127,\n",
       " 121,\n",
       " 136,\n",
       " 139,\n",
       " 145,\n",
       " 115,\n",
       " 133,\n",
       " 139,\n",
       " 118,\n",
       " 112,\n",
       " 133,\n",
       " 133,\n",
       " 142,\n",
       " 121,\n",
       " 124,\n",
       " 154,\n",
       " 145,\n",
       " 121,\n",
       " 145,\n",
       " 145,\n",
       " 121,\n",
       " 127,\n",
       " 121,\n",
       " 133,\n",
       " 124,\n",
       " 139,\n",
       " 118,\n",
       " 121,\n",
       " 136,\n",
       " 139,\n",
       " 136,\n",
       " 139,\n",
       " 145,\n",
       " 127,\n",
       " 121,\n",
       " 106,\n",
       " 148,\n",
       " 115,\n",
       " 142,\n",
       " 112,\n",
       " 139,\n",
       " 142,\n",
       " 145,\n",
       " 130,\n",
       " 136,\n",
       " 145,\n",
       " 127,\n",
       " 139,\n",
       " 145,\n",
       " 127,\n",
       " 112,\n",
       " 106,\n",
       " 157,\n",
       " 139,\n",
       " 130,\n",
       " 127,\n",
       " 136,\n",
       " 142,\n",
       " 133,\n",
       " 118,\n",
       " 118,\n",
       " 145,\n",
       " 145,\n",
       " 136,\n",
       " 115,\n",
       " 118,\n",
       " 133,\n",
       " 133,\n",
       " 124,\n",
       " 139,\n",
       " 136,\n",
       " 115,\n",
       " 124,\n",
       " 118,\n",
       " 139,\n",
       " 115,\n",
       " 130,\n",
       " 124,\n",
       " 121,\n",
       " 118,\n",
       " 139,\n",
       " 130,\n",
       " 118,\n",
       " 121,\n",
       " 133,\n",
       " 121,\n",
       " 124,\n",
       " 133,\n",
       " 145,\n",
       " 127,\n",
       " 121,\n",
       " 130,\n",
       " 124,\n",
       " 133,\n",
       " 139,\n",
       " 124,\n",
       " 130,\n",
       " 130,\n",
       " 121,\n",
       " 130,\n",
       " 133,\n",
       " 124,\n",
       " 112,\n",
       " 115,\n",
       " 106,\n",
       " 124,\n",
       " 133,\n",
       " 121,\n",
       " 124,\n",
       " 112,\n",
       " 127,\n",
       " 127,\n",
       " 136,\n",
       " 136,\n",
       " 124,\n",
       " 154,\n",
       " 139,\n",
       " 136,\n",
       " 151,\n",
       " 103,\n",
       " 139,\n",
       " 130,\n",
       " 127,\n",
       " 127,\n",
       " 130,\n",
       " 124,\n",
       " 118,\n",
       " 106,\n",
       " 130,\n",
       " 118,\n",
       " 112,\n",
       " 112,\n",
       " 130,\n",
       " 130,\n",
       " 127,\n",
       " 121,\n",
       " 118,\n",
       " 124,\n",
       " 100,\n",
       " 130,\n",
       " 106,\n",
       " 139,\n",
       " 127,\n",
       " 136,\n",
       " 106,\n",
       " 118,\n",
       " 136,\n",
       " 118,\n",
       " 124,\n",
       " 109,\n",
       " 130,\n",
       " 157,\n",
       " 151,\n",
       " 163,\n",
       " 130,\n",
       " 130,\n",
       " 133,\n",
       " 160,\n",
       " 190,\n",
       " 127,\n",
       " 124,\n",
       " 133,\n",
       " 148,\n",
       " 127,\n",
       " 139,\n",
       " 145,\n",
       " 160,\n",
       " 121,\n",
       " 133,\n",
       " 154,\n",
       " 124,\n",
       " 127,\n",
       " 115,\n",
       " 133,\n",
       " 151,\n",
       " 139,\n",
       " 142,\n",
       " 127,\n",
       " 136,\n",
       " 151,\n",
       " 154,\n",
       " 130,\n",
       " 142,\n",
       " 190,\n",
       " 148,\n",
       " 127,\n",
       " 124,\n",
       " 163,\n",
       " 130,\n",
       " 124,\n",
       " 118,\n",
       " 133,\n",
       " 124,\n",
       " 106,\n",
       " 127,\n",
       " 145,\n",
       " 118,\n",
       " 178,\n",
       " 145,\n",
       " 142,\n",
       " 124,\n",
       " 106,\n",
       " 142,\n",
       " 109,\n",
       " 130,\n",
       " 121,\n",
       " 148,\n",
       " 106,\n",
       " 100,\n",
       " 118,\n",
       " 124,\n",
       " 145,\n",
       " 172,\n",
       " 133,\n",
       " 139,\n",
       " 118,\n",
       " 121,\n",
       " 133,\n",
       " 127,\n",
       " 121,\n",
       " 124,\n",
       " 136,\n",
       " 127,\n",
       " 139,\n",
       " 124,\n",
       " 109,\n",
       " 127,\n",
       " 139,\n",
       " 133,\n",
       " 118,\n",
       " 112,\n",
       " 109,\n",
       " 103,\n",
       " 136,\n",
       " 139,\n",
       " 154,\n",
       " 124,\n",
       " 73,\n",
       " 130,\n",
       " 100,\n",
       " 115,\n",
       " 112,\n",
       " 79,\n",
       " 112,\n",
       " 118,\n",
       " 124,\n",
       " 133,\n",
       " 136,\n",
       " 133,\n",
       " 136,\n",
       " 106,\n",
       " 130,\n",
       " 136,\n",
       " 142,\n",
       " 148,\n",
       " 124,\n",
       " 139,\n",
       " 124,\n",
       " 151,\n",
       " 139,\n",
       " 118,\n",
       " 127,\n",
       " 127,\n",
       " 148,\n",
       " 127,\n",
       " 121,\n",
       " 124,\n",
       " 136,\n",
       " 151,\n",
       " 124,\n",
       " 187,\n",
       " 115,\n",
       " 121,\n",
       " 115,\n",
       " 118,\n",
       " 130,\n",
       " 121,\n",
       " 136,\n",
       " 160,\n",
       " 127,\n",
       " 136,\n",
       " 124,\n",
       " 112,\n",
       " 121,\n",
       " 97,\n",
       " 109,\n",
       " 139,\n",
       " 118,\n",
       " 127,\n",
       " 103,\n",
       " 127,\n",
       " ...]"
      ]
     },
     "execution_count": 23,
     "metadata": {},
     "output_type": "execute_result"
    }
   ],
   "source": [
    "dim2"
   ]
  },
  {
   "cell_type": "code",
   "execution_count": 24,
   "metadata": {},
   "outputs": [
    {
     "data": {
      "text/plain": [
       "<seaborn.axisgrid.JointGrid at 0x15c3f0a5708>"
      ]
     },
     "execution_count": 24,
     "metadata": {},
     "output_type": "execute_result"
    },
    {
     "data": {
      "image/png": "[encoded data removed]",
      "text/plain": [
       "<Figure size 432x432 with 3 Axes>"
      ]
     },
     "metadata": {
      "needs_background": "light"
     },
     "output_type": "display_data"
    }
   ],
   "source": [
    "sns.jointplot(dim1,dim2)"
   ]
  },
  {
   "cell_type": "markdown",
   "metadata": {},
   "source": [
    "#### why this is important?\n",
    "#### - Bcz the CNN isn't going to be able to train images of various sizes. So we are going to resize all the images of same size."
   ]
  },
  {
   "cell_type": "code",
   "execution_count": 25,
   "metadata": {},
   "outputs": [
    {
     "data": {
      "text/plain": [
       "130.92538461538462"
      ]
     },
     "execution_count": 25,
     "metadata": {},
     "output_type": "execute_result"
    }
   ],
   "source": [
    "np.mean(dim1)"
   ]
  },
  {
   "cell_type": "code",
   "execution_count": 26,
   "metadata": {},
   "outputs": [
    {
     "data": {
      "text/plain": [
       "130.75"
      ]
     },
     "execution_count": 26,
     "metadata": {},
     "output_type": "execute_result"
    }
   ],
   "source": [
    "np.mean(dim2)"
   ]
  },
  {
   "cell_type": "code",
   "execution_count": 27,
   "metadata": {},
   "outputs": [],
   "source": [
    "# our final image shape which we will be feeding in CNN \n",
    "image_shape = (130,130,3)"
   ]
  },
  {
   "cell_type": "markdown",
   "metadata": {},
   "source": [
    "# Part 2 : Image Data Generator"
   ]
  },
  {
   "cell_type": "markdown",
   "metadata": {},
   "source": [
    "#### The size of our data is very big i.e 130 * 130 * 3 = 50700 bcz of that we are not gonna able to feed everything at once instead we have to select the batches of our images \n",
    "##### Our model should over come the fact that it should be robust enough to deal with image which are pretty different img which we seen before & we can do that by manipulating & performing transormation on the images like rotation, resizeing & scalling"
   ]
  },
  {
   "cell_type": "code",
   "execution_count": 28,
   "metadata": {},
   "outputs": [],
   "source": [
    "from tensorflow.keras.preprocessing.image import ImageDataGenerator"
   ]
  },
  {
   "cell_type": "code",
   "execution_count": 29,
   "metadata": {},
   "outputs": [],
   "source": [
    "#help(ImageDataGenerator)"
   ]
  },
  {
   "cell_type": "code",
   "execution_count": 30,
   "metadata": {},
   "outputs": [],
   "source": [
    "# Lets create an instance of ImageDataGenerator\n",
    "img_gen = ImageDataGenerator(rotation_range=20,               # Take our current images & randomly rotate them\n",
    "                            width_shift_range=0.1,\n",
    "                            height_shift_range=0.1,\n",
    "                            shear_range=0.1,                 # shear : cutting certain part of image \n",
    "                            zoom_range=0.1,\n",
    "                            horizontal_flip=True,\n",
    "                            fill_mode='nearest')            # how I am going to fill missing data? nearest pixel value"
   ]
  },
  {
   "cell_type": "code",
   "execution_count": 31,
   "metadata": {},
   "outputs": [
    {
     "data": {
      "text/plain": [
       "<matplotlib.image.AxesImage at 0x15c44616e48>"
      ]
     },
     "execution_count": 31,
     "metadata": {},
     "output_type": "execute_result"
    },
    {
     "data": {
      "image/png": "[encoded data removed]",
      "text/plain": [
       "<Figure size 432x288 with 1 Axes>"
      ]
     },
     "metadata": {
      "needs_background": "light"
     },
     "output_type": "display_data"
    }
   ],
   "source": [
    "plt.imshow(uninfected_cell)"
   ]
  },
  {
   "cell_type": "code",
   "execution_count": 32,
   "metadata": {},
   "outputs": [
    {
     "data": {
      "text/plain": [
       "<matplotlib.image.AxesImage at 0x15c44685d48>"
      ]
     },
     "execution_count": 32,
     "metadata": {},
     "output_type": "execute_result"
    },
    {
     "data": {
      "image/png": "[encoded data removed]",
      "text/plain": [
       "<Figure size 432x288 with 1 Axes>"
      ]
     },
     "metadata": {
      "needs_background": "light"
     },
     "output_type": "display_data"
    }
   ],
   "source": [
    "para_img = imread(para_cell)\n",
    "plt.imshow(para_img)"
   ]
  },
  {
   "cell_type": "code",
   "execution_count": 33,
   "metadata": {},
   "outputs": [
    {
     "data": {
      "text/plain": [
       "<matplotlib.image.AxesImage at 0x15c446f0608>"
      ]
     },
     "execution_count": 33,
     "metadata": {},
     "output_type": "execute_result"
    },
    {
     "data": {
      "image/png": "[encoded data removed]",
      "text/plain": [
       "<Figure size 432x288 with 1 Axes>"
      ]
     },
     "metadata": {
      "needs_background": "light"
     },
     "output_type": "display_data"
    }
   ],
   "source": [
    "# take my img generator obj which i have defined above & call a single random transformation\n",
    "plt.imshow(img_gen.random_transform(para_img))"
   ]
  },
  {
   "cell_type": "code",
   "execution_count": 34,
   "metadata": {},
   "outputs": [
    {
     "name": "stdout",
     "output_type": "stream",
     "text": [
      "Found 24958 images belonging to 2 classes.\n"
     ]
    },
    {
     "data": {
      "text/plain": [
       "<keras_preprocessing.image.directory_iterator.DirectoryIterator at 0x15c446b6948>"
      ]
     },
     "execution_count": 34,
     "metadata": {},
     "output_type": "execute_result"
    }
   ],
   "source": [
    "# How do we setup our dir to flow batches from dir\n",
    "\n",
    "\n",
    "# In order to use .flow_from_directory, you must organize the image in sub-directories. \n",
    "# This is an absolute requirement, other wise the method wont work.\n",
    "# The directories only contain images of one class, so one folder per class of img\n",
    "\n",
    "img_gen.flow_from_directory(train_path)"
   ]
  },
  {
   "cell_type": "markdown",
   "metadata": {},
   "source": [
    "# Part 3 : Creating a Actual model\n",
    "\n",
    "https://stats.stackexchange.com/questions/148139/rules-for-selecting-convolutional-neural-network-hyperparameters\n",
    "\n",
    "##### different rules for selecting num of neurons & filters in convolutional layers"
   ]
  },
  {
   "cell_type": "code",
   "execution_count": 35,
   "metadata": {},
   "outputs": [],
   "source": [
    "from tensorflow.keras.models import Sequential\n",
    "from tensorflow.keras.layers import Dense, Conv2D, Flatten, MaxPool2D, Dropout\n",
    "\n",
    "model = Sequential()\n",
    "\n",
    "model.add(Conv2D(filters=32,kernel_size=(3,3),input_shape = image_shape, activation='relu'))\n",
    "model.add(MaxPool2D(pool_size=(2,2)))\n",
    "\n",
    "model.add(Conv2D(filters=64,kernel_size=(3,3),input_shape = image_shape, activation='relu'))\n",
    "model.add(MaxPool2D(pool_size=(2,2)))\n",
    "\n",
    "model.add(Conv2D(filters=64,kernel_size=(3,3),input_shape = image_shape, activation='relu'))\n",
    "model.add(MaxPool2D(pool_size=(2,2)))\n",
    "\n",
    "model.add(Flatten()) # Flat our dense layers\n",
    "\n",
    "model.add(Dense(128,activation='relu'))\n",
    "model.add(Dropout(0.5)) # turnoff half of the neurons randomly which prevent overfitting\n",
    "\n",
    "model.add(Dense(1,activation='sigmoid'))\n",
    "\n",
    "model.compile(loss='binary_crossentropy',optimizer='adam',metrics=['accuracy'])"
   ]
  },
  {
   "cell_type": "code",
   "execution_count": 36,
   "metadata": {},
   "outputs": [
    {
     "name": "stdout",
     "output_type": "stream",
     "text": [
      "Model: \"sequential\"\n",
      "_________________________________________________________________\n",
      "Layer (type)                 Output Shape              Param #   \n",
      "=================================================================\n",
      "conv2d (Conv2D)              (None, 128, 128, 32)      896       \n",
      "_________________________________________________________________\n",
      "max_pooling2d (MaxPooling2D) (None, 64, 64, 32)        0         \n",
      "_________________________________________________________________\n",
      "conv2d_1 (Conv2D)            (None, 62, 62, 64)        18496     \n",
      "_________________________________________________________________\n",
      "max_pooling2d_1 (MaxPooling2 (None, 31, 31, 64)        0         \n",
      "_________________________________________________________________\n",
      "conv2d_2 (Conv2D)            (None, 29, 29, 64)        36928     \n",
      "_________________________________________________________________\n",
      "max_pooling2d_2 (MaxPooling2 (None, 14, 14, 64)        0         \n",
      "_________________________________________________________________\n",
      "flatten (Flatten)            (None, 12544)             0         \n",
      "_________________________________________________________________\n",
      "dense (Dense)                (None, 128)               1605760   \n",
      "_________________________________________________________________\n",
      "dropout (Dropout)            (None, 128)               0         \n",
      "_________________________________________________________________\n",
      "dense_1 (Dense)              (None, 1)                 129       \n",
      "=================================================================\n",
      "Total params: 1,662,209\n",
      "Trainable params: 1,662,209\n",
      "Non-trainable params: 0\n",
      "_________________________________________________________________\n"
     ]
    }
   ],
   "source": [
    "model.summary()"
   ]
  },
  {
   "cell_type": "code",
   "execution_count": 37,
   "metadata": {},
   "outputs": [
    {
     "name": "stdout",
     "output_type": "stream",
     "text": [
      "Found 24958 images belonging to 2 classes.\n",
      "Found 2600 images belonging to 2 classes.\n"
     ]
    }
   ],
   "source": [
    "# Training our model\n",
    "\n",
    "from tensorflow.keras.callbacks import EarlyStopping\n",
    "\n",
    "early_stopping = EarlyStopping(monitor = 'val_loss', patience = 2)\n",
    "\n",
    "# selecting a batch size to train our model\n",
    "\n",
    "batch_size = 16\n",
    "\n",
    "train_img_gen = img_gen.flow_from_directory(train_path,\n",
    "                                            color_mode='rgb',\n",
    "                                            batch_size=batch_size,\n",
    "                                            class_mode='binary',\n",
    "                                            target_size=(130,130)) #height & width of image which was 130,130,3 in our img_shape\n",
    "\n",
    "\n",
    "\n",
    "test_img_gen = img_gen.flow_from_directory(test_path,\n",
    "                                            shuffle=False,      # Never shuffle data at test dataset\n",
    "                                            color_mode='rgb',\n",
    "                                            batch_size=batch_size,\n",
    "                                            class_mode='binary',\n",
    "                                            target_size=(130,130)) #height & width of image which was 130,130,3 in our img_shape\n"
   ]
  },
  {
   "cell_type": "code",
   "execution_count": 38,
   "metadata": {},
   "outputs": [
    {
     "data": {
      "text/plain": [
       "{'parasitized': 0, 'uninfected': 1}"
      ]
     },
     "execution_count": 38,
     "metadata": {},
     "output_type": "execute_result"
    }
   ],
   "source": [
    "train_img_gen.class_indices"
   ]
  },
  {
   "cell_type": "code",
   "execution_count": 39,
   "metadata": {},
   "outputs": [],
   "source": [
    "# results = model.fit_generator(train_img_gen,epochs=20,\n",
    "#                              validation_data=test_img_gen,\n",
    "#                              callbacks=[early_stopping])\n"
   ]
  },
  {
   "cell_type": "code",
   "execution_count": 40,
   "metadata": {},
   "outputs": [
    {
     "name": "stdout",
     "output_type": "stream",
     "text": [
      "Model: \"sequential\"\n",
      "_________________________________________________________________\n",
      "Layer (type)                 Output Shape              Param #   \n",
      "=================================================================\n",
      "conv2d (Conv2D)              (None, 128, 128, 32)      896       \n",
      "_________________________________________________________________\n",
      "max_pooling2d (MaxPooling2D) (None, 64, 64, 32)        0         \n",
      "_________________________________________________________________\n",
      "conv2d_1 (Conv2D)            (None, 62, 62, 64)        18496     \n",
      "_________________________________________________________________\n",
      "max_pooling2d_1 (MaxPooling2 (None, 31, 31, 64)        0         \n",
      "_________________________________________________________________\n",
      "conv2d_2 (Conv2D)            (None, 29, 29, 64)        36928     \n",
      "_________________________________________________________________\n",
      "max_pooling2d_2 (MaxPooling2 (None, 14, 14, 64)        0         \n",
      "_________________________________________________________________\n",
      "flatten (Flatten)            (None, 12544)             0         \n",
      "_________________________________________________________________\n",
      "dense (Dense)                (None, 128)               1605760   \n",
      "_________________________________________________________________\n",
      "activation (Activation)      (None, 128)               0         \n",
      "_________________________________________________________________\n",
      "dropout (Dropout)            (None, 128)               0         \n",
      "_________________________________________________________________\n",
      "dense_1 (Dense)              (None, 1)                 129       \n",
      "_________________________________________________________________\n",
      "activation_1 (Activation)    (None, 1)                 0         \n",
      "=================================================================\n",
      "Total params: 1,662,209\n",
      "Trainable params: 1,662,209\n",
      "Non-trainable params: 0\n",
      "_________________________________________________________________\n"
     ]
    }
   ],
   "source": [
    "from tensorflow.keras.models import load_model\n",
    "\n",
    "model = load_model('malaria_detector.h5')\n",
    "model.summary()"
   ]
  },
  {
   "cell_type": "code",
   "execution_count": 41,
   "metadata": {},
   "outputs": [
    {
     "data": {
      "text/plain": [
       "[2.078727343775539, 0.8638462]"
      ]
     },
     "execution_count": 41,
     "metadata": {},
     "output_type": "execute_result"
    }
   ],
   "source": [
    "# Alternative of model.history.history but can be little bit different\n",
    "\n",
    "model.evaluate_generator(test_img_gen)"
   ]
  },
  {
   "cell_type": "code",
   "execution_count": 42,
   "metadata": {},
   "outputs": [
    {
     "data": {
      "text/plain": [
       "['loss', 'accuracy']"
      ]
     },
     "execution_count": 42,
     "metadata": {},
     "output_type": "execute_result"
    }
   ],
   "source": [
    "model.metrics_names"
   ]
  },
  {
   "cell_type": "code",
   "execution_count": 43,
   "metadata": {},
   "outputs": [],
   "source": [
    "pred = model.predict_generator(test_img_gen)"
   ]
  },
  {
   "cell_type": "code",
   "execution_count": 44,
   "metadata": {},
   "outputs": [
    {
     "data": {
      "text/plain": [
       "array([[0.],\n",
       "       [0.],\n",
       "       [0.],\n",
       "       ...,\n",
       "       [1.],\n",
       "       [1.],\n",
       "       [0.]], dtype=float32)"
      ]
     },
     "execution_count": 44,
     "metadata": {},
     "output_type": "execute_result"
    }
   ],
   "source": [
    "pred         # they looks like class 0 & 1 but they are actually probability values"
   ]
  },
  {
   "cell_type": "code",
   "execution_count": 45,
   "metadata": {},
   "outputs": [
    {
     "data": {
      "text/plain": [
       "array([[False],\n",
       "       [False],\n",
       "       [False],\n",
       "       ...,\n",
       "       [ True],\n",
       "       [ True],\n",
       "       [False]])"
      ]
     },
     "execution_count": 45,
     "metadata": {},
     "output_type": "execute_result"
    }
   ],
   "source": [
    "predictions = pred > 0.8\n",
    "predictions"
   ]
  },
  {
   "cell_type": "code",
   "execution_count": 46,
   "metadata": {},
   "outputs": [
    {
     "name": "stdout",
     "output_type": "stream",
     "text": [
      "              precision    recall  f1-score   support\n",
      "\n",
      "           0       0.81      0.98      0.88      1300\n",
      "           1       0.97      0.77      0.86      1300\n",
      "\n",
      "    accuracy                           0.87      2600\n",
      "   macro avg       0.89      0.87      0.87      2600\n",
      "weighted avg       0.89      0.87      0.87      2600\n",
      "\n"
     ]
    }
   ],
   "source": [
    "from sklearn.metrics import classification_report, confusion_matrix\n",
    "\n",
    "print(classification_report(test_img_gen.classes,predictions))"
   ]
  },
  {
   "cell_type": "code",
   "execution_count": 47,
   "metadata": {},
   "outputs": [
    {
     "name": "stdout",
     "output_type": "stream",
     "text": [
      "[[1268   32]\n",
      " [ 305  995]]\n"
     ]
    }
   ],
   "source": [
    "print(confusion_matrix(test_img_gen.classes,predictions))"
   ]
  },
  {
   "cell_type": "code",
   "execution_count": 48,
   "metadata": {},
   "outputs": [
    {
     "data": {
      "image/png": "[encoded data removed]",
      "text/plain": [
       "<PIL.PngImagePlugin.PngImageFile image mode=RGB size=142x148 at 0x15C486CA348>"
      ]
     },
     "execution_count": 48,
     "metadata": {},
     "output_type": "execute_result"
    }
   ],
   "source": [
    "from tensorflow.keras.preprocessing import image\n",
    "\n",
    "image.load_img(para_cell)"
   ]
  },
  {
   "cell_type": "code",
   "execution_count": 49,
   "metadata": {},
   "outputs": [
    {
     "name": "stdout",
     "output_type": "stream",
     "text": [
      "<class 'PIL.PngImagePlugin.PngImageFile'>\n"
     ]
    }
   ],
   "source": [
    "print(type(image.load_img(para_cell)))"
   ]
  },
  {
   "cell_type": "code",
   "execution_count": 50,
   "metadata": {},
   "outputs": [
    {
     "data": {
      "image/png": "[encoded data removed]",
      "text/plain": [
       "<PIL.Image.Image image mode=RGB size=130x130 at 0x15C48182708>"
      ]
     },
     "execution_count": 50,
     "metadata": {},
     "output_type": "execute_result"
    }
   ],
   "source": [
    "my_image = image.load_img(para_cell,target_size=image_shape)\n",
    "my_image"
   ]
  },
  {
   "cell_type": "code",
   "execution_count": 51,
   "metadata": {},
   "outputs": [
    {
     "data": {
      "text/plain": [
       "array([[[0., 0., 0.],\n",
       "        [0., 0., 0.],\n",
       "        [0., 0., 0.],\n",
       "        ...,\n",
       "        [0., 0., 0.],\n",
       "        [0., 0., 0.],\n",
       "        [0., 0., 0.]],\n",
       "\n",
       "       [[0., 0., 0.],\n",
       "        [0., 0., 0.],\n",
       "        [0., 0., 0.],\n",
       "        ...,\n",
       "        [0., 0., 0.],\n",
       "        [0., 0., 0.],\n",
       "        [0., 0., 0.]],\n",
       "\n",
       "       [[0., 0., 0.],\n",
       "        [0., 0., 0.],\n",
       "        [0., 0., 0.],\n",
       "        ...,\n",
       "        [0., 0., 0.],\n",
       "        [0., 0., 0.],\n",
       "        [0., 0., 0.]],\n",
       "\n",
       "       ...,\n",
       "\n",
       "       [[0., 0., 0.],\n",
       "        [0., 0., 0.],\n",
       "        [0., 0., 0.],\n",
       "        ...,\n",
       "        [0., 0., 0.],\n",
       "        [0., 0., 0.],\n",
       "        [0., 0., 0.]],\n",
       "\n",
       "       [[0., 0., 0.],\n",
       "        [0., 0., 0.],\n",
       "        [0., 0., 0.],\n",
       "        ...,\n",
       "        [0., 0., 0.],\n",
       "        [0., 0., 0.],\n",
       "        [0., 0., 0.]],\n",
       "\n",
       "       [[0., 0., 0.],\n",
       "        [0., 0., 0.],\n",
       "        [0., 0., 0.],\n",
       "        ...,\n",
       "        [0., 0., 0.],\n",
       "        [0., 0., 0.],\n",
       "        [0., 0., 0.]]], dtype=float32)"
      ]
     },
     "execution_count": 51,
     "metadata": {},
     "output_type": "execute_result"
    }
   ],
   "source": [
    "# Read this image & pass it to the model\n",
    "\n",
    "my_image_array = image.img_to_array(my_image)\n",
    "my_image_array"
   ]
  },
  {
   "cell_type": "code",
   "execution_count": 59,
   "metadata": {},
   "outputs": [],
   "source": [
    "#plt.imshow(my_image_array)"
   ]
  },
  {
   "cell_type": "code",
   "execution_count": 53,
   "metadata": {},
   "outputs": [
    {
     "data": {
      "text/plain": [
       "(130, 130, 3)"
      ]
     },
     "execution_count": 53,
     "metadata": {},
     "output_type": "execute_result"
    }
   ],
   "source": [
    "my_image_array.shape"
   ]
  },
  {
   "cell_type": "code",
   "execution_count": 54,
   "metadata": {},
   "outputs": [
    {
     "data": {
      "text/plain": [
       "(1, 130, 130, 3)"
      ]
     },
     "execution_count": 54,
     "metadata": {},
     "output_type": "execute_result"
    }
   ],
   "source": [
    "# Resize at 0 dimension\n",
    "\n",
    "# model want : 1 img of 130*130 of 3 color channels\n",
    "\n",
    "my_image_array = np.expand_dims(my_image_array,axis=0)\n",
    "my_image_array.shape"
   ]
  },
  {
   "cell_type": "code",
   "execution_count": 55,
   "metadata": {},
   "outputs": [
    {
     "data": {
      "text/plain": [
       "array([[0.]], dtype=float32)"
      ]
     },
     "execution_count": 55,
     "metadata": {},
     "output_type": "execute_result"
    }
   ],
   "source": [
    "model.predict(my_image_array)"
   ]
  },
  {
   "cell_type": "code",
   "execution_count": 56,
   "metadata": {},
   "outputs": [
    {
     "data": {
      "text/plain": [
       "{'parasitized': 0, 'uninfected': 1}"
      ]
     },
     "execution_count": 56,
     "metadata": {},
     "output_type": "execute_result"
    }
   ],
   "source": [
    "train_img_gen.class_indices"
   ]
  },
  {
   "cell_type": "code",
   "execution_count": null,
   "metadata": {},
   "outputs": [],
   "source": []
  }
 ],
 "metadata": {
  "kernelspec": {
   "display_name": "Python 3",
   "language": "python",
   "name": "python3"
  },
  "language_info": {
   "codemirror_mode": {
    "name": "ipython",
    "version": 3
   },
   "file_extension": ".py",
   "mimetype": "text/x-python",
   "name": "python",
   "nbconvert_exporter": "python",
   "pygments_lexer": "ipython3",
   "version": "3.7.4"
  }
 },
 "nbformat": 4,
 "nbformat_minor": 2
}
