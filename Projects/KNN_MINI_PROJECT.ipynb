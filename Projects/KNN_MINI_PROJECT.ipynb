{
 "cells": [
  {
   "cell_type": "code",
   "execution_count": 15,
   "metadata": {},
   "outputs": [
    {
     "data": {
      "text/html": [
       "<div>\n",
       "<style scoped>\n",
       "    .dataframe tbody tr th:only-of-type {\n",
       "        vertical-align: middle;\n",
       "    }\n",
       "\n",
       "    .dataframe tbody tr th {\n",
       "        vertical-align: top;\n",
       "    }\n",
       "\n",
       "    .dataframe thead th {\n",
       "        text-align: right;\n",
       "    }\n",
       "</style>\n",
       "<table border=\"1\" class=\"dataframe\">\n",
       "  <thead>\n",
       "    <tr style=\"text-align: right;\">\n",
       "      <th></th>\n",
       "      <th>user_id</th>\n",
       "      <th>movie_id</th>\n",
       "      <th>ratings</th>\n",
       "    </tr>\n",
       "  </thead>\n",
       "  <tbody>\n",
       "    <tr>\n",
       "      <td>0</td>\n",
       "      <td>196</td>\n",
       "      <td>242</td>\n",
       "      <td>3</td>\n",
       "    </tr>\n",
       "    <tr>\n",
       "      <td>1</td>\n",
       "      <td>186</td>\n",
       "      <td>302</td>\n",
       "      <td>3</td>\n",
       "    </tr>\n",
       "    <tr>\n",
       "      <td>2</td>\n",
       "      <td>22</td>\n",
       "      <td>377</td>\n",
       "      <td>1</td>\n",
       "    </tr>\n",
       "    <tr>\n",
       "      <td>3</td>\n",
       "      <td>244</td>\n",
       "      <td>51</td>\n",
       "      <td>2</td>\n",
       "    </tr>\n",
       "    <tr>\n",
       "      <td>4</td>\n",
       "      <td>166</td>\n",
       "      <td>346</td>\n",
       "      <td>1</td>\n",
       "    </tr>\n",
       "  </tbody>\n",
       "</table>\n",
       "</div>"
      ],
      "text/plain": [
       "   user_id  movie_id  ratings\n",
       "0      196       242        3\n",
       "1      186       302        3\n",
       "2       22       377        1\n",
       "3      244        51        2\n",
       "4      166       346        1"
      ]
     },
     "execution_count": 15,
     "metadata": {},
     "output_type": "execute_result"
    }
   ],
   "source": [
    "#the rating of a movie by looking at the 10 movies closest to it in genre and popularity\n",
    "#how about the closest 15 movies?\n",
    "\n",
    "#step:#import columns and create a dframe\n",
    "      #define a function to cal the distance between 2 movies\n",
    "      #define a function to cal the KNN of your movies\n",
    "        \n",
    "        \n",
    "import pandas as pd\n",
    "import numpy as np\n",
    "from scipy import spatial\n",
    "\n",
    "cols=['user_id','movie_id','ratings']\n",
    "rating_data = pd.read_csv(r\"D:\\Dig\\ml-100k\\u.data\",sep=\"\\t\",names=cols,usecols=range(3)) #usecols -> num of cols we want\n",
    "rating_data.head()"
   ]
  },
  {
   "cell_type": "code",
   "execution_count": 16,
   "metadata": {},
   "outputs": [
    {
     "data": {
      "text/html": [
       "<div>\n",
       "<style scoped>\n",
       "    .dataframe tbody tr th:only-of-type {\n",
       "        vertical-align: middle;\n",
       "    }\n",
       "\n",
       "    .dataframe tbody tr th {\n",
       "        vertical-align: top;\n",
       "    }\n",
       "\n",
       "    .dataframe thead tr th {\n",
       "        text-align: left;\n",
       "    }\n",
       "\n",
       "    .dataframe thead tr:last-of-type th {\n",
       "        text-align: right;\n",
       "    }\n",
       "</style>\n",
       "<table border=\"1\" class=\"dataframe\">\n",
       "  <thead>\n",
       "    <tr>\n",
       "      <th></th>\n",
       "      <th colspan=\"2\" halign=\"left\">ratings</th>\n",
       "    </tr>\n",
       "    <tr>\n",
       "      <th></th>\n",
       "      <th>size</th>\n",
       "      <th>mean</th>\n",
       "    </tr>\n",
       "    <tr>\n",
       "      <th>movie_id</th>\n",
       "      <th></th>\n",
       "      <th></th>\n",
       "    </tr>\n",
       "  </thead>\n",
       "  <tbody>\n",
       "    <tr>\n",
       "      <td>1</td>\n",
       "      <td>452</td>\n",
       "      <td>3.878319</td>\n",
       "    </tr>\n",
       "    <tr>\n",
       "      <td>2</td>\n",
       "      <td>131</td>\n",
       "      <td>3.206107</td>\n",
       "    </tr>\n",
       "    <tr>\n",
       "      <td>3</td>\n",
       "      <td>90</td>\n",
       "      <td>3.033333</td>\n",
       "    </tr>\n",
       "    <tr>\n",
       "      <td>4</td>\n",
       "      <td>209</td>\n",
       "      <td>3.550239</td>\n",
       "    </tr>\n",
       "    <tr>\n",
       "      <td>5</td>\n",
       "      <td>86</td>\n",
       "      <td>3.302326</td>\n",
       "    </tr>\n",
       "  </tbody>\n",
       "</table>\n",
       "</div>"
      ],
      "text/plain": [
       "         ratings          \n",
       "            size      mean\n",
       "movie_id                  \n",
       "1            452  3.878319\n",
       "2            131  3.206107\n",
       "3             90  3.033333\n",
       "4            209  3.550239\n",
       "5             86  3.302326"
      ]
     },
     "execution_count": 16,
     "metadata": {},
     "output_type": "execute_result"
    }
   ],
   "source": [
    "#now we will group all info by movie_id and then we will try to compute total number of ratings\n",
    "#And once we have that we will cal avg num of rating for each movie\n",
    "\n",
    "#For that we will apply group by method on our rating dataframe and then we will aggregate the result by rating and mean\n",
    "\n",
    "movie_properties=rating_data.groupby('movie_id').agg({'ratings':[np.size,np.mean]})\n",
    "movie_properties.head()"
   ]
  },
  {
   "cell_type": "code",
   "execution_count": 17,
   "metadata": {},
   "outputs": [
    {
     "data": {
      "text/html": [
       "<div>\n",
       "<style scoped>\n",
       "    .dataframe tbody tr th:only-of-type {\n",
       "        vertical-align: middle;\n",
       "    }\n",
       "\n",
       "    .dataframe tbody tr th {\n",
       "        vertical-align: top;\n",
       "    }\n",
       "\n",
       "    .dataframe thead th {\n",
       "        text-align: right;\n",
       "    }\n",
       "</style>\n",
       "<table border=\"1\" class=\"dataframe\">\n",
       "  <thead>\n",
       "    <tr style=\"text-align: right;\">\n",
       "      <th></th>\n",
       "      <th>size</th>\n",
       "    </tr>\n",
       "    <tr>\n",
       "      <th>movie_id</th>\n",
       "      <th></th>\n",
       "    </tr>\n",
       "  </thead>\n",
       "  <tbody>\n",
       "    <tr>\n",
       "      <td>1</td>\n",
       "      <td>0.774914</td>\n",
       "    </tr>\n",
       "    <tr>\n",
       "      <td>2</td>\n",
       "      <td>0.223368</td>\n",
       "    </tr>\n",
       "    <tr>\n",
       "      <td>3</td>\n",
       "      <td>0.152921</td>\n",
       "    </tr>\n",
       "    <tr>\n",
       "      <td>4</td>\n",
       "      <td>0.357388</td>\n",
       "    </tr>\n",
       "    <tr>\n",
       "      <td>5</td>\n",
       "      <td>0.146048</td>\n",
       "    </tr>\n",
       "  </tbody>\n",
       "</table>\n",
       "</div>"
      ],
      "text/plain": [
       "              size\n",
       "movie_id          \n",
       "1         0.774914\n",
       "2         0.223368\n",
       "3         0.152921\n",
       "4         0.357388\n",
       "5         0.146048"
      ]
     },
     "execution_count": 17,
     "metadata": {},
     "output_type": "execute_result"
    }
   ],
   "source": [
    "#for movie 1 , 452 ppl's ,mean of rating is 3.878\n",
    "#for movie 2 , 131 ppl's ,mean of rating is 3.206\n",
    "#and so on...\n",
    "\n",
    "#now we will normalize the mean_rating ....example : 3.87 may be fall around 0.75\n",
    "\n",
    "\n",
    "# For machine learning, every dataset does not require normalization. It is required only when features have different ranges.\n",
    "movie_num_raings=pd.DataFrame(movie_properties['ratings']['size'])\n",
    "\n",
    "#Formula for normalization\n",
    "#avg = df['X'].mean()\n",
    "#diff = df['X'].max() - df['X'].min()\n",
    "#new_df = df['X'].apply(lambda x: (x-avg)/diff) \n",
    "\n",
    "movie_normalized_num_raing = movie_num_raings.apply(lambda x: (x - np.min(x))/(np.max(x)-np.min(x)))\n",
    "#Here we r finding the max & min num of ratings in ur dataset & then we find the range & normalize everything against that range\n",
    "movie_normalized_num_raing.head()"
   ]
  },
  {
   "cell_type": "code",
   "execution_count": 18,
   "metadata": {},
   "outputs": [],
   "source": [
    "#u.times have 19 different type of genras it has value of 0 or 1 where 1 means that movies is matching that genra & 0 means not\n",
    "#We will create a dict\n",
    "#This dict will contain it name,genra_value & we will have a normalized score for its popularity & the avg rating for that movie\n",
    "\n",
    "movie_dict = {}\n",
    "with open(r'D:\\Dig\\ml-100k\\u.item') as f:\n",
    "    temp=''\n",
    "\n",
    "#Once we open the file we will iterate through every line of the file i.e 1 line at a time\n",
    "#And the we will strip out new line at the end\n",
    "#Then we will extract movie_id, movie_name & its genra\n",
    "#Once we have that we will create dict which maps movie_ids throught there name , genres & also there normalized rating\n",
    "\n",
    "    for line in f:\n",
    "        fields = line.rstrip('\\n').split('|')\n",
    "        movie_id=int(fields[0])\n",
    "        name=fields[1]\n",
    "        genres=fields[5:25]\n",
    "        genres=list(map(int,genres))\n",
    "        \n",
    "        movie_dict[movie_id]=(name,genres,movie_normalized_num_raing.loc[movie_id].get('size'),\n",
    "                             movie_properties.loc[movie_id].ratings)"
   ]
  },
  {
   "cell_type": "code",
   "execution_count": 19,
   "metadata": {},
   "outputs": [
    {
     "data": {
      "text/plain": [
       "('Toy Story (1995)',\n",
       " [0, 0, 0, 1, 1, 1, 0, 0, 0, 0, 0, 0, 0, 0, 0, 0, 0, 0, 0],\n",
       " 0.7749140893470791,\n",
       " size    452.000000\n",
       " mean      3.878319\n",
       " Name: 1, dtype: float64)"
      ]
     },
     "execution_count": 19,
     "metadata": {},
     "output_type": "execute_result"
    }
   ],
   "source": [
    "movie_dict[1]"
   ]
  },
  {
   "cell_type": "code",
   "execution_count": 20,
   "metadata": {},
   "outputs": [
    {
     "data": {
      "text/plain": [
       "0.49309646620556324"
      ]
     },
     "execution_count": 20,
     "metadata": {},
     "output_type": "execute_result"
    }
   ],
   "source": [
    "#lets create a function which cal the distance between 2 movies based on there popularity and ratings and genras\n",
    "\n",
    "def compute_distance(a,b):\n",
    "    genres_a=a[1]\n",
    "    genres_b=b[1]\n",
    "    \n",
    "    #cal distance between this 2 movies\n",
    "    g_distance = spatial.distance.cosine(genres_a,genres_b)\n",
    "    \n",
    "    popularity_a=a[2]\n",
    "    popularity_b=b[2]\n",
    "    \n",
    "    #abs give distance from zero ,abs is never negative\n",
    "    popularity_dis=abs(popularity_a-popularity_b)\n",
    "    \n",
    "    return g_distance + popularity_dis\n",
    "\n",
    "compute_distance(movie_dict[2],movie_dict[3])"
   ]
  },
  {
   "cell_type": "code",
   "execution_count": 21,
   "metadata": {},
   "outputs": [
    {
     "name": "stdout",
     "output_type": "stream",
     "text": [
      "('GoldenEye (1995)', [0, 1, 1, 0, 0, 0, 0, 0, 0, 0, 0, 0, 0, 0, 0, 0, 1, 0, 0], 0.22336769759450173, size    131.000000\n",
      "mean      3.206107\n",
      "Name: 2, dtype: float64)\n",
      "('Four Rooms (1995)', [0, 0, 0, 0, 0, 0, 0, 0, 0, 0, 0, 0, 0, 0, 0, 0, 1, 0, 0], 0.15292096219931273, size    90.000000\n",
      "mean     3.033333\n",
      "Name: 3, dtype: float64)\n"
     ]
    }
   ],
   "source": [
    "print (movie_dict[2])\n",
    "print (movie_dict[3])"
   ]
  },
  {
   "cell_type": "code",
   "execution_count": 22,
   "metadata": {},
   "outputs": [
    {
     "name": "stdout",
     "output_type": "stream",
     "text": [
      "Liar Liar (1997) size    485.000000\n",
      "mean      3.156701\n",
      "Name: 294, dtype: float64\n",
      "Aladdin (1992) size    219.000000\n",
      "mean      3.812785\n",
      "Name: 95, dtype: float64\n",
      "Willy Wonka and the Chocolate Factory (1971) size    326.000000\n",
      "mean      3.631902\n",
      "Name: 151, dtype: float64\n",
      "Monty Python and the Holy Grail (1974) size    316.000000\n",
      "mean      4.066456\n",
      "Name: 168, dtype: float64\n",
      "Full Monty, The (1997) size    315.000000\n",
      "mean      3.926984\n",
      "Name: 269, dtype: float64\n",
      "George of the Jungle (1997) size    162.000000\n",
      "mean      2.685185\n",
      "Name: 259, dtype: float64\n",
      "Beavis and Butt-head Do America (1996) size    156.000000\n",
      "mean      2.788462\n",
      "Name: 240, dtype: float64\n",
      "Birdcage, The (1996) size    293.000000\n",
      "mean      3.443686\n",
      "Name: 25, dtype: float64\n",
      "Home Alone (1990) size    137.000000\n",
      "mean      3.087591\n",
      "Name: 94, dtype: float64\n",
      "Lion King, The (1994) size    220.000000\n",
      "mean      3.781818\n",
      "Name: 71, dtype: float64\n"
     ]
    }
   ],
   "source": [
    "#Define a function to cal the KNN of ur movie\n",
    "from sklearn.neighbors import KNeighborsClassifier\n",
    "import operator\n",
    "def get_neighbors(movie_id,k):\n",
    "    distances = []\n",
    "    \n",
    "    #compute distance between movie num 1 and all other movies\n",
    "    #Once we have that we will sort the results based on there distance score\n",
    "    for movie in movie_dict:\n",
    "        #For movie in movie_dict we will iteratet through each movie that we have and if its a diff movie than what we are\n",
    "        #looking for it will compute the distance from previous result \n",
    "        if(movie != movie_id):\n",
    "            dist = compute_distance(movie_dict[movie_id],movie_dict[movie])\n",
    "            distances.append((movie,dist))\n",
    "    distances.sort(key = operator.itemgetter(1))\n",
    "    \n",
    "    #Now we will got to each k value from 1:10 then we will append distaces result to our neighbors list\n",
    "    neighbors = []\n",
    "    for i in range(k):\n",
    "        neighbors.append(distances[i][0])\n",
    "    return neighbors\n",
    "\n",
    "k=10\n",
    "avg_ratings=0\n",
    "neighbors=get_neighbors(1,k)\n",
    "for neighbor in neighbors:\n",
    "    avg_ratings += movie_dict[neighbor][3]\n",
    "    print(movie_dict[neighbor][0]+\" \"+str(movie_dict[neighbor][3]))\n",
    "avg_ratings = avg_ratings/float(k)"
   ]
  },
  {
   "cell_type": "code",
   "execution_count": 23,
   "metadata": {},
   "outputs": [
    {
     "name": "stdout",
     "output_type": "stream",
     "text": [
      "size    262.900000\n",
      "mean      3.438157\n",
      "Name: 294, dtype: float64\n"
     ]
    }
   ],
   "source": [
    "print(avg_ratings)"
   ]
  },
  {
   "cell_type": "code",
   "execution_count": 24,
   "metadata": {},
   "outputs": [
    {
     "data": {
      "text/plain": [
       "('Toy Story (1995)',\n",
       " [0, 0, 0, 1, 1, 1, 0, 0, 0, 0, 0, 0, 0, 0, 0, 0, 0, 0, 0],\n",
       " 0.7749140893470791,\n",
       " size    452.000000\n",
       " mean      3.878319\n",
       " Name: 1, dtype: float64)"
      ]
     },
     "execution_count": 24,
     "metadata": {},
     "output_type": "execute_result"
    }
   ],
   "source": [
    "movie_dict[1]"
   ]
  },
  {
   "cell_type": "code",
   "execution_count": null,
   "metadata": {},
   "outputs": [],
   "source": []
  },
  {
   "cell_type": "code",
   "execution_count": null,
   "metadata": {},
   "outputs": [],
   "source": []
  },
  {
   "cell_type": "code",
   "execution_count": null,
   "metadata": {},
   "outputs": [],
   "source": []
  },
  {
   "cell_type": "code",
   "execution_count": null,
   "metadata": {},
   "outputs": [],
   "source": []
  },
  {
   "cell_type": "code",
   "execution_count": null,
   "metadata": {},
   "outputs": [],
   "source": []
  },
  {
   "cell_type": "code",
   "execution_count": null,
   "metadata": {},
   "outputs": [],
   "source": []
  },
  {
   "cell_type": "code",
   "execution_count": null,
   "metadata": {},
   "outputs": [],
   "source": []
  },
  {
   "cell_type": "code",
   "execution_count": 11,
   "metadata": {},
   "outputs": [
    {
     "name": "stdout",
     "output_type": "stream",
     "text": [
      "<class 'pandas.core.frame.DataFrame'>\n",
      "RangeIndex: 100000 entries, 0 to 99999\n",
      "Data columns (total 3 columns):\n",
      "user_id     100000 non-null int64\n",
      "movie_id    100000 non-null int64\n",
      "ratings     100000 non-null int64\n",
      "dtypes: int64(3)\n",
      "memory usage: 2.3 MB\n"
     ]
    }
   ],
   "source": [
    "rating_data.info()"
   ]
  },
  {
   "cell_type": "code",
   "execution_count": null,
   "metadata": {},
   "outputs": [],
   "source": []
  }
 ],
 "metadata": {
  "kernelspec": {
   "display_name": "Python 3",
   "language": "python",
   "name": "python3"
  },
  "language_info": {
   "codemirror_mode": {
    "name": "ipython",
    "version": 3
   },
   "file_extension": ".py",
   "mimetype": "text/x-python",
   "name": "python",
   "nbconvert_exporter": "python",
   "pygments_lexer": "ipython3",
   "version": "3.7.4"
  }
 },
 "nbformat": 4,
 "nbformat_minor": 2
}
