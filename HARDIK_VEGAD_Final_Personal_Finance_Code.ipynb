{
 "cells": [
  {
   "cell_type": "markdown",
   "metadata": {},
   "source": [
    "# KEY POINTS TO NOTE:\n",
    "\n",
    "- READ ALL THE HEADING'S\n",
    "\n",
    "\n",
    "- READ ALL THE **OBSERVATION** FOR BETTER UNDERSTANDING."
   ]
  },
  {
   "cell_type": "markdown",
   "metadata": {},
   "source": [
    "# Importing Data and Imports"
   ]
  },
  {
   "cell_type": "code",
   "execution_count": 1,
   "metadata": {},
   "outputs": [],
   "source": [
    "import pandas as pd\n",
    "import numpy as np\n",
    "import seaborn as sns\n",
    "import matplotlib.pyplot as plt\n",
    "%matplotlib inline"
   ]
  },
  {
   "cell_type": "code",
   "execution_count": 2,
   "metadata": {},
   "outputs": [
    {
     "data": {
      "text/html": [
       "<div>\n",
       "<style scoped>\n",
       "    .dataframe tbody tr th:only-of-type {\n",
       "        vertical-align: middle;\n",
       "    }\n",
       "\n",
       "    .dataframe tbody tr th {\n",
       "        vertical-align: top;\n",
       "    }\n",
       "\n",
       "    .dataframe thead th {\n",
       "        text-align: right;\n",
       "    }\n",
       "</style>\n",
       "<table border=\"1\" class=\"dataframe\">\n",
       "  <thead>\n",
       "    <tr style=\"text-align: right;\">\n",
       "      <th></th>\n",
       "      <th>Txn_Date</th>\n",
       "      <th>Description</th>\n",
       "      <th>Value_Date</th>\n",
       "      <th>Ref_No_and_Check_No</th>\n",
       "      <th>Debit</th>\n",
       "      <th>Credit</th>\n",
       "      <th>Balance</th>\n",
       "    </tr>\n",
       "  </thead>\n",
       "  <tbody>\n",
       "    <tr>\n",
       "      <th>0</th>\n",
       "      <td>2021-04-29</td>\n",
       "      <td>NEFT Cr-SBIN0010368-RAO INSULATING COMPANY PRI...</td>\n",
       "      <td>2021-04-29</td>\n",
       "      <td>SBIN421119062694</td>\n",
       "      <td></td>\n",
       "      <td>30000.00</td>\n",
       "      <td>63661.70</td>\n",
       "    </tr>\n",
       "    <tr>\n",
       "      <th>1</th>\n",
       "      <td>2021-04-29</td>\n",
       "      <td>UPI-Razorpay Software Pr-razor.pay@sbi-SBIN001...</td>\n",
       "      <td>2021-04-29</td>\n",
       "      <td>111910372620.00</td>\n",
       "      <td>588.82</td>\n",
       "      <td>NaN</td>\n",
       "      <td>33661.70</td>\n",
       "    </tr>\n",
       "    <tr>\n",
       "      <th>2</th>\n",
       "      <td>2021-04-28</td>\n",
       "      <td>UPI-razorpay-razorpay@icici-ICIC0000001-111815...</td>\n",
       "      <td>2021-04-28</td>\n",
       "      <td>111815326599.00</td>\n",
       "      <td>588.82</td>\n",
       "      <td></td>\n",
       "      <td>34250.52</td>\n",
       "    </tr>\n",
       "    <tr>\n",
       "      <th>3</th>\n",
       "      <td>2021-04-27</td>\n",
       "      <td>UPI-lazypay-lazypay.payu@axisbank-UTIB0000000-...</td>\n",
       "      <td>2021-04-27</td>\n",
       "      <td>111722088832.00</td>\n",
       "      <td>3096.00</td>\n",
       "      <td></td>\n",
       "      <td>34839.34</td>\n",
       "    </tr>\n",
       "    <tr>\n",
       "      <th>4</th>\n",
       "      <td>2021-04-22</td>\n",
       "      <td>UPI-PUNITH C-punithcgowda740@okhdfcbank-PYTM01...</td>\n",
       "      <td>2021-04-22</td>\n",
       "      <td>111213624307.00</td>\n",
       "      <td>2700.00</td>\n",
       "      <td></td>\n",
       "      <td>37935.34</td>\n",
       "    </tr>\n",
       "  </tbody>\n",
       "</table>\n",
       "</div>"
      ],
      "text/plain": [
       "    Txn_Date                                        Description Value_Date  \\\n",
       "0 2021-04-29  NEFT Cr-SBIN0010368-RAO INSULATING COMPANY PRI... 2021-04-29   \n",
       "1 2021-04-29  UPI-Razorpay Software Pr-razor.pay@sbi-SBIN001... 2021-04-29   \n",
       "2 2021-04-28  UPI-razorpay-razorpay@icici-ICIC0000001-111815... 2021-04-28   \n",
       "3 2021-04-27  UPI-lazypay-lazypay.payu@axisbank-UTIB0000000-... 2021-04-27   \n",
       "4 2021-04-22  UPI-PUNITH C-punithcgowda740@okhdfcbank-PYTM01... 2021-04-22   \n",
       "\n",
       "  Ref_No_and_Check_No    Debit    Credit   Balance  \n",
       "0   SBIN421119062694            30000.00  63661.70  \n",
       "1     111910372620.00   588.82       NaN  33661.70  \n",
       "2     111815326599.00   588.82            34250.52  \n",
       "3     111722088832.00  3096.00            34839.34  \n",
       "4     111213624307.00  2700.00            37935.34  "
      ]
     },
     "execution_count": 2,
     "metadata": {},
     "output_type": "execute_result"
    }
   ],
   "source": [
    "df = pd.read_csv(r\"D:\\chatbot\\personal_finance_data.csv\", parse_dates=['Txn_Date', 'Value_Date'])\n",
    "df.head()"
   ]
  },
  {
   "cell_type": "markdown",
   "metadata": {},
   "source": [
    "**- OBSERVATION :**\n",
    "\n",
    "- Insead of *NaN* values we found out that there are *WIDE SPACES*.\n",
    "- So we will be converting those wide spaces into NaN and than replace thoe value with some suitable data. \n",
    "- Then extract some meaning full inside from our data.\n",
    "\n",
    "<br>\n",
    "___________________________________________________________________________________________________________________________\n",
    "\n",
    "# Get Datatypes of Columns"
   ]
  },
  {
   "cell_type": "code",
   "execution_count": 3,
   "metadata": {},
   "outputs": [
    {
     "name": "stdout",
     "output_type": "stream",
     "text": [
      "<class 'pandas.core.frame.DataFrame'>\n",
      "RangeIndex: 20 entries, 0 to 19\n",
      "Data columns (total 7 columns):\n",
      " #   Column               Non-Null Count  Dtype         \n",
      "---  ------               --------------  -----         \n",
      " 0   Txn_Date             20 non-null     datetime64[ns]\n",
      " 1   Description          20 non-null     object        \n",
      " 2   Value_Date           20 non-null     datetime64[ns]\n",
      " 3   Ref_No_and_Check_No  20 non-null     object        \n",
      " 4   Debit                20 non-null     object        \n",
      " 5   Credit               19 non-null     object        \n",
      " 6   Balance              20 non-null     float64       \n",
      "dtypes: datetime64[ns](2), float64(1), object(4)\n",
      "memory usage: 1.2+ KB\n"
     ]
    }
   ],
   "source": [
    "df.info()"
   ]
  },
  {
   "cell_type": "markdown",
   "metadata": {},
   "source": [
    "**- OBSERVATION :**\n",
    "\n",
    "If you had noticed `debit`, `credit` are actually \"numeric\" data but it is considered as \"object\" so we will later convert it to \"float\" for the calculation. once we replace all the wide spaces with NaN."
   ]
  },
  {
   "cell_type": "markdown",
   "metadata": {},
   "source": [
    "<br>\n",
    "___________________________________________________________________________________________________________________________\n",
    "\n",
    "\n",
    "# Replacing all the wide space with NaN values"
   ]
  },
  {
   "cell_type": "code",
   "execution_count": 4,
   "metadata": {},
   "outputs": [],
   "source": [
    "df = df.replace(r'^\\s*$', np.NaN, regex=True)"
   ]
  },
  {
   "cell_type": "code",
   "execution_count": 5,
   "metadata": {
    "scrolled": false
   },
   "outputs": [
    {
     "data": {
      "text/html": [
       "<div>\n",
       "<style scoped>\n",
       "    .dataframe tbody tr th:only-of-type {\n",
       "        vertical-align: middle;\n",
       "    }\n",
       "\n",
       "    .dataframe tbody tr th {\n",
       "        vertical-align: top;\n",
       "    }\n",
       "\n",
       "    .dataframe thead th {\n",
       "        text-align: right;\n",
       "    }\n",
       "</style>\n",
       "<table border=\"1\" class=\"dataframe\">\n",
       "  <thead>\n",
       "    <tr style=\"text-align: right;\">\n",
       "      <th></th>\n",
       "      <th>Txn_Date</th>\n",
       "      <th>Description</th>\n",
       "      <th>Value_Date</th>\n",
       "      <th>Ref_No_and_Check_No</th>\n",
       "      <th>Debit</th>\n",
       "      <th>Credit</th>\n",
       "      <th>Balance</th>\n",
       "    </tr>\n",
       "  </thead>\n",
       "  <tbody>\n",
       "    <tr>\n",
       "      <th>0</th>\n",
       "      <td>2021-04-29</td>\n",
       "      <td>NEFT Cr-SBIN0010368-RAO INSULATING COMPANY PRI...</td>\n",
       "      <td>2021-04-29</td>\n",
       "      <td>SBIN421119062694</td>\n",
       "      <td>NaN</td>\n",
       "      <td>30000.00</td>\n",
       "      <td>63661.70</td>\n",
       "    </tr>\n",
       "    <tr>\n",
       "      <th>1</th>\n",
       "      <td>2021-04-29</td>\n",
       "      <td>UPI-Razorpay Software Pr-razor.pay@sbi-SBIN001...</td>\n",
       "      <td>2021-04-29</td>\n",
       "      <td>111910372620.00</td>\n",
       "      <td>588.82</td>\n",
       "      <td>NaN</td>\n",
       "      <td>33661.70</td>\n",
       "    </tr>\n",
       "    <tr>\n",
       "      <th>2</th>\n",
       "      <td>2021-04-28</td>\n",
       "      <td>UPI-razorpay-razorpay@icici-ICIC0000001-111815...</td>\n",
       "      <td>2021-04-28</td>\n",
       "      <td>111815326599.00</td>\n",
       "      <td>588.82</td>\n",
       "      <td>NaN</td>\n",
       "      <td>34250.52</td>\n",
       "    </tr>\n",
       "    <tr>\n",
       "      <th>3</th>\n",
       "      <td>2021-04-27</td>\n",
       "      <td>UPI-lazypay-lazypay.payu@axisbank-UTIB0000000-...</td>\n",
       "      <td>2021-04-27</td>\n",
       "      <td>111722088832.00</td>\n",
       "      <td>3096.00</td>\n",
       "      <td>NaN</td>\n",
       "      <td>34839.34</td>\n",
       "    </tr>\n",
       "    <tr>\n",
       "      <th>4</th>\n",
       "      <td>2021-04-22</td>\n",
       "      <td>UPI-PUNITH C-punithcgowda740@okhdfcbank-PYTM01...</td>\n",
       "      <td>2021-04-22</td>\n",
       "      <td>111213624307.00</td>\n",
       "      <td>2700.00</td>\n",
       "      <td>NaN</td>\n",
       "      <td>37935.34</td>\n",
       "    </tr>\n",
       "    <tr>\n",
       "      <th>5</th>\n",
       "      <td>2021-04-18</td>\n",
       "      <td>UPI-lazypay-lazypay.payu@axisbank-UTIB0000000-...</td>\n",
       "      <td>2021-04-18</td>\n",
       "      <td>110821046850.00</td>\n",
       "      <td>1788.00</td>\n",
       "      <td>NaN</td>\n",
       "      <td>40635.34</td>\n",
       "    </tr>\n",
       "    <tr>\n",
       "      <th>6</th>\n",
       "      <td>2021-04-16</td>\n",
       "      <td>UPI-LAZY PAY-lazypay.payu@hdfcbank-HDFC0000499...</td>\n",
       "      <td>2021-04-16</td>\n",
       "      <td>110609687438.00</td>\n",
       "      <td>379.00</td>\n",
       "      <td>NaN</td>\n",
       "      <td>42423.34</td>\n",
       "    </tr>\n",
       "    <tr>\n",
       "      <th>7</th>\n",
       "      <td>2021-04-15</td>\n",
       "      <td>UPI-JYOTHI VASUDEV ANAND-jvanandaram66@okhdfcb...</td>\n",
       "      <td>2021-04-16</td>\n",
       "      <td>110523568403.00</td>\n",
       "      <td>3000.00</td>\n",
       "      <td>NaN</td>\n",
       "      <td>42802.34</td>\n",
       "    </tr>\n",
       "    <tr>\n",
       "      <th>8</th>\n",
       "      <td>2021-04-14</td>\n",
       "      <td>UPI-LAZY PAY-lazypay.payu@hdfcbank-HDFC0000499...</td>\n",
       "      <td>2021-04-14</td>\n",
       "      <td>110411215936.00</td>\n",
       "      <td>202.00</td>\n",
       "      <td>NaN</td>\n",
       "      <td>45802.34</td>\n",
       "    </tr>\n",
       "    <tr>\n",
       "      <th>9</th>\n",
       "      <td>2021-04-14</td>\n",
       "      <td>IMPS-110410843404-PayU Payment Private-HDFC-xx...</td>\n",
       "      <td>2021-04-14</td>\n",
       "      <td>110410843404.00</td>\n",
       "      <td>NaN</td>\n",
       "      <td>1.00</td>\n",
       "      <td>46004.34</td>\n",
       "    </tr>\n",
       "    <tr>\n",
       "      <th>10</th>\n",
       "      <td>2021-07-04</td>\n",
       "      <td>UPI-BHARATH KUMAR R-bharathraj808-1@okaxis-BAR...</td>\n",
       "      <td>2021-07-04</td>\n",
       "      <td>109716830389.00</td>\n",
       "      <td>2850.00</td>\n",
       "      <td>NaN</td>\n",
       "      <td>46003.34</td>\n",
       "    </tr>\n",
       "    <tr>\n",
       "      <th>11</th>\n",
       "      <td>2021-07-04</td>\n",
       "      <td>50200055363432-TPT-Capital-MYCAP FINANCIAL TEC...</td>\n",
       "      <td>2021-07-04</td>\n",
       "      <td>150568331.00</td>\n",
       "      <td>250000.00</td>\n",
       "      <td>NaN</td>\n",
       "      <td>48853.34</td>\n",
       "    </tr>\n",
       "    <tr>\n",
       "      <th>12</th>\n",
       "      <td>2021-07-04</td>\n",
       "      <td>RTGS Cr-CNRB0000885-PAVAN G-Ishwar Venkat Gogi...</td>\n",
       "      <td>2021-07-04</td>\n",
       "      <td>CNRBR52021040760170028</td>\n",
       "      <td>NaN</td>\n",
       "      <td>250000.00</td>\n",
       "      <td>298853.34</td>\n",
       "    </tr>\n",
       "    <tr>\n",
       "      <th>13</th>\n",
       "      <td>2021-04-04</td>\n",
       "      <td>UPI-dunzo-dunzo.payu@axisbank-UTIB0000000-1094...</td>\n",
       "      <td>2021-04-04</td>\n",
       "      <td>109418446327.00</td>\n",
       "      <td>2384.00</td>\n",
       "      <td>NaN</td>\n",
       "      <td>48853.34</td>\n",
       "    </tr>\n",
       "    <tr>\n",
       "      <th>14</th>\n",
       "      <td>2021-01-04</td>\n",
       "      <td>Credit Interest Capitalised</td>\n",
       "      <td>2021-03-31</td>\n",
       "      <td>NaN</td>\n",
       "      <td>NaN</td>\n",
       "      <td>731.00</td>\n",
       "      <td>51237.34</td>\n",
       "    </tr>\n",
       "    <tr>\n",
       "      <th>15</th>\n",
       "      <td>2021-03-31</td>\n",
       "      <td>UPI-razorpay-razorpay@icici-ICIC0000001-109011...</td>\n",
       "      <td>2021-03-31</td>\n",
       "      <td>109011126937.00</td>\n",
       "      <td>588.82</td>\n",
       "      <td>NaN</td>\n",
       "      <td>50506.34</td>\n",
       "    </tr>\n",
       "    <tr>\n",
       "      <th>16</th>\n",
       "      <td>2021-03-29</td>\n",
       "      <td>POS 416021XXXXXX2221 BLUETOKAI COFFEE</td>\n",
       "      <td>2021-03-29</td>\n",
       "      <td>108812592346.00</td>\n",
       "      <td>370.00</td>\n",
       "      <td>NaN</td>\n",
       "      <td>51095.16</td>\n",
       "    </tr>\n",
       "    <tr>\n",
       "      <th>17</th>\n",
       "      <td>2021-03-29</td>\n",
       "      <td>UPI-PUNITH C-punithcgowda740-2@okicici-ICIC000...</td>\n",
       "      <td>2021-03-29</td>\n",
       "      <td>108814778271.00</td>\n",
       "      <td>1000.00</td>\n",
       "      <td>NaN</td>\n",
       "      <td>51465.16</td>\n",
       "    </tr>\n",
       "    <tr>\n",
       "      <th>18</th>\n",
       "      <td>2021-03-29</td>\n",
       "      <td>NEFT Cr-SBIN0010368-RAO INSULATING COMPANY PRI...</td>\n",
       "      <td>2021-03-29</td>\n",
       "      <td>SBIN221088754138</td>\n",
       "      <td>NaN</td>\n",
       "      <td>30000.00</td>\n",
       "      <td>52465.16</td>\n",
       "    </tr>\n",
       "    <tr>\n",
       "      <th>19</th>\n",
       "      <td>2021-03-19</td>\n",
       "      <td>UPI-KEZIAH MARIA KORAH-keziahko-1@okhdfcbank-C...</td>\n",
       "      <td>2021-03-19</td>\n",
       "      <td>107810329994.00</td>\n",
       "      <td>NaN</td>\n",
       "      <td>240.00</td>\n",
       "      <td>22465.16</td>\n",
       "    </tr>\n",
       "  </tbody>\n",
       "</table>\n",
       "</div>"
      ],
      "text/plain": [
       "     Txn_Date                                        Description Value_Date  \\\n",
       "0  2021-04-29  NEFT Cr-SBIN0010368-RAO INSULATING COMPANY PRI... 2021-04-29   \n",
       "1  2021-04-29  UPI-Razorpay Software Pr-razor.pay@sbi-SBIN001... 2021-04-29   \n",
       "2  2021-04-28  UPI-razorpay-razorpay@icici-ICIC0000001-111815... 2021-04-28   \n",
       "3  2021-04-27  UPI-lazypay-lazypay.payu@axisbank-UTIB0000000-... 2021-04-27   \n",
       "4  2021-04-22  UPI-PUNITH C-punithcgowda740@okhdfcbank-PYTM01... 2021-04-22   \n",
       "5  2021-04-18  UPI-lazypay-lazypay.payu@axisbank-UTIB0000000-... 2021-04-18   \n",
       "6  2021-04-16  UPI-LAZY PAY-lazypay.payu@hdfcbank-HDFC0000499... 2021-04-16   \n",
       "7  2021-04-15  UPI-JYOTHI VASUDEV ANAND-jvanandaram66@okhdfcb... 2021-04-16   \n",
       "8  2021-04-14  UPI-LAZY PAY-lazypay.payu@hdfcbank-HDFC0000499... 2021-04-14   \n",
       "9  2021-04-14  IMPS-110410843404-PayU Payment Private-HDFC-xx... 2021-04-14   \n",
       "10 2021-07-04  UPI-BHARATH KUMAR R-bharathraj808-1@okaxis-BAR... 2021-07-04   \n",
       "11 2021-07-04  50200055363432-TPT-Capital-MYCAP FINANCIAL TEC... 2021-07-04   \n",
       "12 2021-07-04  RTGS Cr-CNRB0000885-PAVAN G-Ishwar Venkat Gogi... 2021-07-04   \n",
       "13 2021-04-04  UPI-dunzo-dunzo.payu@axisbank-UTIB0000000-1094... 2021-04-04   \n",
       "14 2021-01-04                        Credit Interest Capitalised 2021-03-31   \n",
       "15 2021-03-31  UPI-razorpay-razorpay@icici-ICIC0000001-109011... 2021-03-31   \n",
       "16 2021-03-29              POS 416021XXXXXX2221 BLUETOKAI COFFEE 2021-03-29   \n",
       "17 2021-03-29  UPI-PUNITH C-punithcgowda740-2@okicici-ICIC000... 2021-03-29   \n",
       "18 2021-03-29  NEFT Cr-SBIN0010368-RAO INSULATING COMPANY PRI... 2021-03-29   \n",
       "19 2021-03-19  UPI-KEZIAH MARIA KORAH-keziahko-1@okhdfcbank-C... 2021-03-19   \n",
       "\n",
       "        Ref_No_and_Check_No      Debit     Credit    Balance  \n",
       "0         SBIN421119062694         NaN   30000.00   63661.70  \n",
       "1           111910372620.00     588.82        NaN   33661.70  \n",
       "2           111815326599.00     588.82        NaN   34250.52  \n",
       "3           111722088832.00    3096.00        NaN   34839.34  \n",
       "4           111213624307.00    2700.00        NaN   37935.34  \n",
       "5           110821046850.00    1788.00        NaN   40635.34  \n",
       "6           110609687438.00     379.00        NaN   42423.34  \n",
       "7           110523568403.00    3000.00        NaN   42802.34  \n",
       "8           110411215936.00     202.00        NaN   45802.34  \n",
       "9           110410843404.00        NaN       1.00   46004.34  \n",
       "10          109716830389.00    2850.00        NaN   46003.34  \n",
       "11             150568331.00  250000.00        NaN   48853.34  \n",
       "12  CNRBR52021040760170028         NaN  250000.00  298853.34  \n",
       "13          109418446327.00    2384.00        NaN   48853.34  \n",
       "14                      NaN        NaN     731.00   51237.34  \n",
       "15          109011126937.00     588.82        NaN   50506.34  \n",
       "16          108812592346.00     370.00        NaN   51095.16  \n",
       "17          108814778271.00    1000.00        NaN   51465.16  \n",
       "18        SBIN221088754138         NaN   30000.00   52465.16  \n",
       "19          107810329994.00        NaN     240.00   22465.16  "
      ]
     },
     "execution_count": 5,
     "metadata": {},
     "output_type": "execute_result"
    }
   ],
   "source": [
    "df"
   ]
  },
  {
   "cell_type": "markdown",
   "metadata": {},
   "source": [
    "<br>\n",
    "_____________________________________________________________________________________________________________________________\n",
    "\n",
    "\n",
    "# Chaning the Datatype of `Debit` and `Credit` column to float "
   ]
  },
  {
   "cell_type": "code",
   "execution_count": 6,
   "metadata": {},
   "outputs": [],
   "source": [
    "df[['Debit', 'Credit']] = df[['Debit', 'Credit']].astype(float)"
   ]
  },
  {
   "cell_type": "code",
   "execution_count": 7,
   "metadata": {},
   "outputs": [
    {
     "name": "stdout",
     "output_type": "stream",
     "text": [
      "<class 'pandas.core.frame.DataFrame'>\n",
      "RangeIndex: 20 entries, 0 to 19\n",
      "Data columns (total 7 columns):\n",
      " #   Column               Non-Null Count  Dtype         \n",
      "---  ------               --------------  -----         \n",
      " 0   Txn_Date             20 non-null     datetime64[ns]\n",
      " 1   Description          20 non-null     object        \n",
      " 2   Value_Date           20 non-null     datetime64[ns]\n",
      " 3   Ref_No_and_Check_No  19 non-null     object        \n",
      " 4   Debit                14 non-null     float64       \n",
      " 5   Credit               6 non-null      float64       \n",
      " 6   Balance              20 non-null     float64       \n",
      "dtypes: datetime64[ns](2), float64(3), object(2)\n",
      "memory usage: 1.2+ KB\n"
     ]
    }
   ],
   "source": [
    "df.info()"
   ]
  },
  {
   "cell_type": "markdown",
   "metadata": {},
   "source": [
    "**Removing Wide Space & decimal value if it exist in our `Ref_No_and_Check_No` :**"
   ]
  },
  {
   "cell_type": "code",
   "execution_count": 8,
   "metadata": {
    "scrolled": false
   },
   "outputs": [
    {
     "data": {
      "text/html": [
       "<div>\n",
       "<style scoped>\n",
       "    .dataframe tbody tr th:only-of-type {\n",
       "        vertical-align: middle;\n",
       "    }\n",
       "\n",
       "    .dataframe tbody tr th {\n",
       "        vertical-align: top;\n",
       "    }\n",
       "\n",
       "    .dataframe thead th {\n",
       "        text-align: right;\n",
       "    }\n",
       "</style>\n",
       "<table border=\"1\" class=\"dataframe\">\n",
       "  <thead>\n",
       "    <tr style=\"text-align: right;\">\n",
       "      <th></th>\n",
       "      <th>Txn_Date</th>\n",
       "      <th>Description</th>\n",
       "      <th>Value_Date</th>\n",
       "      <th>Ref_No_and_Check_No</th>\n",
       "      <th>Debit</th>\n",
       "      <th>Credit</th>\n",
       "      <th>Balance</th>\n",
       "    </tr>\n",
       "  </thead>\n",
       "  <tbody>\n",
       "    <tr>\n",
       "      <th>0</th>\n",
       "      <td>2021-04-29</td>\n",
       "      <td>NEFT Cr-SBIN0010368-RAO INSULATING COMPANY PRI...</td>\n",
       "      <td>2021-04-29</td>\n",
       "      <td>SBIN421119062694</td>\n",
       "      <td>NaN</td>\n",
       "      <td>30000.0</td>\n",
       "      <td>63661.70</td>\n",
       "    </tr>\n",
       "    <tr>\n",
       "      <th>1</th>\n",
       "      <td>2021-04-29</td>\n",
       "      <td>UPI-Razorpay Software Pr-razor.pay@sbi-SBIN001...</td>\n",
       "      <td>2021-04-29</td>\n",
       "      <td>111910372620</td>\n",
       "      <td>588.82</td>\n",
       "      <td>NaN</td>\n",
       "      <td>33661.70</td>\n",
       "    </tr>\n",
       "    <tr>\n",
       "      <th>2</th>\n",
       "      <td>2021-04-28</td>\n",
       "      <td>UPI-razorpay-razorpay@icici-ICIC0000001-111815...</td>\n",
       "      <td>2021-04-28</td>\n",
       "      <td>111815326599</td>\n",
       "      <td>588.82</td>\n",
       "      <td>NaN</td>\n",
       "      <td>34250.52</td>\n",
       "    </tr>\n",
       "    <tr>\n",
       "      <th>3</th>\n",
       "      <td>2021-04-27</td>\n",
       "      <td>UPI-lazypay-lazypay.payu@axisbank-UTIB0000000-...</td>\n",
       "      <td>2021-04-27</td>\n",
       "      <td>111722088832</td>\n",
       "      <td>3096.00</td>\n",
       "      <td>NaN</td>\n",
       "      <td>34839.34</td>\n",
       "    </tr>\n",
       "    <tr>\n",
       "      <th>4</th>\n",
       "      <td>2021-04-22</td>\n",
       "      <td>UPI-PUNITH C-punithcgowda740@okhdfcbank-PYTM01...</td>\n",
       "      <td>2021-04-22</td>\n",
       "      <td>111213624307</td>\n",
       "      <td>2700.00</td>\n",
       "      <td>NaN</td>\n",
       "      <td>37935.34</td>\n",
       "    </tr>\n",
       "    <tr>\n",
       "      <th>5</th>\n",
       "      <td>2021-04-18</td>\n",
       "      <td>UPI-lazypay-lazypay.payu@axisbank-UTIB0000000-...</td>\n",
       "      <td>2021-04-18</td>\n",
       "      <td>110821046850</td>\n",
       "      <td>1788.00</td>\n",
       "      <td>NaN</td>\n",
       "      <td>40635.34</td>\n",
       "    </tr>\n",
       "    <tr>\n",
       "      <th>6</th>\n",
       "      <td>2021-04-16</td>\n",
       "      <td>UPI-LAZY PAY-lazypay.payu@hdfcbank-HDFC0000499...</td>\n",
       "      <td>2021-04-16</td>\n",
       "      <td>110609687438</td>\n",
       "      <td>379.00</td>\n",
       "      <td>NaN</td>\n",
       "      <td>42423.34</td>\n",
       "    </tr>\n",
       "    <tr>\n",
       "      <th>7</th>\n",
       "      <td>2021-04-15</td>\n",
       "      <td>UPI-JYOTHI VASUDEV ANAND-jvanandaram66@okhdfcb...</td>\n",
       "      <td>2021-04-16</td>\n",
       "      <td>110523568403</td>\n",
       "      <td>3000.00</td>\n",
       "      <td>NaN</td>\n",
       "      <td>42802.34</td>\n",
       "    </tr>\n",
       "    <tr>\n",
       "      <th>8</th>\n",
       "      <td>2021-04-14</td>\n",
       "      <td>UPI-LAZY PAY-lazypay.payu@hdfcbank-HDFC0000499...</td>\n",
       "      <td>2021-04-14</td>\n",
       "      <td>110411215936</td>\n",
       "      <td>202.00</td>\n",
       "      <td>NaN</td>\n",
       "      <td>45802.34</td>\n",
       "    </tr>\n",
       "    <tr>\n",
       "      <th>9</th>\n",
       "      <td>2021-04-14</td>\n",
       "      <td>IMPS-110410843404-PayU Payment Private-HDFC-xx...</td>\n",
       "      <td>2021-04-14</td>\n",
       "      <td>110410843404</td>\n",
       "      <td>NaN</td>\n",
       "      <td>1.0</td>\n",
       "      <td>46004.34</td>\n",
       "    </tr>\n",
       "    <tr>\n",
       "      <th>10</th>\n",
       "      <td>2021-07-04</td>\n",
       "      <td>UPI-BHARATH KUMAR R-bharathraj808-1@okaxis-BAR...</td>\n",
       "      <td>2021-07-04</td>\n",
       "      <td>109716830389</td>\n",
       "      <td>2850.00</td>\n",
       "      <td>NaN</td>\n",
       "      <td>46003.34</td>\n",
       "    </tr>\n",
       "    <tr>\n",
       "      <th>11</th>\n",
       "      <td>2021-07-04</td>\n",
       "      <td>50200055363432-TPT-Capital-MYCAP FINANCIAL TEC...</td>\n",
       "      <td>2021-07-04</td>\n",
       "      <td>150568331</td>\n",
       "      <td>250000.00</td>\n",
       "      <td>NaN</td>\n",
       "      <td>48853.34</td>\n",
       "    </tr>\n",
       "    <tr>\n",
       "      <th>12</th>\n",
       "      <td>2021-07-04</td>\n",
       "      <td>RTGS Cr-CNRB0000885-PAVAN G-Ishwar Venkat Gogi...</td>\n",
       "      <td>2021-07-04</td>\n",
       "      <td>CNRBR52021040760170028</td>\n",
       "      <td>NaN</td>\n",
       "      <td>250000.0</td>\n",
       "      <td>298853.34</td>\n",
       "    </tr>\n",
       "    <tr>\n",
       "      <th>13</th>\n",
       "      <td>2021-04-04</td>\n",
       "      <td>UPI-dunzo-dunzo.payu@axisbank-UTIB0000000-1094...</td>\n",
       "      <td>2021-04-04</td>\n",
       "      <td>109418446327</td>\n",
       "      <td>2384.00</td>\n",
       "      <td>NaN</td>\n",
       "      <td>48853.34</td>\n",
       "    </tr>\n",
       "    <tr>\n",
       "      <th>14</th>\n",
       "      <td>2021-01-04</td>\n",
       "      <td>Credit Interest Capitalised</td>\n",
       "      <td>2021-03-31</td>\n",
       "      <td>NaN</td>\n",
       "      <td>NaN</td>\n",
       "      <td>731.0</td>\n",
       "      <td>51237.34</td>\n",
       "    </tr>\n",
       "    <tr>\n",
       "      <th>15</th>\n",
       "      <td>2021-03-31</td>\n",
       "      <td>UPI-razorpay-razorpay@icici-ICIC0000001-109011...</td>\n",
       "      <td>2021-03-31</td>\n",
       "      <td>109011126937</td>\n",
       "      <td>588.82</td>\n",
       "      <td>NaN</td>\n",
       "      <td>50506.34</td>\n",
       "    </tr>\n",
       "    <tr>\n",
       "      <th>16</th>\n",
       "      <td>2021-03-29</td>\n",
       "      <td>POS 416021XXXXXX2221 BLUETOKAI COFFEE</td>\n",
       "      <td>2021-03-29</td>\n",
       "      <td>108812592346</td>\n",
       "      <td>370.00</td>\n",
       "      <td>NaN</td>\n",
       "      <td>51095.16</td>\n",
       "    </tr>\n",
       "    <tr>\n",
       "      <th>17</th>\n",
       "      <td>2021-03-29</td>\n",
       "      <td>UPI-PUNITH C-punithcgowda740-2@okicici-ICIC000...</td>\n",
       "      <td>2021-03-29</td>\n",
       "      <td>108814778271</td>\n",
       "      <td>1000.00</td>\n",
       "      <td>NaN</td>\n",
       "      <td>51465.16</td>\n",
       "    </tr>\n",
       "    <tr>\n",
       "      <th>18</th>\n",
       "      <td>2021-03-29</td>\n",
       "      <td>NEFT Cr-SBIN0010368-RAO INSULATING COMPANY PRI...</td>\n",
       "      <td>2021-03-29</td>\n",
       "      <td>SBIN221088754138</td>\n",
       "      <td>NaN</td>\n",
       "      <td>30000.0</td>\n",
       "      <td>52465.16</td>\n",
       "    </tr>\n",
       "    <tr>\n",
       "      <th>19</th>\n",
       "      <td>2021-03-19</td>\n",
       "      <td>UPI-KEZIAH MARIA KORAH-keziahko-1@okhdfcbank-C...</td>\n",
       "      <td>2021-03-19</td>\n",
       "      <td>107810329994</td>\n",
       "      <td>NaN</td>\n",
       "      <td>240.0</td>\n",
       "      <td>22465.16</td>\n",
       "    </tr>\n",
       "  </tbody>\n",
       "</table>\n",
       "</div>"
      ],
      "text/plain": [
       "     Txn_Date                                        Description Value_Date  \\\n",
       "0  2021-04-29  NEFT Cr-SBIN0010368-RAO INSULATING COMPANY PRI... 2021-04-29   \n",
       "1  2021-04-29  UPI-Razorpay Software Pr-razor.pay@sbi-SBIN001... 2021-04-29   \n",
       "2  2021-04-28  UPI-razorpay-razorpay@icici-ICIC0000001-111815... 2021-04-28   \n",
       "3  2021-04-27  UPI-lazypay-lazypay.payu@axisbank-UTIB0000000-... 2021-04-27   \n",
       "4  2021-04-22  UPI-PUNITH C-punithcgowda740@okhdfcbank-PYTM01... 2021-04-22   \n",
       "5  2021-04-18  UPI-lazypay-lazypay.payu@axisbank-UTIB0000000-... 2021-04-18   \n",
       "6  2021-04-16  UPI-LAZY PAY-lazypay.payu@hdfcbank-HDFC0000499... 2021-04-16   \n",
       "7  2021-04-15  UPI-JYOTHI VASUDEV ANAND-jvanandaram66@okhdfcb... 2021-04-16   \n",
       "8  2021-04-14  UPI-LAZY PAY-lazypay.payu@hdfcbank-HDFC0000499... 2021-04-14   \n",
       "9  2021-04-14  IMPS-110410843404-PayU Payment Private-HDFC-xx... 2021-04-14   \n",
       "10 2021-07-04  UPI-BHARATH KUMAR R-bharathraj808-1@okaxis-BAR... 2021-07-04   \n",
       "11 2021-07-04  50200055363432-TPT-Capital-MYCAP FINANCIAL TEC... 2021-07-04   \n",
       "12 2021-07-04  RTGS Cr-CNRB0000885-PAVAN G-Ishwar Venkat Gogi... 2021-07-04   \n",
       "13 2021-04-04  UPI-dunzo-dunzo.payu@axisbank-UTIB0000000-1094... 2021-04-04   \n",
       "14 2021-01-04                        Credit Interest Capitalised 2021-03-31   \n",
       "15 2021-03-31  UPI-razorpay-razorpay@icici-ICIC0000001-109011... 2021-03-31   \n",
       "16 2021-03-29              POS 416021XXXXXX2221 BLUETOKAI COFFEE 2021-03-29   \n",
       "17 2021-03-29  UPI-PUNITH C-punithcgowda740-2@okicici-ICIC000... 2021-03-29   \n",
       "18 2021-03-29  NEFT Cr-SBIN0010368-RAO INSULATING COMPANY PRI... 2021-03-29   \n",
       "19 2021-03-19  UPI-KEZIAH MARIA KORAH-keziahko-1@okhdfcbank-C... 2021-03-19   \n",
       "\n",
       "       Ref_No_and_Check_No      Debit    Credit    Balance  \n",
       "0         SBIN421119062694        NaN   30000.0   63661.70  \n",
       "1             111910372620     588.82       NaN   33661.70  \n",
       "2             111815326599     588.82       NaN   34250.52  \n",
       "3             111722088832    3096.00       NaN   34839.34  \n",
       "4             111213624307    2700.00       NaN   37935.34  \n",
       "5             110821046850    1788.00       NaN   40635.34  \n",
       "6             110609687438     379.00       NaN   42423.34  \n",
       "7             110523568403    3000.00       NaN   42802.34  \n",
       "8             110411215936     202.00       NaN   45802.34  \n",
       "9             110410843404        NaN       1.0   46004.34  \n",
       "10            109716830389    2850.00       NaN   46003.34  \n",
       "11               150568331  250000.00       NaN   48853.34  \n",
       "12  CNRBR52021040760170028        NaN  250000.0  298853.34  \n",
       "13            109418446327    2384.00       NaN   48853.34  \n",
       "14                     NaN        NaN     731.0   51237.34  \n",
       "15            109011126937     588.82       NaN   50506.34  \n",
       "16            108812592346     370.00       NaN   51095.16  \n",
       "17            108814778271    1000.00       NaN   51465.16  \n",
       "18        SBIN221088754138        NaN   30000.0   52465.16  \n",
       "19            107810329994        NaN     240.0   22465.16  "
      ]
     },
     "execution_count": 8,
     "metadata": {},
     "output_type": "execute_result"
    }
   ],
   "source": [
    "# First split the value of Ref_No_and_Check_No by \".\", Then get 0th values and Strip all wide space\n",
    "\n",
    "df['Ref_No_and_Check_No'] = df['Ref_No_and_Check_No'].str.split(\".\").str.get(0).str.strip(\" \")\n",
    "df"
   ]
  },
  {
   "cell_type": "markdown",
   "metadata": {},
   "source": [
    "<br>\n",
    "______________________________________________________________________________________________________________________________\n",
    "\n",
    "\n",
    "# Finding Percent of all the Null Values in the Data"
   ]
  },
  {
   "cell_type": "code",
   "execution_count": 9,
   "metadata": {},
   "outputs": [
    {
     "name": "stdout",
     "output_type": "stream",
     "text": [
      "There is no null value in the dataset\n",
      "Returning the dataset...\n"
     ]
    },
    {
     "data": {
      "text/plain": [
       "<matplotlib.axes._subplots.AxesSubplot at 0x273fca10c48>"
      ]
     },
     "execution_count": 9,
     "metadata": {},
     "output_type": "execute_result"
    },
    {
     "data": {
      "image/png": "[encoded data removed]",
      "text/plain": [
       "<Figure size 576x360 with 1 Axes>"
      ]
     },
     "metadata": {
      "needs_background": "light"
     },
     "output_type": "display_data"
    }
   ],
   "source": [
    "def check_null(dataset):\n",
    "    null_per = (dataset.isnull().sum()/len(dataset))*100\n",
    "    \n",
    "    try:\n",
    "        # Dropping columns having null percentages to 0\n",
    "        \n",
    "        mask = (null_per != 0.0)\n",
    "        null_per = null_per[mask].sort_values(ascending=False)\n",
    "        \n",
    "        # Plot Bar of %\n",
    "        \n",
    "        plt.figure(figsize=(8,5))\n",
    "        null_plot = sns.barplot(x = null_per.index, y = null_per)\n",
    "        plt.xtricks(rotation='90')\n",
    "        plt.title(\"Percentage of the null values in the dataset\")\n",
    "        plt.show()\n",
    "        \n",
    "    except:\n",
    "        print(\"There is no null value in the dataset\")\n",
    "        print(\"Returning the dataset...\")\n",
    "    \n",
    "    return null_plot\n",
    "\n",
    "check_null(df)"
   ]
  },
  {
   "cell_type": "markdown",
   "metadata": {},
   "source": [
    "**- OBSERVATION :**\n",
    "    \n",
    "Number of Missing Values in present in the give columns:\n",
    "\n",
    "- *Credit* has the highest number of Null values which is around 70%\n",
    "<br>\n",
    "\n",
    "- *Debit* has the 2nd higest number of Null values which is around 30%\n",
    "<br>\n",
    "\n",
    "- *Ref_No_and_Check_No* has the least amount of Null values which is around 5%\n"
   ]
  },
  {
   "cell_type": "markdown",
   "metadata": {},
   "source": [
    "**Checking the exact Number of Missing values which are present in the following Columns :**"
   ]
  },
  {
   "cell_type": "code",
   "execution_count": 10,
   "metadata": {},
   "outputs": [
    {
     "name": "stdout",
     "output_type": "stream",
     "text": [
      "Information of Null values in Credit Column:\n",
      "\n",
      "NULL values in Numbers: 14\n",
      "NULL values in Percentage: 70.0%\n",
      "\n",
      "--------------------------------------------------\n",
      "Information of Null values in Debit Column:\n",
      "\n",
      "NULL values in Numbers: 6\n",
      "NULL values in Percentage: 30.0%\n",
      "\n",
      "--------------------------------------------------\n",
      "Information of Null values in Ref_No_and_Check_No Column:\n",
      "\n",
      "NULL values in Numbers: 1\n",
      "NULL values in Percentage: 5.0%\n",
      "\n",
      "--------------------------------------------------\n"
     ]
    }
   ],
   "source": [
    "for i in df[['Credit', 'Debit', 'Ref_No_and_Check_No']]:\n",
    "    print(f\"Information of Null values in {i} Column:\\n\")\n",
    "    \n",
    "    # Calculating Number of Missing values\n",
    "    val1 = len(df) - df[i].notnull().sum()\n",
    "    \n",
    "    # Calculating % of Missing values\n",
    "    val2 = ((df[i].isnull().sum()/len(df))*100)\n",
    "    \n",
    "    print(f\"NULL values in Numbers: {val1}\")\n",
    "    print(f\"NULL values in Percentage: {val2}%\\n\")\n",
    "    \n",
    "    print(\"-\"*50)"
   ]
  },
  {
   "cell_type": "markdown",
   "metadata": {},
   "source": [
    "<br>\n",
    "____________________________________________________________________________________________________________________________\n",
    "\n",
    "# Visualizing DateTime format data"
   ]
  },
  {
   "cell_type": "markdown",
   "metadata": {},
   "source": [
    "**- Visualizing the `Txn_Date` Column :**"
   ]
  },
  {
   "cell_type": "code",
   "execution_count": 11,
   "metadata": {},
   "outputs": [
    {
     "data": {
      "image/png": "[encoded data removed]",
      "text/plain": [
       "<Figure size 432x288 with 1 Axes>"
      ]
     },
     "metadata": {
      "needs_background": "light"
     },
     "output_type": "display_data"
    }
   ],
   "source": [
    "plt.plot(df['Txn_Date'])\n",
    "plt.grid(color='k')"
   ]
  },
  {
   "cell_type": "markdown",
   "metadata": {},
   "source": [
    "**- OBSERVATION :**\n",
    "\n",
    "- If we observe here index number 10, 11, and 12 are from month of JULY 2021\n",
    "<br>\n",
    "\n",
    "- And there is a date directly of JAN month"
   ]
  },
  {
   "cell_type": "markdown",
   "metadata": {},
   "source": [
    "**- Visualizing the `Value_Date` Column :**"
   ]
  },
  {
   "cell_type": "code",
   "execution_count": 12,
   "metadata": {},
   "outputs": [
    {
     "data": {
      "image/png": "[encoded data removed]",
      "text/plain": [
       "<Figure size 432x288 with 1 Axes>"
      ]
     },
     "metadata": {
      "needs_background": "light"
     },
     "output_type": "display_data"
    }
   ],
   "source": [
    "plt.plot(df['Value_Date'])\n",
    "plt.grid(color='k')"
   ]
  },
  {
   "cell_type": "markdown",
   "metadata": {},
   "source": [
    "**- OBSERVATION :**\n",
    "\n",
    "- If we observe here index number 10, 11, and 12 are from month of JULY 2021\n",
    "<br>\n",
    "\n",
    "- Here we cant see the sudden depth of the date"
   ]
  },
  {
   "cell_type": "code",
   "execution_count": 13,
   "metadata": {},
   "outputs": [
    {
     "data": {
      "image/png": "[encoded data removed]",
      "text/plain": [
       "<Figure size 432x288 with 1 Axes>"
      ]
     },
     "metadata": {
      "needs_background": "light"
     },
     "output_type": "display_data"
    }
   ],
   "source": [
    "def get_time_plot(data, feature1, feature2):\n",
    "\n",
    "    plt.plot(data[feature1],marker=\"o\",linestyle=\"-\",color='y',linewidth='3',markersize='7',mfc='k',label = feature1)\n",
    "\n",
    "    plt.plot(data[feature2],marker='o',linestyle=\":\",color='b',linewidth='3',markersize='7',mfc='w',label = feature2)\n",
    "\n",
    "\n",
    "    plt.title(\"Txn & Value\",fontsize='15')\n",
    "    plt.ylabel(\"Txn Date\",fontsize='10')\n",
    "    plt.xlabel(\"Values\",fontsize='10')\n",
    "    plt.legend(loc=1)\n",
    "    plt.grid(color='k', linestyle='-',linewidth=1)\n",
    "    plt.show()\n",
    "    \n",
    "get_time_plot(df, 'Txn_Date', 'Value_Date')"
   ]
  },
  {
   "cell_type": "markdown",
   "metadata": {},
   "source": [
    "**- OBSERVATION :**\n",
    "    \n",
    "- Both `Txn_Date` column and `Value_Date` column both are almost overlapping each other.\n",
    "<br>\n",
    "\n",
    "- That means at cretain date the transaction would have reached late."
   ]
  },
  {
   "cell_type": "markdown",
   "metadata": {},
   "source": [
    "<br>\n",
    "_____________________________________________________________________________________________________________________________\n",
    "\n",
    "# Dealing with NaN values "
   ]
  },
  {
   "cell_type": "markdown",
   "metadata": {},
   "source": [
    "*IN THIS INSTEAD OF JUST DROPPING NaN VALUES WE CAN JUST REPLACE IT WITH 0*"
   ]
  },
  {
   "cell_type": "markdown",
   "metadata": {},
   "source": [
    "### Creating dummy column of Debit and Credit where we will handle Null values"
   ]
  },
  {
   "cell_type": "markdown",
   "metadata": {},
   "source": [
    "_____________________________________________________________________________________________________________________________\n",
    "\n",
    "**TASK1 :** REPLACING NAN VALUE AS 0"
   ]
  },
  {
   "cell_type": "code",
   "execution_count": 14,
   "metadata": {},
   "outputs": [],
   "source": [
    "df['new_debit'] = df['Debit']\n",
    "\n",
    "df['new_debit'].fillna(0, axis=0, inplace=True)"
   ]
  },
  {
   "cell_type": "code",
   "execution_count": 15,
   "metadata": {
    "scrolled": false
   },
   "outputs": [
    {
     "data": {
      "text/html": [
       "<div>\n",
       "<style scoped>\n",
       "    .dataframe tbody tr th:only-of-type {\n",
       "        vertical-align: middle;\n",
       "    }\n",
       "\n",
       "    .dataframe tbody tr th {\n",
       "        vertical-align: top;\n",
       "    }\n",
       "\n",
       "    .dataframe thead th {\n",
       "        text-align: right;\n",
       "    }\n",
       "</style>\n",
       "<table border=\"1\" class=\"dataframe\">\n",
       "  <thead>\n",
       "    <tr style=\"text-align: right;\">\n",
       "      <th></th>\n",
       "      <th>Txn_Date</th>\n",
       "      <th>Description</th>\n",
       "      <th>Value_Date</th>\n",
       "      <th>Ref_No_and_Check_No</th>\n",
       "      <th>Debit</th>\n",
       "      <th>Credit</th>\n",
       "      <th>Balance</th>\n",
       "      <th>new_debit</th>\n",
       "    </tr>\n",
       "  </thead>\n",
       "  <tbody>\n",
       "    <tr>\n",
       "      <th>0</th>\n",
       "      <td>2021-04-29</td>\n",
       "      <td>NEFT Cr-SBIN0010368-RAO INSULATING COMPANY PRI...</td>\n",
       "      <td>2021-04-29</td>\n",
       "      <td>SBIN421119062694</td>\n",
       "      <td>NaN</td>\n",
       "      <td>30000.0</td>\n",
       "      <td>63661.70</td>\n",
       "      <td>0.00</td>\n",
       "    </tr>\n",
       "    <tr>\n",
       "      <th>1</th>\n",
       "      <td>2021-04-29</td>\n",
       "      <td>UPI-Razorpay Software Pr-razor.pay@sbi-SBIN001...</td>\n",
       "      <td>2021-04-29</td>\n",
       "      <td>111910372620</td>\n",
       "      <td>588.82</td>\n",
       "      <td>NaN</td>\n",
       "      <td>33661.70</td>\n",
       "      <td>588.82</td>\n",
       "    </tr>\n",
       "    <tr>\n",
       "      <th>2</th>\n",
       "      <td>2021-04-28</td>\n",
       "      <td>UPI-razorpay-razorpay@icici-ICIC0000001-111815...</td>\n",
       "      <td>2021-04-28</td>\n",
       "      <td>111815326599</td>\n",
       "      <td>588.82</td>\n",
       "      <td>NaN</td>\n",
       "      <td>34250.52</td>\n",
       "      <td>588.82</td>\n",
       "    </tr>\n",
       "    <tr>\n",
       "      <th>3</th>\n",
       "      <td>2021-04-27</td>\n",
       "      <td>UPI-lazypay-lazypay.payu@axisbank-UTIB0000000-...</td>\n",
       "      <td>2021-04-27</td>\n",
       "      <td>111722088832</td>\n",
       "      <td>3096.00</td>\n",
       "      <td>NaN</td>\n",
       "      <td>34839.34</td>\n",
       "      <td>3096.00</td>\n",
       "    </tr>\n",
       "    <tr>\n",
       "      <th>4</th>\n",
       "      <td>2021-04-22</td>\n",
       "      <td>UPI-PUNITH C-punithcgowda740@okhdfcbank-PYTM01...</td>\n",
       "      <td>2021-04-22</td>\n",
       "      <td>111213624307</td>\n",
       "      <td>2700.00</td>\n",
       "      <td>NaN</td>\n",
       "      <td>37935.34</td>\n",
       "      <td>2700.00</td>\n",
       "    </tr>\n",
       "    <tr>\n",
       "      <th>5</th>\n",
       "      <td>2021-04-18</td>\n",
       "      <td>UPI-lazypay-lazypay.payu@axisbank-UTIB0000000-...</td>\n",
       "      <td>2021-04-18</td>\n",
       "      <td>110821046850</td>\n",
       "      <td>1788.00</td>\n",
       "      <td>NaN</td>\n",
       "      <td>40635.34</td>\n",
       "      <td>1788.00</td>\n",
       "    </tr>\n",
       "    <tr>\n",
       "      <th>6</th>\n",
       "      <td>2021-04-16</td>\n",
       "      <td>UPI-LAZY PAY-lazypay.payu@hdfcbank-HDFC0000499...</td>\n",
       "      <td>2021-04-16</td>\n",
       "      <td>110609687438</td>\n",
       "      <td>379.00</td>\n",
       "      <td>NaN</td>\n",
       "      <td>42423.34</td>\n",
       "      <td>379.00</td>\n",
       "    </tr>\n",
       "    <tr>\n",
       "      <th>7</th>\n",
       "      <td>2021-04-15</td>\n",
       "      <td>UPI-JYOTHI VASUDEV ANAND-jvanandaram66@okhdfcb...</td>\n",
       "      <td>2021-04-16</td>\n",
       "      <td>110523568403</td>\n",
       "      <td>3000.00</td>\n",
       "      <td>NaN</td>\n",
       "      <td>42802.34</td>\n",
       "      <td>3000.00</td>\n",
       "    </tr>\n",
       "    <tr>\n",
       "      <th>8</th>\n",
       "      <td>2021-04-14</td>\n",
       "      <td>UPI-LAZY PAY-lazypay.payu@hdfcbank-HDFC0000499...</td>\n",
       "      <td>2021-04-14</td>\n",
       "      <td>110411215936</td>\n",
       "      <td>202.00</td>\n",
       "      <td>NaN</td>\n",
       "      <td>45802.34</td>\n",
       "      <td>202.00</td>\n",
       "    </tr>\n",
       "    <tr>\n",
       "      <th>9</th>\n",
       "      <td>2021-04-14</td>\n",
       "      <td>IMPS-110410843404-PayU Payment Private-HDFC-xx...</td>\n",
       "      <td>2021-04-14</td>\n",
       "      <td>110410843404</td>\n",
       "      <td>NaN</td>\n",
       "      <td>1.0</td>\n",
       "      <td>46004.34</td>\n",
       "      <td>0.00</td>\n",
       "    </tr>\n",
       "    <tr>\n",
       "      <th>10</th>\n",
       "      <td>2021-07-04</td>\n",
       "      <td>UPI-BHARATH KUMAR R-bharathraj808-1@okaxis-BAR...</td>\n",
       "      <td>2021-07-04</td>\n",
       "      <td>109716830389</td>\n",
       "      <td>2850.00</td>\n",
       "      <td>NaN</td>\n",
       "      <td>46003.34</td>\n",
       "      <td>2850.00</td>\n",
       "    </tr>\n",
       "    <tr>\n",
       "      <th>11</th>\n",
       "      <td>2021-07-04</td>\n",
       "      <td>50200055363432-TPT-Capital-MYCAP FINANCIAL TEC...</td>\n",
       "      <td>2021-07-04</td>\n",
       "      <td>150568331</td>\n",
       "      <td>250000.00</td>\n",
       "      <td>NaN</td>\n",
       "      <td>48853.34</td>\n",
       "      <td>250000.00</td>\n",
       "    </tr>\n",
       "    <tr>\n",
       "      <th>12</th>\n",
       "      <td>2021-07-04</td>\n",
       "      <td>RTGS Cr-CNRB0000885-PAVAN G-Ishwar Venkat Gogi...</td>\n",
       "      <td>2021-07-04</td>\n",
       "      <td>CNRBR52021040760170028</td>\n",
       "      <td>NaN</td>\n",
       "      <td>250000.0</td>\n",
       "      <td>298853.34</td>\n",
       "      <td>0.00</td>\n",
       "    </tr>\n",
       "    <tr>\n",
       "      <th>13</th>\n",
       "      <td>2021-04-04</td>\n",
       "      <td>UPI-dunzo-dunzo.payu@axisbank-UTIB0000000-1094...</td>\n",
       "      <td>2021-04-04</td>\n",
       "      <td>109418446327</td>\n",
       "      <td>2384.00</td>\n",
       "      <td>NaN</td>\n",
       "      <td>48853.34</td>\n",
       "      <td>2384.00</td>\n",
       "    </tr>\n",
       "    <tr>\n",
       "      <th>14</th>\n",
       "      <td>2021-01-04</td>\n",
       "      <td>Credit Interest Capitalised</td>\n",
       "      <td>2021-03-31</td>\n",
       "      <td>NaN</td>\n",
       "      <td>NaN</td>\n",
       "      <td>731.0</td>\n",
       "      <td>51237.34</td>\n",
       "      <td>0.00</td>\n",
       "    </tr>\n",
       "    <tr>\n",
       "      <th>15</th>\n",
       "      <td>2021-03-31</td>\n",
       "      <td>UPI-razorpay-razorpay@icici-ICIC0000001-109011...</td>\n",
       "      <td>2021-03-31</td>\n",
       "      <td>109011126937</td>\n",
       "      <td>588.82</td>\n",
       "      <td>NaN</td>\n",
       "      <td>50506.34</td>\n",
       "      <td>588.82</td>\n",
       "    </tr>\n",
       "    <tr>\n",
       "      <th>16</th>\n",
       "      <td>2021-03-29</td>\n",
       "      <td>POS 416021XXXXXX2221 BLUETOKAI COFFEE</td>\n",
       "      <td>2021-03-29</td>\n",
       "      <td>108812592346</td>\n",
       "      <td>370.00</td>\n",
       "      <td>NaN</td>\n",
       "      <td>51095.16</td>\n",
       "      <td>370.00</td>\n",
       "    </tr>\n",
       "    <tr>\n",
       "      <th>17</th>\n",
       "      <td>2021-03-29</td>\n",
       "      <td>UPI-PUNITH C-punithcgowda740-2@okicici-ICIC000...</td>\n",
       "      <td>2021-03-29</td>\n",
       "      <td>108814778271</td>\n",
       "      <td>1000.00</td>\n",
       "      <td>NaN</td>\n",
       "      <td>51465.16</td>\n",
       "      <td>1000.00</td>\n",
       "    </tr>\n",
       "    <tr>\n",
       "      <th>18</th>\n",
       "      <td>2021-03-29</td>\n",
       "      <td>NEFT Cr-SBIN0010368-RAO INSULATING COMPANY PRI...</td>\n",
       "      <td>2021-03-29</td>\n",
       "      <td>SBIN221088754138</td>\n",
       "      <td>NaN</td>\n",
       "      <td>30000.0</td>\n",
       "      <td>52465.16</td>\n",
       "      <td>0.00</td>\n",
       "    </tr>\n",
       "    <tr>\n",
       "      <th>19</th>\n",
       "      <td>2021-03-19</td>\n",
       "      <td>UPI-KEZIAH MARIA KORAH-keziahko-1@okhdfcbank-C...</td>\n",
       "      <td>2021-03-19</td>\n",
       "      <td>107810329994</td>\n",
       "      <td>NaN</td>\n",
       "      <td>240.0</td>\n",
       "      <td>22465.16</td>\n",
       "      <td>0.00</td>\n",
       "    </tr>\n",
       "  </tbody>\n",
       "</table>\n",
       "</div>"
      ],
      "text/plain": [
       "     Txn_Date                                        Description Value_Date  \\\n",
       "0  2021-04-29  NEFT Cr-SBIN0010368-RAO INSULATING COMPANY PRI... 2021-04-29   \n",
       "1  2021-04-29  UPI-Razorpay Software Pr-razor.pay@sbi-SBIN001... 2021-04-29   \n",
       "2  2021-04-28  UPI-razorpay-razorpay@icici-ICIC0000001-111815... 2021-04-28   \n",
       "3  2021-04-27  UPI-lazypay-lazypay.payu@axisbank-UTIB0000000-... 2021-04-27   \n",
       "4  2021-04-22  UPI-PUNITH C-punithcgowda740@okhdfcbank-PYTM01... 2021-04-22   \n",
       "5  2021-04-18  UPI-lazypay-lazypay.payu@axisbank-UTIB0000000-... 2021-04-18   \n",
       "6  2021-04-16  UPI-LAZY PAY-lazypay.payu@hdfcbank-HDFC0000499... 2021-04-16   \n",
       "7  2021-04-15  UPI-JYOTHI VASUDEV ANAND-jvanandaram66@okhdfcb... 2021-04-16   \n",
       "8  2021-04-14  UPI-LAZY PAY-lazypay.payu@hdfcbank-HDFC0000499... 2021-04-14   \n",
       "9  2021-04-14  IMPS-110410843404-PayU Payment Private-HDFC-xx... 2021-04-14   \n",
       "10 2021-07-04  UPI-BHARATH KUMAR R-bharathraj808-1@okaxis-BAR... 2021-07-04   \n",
       "11 2021-07-04  50200055363432-TPT-Capital-MYCAP FINANCIAL TEC... 2021-07-04   \n",
       "12 2021-07-04  RTGS Cr-CNRB0000885-PAVAN G-Ishwar Venkat Gogi... 2021-07-04   \n",
       "13 2021-04-04  UPI-dunzo-dunzo.payu@axisbank-UTIB0000000-1094... 2021-04-04   \n",
       "14 2021-01-04                        Credit Interest Capitalised 2021-03-31   \n",
       "15 2021-03-31  UPI-razorpay-razorpay@icici-ICIC0000001-109011... 2021-03-31   \n",
       "16 2021-03-29              POS 416021XXXXXX2221 BLUETOKAI COFFEE 2021-03-29   \n",
       "17 2021-03-29  UPI-PUNITH C-punithcgowda740-2@okicici-ICIC000... 2021-03-29   \n",
       "18 2021-03-29  NEFT Cr-SBIN0010368-RAO INSULATING COMPANY PRI... 2021-03-29   \n",
       "19 2021-03-19  UPI-KEZIAH MARIA KORAH-keziahko-1@okhdfcbank-C... 2021-03-19   \n",
       "\n",
       "       Ref_No_and_Check_No      Debit    Credit    Balance  new_debit  \n",
       "0         SBIN421119062694        NaN   30000.0   63661.70       0.00  \n",
       "1             111910372620     588.82       NaN   33661.70     588.82  \n",
       "2             111815326599     588.82       NaN   34250.52     588.82  \n",
       "3             111722088832    3096.00       NaN   34839.34    3096.00  \n",
       "4             111213624307    2700.00       NaN   37935.34    2700.00  \n",
       "5             110821046850    1788.00       NaN   40635.34    1788.00  \n",
       "6             110609687438     379.00       NaN   42423.34     379.00  \n",
       "7             110523568403    3000.00       NaN   42802.34    3000.00  \n",
       "8             110411215936     202.00       NaN   45802.34     202.00  \n",
       "9             110410843404        NaN       1.0   46004.34       0.00  \n",
       "10            109716830389    2850.00       NaN   46003.34    2850.00  \n",
       "11               150568331  250000.00       NaN   48853.34  250000.00  \n",
       "12  CNRBR52021040760170028        NaN  250000.0  298853.34       0.00  \n",
       "13            109418446327    2384.00       NaN   48853.34    2384.00  \n",
       "14                     NaN        NaN     731.0   51237.34       0.00  \n",
       "15            109011126937     588.82       NaN   50506.34     588.82  \n",
       "16            108812592346     370.00       NaN   51095.16     370.00  \n",
       "17            108814778271    1000.00       NaN   51465.16    1000.00  \n",
       "18        SBIN221088754138        NaN   30000.0   52465.16       0.00  \n",
       "19            107810329994        NaN     240.0   22465.16       0.00  "
      ]
     },
     "execution_count": 15,
     "metadata": {},
     "output_type": "execute_result"
    }
   ],
   "source": [
    "df"
   ]
  },
  {
   "cell_type": "markdown",
   "metadata": {},
   "source": [
    "\n",
    "**TASK2 :** REPLACING NAN VALUE WITH 0"
   ]
  },
  {
   "cell_type": "code",
   "execution_count": 16,
   "metadata": {},
   "outputs": [],
   "source": [
    "df['new_credit'] = df['Credit']\n",
    "\n",
    "df['new_credit'].fillna(0, axis=0, inplace=True)"
   ]
  },
  {
   "cell_type": "code",
   "execution_count": 17,
   "metadata": {
    "scrolled": false
   },
   "outputs": [
    {
     "data": {
      "text/html": [
       "<div>\n",
       "<style scoped>\n",
       "    .dataframe tbody tr th:only-of-type {\n",
       "        vertical-align: middle;\n",
       "    }\n",
       "\n",
       "    .dataframe tbody tr th {\n",
       "        vertical-align: top;\n",
       "    }\n",
       "\n",
       "    .dataframe thead th {\n",
       "        text-align: right;\n",
       "    }\n",
       "</style>\n",
       "<table border=\"1\" class=\"dataframe\">\n",
       "  <thead>\n",
       "    <tr style=\"text-align: right;\">\n",
       "      <th></th>\n",
       "      <th>Txn_Date</th>\n",
       "      <th>Description</th>\n",
       "      <th>Value_Date</th>\n",
       "      <th>Ref_No_and_Check_No</th>\n",
       "      <th>Debit</th>\n",
       "      <th>Credit</th>\n",
       "      <th>Balance</th>\n",
       "      <th>new_debit</th>\n",
       "      <th>new_credit</th>\n",
       "    </tr>\n",
       "  </thead>\n",
       "  <tbody>\n",
       "    <tr>\n",
       "      <th>0</th>\n",
       "      <td>2021-04-29</td>\n",
       "      <td>NEFT Cr-SBIN0010368-RAO INSULATING COMPANY PRI...</td>\n",
       "      <td>2021-04-29</td>\n",
       "      <td>SBIN421119062694</td>\n",
       "      <td>NaN</td>\n",
       "      <td>30000.0</td>\n",
       "      <td>63661.70</td>\n",
       "      <td>0.00</td>\n",
       "      <td>30000.0</td>\n",
       "    </tr>\n",
       "    <tr>\n",
       "      <th>1</th>\n",
       "      <td>2021-04-29</td>\n",
       "      <td>UPI-Razorpay Software Pr-razor.pay@sbi-SBIN001...</td>\n",
       "      <td>2021-04-29</td>\n",
       "      <td>111910372620</td>\n",
       "      <td>588.82</td>\n",
       "      <td>NaN</td>\n",
       "      <td>33661.70</td>\n",
       "      <td>588.82</td>\n",
       "      <td>0.0</td>\n",
       "    </tr>\n",
       "    <tr>\n",
       "      <th>2</th>\n",
       "      <td>2021-04-28</td>\n",
       "      <td>UPI-razorpay-razorpay@icici-ICIC0000001-111815...</td>\n",
       "      <td>2021-04-28</td>\n",
       "      <td>111815326599</td>\n",
       "      <td>588.82</td>\n",
       "      <td>NaN</td>\n",
       "      <td>34250.52</td>\n",
       "      <td>588.82</td>\n",
       "      <td>0.0</td>\n",
       "    </tr>\n",
       "    <tr>\n",
       "      <th>3</th>\n",
       "      <td>2021-04-27</td>\n",
       "      <td>UPI-lazypay-lazypay.payu@axisbank-UTIB0000000-...</td>\n",
       "      <td>2021-04-27</td>\n",
       "      <td>111722088832</td>\n",
       "      <td>3096.00</td>\n",
       "      <td>NaN</td>\n",
       "      <td>34839.34</td>\n",
       "      <td>3096.00</td>\n",
       "      <td>0.0</td>\n",
       "    </tr>\n",
       "    <tr>\n",
       "      <th>4</th>\n",
       "      <td>2021-04-22</td>\n",
       "      <td>UPI-PUNITH C-punithcgowda740@okhdfcbank-PYTM01...</td>\n",
       "      <td>2021-04-22</td>\n",
       "      <td>111213624307</td>\n",
       "      <td>2700.00</td>\n",
       "      <td>NaN</td>\n",
       "      <td>37935.34</td>\n",
       "      <td>2700.00</td>\n",
       "      <td>0.0</td>\n",
       "    </tr>\n",
       "    <tr>\n",
       "      <th>5</th>\n",
       "      <td>2021-04-18</td>\n",
       "      <td>UPI-lazypay-lazypay.payu@axisbank-UTIB0000000-...</td>\n",
       "      <td>2021-04-18</td>\n",
       "      <td>110821046850</td>\n",
       "      <td>1788.00</td>\n",
       "      <td>NaN</td>\n",
       "      <td>40635.34</td>\n",
       "      <td>1788.00</td>\n",
       "      <td>0.0</td>\n",
       "    </tr>\n",
       "    <tr>\n",
       "      <th>6</th>\n",
       "      <td>2021-04-16</td>\n",
       "      <td>UPI-LAZY PAY-lazypay.payu@hdfcbank-HDFC0000499...</td>\n",
       "      <td>2021-04-16</td>\n",
       "      <td>110609687438</td>\n",
       "      <td>379.00</td>\n",
       "      <td>NaN</td>\n",
       "      <td>42423.34</td>\n",
       "      <td>379.00</td>\n",
       "      <td>0.0</td>\n",
       "    </tr>\n",
       "    <tr>\n",
       "      <th>7</th>\n",
       "      <td>2021-04-15</td>\n",
       "      <td>UPI-JYOTHI VASUDEV ANAND-jvanandaram66@okhdfcb...</td>\n",
       "      <td>2021-04-16</td>\n",
       "      <td>110523568403</td>\n",
       "      <td>3000.00</td>\n",
       "      <td>NaN</td>\n",
       "      <td>42802.34</td>\n",
       "      <td>3000.00</td>\n",
       "      <td>0.0</td>\n",
       "    </tr>\n",
       "    <tr>\n",
       "      <th>8</th>\n",
       "      <td>2021-04-14</td>\n",
       "      <td>UPI-LAZY PAY-lazypay.payu@hdfcbank-HDFC0000499...</td>\n",
       "      <td>2021-04-14</td>\n",
       "      <td>110411215936</td>\n",
       "      <td>202.00</td>\n",
       "      <td>NaN</td>\n",
       "      <td>45802.34</td>\n",
       "      <td>202.00</td>\n",
       "      <td>0.0</td>\n",
       "    </tr>\n",
       "    <tr>\n",
       "      <th>9</th>\n",
       "      <td>2021-04-14</td>\n",
       "      <td>IMPS-110410843404-PayU Payment Private-HDFC-xx...</td>\n",
       "      <td>2021-04-14</td>\n",
       "      <td>110410843404</td>\n",
       "      <td>NaN</td>\n",
       "      <td>1.0</td>\n",
       "      <td>46004.34</td>\n",
       "      <td>0.00</td>\n",
       "      <td>1.0</td>\n",
       "    </tr>\n",
       "    <tr>\n",
       "      <th>10</th>\n",
       "      <td>2021-07-04</td>\n",
       "      <td>UPI-BHARATH KUMAR R-bharathraj808-1@okaxis-BAR...</td>\n",
       "      <td>2021-07-04</td>\n",
       "      <td>109716830389</td>\n",
       "      <td>2850.00</td>\n",
       "      <td>NaN</td>\n",
       "      <td>46003.34</td>\n",
       "      <td>2850.00</td>\n",
       "      <td>0.0</td>\n",
       "    </tr>\n",
       "    <tr>\n",
       "      <th>11</th>\n",
       "      <td>2021-07-04</td>\n",
       "      <td>50200055363432-TPT-Capital-MYCAP FINANCIAL TEC...</td>\n",
       "      <td>2021-07-04</td>\n",
       "      <td>150568331</td>\n",
       "      <td>250000.00</td>\n",
       "      <td>NaN</td>\n",
       "      <td>48853.34</td>\n",
       "      <td>250000.00</td>\n",
       "      <td>0.0</td>\n",
       "    </tr>\n",
       "    <tr>\n",
       "      <th>12</th>\n",
       "      <td>2021-07-04</td>\n",
       "      <td>RTGS Cr-CNRB0000885-PAVAN G-Ishwar Venkat Gogi...</td>\n",
       "      <td>2021-07-04</td>\n",
       "      <td>CNRBR52021040760170028</td>\n",
       "      <td>NaN</td>\n",
       "      <td>250000.0</td>\n",
       "      <td>298853.34</td>\n",
       "      <td>0.00</td>\n",
       "      <td>250000.0</td>\n",
       "    </tr>\n",
       "    <tr>\n",
       "      <th>13</th>\n",
       "      <td>2021-04-04</td>\n",
       "      <td>UPI-dunzo-dunzo.payu@axisbank-UTIB0000000-1094...</td>\n",
       "      <td>2021-04-04</td>\n",
       "      <td>109418446327</td>\n",
       "      <td>2384.00</td>\n",
       "      <td>NaN</td>\n",
       "      <td>48853.34</td>\n",
       "      <td>2384.00</td>\n",
       "      <td>0.0</td>\n",
       "    </tr>\n",
       "    <tr>\n",
       "      <th>14</th>\n",
       "      <td>2021-01-04</td>\n",
       "      <td>Credit Interest Capitalised</td>\n",
       "      <td>2021-03-31</td>\n",
       "      <td>NaN</td>\n",
       "      <td>NaN</td>\n",
       "      <td>731.0</td>\n",
       "      <td>51237.34</td>\n",
       "      <td>0.00</td>\n",
       "      <td>731.0</td>\n",
       "    </tr>\n",
       "    <tr>\n",
       "      <th>15</th>\n",
       "      <td>2021-03-31</td>\n",
       "      <td>UPI-razorpay-razorpay@icici-ICIC0000001-109011...</td>\n",
       "      <td>2021-03-31</td>\n",
       "      <td>109011126937</td>\n",
       "      <td>588.82</td>\n",
       "      <td>NaN</td>\n",
       "      <td>50506.34</td>\n",
       "      <td>588.82</td>\n",
       "      <td>0.0</td>\n",
       "    </tr>\n",
       "    <tr>\n",
       "      <th>16</th>\n",
       "      <td>2021-03-29</td>\n",
       "      <td>POS 416021XXXXXX2221 BLUETOKAI COFFEE</td>\n",
       "      <td>2021-03-29</td>\n",
       "      <td>108812592346</td>\n",
       "      <td>370.00</td>\n",
       "      <td>NaN</td>\n",
       "      <td>51095.16</td>\n",
       "      <td>370.00</td>\n",
       "      <td>0.0</td>\n",
       "    </tr>\n",
       "    <tr>\n",
       "      <th>17</th>\n",
       "      <td>2021-03-29</td>\n",
       "      <td>UPI-PUNITH C-punithcgowda740-2@okicici-ICIC000...</td>\n",
       "      <td>2021-03-29</td>\n",
       "      <td>108814778271</td>\n",
       "      <td>1000.00</td>\n",
       "      <td>NaN</td>\n",
       "      <td>51465.16</td>\n",
       "      <td>1000.00</td>\n",
       "      <td>0.0</td>\n",
       "    </tr>\n",
       "    <tr>\n",
       "      <th>18</th>\n",
       "      <td>2021-03-29</td>\n",
       "      <td>NEFT Cr-SBIN0010368-RAO INSULATING COMPANY PRI...</td>\n",
       "      <td>2021-03-29</td>\n",
       "      <td>SBIN221088754138</td>\n",
       "      <td>NaN</td>\n",
       "      <td>30000.0</td>\n",
       "      <td>52465.16</td>\n",
       "      <td>0.00</td>\n",
       "      <td>30000.0</td>\n",
       "    </tr>\n",
       "    <tr>\n",
       "      <th>19</th>\n",
       "      <td>2021-03-19</td>\n",
       "      <td>UPI-KEZIAH MARIA KORAH-keziahko-1@okhdfcbank-C...</td>\n",
       "      <td>2021-03-19</td>\n",
       "      <td>107810329994</td>\n",
       "      <td>NaN</td>\n",
       "      <td>240.0</td>\n",
       "      <td>22465.16</td>\n",
       "      <td>0.00</td>\n",
       "      <td>240.0</td>\n",
       "    </tr>\n",
       "  </tbody>\n",
       "</table>\n",
       "</div>"
      ],
      "text/plain": [
       "     Txn_Date                                        Description Value_Date  \\\n",
       "0  2021-04-29  NEFT Cr-SBIN0010368-RAO INSULATING COMPANY PRI... 2021-04-29   \n",
       "1  2021-04-29  UPI-Razorpay Software Pr-razor.pay@sbi-SBIN001... 2021-04-29   \n",
       "2  2021-04-28  UPI-razorpay-razorpay@icici-ICIC0000001-111815... 2021-04-28   \n",
       "3  2021-04-27  UPI-lazypay-lazypay.payu@axisbank-UTIB0000000-... 2021-04-27   \n",
       "4  2021-04-22  UPI-PUNITH C-punithcgowda740@okhdfcbank-PYTM01... 2021-04-22   \n",
       "5  2021-04-18  UPI-lazypay-lazypay.payu@axisbank-UTIB0000000-... 2021-04-18   \n",
       "6  2021-04-16  UPI-LAZY PAY-lazypay.payu@hdfcbank-HDFC0000499... 2021-04-16   \n",
       "7  2021-04-15  UPI-JYOTHI VASUDEV ANAND-jvanandaram66@okhdfcb... 2021-04-16   \n",
       "8  2021-04-14  UPI-LAZY PAY-lazypay.payu@hdfcbank-HDFC0000499... 2021-04-14   \n",
       "9  2021-04-14  IMPS-110410843404-PayU Payment Private-HDFC-xx... 2021-04-14   \n",
       "10 2021-07-04  UPI-BHARATH KUMAR R-bharathraj808-1@okaxis-BAR... 2021-07-04   \n",
       "11 2021-07-04  50200055363432-TPT-Capital-MYCAP FINANCIAL TEC... 2021-07-04   \n",
       "12 2021-07-04  RTGS Cr-CNRB0000885-PAVAN G-Ishwar Venkat Gogi... 2021-07-04   \n",
       "13 2021-04-04  UPI-dunzo-dunzo.payu@axisbank-UTIB0000000-1094... 2021-04-04   \n",
       "14 2021-01-04                        Credit Interest Capitalised 2021-03-31   \n",
       "15 2021-03-31  UPI-razorpay-razorpay@icici-ICIC0000001-109011... 2021-03-31   \n",
       "16 2021-03-29              POS 416021XXXXXX2221 BLUETOKAI COFFEE 2021-03-29   \n",
       "17 2021-03-29  UPI-PUNITH C-punithcgowda740-2@okicici-ICIC000... 2021-03-29   \n",
       "18 2021-03-29  NEFT Cr-SBIN0010368-RAO INSULATING COMPANY PRI... 2021-03-29   \n",
       "19 2021-03-19  UPI-KEZIAH MARIA KORAH-keziahko-1@okhdfcbank-C... 2021-03-19   \n",
       "\n",
       "       Ref_No_and_Check_No      Debit    Credit    Balance  new_debit  \\\n",
       "0         SBIN421119062694        NaN   30000.0   63661.70       0.00   \n",
       "1             111910372620     588.82       NaN   33661.70     588.82   \n",
       "2             111815326599     588.82       NaN   34250.52     588.82   \n",
       "3             111722088832    3096.00       NaN   34839.34    3096.00   \n",
       "4             111213624307    2700.00       NaN   37935.34    2700.00   \n",
       "5             110821046850    1788.00       NaN   40635.34    1788.00   \n",
       "6             110609687438     379.00       NaN   42423.34     379.00   \n",
       "7             110523568403    3000.00       NaN   42802.34    3000.00   \n",
       "8             110411215936     202.00       NaN   45802.34     202.00   \n",
       "9             110410843404        NaN       1.0   46004.34       0.00   \n",
       "10            109716830389    2850.00       NaN   46003.34    2850.00   \n",
       "11               150568331  250000.00       NaN   48853.34  250000.00   \n",
       "12  CNRBR52021040760170028        NaN  250000.0  298853.34       0.00   \n",
       "13            109418446327    2384.00       NaN   48853.34    2384.00   \n",
       "14                     NaN        NaN     731.0   51237.34       0.00   \n",
       "15            109011126937     588.82       NaN   50506.34     588.82   \n",
       "16            108812592346     370.00       NaN   51095.16     370.00   \n",
       "17            108814778271    1000.00       NaN   51465.16    1000.00   \n",
       "18        SBIN221088754138        NaN   30000.0   52465.16       0.00   \n",
       "19            107810329994        NaN     240.0   22465.16       0.00   \n",
       "\n",
       "    new_credit  \n",
       "0      30000.0  \n",
       "1          0.0  \n",
       "2          0.0  \n",
       "3          0.0  \n",
       "4          0.0  \n",
       "5          0.0  \n",
       "6          0.0  \n",
       "7          0.0  \n",
       "8          0.0  \n",
       "9          1.0  \n",
       "10         0.0  \n",
       "11         0.0  \n",
       "12    250000.0  \n",
       "13         0.0  \n",
       "14       731.0  \n",
       "15         0.0  \n",
       "16         0.0  \n",
       "17         0.0  \n",
       "18     30000.0  \n",
       "19       240.0  "
      ]
     },
     "execution_count": 17,
     "metadata": {},
     "output_type": "execute_result"
    }
   ],
   "source": [
    "df"
   ]
  },
  {
   "cell_type": "markdown",
   "metadata": {},
   "source": [
    "<br>\n",
    "______________________________________________________________________________________________________________________________\n",
    "\n",
    "\n",
    "# Understanding `new_debit` & `new_credit`"
   ]
  },
  {
   "cell_type": "code",
   "execution_count": 18,
   "metadata": {},
   "outputs": [
    {
     "data": {
      "image/png": "[encoded data removed]",
      "text/plain": [
       "<Figure size 432x288 with 1 Axes>"
      ]
     },
     "metadata": {
      "needs_background": "light"
     },
     "output_type": "display_data"
    }
   ],
   "source": [
    "# Balance Graph:\n",
    "\n",
    "plt.plot(df['Balance'])\n",
    "plt.grid(color='k')"
   ]
  },
  {
   "cell_type": "markdown",
   "metadata": {},
   "source": [
    "**- OBSERVATION :**\n",
    "    \n",
    "- There is a suddend spike at balance 300000"
   ]
  },
  {
   "cell_type": "code",
   "execution_count": 19,
   "metadata": {},
   "outputs": [
    {
     "data": {
      "image/png": "[encoded data removed]",
      "text/plain": [
       "<Figure size 432x288 with 1 Axes>"
      ]
     },
     "metadata": {
      "needs_background": "light"
     },
     "output_type": "display_data"
    }
   ],
   "source": [
    "# new_debit Graph:\n",
    "\n",
    "plt.plot(df['new_debit'],color=\"brown\")\n",
    "plt.grid(color='k')"
   ]
  },
  {
   "cell_type": "markdown",
   "metadata": {},
   "source": [
    "**- OBSERVATION :**\n",
    "    \n",
    "- Sudden spike of 250000 as some where around 11"
   ]
  },
  {
   "cell_type": "code",
   "execution_count": 20,
   "metadata": {},
   "outputs": [
    {
     "data": {
      "image/png": "[encoded data removed]",
      "text/plain": [
       "<Figure size 432x288 with 1 Axes>"
      ]
     },
     "metadata": {
      "needs_background": "light"
     },
     "output_type": "display_data"
    }
   ],
   "source": [
    "# new_credit Graph:\n",
    "\n",
    "plt.plot(df['new_credit'], color='green')\n",
    "plt.grid(color='k')"
   ]
  },
  {
   "cell_type": "markdown",
   "metadata": {},
   "source": [
    "**- OBSERVATION :**\n",
    "    \n",
    "- Sudden spike of 250000 as some where around 11 and small spike at 18"
   ]
  },
  {
   "cell_type": "markdown",
   "metadata": {},
   "source": [
    "<br>\n",
    "______________________________________________________________________________________________________________________________\n",
    "\n",
    "\n",
    "# Understanding relation `Description` & `Ref_No_and_Check_No`"
   ]
  },
  {
   "cell_type": "code",
   "execution_count": 21,
   "metadata": {},
   "outputs": [
    {
     "data": {
      "text/html": [
       "<div>\n",
       "<style scoped>\n",
       "    .dataframe tbody tr th:only-of-type {\n",
       "        vertical-align: middle;\n",
       "    }\n",
       "\n",
       "    .dataframe tbody tr th {\n",
       "        vertical-align: top;\n",
       "    }\n",
       "\n",
       "    .dataframe thead th {\n",
       "        text-align: right;\n",
       "    }\n",
       "</style>\n",
       "<table border=\"1\" class=\"dataframe\">\n",
       "  <thead>\n",
       "    <tr style=\"text-align: right;\">\n",
       "      <th></th>\n",
       "      <th>Description</th>\n",
       "      <th>Ref_No_and_Check_No</th>\n",
       "    </tr>\n",
       "  </thead>\n",
       "  <tbody>\n",
       "    <tr>\n",
       "      <th>0</th>\n",
       "      <td>NEFT Cr-SBIN0010368-RAO INSULATING COMPANY PRI...</td>\n",
       "      <td>SBIN421119062694</td>\n",
       "    </tr>\n",
       "    <tr>\n",
       "      <th>1</th>\n",
       "      <td>UPI-Razorpay Software Pr-razor.pay@sbi-SBIN001...</td>\n",
       "      <td>111910372620</td>\n",
       "    </tr>\n",
       "    <tr>\n",
       "      <th>2</th>\n",
       "      <td>UPI-razorpay-razorpay@icici-ICIC0000001-111815...</td>\n",
       "      <td>111815326599</td>\n",
       "    </tr>\n",
       "    <tr>\n",
       "      <th>3</th>\n",
       "      <td>UPI-lazypay-lazypay.payu@axisbank-UTIB0000000-...</td>\n",
       "      <td>111722088832</td>\n",
       "    </tr>\n",
       "    <tr>\n",
       "      <th>4</th>\n",
       "      <td>UPI-PUNITH C-punithcgowda740@okhdfcbank-PYTM01...</td>\n",
       "      <td>111213624307</td>\n",
       "    </tr>\n",
       "    <tr>\n",
       "      <th>5</th>\n",
       "      <td>UPI-lazypay-lazypay.payu@axisbank-UTIB0000000-...</td>\n",
       "      <td>110821046850</td>\n",
       "    </tr>\n",
       "    <tr>\n",
       "      <th>6</th>\n",
       "      <td>UPI-LAZY PAY-lazypay.payu@hdfcbank-HDFC0000499...</td>\n",
       "      <td>110609687438</td>\n",
       "    </tr>\n",
       "    <tr>\n",
       "      <th>7</th>\n",
       "      <td>UPI-JYOTHI VASUDEV ANAND-jvanandaram66@okhdfcb...</td>\n",
       "      <td>110523568403</td>\n",
       "    </tr>\n",
       "    <tr>\n",
       "      <th>8</th>\n",
       "      <td>UPI-LAZY PAY-lazypay.payu@hdfcbank-HDFC0000499...</td>\n",
       "      <td>110411215936</td>\n",
       "    </tr>\n",
       "    <tr>\n",
       "      <th>9</th>\n",
       "      <td>IMPS-110410843404-PayU Payment Private-HDFC-xx...</td>\n",
       "      <td>110410843404</td>\n",
       "    </tr>\n",
       "    <tr>\n",
       "      <th>10</th>\n",
       "      <td>UPI-BHARATH KUMAR R-bharathraj808-1@okaxis-BAR...</td>\n",
       "      <td>109716830389</td>\n",
       "    </tr>\n",
       "    <tr>\n",
       "      <th>11</th>\n",
       "      <td>50200055363432-TPT-Capital-MYCAP FINANCIAL TEC...</td>\n",
       "      <td>150568331</td>\n",
       "    </tr>\n",
       "    <tr>\n",
       "      <th>12</th>\n",
       "      <td>RTGS Cr-CNRB0000885-PAVAN G-Ishwar Venkat Gogi...</td>\n",
       "      <td>CNRBR52021040760170028</td>\n",
       "    </tr>\n",
       "    <tr>\n",
       "      <th>13</th>\n",
       "      <td>UPI-dunzo-dunzo.payu@axisbank-UTIB0000000-1094...</td>\n",
       "      <td>109418446327</td>\n",
       "    </tr>\n",
       "    <tr>\n",
       "      <th>14</th>\n",
       "      <td>Credit Interest Capitalised</td>\n",
       "      <td>NaN</td>\n",
       "    </tr>\n",
       "    <tr>\n",
       "      <th>15</th>\n",
       "      <td>UPI-razorpay-razorpay@icici-ICIC0000001-109011...</td>\n",
       "      <td>109011126937</td>\n",
       "    </tr>\n",
       "    <tr>\n",
       "      <th>16</th>\n",
       "      <td>POS 416021XXXXXX2221 BLUETOKAI COFFEE</td>\n",
       "      <td>108812592346</td>\n",
       "    </tr>\n",
       "    <tr>\n",
       "      <th>17</th>\n",
       "      <td>UPI-PUNITH C-punithcgowda740-2@okicici-ICIC000...</td>\n",
       "      <td>108814778271</td>\n",
       "    </tr>\n",
       "    <tr>\n",
       "      <th>18</th>\n",
       "      <td>NEFT Cr-SBIN0010368-RAO INSULATING COMPANY PRI...</td>\n",
       "      <td>SBIN221088754138</td>\n",
       "    </tr>\n",
       "    <tr>\n",
       "      <th>19</th>\n",
       "      <td>UPI-KEZIAH MARIA KORAH-keziahko-1@okhdfcbank-C...</td>\n",
       "      <td>107810329994</td>\n",
       "    </tr>\n",
       "  </tbody>\n",
       "</table>\n",
       "</div>"
      ],
      "text/plain": [
       "                                          Description     Ref_No_and_Check_No\n",
       "0   NEFT Cr-SBIN0010368-RAO INSULATING COMPANY PRI...        SBIN421119062694\n",
       "1   UPI-Razorpay Software Pr-razor.pay@sbi-SBIN001...            111910372620\n",
       "2   UPI-razorpay-razorpay@icici-ICIC0000001-111815...            111815326599\n",
       "3   UPI-lazypay-lazypay.payu@axisbank-UTIB0000000-...            111722088832\n",
       "4   UPI-PUNITH C-punithcgowda740@okhdfcbank-PYTM01...            111213624307\n",
       "5   UPI-lazypay-lazypay.payu@axisbank-UTIB0000000-...            110821046850\n",
       "6   UPI-LAZY PAY-lazypay.payu@hdfcbank-HDFC0000499...            110609687438\n",
       "7   UPI-JYOTHI VASUDEV ANAND-jvanandaram66@okhdfcb...            110523568403\n",
       "8   UPI-LAZY PAY-lazypay.payu@hdfcbank-HDFC0000499...            110411215936\n",
       "9   IMPS-110410843404-PayU Payment Private-HDFC-xx...            110410843404\n",
       "10  UPI-BHARATH KUMAR R-bharathraj808-1@okaxis-BAR...            109716830389\n",
       "11  50200055363432-TPT-Capital-MYCAP FINANCIAL TEC...               150568331\n",
       "12  RTGS Cr-CNRB0000885-PAVAN G-Ishwar Venkat Gogi...  CNRBR52021040760170028\n",
       "13  UPI-dunzo-dunzo.payu@axisbank-UTIB0000000-1094...            109418446327\n",
       "14                        Credit Interest Capitalised                     NaN\n",
       "15  UPI-razorpay-razorpay@icici-ICIC0000001-109011...            109011126937\n",
       "16              POS 416021XXXXXX2221 BLUETOKAI COFFEE            108812592346\n",
       "17  UPI-PUNITH C-punithcgowda740-2@okicici-ICIC000...            108814778271\n",
       "18  NEFT Cr-SBIN0010368-RAO INSULATING COMPANY PRI...        SBIN221088754138\n",
       "19  UPI-KEZIAH MARIA KORAH-keziahko-1@okhdfcbank-C...            107810329994"
      ]
     },
     "execution_count": 21,
     "metadata": {},
     "output_type": "execute_result"
    }
   ],
   "source": [
    "des_and_ref = df[['Description', 'Ref_No_and_Check_No']]\n",
    "des_and_ref"
   ]
  },
  {
   "cell_type": "markdown",
   "metadata": {},
   "source": [
    "### Trying to find pattern in `Description`"
   ]
  },
  {
   "cell_type": "code",
   "execution_count": 22,
   "metadata": {},
   "outputs": [
    {
     "data": {
      "text/plain": [
       "['NEFT Cr-SBIN0010368-RAO INSULATING COMPANY PRIVATE LIMI-Ishwar Venkat Gogineni-SBIN421119062694',\n",
       " 'UPI-Razorpay Software Pr-razor.pay@sbi-SBIN0016209-111910372620-Zauba Corp ZaubaCo',\n",
       " 'UPI-razorpay-razorpay@icici-ICIC0000001-111815326599-Zauba Corp ZaubaCo',\n",
       " 'UPI-lazypay-lazypay.payu@axisbank-UTIB0000000-111722088832-UPI Transaction',\n",
       " 'UPI-PUNITH C-punithcgowda740@okhdfcbank-PYTM0123456-111213624307-UPI',\n",
       " 'UPI-lazypay-lazypay.payu@axisbank-UTIB0000000-110821046850-UPI Transaction',\n",
       " 'UPI-LAZY PAY-lazypay.payu@hdfcbank-HDFC0000499-110609687438-Upi Transaction',\n",
       " 'UPI-JYOTHI VASUDEV ANAND-jvanandaram66@okhdfcbank-HDFC0000053-110523568403-UPI',\n",
       " 'UPI-LAZY PAY-lazypay.payu@hdfcbank-HDFC0000499-110411215936-Upi Transaction',\n",
       " 'IMPS-110410843404-PayU Payment Private-HDFC-xxxxxx0059-',\n",
       " 'UPI-BHARATH KUMAR R-bharathraj808-1@okaxis-BARB0ISROLA-109716830389-UPI',\n",
       " '50200055363432-TPT-Capital-MYCAP FINANCIAL TECHNOLOGIES PVT LTD',\n",
       " 'RTGS Cr-CNRB0000885-PAVAN G-Ishwar Venkat Gogineni-CNRBR52021040760170028',\n",
       " 'UPI-dunzo-dunzo.payu@axisbank-UTIB0000000-109418446327-UPI Transaction fo',\n",
       " 'Credit Interest Capitalised',\n",
       " 'UPI-razorpay-razorpay@icici-ICIC0000001-109011126937-Zauba Corp ZaubaCo',\n",
       " 'POS 416021XXXXXX2221 BLUETOKAI COFFEE',\n",
       " 'UPI-PUNITH C-punithcgowda740-2@okicici-ICIC0002323-108814778271-UPI',\n",
       " 'NEFT Cr-SBIN0010368-RAO INSULATING COMPANY PRIVATE LIMI-Ishwar Venkat Gogineni-SBIN221088754138',\n",
       " 'UPI-KEZIAH MARIA KORAH-keziahko-1@okhdfcbank-CNRB0000033-107810329994-div']"
      ]
     },
     "execution_count": 22,
     "metadata": {},
     "output_type": "execute_result"
    }
   ],
   "source": [
    "des_lst = list(des_and_ref['Description'])\n",
    "des_lst"
   ]
  },
  {
   "cell_type": "markdown",
   "metadata": {},
   "source": [
    "### Trying to find out only numerical values in the data"
   ]
  },
  {
   "cell_type": "code",
   "execution_count": 23,
   "metadata": {},
   "outputs": [],
   "source": [
    "import re\n",
    "\n",
    "def get_all_num(data):\n",
    "    for i in data:\n",
    "        # getting numerical values\n",
    "        only_num = re.findall(r\"[0-9]+\", i)\n",
    "        result = list(map(int, only_num))\n",
    "\n",
    "        print(str(result))"
   ]
  },
  {
   "cell_type": "code",
   "execution_count": 24,
   "metadata": {},
   "outputs": [
    {
     "name": "stdout",
     "output_type": "stream",
     "text": [
      "[10368, 421119062694]\n",
      "[16209, 111910372620]\n",
      "[1, 111815326599]\n",
      "[0, 111722088832]\n",
      "[740, 123456, 111213624307]\n",
      "[0, 110821046850]\n",
      "[499, 110609687438]\n",
      "[66, 53, 110523568403]\n",
      "[499, 110411215936]\n",
      "[110410843404, 59]\n",
      "[808, 1, 0, 109716830389]\n",
      "[50200055363432]\n",
      "[885, 52021040760170028]\n",
      "[0, 109418446327]\n",
      "[]\n",
      "[1, 109011126937]\n",
      "[416021, 2221]\n",
      "[740, 2, 2323, 108814778271]\n",
      "[10368, 221088754138]\n",
      "[1, 33, 107810329994]\n"
     ]
    }
   ],
   "source": [
    "getting_only_numbers = get_all_num(des_lst)\n",
    "getting_only_numbers"
   ]
  },
  {
   "cell_type": "markdown",
   "metadata": {},
   "source": [
    "**- OBSERVATION :**\n",
    "\n",
    "- All the last number which are present in *getting_only_numbers* is values in `Ref_No_and_check_no` column"
   ]
  },
  {
   "cell_type": "markdown",
   "metadata": {},
   "source": [
    "<br>\n",
    "____________________________________________________________________________________________________________________________\n",
    "\n",
    "\n",
    "# Using NLP techniques to find out some insides\n",
    "\n",
    "# Applying NER (Named Entity Recognition) to find some meaningfull  \n",
    "\n",
    "# insides from `Description` Column"
   ]
  },
  {
   "cell_type": "code",
   "execution_count": 25,
   "metadata": {},
   "outputs": [],
   "source": [
    "import spacy\n",
    "from spacy import displacy\n",
    "\n",
    "nlp = spacy.load('en_core_web_lg')"
   ]
  },
  {
   "cell_type": "code",
   "execution_count": 26,
   "metadata": {
    "scrolled": false
   },
   "outputs": [
    {
     "data": {
      "text/html": [
       "<span class=\"tex2jax_ignore\"><div class=\"entities\" style=\"line-height: 2.5; direction: ltr\">\n",
       "<mark class=\"entity\" style=\"background: #7aecec; padding: 0.45em 0.6em; margin: 0 0.25em; line-height: 1; border-radius: 0.35em;\">\n",
       "    NEFT Cr-SBIN0010368-RAO INSULATING COMPANY\n",
       "    <span style=\"font-size: 0.8em; font-weight: bold; line-height: 1; border-radius: 0.35em; text-transform: uppercase; vertical-align: middle; margin-left: 0.5rem\">ORG</span>\n",
       "</mark>\n",
       " PRIVATE \n",
       "<mark class=\"entity\" style=\"background: #7aecec; padding: 0.45em 0.6em; margin: 0 0.25em; line-height: 1; border-radius: 0.35em;\">\n",
       "    LIMI\n",
       "    <span style=\"font-size: 0.8em; font-weight: bold; line-height: 1; border-radius: 0.35em; text-transform: uppercase; vertical-align: middle; margin-left: 0.5rem\">ORG</span>\n",
       "</mark>\n",
       "-Ishwar Venkat</div></span>"
      ],
      "text/plain": [
       "<IPython.core.display.HTML object>"
      ]
     },
     "metadata": {},
     "output_type": "display_data"
    },
    {
     "data": {
      "text/html": [
       "<span class=\"tex2jax_ignore\"><div class=\"entities\" style=\"line-height: 2.5; direction: ltr\">Gogineni-SBIN421119062694</div></span>"
      ],
      "text/plain": [
       "<IPython.core.display.HTML object>"
      ]
     },
     "metadata": {},
     "output_type": "display_data"
    },
    {
     "data": {
      "text/html": [
       "<span class=\"tex2jax_ignore\"><div class=\"entities\" style=\"line-height: 2.5; direction: ltr\">\n",
       "<mark class=\"entity\" style=\"background: #7aecec; padding: 0.45em 0.6em; margin: 0 0.25em; line-height: 1; border-radius: 0.35em;\">\n",
       "    UPI-Razorpay Software Pr-razor.pay@sbi\n",
       "    <span style=\"font-size: 0.8em; font-weight: bold; line-height: 1; border-radius: 0.35em; text-transform: uppercase; vertical-align: middle; margin-left: 0.5rem\">ORG</span>\n",
       "</mark>\n",
       "-SBIN0016209-111910372620-Zauba Corp ZaubaCo</div></span>"
      ],
      "text/plain": [
       "<IPython.core.display.HTML object>"
      ]
     },
     "metadata": {},
     "output_type": "display_data"
    },
    {
     "data": {
      "text/html": [
       "<span class=\"tex2jax_ignore\"><div class=\"entities\" style=\"line-height: 2.5; direction: ltr\">\n",
       "<mark class=\"entity\" style=\"background: #7aecec; padding: 0.45em 0.6em; margin: 0 0.25em; line-height: 1; border-radius: 0.35em;\">\n",
       "    UPI\n",
       "    <span style=\"font-size: 0.8em; font-weight: bold; line-height: 1; border-radius: 0.35em; text-transform: uppercase; vertical-align: middle; margin-left: 0.5rem\">ORG</span>\n",
       "</mark>\n",
       "-razorpay-</div></span>"
      ],
      "text/plain": [
       "<IPython.core.display.HTML object>"
      ]
     },
     "metadata": {},
     "output_type": "display_data"
    },
    {
     "data": {
      "text/html": [
       "<span class=\"tex2jax_ignore\"><div class=\"entities\" style=\"line-height: 2.5; direction: ltr\">razorpay@icici-ICIC0000001-111815326599-Zauba \n",
       "<mark class=\"entity\" style=\"background: #7aecec; padding: 0.45em 0.6em; margin: 0 0.25em; line-height: 1; border-radius: 0.35em;\">\n",
       "    Corp ZaubaCo\n",
       "    <span style=\"font-size: 0.8em; font-weight: bold; line-height: 1; border-radius: 0.35em; text-transform: uppercase; vertical-align: middle; margin-left: 0.5rem\">ORG</span>\n",
       "</mark>\n",
       "</div></span>"
      ],
      "text/plain": [
       "<IPython.core.display.HTML object>"
      ]
     },
     "metadata": {},
     "output_type": "display_data"
    },
    {
     "data": {
      "text/html": [
       "<span class=\"tex2jax_ignore\"><div class=\"entities\" style=\"line-height: 2.5; direction: ltr\">\n",
       "<mark class=\"entity\" style=\"background: #7aecec; padding: 0.45em 0.6em; margin: 0 0.25em; line-height: 1; border-radius: 0.35em;\">\n",
       "    UPI\n",
       "    <span style=\"font-size: 0.8em; font-weight: bold; line-height: 1; border-radius: 0.35em; text-transform: uppercase; vertical-align: middle; margin-left: 0.5rem\">ORG</span>\n",
       "</mark>\n",
       "-lazypay-lazypay.payu@axisbank-UTIB0000000-111722088832-UPI Transaction</div></span>"
      ],
      "text/plain": [
       "<IPython.core.display.HTML object>"
      ]
     },
     "metadata": {},
     "output_type": "display_data"
    },
    {
     "data": {
      "text/html": [
       "<span class=\"tex2jax_ignore\"><div class=\"entities\" style=\"line-height: 2.5; direction: ltr\">\n",
       "<mark class=\"entity\" style=\"background: #7aecec; padding: 0.45em 0.6em; margin: 0 0.25em; line-height: 1; border-radius: 0.35em;\">\n",
       "    UPI-PUNITH\n",
       "    <span style=\"font-size: 0.8em; font-weight: bold; line-height: 1; border-radius: 0.35em; text-transform: uppercase; vertical-align: middle; margin-left: 0.5rem\">ORG</span>\n",
       "</mark>\n",
       " C-punithcgowda740@okhdfcbank</div></span>"
      ],
      "text/plain": [
       "<IPython.core.display.HTML object>"
      ]
     },
     "metadata": {},
     "output_type": "display_data"
    },
    {
     "data": {
      "text/html": [
       "<span class=\"tex2jax_ignore\"><div class=\"entities\" style=\"line-height: 2.5; direction: ltr\">-PYTM0123456-111213624307-UPI</div></span>"
      ],
      "text/plain": [
       "<IPython.core.display.HTML object>"
      ]
     },
     "metadata": {},
     "output_type": "display_data"
    },
    {
     "data": {
      "text/html": [
       "<span class=\"tex2jax_ignore\"><div class=\"entities\" style=\"line-height: 2.5; direction: ltr\">\n",
       "<mark class=\"entity\" style=\"background: #7aecec; padding: 0.45em 0.6em; margin: 0 0.25em; line-height: 1; border-radius: 0.35em;\">\n",
       "    UPI\n",
       "    <span style=\"font-size: 0.8em; font-weight: bold; line-height: 1; border-radius: 0.35em; text-transform: uppercase; vertical-align: middle; margin-left: 0.5rem\">ORG</span>\n",
       "</mark>\n",
       "-lazypay-lazypay.payu@axisbank-UTIB0000000-110821046850-UPI Transaction</div></span>"
      ],
      "text/plain": [
       "<IPython.core.display.HTML object>"
      ]
     },
     "metadata": {},
     "output_type": "display_data"
    },
    {
     "data": {
      "text/html": [
       "<span class=\"tex2jax_ignore\"><div class=\"entities\" style=\"line-height: 2.5; direction: ltr\">\n",
       "<mark class=\"entity\" style=\"background: #7aecec; padding: 0.45em 0.6em; margin: 0 0.25em; line-height: 1; border-radius: 0.35em;\">\n",
       "    UPI\n",
       "    <span style=\"font-size: 0.8em; font-weight: bold; line-height: 1; border-radius: 0.35em; text-transform: uppercase; vertical-align: middle; margin-left: 0.5rem\">ORG</span>\n",
       "</mark>\n",
       "-LAZY PAY-lazypay.payu@hdfcbank-HDFC0000499-110609687438-Upi Transaction</div></span>"
      ],
      "text/plain": [
       "<IPython.core.display.HTML object>"
      ]
     },
     "metadata": {},
     "output_type": "display_data"
    },
    {
     "data": {
      "text/html": [
       "<span class=\"tex2jax_ignore\"><div class=\"entities\" style=\"line-height: 2.5; direction: ltr\">\n",
       "<mark class=\"entity\" style=\"background: #7aecec; padding: 0.45em 0.6em; margin: 0 0.25em; line-height: 1; border-radius: 0.35em;\">\n",
       "    UPI-JYOTHI\n",
       "    <span style=\"font-size: 0.8em; font-weight: bold; line-height: 1; border-radius: 0.35em; text-transform: uppercase; vertical-align: middle; margin-left: 0.5rem\">ORG</span>\n",
       "</mark>\n",
       " VASUDEV ANAND-jvanandaram66@okhdfcbank</div></span>"
      ],
      "text/plain": [
       "<IPython.core.display.HTML object>"
      ]
     },
     "metadata": {},
     "output_type": "display_data"
    },
    {
     "data": {
      "text/html": [
       "<span class=\"tex2jax_ignore\"><div class=\"entities\" style=\"line-height: 2.5; direction: ltr\">-HDFC0000053-110523568403-UPI</div></span>"
      ],
      "text/plain": [
       "<IPython.core.display.HTML object>"
      ]
     },
     "metadata": {},
     "output_type": "display_data"
    },
    {
     "data": {
      "text/html": [
       "<span class=\"tex2jax_ignore\"><div class=\"entities\" style=\"line-height: 2.5; direction: ltr\">\n",
       "<mark class=\"entity\" style=\"background: #7aecec; padding: 0.45em 0.6em; margin: 0 0.25em; line-height: 1; border-radius: 0.35em;\">\n",
       "    UPI\n",
       "    <span style=\"font-size: 0.8em; font-weight: bold; line-height: 1; border-radius: 0.35em; text-transform: uppercase; vertical-align: middle; margin-left: 0.5rem\">ORG</span>\n",
       "</mark>\n",
       "-LAZY PAY-lazypay.payu@hdfcbank-HDFC0000499-110411215936-Upi Transaction</div></span>"
      ],
      "text/plain": [
       "<IPython.core.display.HTML object>"
      ]
     },
     "metadata": {},
     "output_type": "display_data"
    },
    {
     "data": {
      "text/html": [
       "<span class=\"tex2jax_ignore\"><div class=\"entities\" style=\"line-height: 2.5; direction: ltr\">IMPS-110410843404-PayU \n",
       "<mark class=\"entity\" style=\"background: #7aecec; padding: 0.45em 0.6em; margin: 0 0.25em; line-height: 1; border-radius: 0.35em;\">\n",
       "    Payment Private-\n",
       "    <span style=\"font-size: 0.8em; font-weight: bold; line-height: 1; border-radius: 0.35em; text-transform: uppercase; vertical-align: middle; margin-left: 0.5rem\">ORG</span>\n",
       "</mark>\n",
       "HDFC-xxxxxx0059-</div></span>"
      ],
      "text/plain": [
       "<IPython.core.display.HTML object>"
      ]
     },
     "metadata": {},
     "output_type": "display_data"
    },
    {
     "data": {
      "text/html": [
       "<span class=\"tex2jax_ignore\"><div class=\"entities\" style=\"line-height: 2.5; direction: ltr\">\n",
       "<mark class=\"entity\" style=\"background: #7aecec; padding: 0.45em 0.6em; margin: 0 0.25em; line-height: 1; border-radius: 0.35em;\">\n",
       "    UPI-BHARATH KUMAR R-bharathraj808\n",
       "    <span style=\"font-size: 0.8em; font-weight: bold; line-height: 1; border-radius: 0.35em; text-transform: uppercase; vertical-align: middle; margin-left: 0.5rem\">ORG</span>\n",
       "</mark>\n",
       "-1@okaxis-BARB0ISROLA-109716830389-UPI</div></span>"
      ],
      "text/plain": [
       "<IPython.core.display.HTML object>"
      ]
     },
     "metadata": {},
     "output_type": "display_data"
    },
    {
     "data": {
      "text/html": [
       "<span class=\"tex2jax_ignore\"><div class=\"entities\" style=\"line-height: 2.5; direction: ltr\">\n",
       "<mark class=\"entity\" style=\"background: #e4e7d2; padding: 0.45em 0.6em; margin: 0 0.25em; line-height: 1; border-radius: 0.35em;\">\n",
       "    50200055363432-TPT\n",
       "    <span style=\"font-size: 0.8em; font-weight: bold; line-height: 1; border-radius: 0.35em; text-transform: uppercase; vertical-align: middle; margin-left: 0.5rem\">CARDINAL</span>\n",
       "</mark>\n",
       "-\n",
       "<mark class=\"entity\" style=\"background: #7aecec; padding: 0.45em 0.6em; margin: 0 0.25em; line-height: 1; border-radius: 0.35em;\">\n",
       "    Capital-MYCAP FINANCIAL TECHNOLOGIES PVT LTD\n",
       "    <span style=\"font-size: 0.8em; font-weight: bold; line-height: 1; border-radius: 0.35em; text-transform: uppercase; vertical-align: middle; margin-left: 0.5rem\">ORG</span>\n",
       "</mark>\n",
       "</div></span>"
      ],
      "text/plain": [
       "<IPython.core.display.HTML object>"
      ]
     },
     "metadata": {},
     "output_type": "display_data"
    },
    {
     "data": {
      "text/html": [
       "<span class=\"tex2jax_ignore\"><div class=\"entities\" style=\"line-height: 2.5; direction: ltr\">RTGS Cr-CNRB0000885-PAVAN</div></span>"
      ],
      "text/plain": [
       "<IPython.core.display.HTML object>"
      ]
     },
     "metadata": {},
     "output_type": "display_data"
    },
    {
     "data": {
      "text/html": [
       "<span class=\"tex2jax_ignore\"><div class=\"entities\" style=\"line-height: 2.5; direction: ltr\">\n",
       "<mark class=\"entity\" style=\"background: #aa9cfc; padding: 0.45em 0.6em; margin: 0 0.25em; line-height: 1; border-radius: 0.35em;\">\n",
       "    G-Ishwar Venkat\n",
       "    <span style=\"font-size: 0.8em; font-weight: bold; line-height: 1; border-radius: 0.35em; text-transform: uppercase; vertical-align: middle; margin-left: 0.5rem\">PERSON</span>\n",
       "</mark>\n",
       " Gogineni-CNRBR52021040760170028</div></span>"
      ],
      "text/plain": [
       "<IPython.core.display.HTML object>"
      ]
     },
     "metadata": {},
     "output_type": "display_data"
    },
    {
     "data": {
      "text/html": [
       "<span class=\"tex2jax_ignore\"><div class=\"entities\" style=\"line-height: 2.5; direction: ltr\">\n",
       "<mark class=\"entity\" style=\"background: #7aecec; padding: 0.45em 0.6em; margin: 0 0.25em; line-height: 1; border-radius: 0.35em;\">\n",
       "    UPI\n",
       "    <span style=\"font-size: 0.8em; font-weight: bold; line-height: 1; border-radius: 0.35em; text-transform: uppercase; vertical-align: middle; margin-left: 0.5rem\">ORG</span>\n",
       "</mark>\n",
       "-dunzo-dunzo.payu@axisbank-UTIB0000000-109418446327-UPI Transaction fo</div></span>"
      ],
      "text/plain": [
       "<IPython.core.display.HTML object>"
      ]
     },
     "metadata": {},
     "output_type": "display_data"
    },
    {
     "data": {
      "text/html": [
       "<span class=\"tex2jax_ignore\"><div class=\"entities\" style=\"line-height: 2.5; direction: ltr\">Credit Interest Capitalised</div></span>"
      ],
      "text/plain": [
       "<IPython.core.display.HTML object>"
      ]
     },
     "metadata": {},
     "output_type": "display_data"
    },
    {
     "data": {
      "text/html": [
       "<span class=\"tex2jax_ignore\"><div class=\"entities\" style=\"line-height: 2.5; direction: ltr\">\n",
       "<mark class=\"entity\" style=\"background: #7aecec; padding: 0.45em 0.6em; margin: 0 0.25em; line-height: 1; border-radius: 0.35em;\">\n",
       "    UPI\n",
       "    <span style=\"font-size: 0.8em; font-weight: bold; line-height: 1; border-radius: 0.35em; text-transform: uppercase; vertical-align: middle; margin-left: 0.5rem\">ORG</span>\n",
       "</mark>\n",
       "-razorpay-</div></span>"
      ],
      "text/plain": [
       "<IPython.core.display.HTML object>"
      ]
     },
     "metadata": {},
     "output_type": "display_data"
    },
    {
     "data": {
      "text/html": [
       "<span class=\"tex2jax_ignore\"><div class=\"entities\" style=\"line-height: 2.5; direction: ltr\">razorpay@icici-ICIC0000001-109011126937-Zauba \n",
       "<mark class=\"entity\" style=\"background: #7aecec; padding: 0.45em 0.6em; margin: 0 0.25em; line-height: 1; border-radius: 0.35em;\">\n",
       "    Corp ZaubaCo\n",
       "    <span style=\"font-size: 0.8em; font-weight: bold; line-height: 1; border-radius: 0.35em; text-transform: uppercase; vertical-align: middle; margin-left: 0.5rem\">ORG</span>\n",
       "</mark>\n",
       "</div></span>"
      ],
      "text/plain": [
       "<IPython.core.display.HTML object>"
      ]
     },
     "metadata": {},
     "output_type": "display_data"
    },
    {
     "data": {
      "text/html": [
       "<span class=\"tex2jax_ignore\"><div class=\"entities\" style=\"line-height: 2.5; direction: ltr\">\n",
       "<mark class=\"entity\" style=\"background: #7aecec; padding: 0.45em 0.6em; margin: 0 0.25em; line-height: 1; border-radius: 0.35em;\">\n",
       "    POS\n",
       "    <span style=\"font-size: 0.8em; font-weight: bold; line-height: 1; border-radius: 0.35em; text-transform: uppercase; vertical-align: middle; margin-left: 0.5rem\">ORG</span>\n",
       "</mark>\n",
       " \n",
       "<mark class=\"entity\" style=\"background: #e4e7d2; padding: 0.45em 0.6em; margin: 0 0.25em; line-height: 1; border-radius: 0.35em;\">\n",
       "    416021XXXXXX2221\n",
       "    <span style=\"font-size: 0.8em; font-weight: bold; line-height: 1; border-radius: 0.35em; text-transform: uppercase; vertical-align: middle; margin-left: 0.5rem\">CARDINAL</span>\n",
       "</mark>\n",
       " BLUETOKAI COFFEE</div></span>"
      ],
      "text/plain": [
       "<IPython.core.display.HTML object>"
      ]
     },
     "metadata": {},
     "output_type": "display_data"
    },
    {
     "data": {
      "text/html": [
       "<span class=\"tex2jax_ignore\"><div class=\"entities\" style=\"line-height: 2.5; direction: ltr\">\n",
       "<mark class=\"entity\" style=\"background: #7aecec; padding: 0.45em 0.6em; margin: 0 0.25em; line-height: 1; border-radius: 0.35em;\">\n",
       "    UPI-PUNITH C-punithcgowda740\n",
       "    <span style=\"font-size: 0.8em; font-weight: bold; line-height: 1; border-radius: 0.35em; text-transform: uppercase; vertical-align: middle; margin-left: 0.5rem\">ORG</span>\n",
       "</mark>\n",
       "-2@okicici-ICIC0002323-108814778271-UPI</div></span>"
      ],
      "text/plain": [
       "<IPython.core.display.HTML object>"
      ]
     },
     "metadata": {},
     "output_type": "display_data"
    },
    {
     "data": {
      "text/html": [
       "<span class=\"tex2jax_ignore\"><div class=\"entities\" style=\"line-height: 2.5; direction: ltr\">\n",
       "<mark class=\"entity\" style=\"background: #7aecec; padding: 0.45em 0.6em; margin: 0 0.25em; line-height: 1; border-radius: 0.35em;\">\n",
       "    NEFT Cr-SBIN0010368-RAO INSULATING COMPANY\n",
       "    <span style=\"font-size: 0.8em; font-weight: bold; line-height: 1; border-radius: 0.35em; text-transform: uppercase; vertical-align: middle; margin-left: 0.5rem\">ORG</span>\n",
       "</mark>\n",
       " PRIVATE \n",
       "<mark class=\"entity\" style=\"background: #7aecec; padding: 0.45em 0.6em; margin: 0 0.25em; line-height: 1; border-radius: 0.35em;\">\n",
       "    LIMI\n",
       "    <span style=\"font-size: 0.8em; font-weight: bold; line-height: 1; border-radius: 0.35em; text-transform: uppercase; vertical-align: middle; margin-left: 0.5rem\">ORG</span>\n",
       "</mark>\n",
       "-Ishwar Venkat</div></span>"
      ],
      "text/plain": [
       "<IPython.core.display.HTML object>"
      ]
     },
     "metadata": {},
     "output_type": "display_data"
    },
    {
     "data": {
      "text/html": [
       "<span class=\"tex2jax_ignore\"><div class=\"entities\" style=\"line-height: 2.5; direction: ltr\">Gogineni-SBIN221088754138</div></span>"
      ],
      "text/plain": [
       "<IPython.core.display.HTML object>"
      ]
     },
     "metadata": {},
     "output_type": "display_data"
    },
    {
     "data": {
      "text/html": [
       "<span class=\"tex2jax_ignore\"><div class=\"entities\" style=\"line-height: 2.5; direction: ltr\">\n",
       "<mark class=\"entity\" style=\"background: #7aecec; padding: 0.45em 0.6em; margin: 0 0.25em; line-height: 1; border-radius: 0.35em;\">\n",
       "    UPI\n",
       "    <span style=\"font-size: 0.8em; font-weight: bold; line-height: 1; border-radius: 0.35em; text-transform: uppercase; vertical-align: middle; margin-left: 0.5rem\">ORG</span>\n",
       "</mark>\n",
       "-KEZIAH MARIA</div></span>"
      ],
      "text/plain": [
       "<IPython.core.display.HTML object>"
      ]
     },
     "metadata": {},
     "output_type": "display_data"
    },
    {
     "data": {
      "text/html": [
       "<span class=\"tex2jax_ignore\"><div class=\"entities\" style=\"line-height: 2.5; direction: ltr\">\n",
       "<mark class=\"entity\" style=\"background: #7aecec; padding: 0.45em 0.6em; margin: 0 0.25em; line-height: 1; border-radius: 0.35em;\">\n",
       "    KORAH\n",
       "    <span style=\"font-size: 0.8em; font-weight: bold; line-height: 1; border-radius: 0.35em; text-transform: uppercase; vertical-align: middle; margin-left: 0.5rem\">ORG</span>\n",
       "</mark>\n",
       "</div></span>"
      ],
      "text/plain": [
       "<IPython.core.display.HTML object>"
      ]
     },
     "metadata": {},
     "output_type": "display_data"
    },
    {
     "data": {
      "text/html": [
       "<span class=\"tex2jax_ignore\"><div class=\"entities\" style=\"line-height: 2.5; direction: ltr\">-keziahko-1@okhdfcbank-CNRB0000033-107810329994-div</div></span>"
      ],
      "text/plain": [
       "<IPython.core.display.HTML object>"
      ]
     },
     "metadata": {},
     "output_type": "display_data"
    }
   ],
   "source": [
    "import warnings\n",
    "warnings.filterwarnings('ignore')\n",
    "\n",
    "for i in des_lst:\n",
    "    doc = nlp(i)\n",
    "    \n",
    "    # NER on each row\n",
    "    for sent in doc.sents:\n",
    "        displacy.render(nlp(sent.text),style='ent',jupyter=True)"
   ]
  },
  {
   "cell_type": "markdown",
   "metadata": {},
   "source": [
    "**- OBSERVATION :**\n",
    "\n",
    "- In most of the row of our column `Description` we are able to find out the organization(ORG), person(PERSON), number(CARDINAL).\n",
    "<br>\n",
    "\n",
    "- It is not 100% correct so we are going to create new DataFrame where we will be using `Description` column and try to **tokenize** it then do **pos_tags**, then do **entityrecognition** and categories it."
   ]
  },
  {
   "cell_type": "code",
   "execution_count": 27,
   "metadata": {},
   "outputs": [
    {
     "data": {
      "text/html": [
       "<div>\n",
       "<style scoped>\n",
       "    .dataframe tbody tr th:only-of-type {\n",
       "        vertical-align: middle;\n",
       "    }\n",
       "\n",
       "    .dataframe tbody tr th {\n",
       "        vertical-align: top;\n",
       "    }\n",
       "\n",
       "    .dataframe thead th {\n",
       "        text-align: right;\n",
       "    }\n",
       "</style>\n",
       "<table border=\"1\" class=\"dataframe\">\n",
       "  <thead>\n",
       "    <tr style=\"text-align: right;\">\n",
       "      <th></th>\n",
       "      <th>Description</th>\n",
       "      <th>tokenize</th>\n",
       "      <th>pos_tags</th>\n",
       "      <th>entityrecognition</th>\n",
       "      <th>ORGANIZATION</th>\n",
       "      <th>PERSON</th>\n",
       "    </tr>\n",
       "  </thead>\n",
       "  <tbody>\n",
       "    <tr>\n",
       "      <th>0</th>\n",
       "      <td>NEFT Cr-SBIN0010368-RAO INSULATING COMPANY PRI...</td>\n",
       "      <td>[NEFT, Cr-SBIN0010368-RAO, INSULATING, COMPANY...</td>\n",
       "      <td>[(NEFT, NNP), (Cr-SBIN0010368-RAO, NNP), (INSU...</td>\n",
       "      <td>{'ORGANIZATION': 3, 'PERSON': 1}</td>\n",
       "      <td>3.0</td>\n",
       "      <td>1.0</td>\n",
       "    </tr>\n",
       "    <tr>\n",
       "      <th>1</th>\n",
       "      <td>UPI-Razorpay Software Pr-razor.pay@sbi-SBIN001...</td>\n",
       "      <td>[UPI-Razorpay, Software, Pr-razor.pay, @, sbi-...</td>\n",
       "      <td>[(UPI-Razorpay, JJ), (Software, NNP), (Pr-razo...</td>\n",
       "      <td>{'ORGANIZATION': 2}</td>\n",
       "      <td>2.0</td>\n",
       "      <td>NaN</td>\n",
       "    </tr>\n",
       "    <tr>\n",
       "      <th>2</th>\n",
       "      <td>UPI-razorpay-razorpay@icici-ICIC0000001-111815...</td>\n",
       "      <td>[UPI-razorpay-razorpay, @, icici-ICIC0000001-1...</td>\n",
       "      <td>[(UPI-razorpay-razorpay, JJ), (@, NNP), (icici...</td>\n",
       "      <td>{'PERSON': 1}</td>\n",
       "      <td>NaN</td>\n",
       "      <td>1.0</td>\n",
       "    </tr>\n",
       "    <tr>\n",
       "      <th>3</th>\n",
       "      <td>UPI-lazypay-lazypay.payu@axisbank-UTIB0000000-...</td>\n",
       "      <td>[UPI-lazypay-lazypay.payu, @, axisbank-UTIB000...</td>\n",
       "      <td>[(UPI-lazypay-lazypay.payu, JJ), (@, NNP), (ax...</td>\n",
       "      <td>{}</td>\n",
       "      <td>NaN</td>\n",
       "      <td>NaN</td>\n",
       "    </tr>\n",
       "    <tr>\n",
       "      <th>4</th>\n",
       "      <td>UPI-PUNITH C-punithcgowda740@okhdfcbank-PYTM01...</td>\n",
       "      <td>[UPI-PUNITH, C-punithcgowda740, @, okhdfcbank-...</td>\n",
       "      <td>[(UPI-PUNITH, JJ), (C-punithcgowda740, NNP), (...</td>\n",
       "      <td>{}</td>\n",
       "      <td>NaN</td>\n",
       "      <td>NaN</td>\n",
       "    </tr>\n",
       "    <tr>\n",
       "      <th>5</th>\n",
       "      <td>UPI-lazypay-lazypay.payu@axisbank-UTIB0000000-...</td>\n",
       "      <td>[UPI-lazypay-lazypay.payu, @, axisbank-UTIB000...</td>\n",
       "      <td>[(UPI-lazypay-lazypay.payu, JJ), (@, NNP), (ax...</td>\n",
       "      <td>{}</td>\n",
       "      <td>NaN</td>\n",
       "      <td>NaN</td>\n",
       "    </tr>\n",
       "    <tr>\n",
       "      <th>6</th>\n",
       "      <td>UPI-LAZY PAY-lazypay.payu@hdfcbank-HDFC0000499...</td>\n",
       "      <td>[UPI-LAZY, PAY-lazypay.payu, @, hdfcbank-HDFC0...</td>\n",
       "      <td>[(UPI-LAZY, JJ), (PAY-lazypay.payu, NNP), (@, ...</td>\n",
       "      <td>{}</td>\n",
       "      <td>NaN</td>\n",
       "      <td>NaN</td>\n",
       "    </tr>\n",
       "    <tr>\n",
       "      <th>7</th>\n",
       "      <td>UPI-JYOTHI VASUDEV ANAND-jvanandaram66@okhdfcb...</td>\n",
       "      <td>[UPI-JYOTHI, VASUDEV, ANAND-jvanandaram66, @, ...</td>\n",
       "      <td>[(UPI-JYOTHI, JJ), (VASUDEV, NNP), (ANAND-jvan...</td>\n",
       "      <td>{'ORGANIZATION': 1}</td>\n",
       "      <td>1.0</td>\n",
       "      <td>NaN</td>\n",
       "    </tr>\n",
       "    <tr>\n",
       "      <th>8</th>\n",
       "      <td>UPI-LAZY PAY-lazypay.payu@hdfcbank-HDFC0000499...</td>\n",
       "      <td>[UPI-LAZY, PAY-lazypay.payu, @, hdfcbank-HDFC0...</td>\n",
       "      <td>[(UPI-LAZY, JJ), (PAY-lazypay.payu, NNP), (@, ...</td>\n",
       "      <td>{}</td>\n",
       "      <td>NaN</td>\n",
       "      <td>NaN</td>\n",
       "    </tr>\n",
       "    <tr>\n",
       "      <th>9</th>\n",
       "      <td>IMPS-110410843404-PayU Payment Private-HDFC-xx...</td>\n",
       "      <td>[IMPS-110410843404-PayU, Payment, Private-HDFC...</td>\n",
       "      <td>[(IMPS-110410843404-PayU, JJ), (Payment, NNP),...</td>\n",
       "      <td>{}</td>\n",
       "      <td>NaN</td>\n",
       "      <td>NaN</td>\n",
       "    </tr>\n",
       "    <tr>\n",
       "      <th>10</th>\n",
       "      <td>UPI-BHARATH KUMAR R-bharathraj808-1@okaxis-BAR...</td>\n",
       "      <td>[UPI-BHARATH, KUMAR, R-bharathraj808-1, @, oka...</td>\n",
       "      <td>[(UPI-BHARATH, JJ), (KUMAR, NNP), (R-bharathra...</td>\n",
       "      <td>{'ORGANIZATION': 1}</td>\n",
       "      <td>1.0</td>\n",
       "      <td>NaN</td>\n",
       "    </tr>\n",
       "    <tr>\n",
       "      <th>11</th>\n",
       "      <td>50200055363432-TPT-Capital-MYCAP FINANCIAL TEC...</td>\n",
       "      <td>[50200055363432-TPT-Capital-MYCAP, FINANCIAL, ...</td>\n",
       "      <td>[(50200055363432-TPT-Capital-MYCAP, JJ), (FINA...</td>\n",
       "      <td>{'ORGANIZATION': 2}</td>\n",
       "      <td>2.0</td>\n",
       "      <td>NaN</td>\n",
       "    </tr>\n",
       "    <tr>\n",
       "      <th>12</th>\n",
       "      <td>RTGS Cr-CNRB0000885-PAVAN G-Ishwar Venkat Gogi...</td>\n",
       "      <td>[RTGS, Cr-CNRB0000885-PAVAN, G-Ishwar, Venkat,...</td>\n",
       "      <td>[(RTGS, JJ), (Cr-CNRB0000885-PAVAN, NNP), (G-I...</td>\n",
       "      <td>{'ORGANIZATION': 1, 'PERSON': 1}</td>\n",
       "      <td>1.0</td>\n",
       "      <td>1.0</td>\n",
       "    </tr>\n",
       "    <tr>\n",
       "      <th>13</th>\n",
       "      <td>UPI-dunzo-dunzo.payu@axisbank-UTIB0000000-1094...</td>\n",
       "      <td>[UPI-dunzo-dunzo.payu, @, axisbank-UTIB0000000...</td>\n",
       "      <td>[(UPI-dunzo-dunzo.payu, JJ), (@, NNP), (axisba...</td>\n",
       "      <td>{}</td>\n",
       "      <td>NaN</td>\n",
       "      <td>NaN</td>\n",
       "    </tr>\n",
       "    <tr>\n",
       "      <th>14</th>\n",
       "      <td>Credit Interest Capitalised</td>\n",
       "      <td>[Credit, Interest, Capitalised]</td>\n",
       "      <td>[(Credit, NN), (Interest, NNP), (Capitalised, ...</td>\n",
       "      <td>{'ORGANIZATION': 1, 'PERSON': 1}</td>\n",
       "      <td>1.0</td>\n",
       "      <td>1.0</td>\n",
       "    </tr>\n",
       "    <tr>\n",
       "      <th>15</th>\n",
       "      <td>UPI-razorpay-razorpay@icici-ICIC0000001-109011...</td>\n",
       "      <td>[UPI-razorpay-razorpay, @, icici-ICIC0000001-1...</td>\n",
       "      <td>[(UPI-razorpay-razorpay, JJ), (@, NNP), (icici...</td>\n",
       "      <td>{'PERSON': 1}</td>\n",
       "      <td>NaN</td>\n",
       "      <td>1.0</td>\n",
       "    </tr>\n",
       "    <tr>\n",
       "      <th>16</th>\n",
       "      <td>POS 416021XXXXXX2221 BLUETOKAI COFFEE</td>\n",
       "      <td>[POS, 416021XXXXXX2221, BLUETOKAI, COFFEE]</td>\n",
       "      <td>[(POS, NNP), (416021XXXXXX2221, CD), (BLUETOKA...</td>\n",
       "      <td>{'ORGANIZATION': 1}</td>\n",
       "      <td>1.0</td>\n",
       "      <td>NaN</td>\n",
       "    </tr>\n",
       "    <tr>\n",
       "      <th>17</th>\n",
       "      <td>UPI-PUNITH C-punithcgowda740-2@okicici-ICIC000...</td>\n",
       "      <td>[UPI-PUNITH, C-punithcgowda740-2, @, okicici-I...</td>\n",
       "      <td>[(UPI-PUNITH, JJ), (C-punithcgowda740-2, NNP),...</td>\n",
       "      <td>{}</td>\n",
       "      <td>NaN</td>\n",
       "      <td>NaN</td>\n",
       "    </tr>\n",
       "    <tr>\n",
       "      <th>18</th>\n",
       "      <td>NEFT Cr-SBIN0010368-RAO INSULATING COMPANY PRI...</td>\n",
       "      <td>[NEFT, Cr-SBIN0010368-RAO, INSULATING, COMPANY...</td>\n",
       "      <td>[(NEFT, NNP), (Cr-SBIN0010368-RAO, NNP), (INSU...</td>\n",
       "      <td>{'ORGANIZATION': 3, 'PERSON': 1}</td>\n",
       "      <td>3.0</td>\n",
       "      <td>1.0</td>\n",
       "    </tr>\n",
       "    <tr>\n",
       "      <th>19</th>\n",
       "      <td>UPI-KEZIAH MARIA KORAH-keziahko-1@okhdfcbank-C...</td>\n",
       "      <td>[UPI-KEZIAH, MARIA, KORAH-keziahko-1, @, okhdf...</td>\n",
       "      <td>[(UPI-KEZIAH, JJ), (MARIA, NNP), (KORAH-keziah...</td>\n",
       "      <td>{'ORGANIZATION': 1}</td>\n",
       "      <td>1.0</td>\n",
       "      <td>NaN</td>\n",
       "    </tr>\n",
       "  </tbody>\n",
       "</table>\n",
       "</div>"
      ],
      "text/plain": [
       "                                          Description  \\\n",
       "0   NEFT Cr-SBIN0010368-RAO INSULATING COMPANY PRI...   \n",
       "1   UPI-Razorpay Software Pr-razor.pay@sbi-SBIN001...   \n",
       "2   UPI-razorpay-razorpay@icici-ICIC0000001-111815...   \n",
       "3   UPI-lazypay-lazypay.payu@axisbank-UTIB0000000-...   \n",
       "4   UPI-PUNITH C-punithcgowda740@okhdfcbank-PYTM01...   \n",
       "5   UPI-lazypay-lazypay.payu@axisbank-UTIB0000000-...   \n",
       "6   UPI-LAZY PAY-lazypay.payu@hdfcbank-HDFC0000499...   \n",
       "7   UPI-JYOTHI VASUDEV ANAND-jvanandaram66@okhdfcb...   \n",
       "8   UPI-LAZY PAY-lazypay.payu@hdfcbank-HDFC0000499...   \n",
       "9   IMPS-110410843404-PayU Payment Private-HDFC-xx...   \n",
       "10  UPI-BHARATH KUMAR R-bharathraj808-1@okaxis-BAR...   \n",
       "11  50200055363432-TPT-Capital-MYCAP FINANCIAL TEC...   \n",
       "12  RTGS Cr-CNRB0000885-PAVAN G-Ishwar Venkat Gogi...   \n",
       "13  UPI-dunzo-dunzo.payu@axisbank-UTIB0000000-1094...   \n",
       "14                        Credit Interest Capitalised   \n",
       "15  UPI-razorpay-razorpay@icici-ICIC0000001-109011...   \n",
       "16              POS 416021XXXXXX2221 BLUETOKAI COFFEE   \n",
       "17  UPI-PUNITH C-punithcgowda740-2@okicici-ICIC000...   \n",
       "18  NEFT Cr-SBIN0010368-RAO INSULATING COMPANY PRI...   \n",
       "19  UPI-KEZIAH MARIA KORAH-keziahko-1@okhdfcbank-C...   \n",
       "\n",
       "                                             tokenize  \\\n",
       "0   [NEFT, Cr-SBIN0010368-RAO, INSULATING, COMPANY...   \n",
       "1   [UPI-Razorpay, Software, Pr-razor.pay, @, sbi-...   \n",
       "2   [UPI-razorpay-razorpay, @, icici-ICIC0000001-1...   \n",
       "3   [UPI-lazypay-lazypay.payu, @, axisbank-UTIB000...   \n",
       "4   [UPI-PUNITH, C-punithcgowda740, @, okhdfcbank-...   \n",
       "5   [UPI-lazypay-lazypay.payu, @, axisbank-UTIB000...   \n",
       "6   [UPI-LAZY, PAY-lazypay.payu, @, hdfcbank-HDFC0...   \n",
       "7   [UPI-JYOTHI, VASUDEV, ANAND-jvanandaram66, @, ...   \n",
       "8   [UPI-LAZY, PAY-lazypay.payu, @, hdfcbank-HDFC0...   \n",
       "9   [IMPS-110410843404-PayU, Payment, Private-HDFC...   \n",
       "10  [UPI-BHARATH, KUMAR, R-bharathraj808-1, @, oka...   \n",
       "11  [50200055363432-TPT-Capital-MYCAP, FINANCIAL, ...   \n",
       "12  [RTGS, Cr-CNRB0000885-PAVAN, G-Ishwar, Venkat,...   \n",
       "13  [UPI-dunzo-dunzo.payu, @, axisbank-UTIB0000000...   \n",
       "14                    [Credit, Interest, Capitalised]   \n",
       "15  [UPI-razorpay-razorpay, @, icici-ICIC0000001-1...   \n",
       "16         [POS, 416021XXXXXX2221, BLUETOKAI, COFFEE]   \n",
       "17  [UPI-PUNITH, C-punithcgowda740-2, @, okicici-I...   \n",
       "18  [NEFT, Cr-SBIN0010368-RAO, INSULATING, COMPANY...   \n",
       "19  [UPI-KEZIAH, MARIA, KORAH-keziahko-1, @, okhdf...   \n",
       "\n",
       "                                             pos_tags  \\\n",
       "0   [(NEFT, NNP), (Cr-SBIN0010368-RAO, NNP), (INSU...   \n",
       "1   [(UPI-Razorpay, JJ), (Software, NNP), (Pr-razo...   \n",
       "2   [(UPI-razorpay-razorpay, JJ), (@, NNP), (icici...   \n",
       "3   [(UPI-lazypay-lazypay.payu, JJ), (@, NNP), (ax...   \n",
       "4   [(UPI-PUNITH, JJ), (C-punithcgowda740, NNP), (...   \n",
       "5   [(UPI-lazypay-lazypay.payu, JJ), (@, NNP), (ax...   \n",
       "6   [(UPI-LAZY, JJ), (PAY-lazypay.payu, NNP), (@, ...   \n",
       "7   [(UPI-JYOTHI, JJ), (VASUDEV, NNP), (ANAND-jvan...   \n",
       "8   [(UPI-LAZY, JJ), (PAY-lazypay.payu, NNP), (@, ...   \n",
       "9   [(IMPS-110410843404-PayU, JJ), (Payment, NNP),...   \n",
       "10  [(UPI-BHARATH, JJ), (KUMAR, NNP), (R-bharathra...   \n",
       "11  [(50200055363432-TPT-Capital-MYCAP, JJ), (FINA...   \n",
       "12  [(RTGS, JJ), (Cr-CNRB0000885-PAVAN, NNP), (G-I...   \n",
       "13  [(UPI-dunzo-dunzo.payu, JJ), (@, NNP), (axisba...   \n",
       "14  [(Credit, NN), (Interest, NNP), (Capitalised, ...   \n",
       "15  [(UPI-razorpay-razorpay, JJ), (@, NNP), (icici...   \n",
       "16  [(POS, NNP), (416021XXXXXX2221, CD), (BLUETOKA...   \n",
       "17  [(UPI-PUNITH, JJ), (C-punithcgowda740-2, NNP),...   \n",
       "18  [(NEFT, NNP), (Cr-SBIN0010368-RAO, NNP), (INSU...   \n",
       "19  [(UPI-KEZIAH, JJ), (MARIA, NNP), (KORAH-keziah...   \n",
       "\n",
       "                   entityrecognition  ORGANIZATION  PERSON  \n",
       "0   {'ORGANIZATION': 3, 'PERSON': 1}           3.0     1.0  \n",
       "1                {'ORGANIZATION': 2}           2.0     NaN  \n",
       "2                      {'PERSON': 1}           NaN     1.0  \n",
       "3                                 {}           NaN     NaN  \n",
       "4                                 {}           NaN     NaN  \n",
       "5                                 {}           NaN     NaN  \n",
       "6                                 {}           NaN     NaN  \n",
       "7                {'ORGANIZATION': 1}           1.0     NaN  \n",
       "8                                 {}           NaN     NaN  \n",
       "9                                 {}           NaN     NaN  \n",
       "10               {'ORGANIZATION': 1}           1.0     NaN  \n",
       "11               {'ORGANIZATION': 2}           2.0     NaN  \n",
       "12  {'ORGANIZATION': 1, 'PERSON': 1}           1.0     1.0  \n",
       "13                                {}           NaN     NaN  \n",
       "14  {'ORGANIZATION': 1, 'PERSON': 1}           1.0     1.0  \n",
       "15                     {'PERSON': 1}           NaN     1.0  \n",
       "16               {'ORGANIZATION': 1}           1.0     NaN  \n",
       "17                                {}           NaN     NaN  \n",
       "18  {'ORGANIZATION': 3, 'PERSON': 1}           3.0     1.0  \n",
       "19               {'ORGANIZATION': 1}           1.0     NaN  "
      ]
     },
     "execution_count": 27,
     "metadata": {},
     "output_type": "execute_result"
    }
   ],
   "source": [
    "import nltk\n",
    "import collections\n",
    "\n",
    "def extract_ner_count(tagged):\n",
    "    entities = {}\n",
    "    chunks = nltk.ne_chunk(tagged)\n",
    "    for chunk in chunks:\n",
    "        if type(chunk) is nltk.Tree:\n",
    "            \n",
    "          #if you don't need the entities, just add the label directly rather than this.\n",
    "          t = ''.join(c[0] for c in chunk.leaves())\n",
    "          entities[t] = chunk.label()\n",
    "    return collections.Counter(entities.values())\n",
    "\n",
    "\n",
    "des=pd.read_csv(r\"D:\\chatbot\\personal_finance_data.csv\",usecols=['Description'])\n",
    "des['tokenize'] = des.apply(lambda row: nltk.word_tokenize(row['Description']), axis=1)\n",
    "des['pos_tags'] = des.apply(lambda row: nltk.pos_tag(row['tokenize']), axis=1)\n",
    "des['entityrecognition']=des.apply(lambda row: extract_ner_count(row['pos_tags']), axis=1)\n",
    "des = pd.concat([des, pd.DataFrame(list(des[\"entityrecognition\"]))], axis=1)\n",
    "\n",
    "des = pd.DataFrame(des)\n",
    "des"
   ]
  },
  {
   "cell_type": "markdown",
   "metadata": {},
   "source": [
    "**- OBSERVATION :**\n",
    "    \n",
    "- In most of the cases we are getting only NaN values.\n",
    "<br>\n",
    "\n",
    "- So now we will try to categorize the Description column by manually selected categories only."
   ]
  },
  {
   "cell_type": "code",
   "execution_count": 28,
   "metadata": {},
   "outputs": [
    {
     "data": {
      "text/html": [
       "<div>\n",
       "<style scoped>\n",
       "    .dataframe tbody tr th:only-of-type {\n",
       "        vertical-align: middle;\n",
       "    }\n",
       "\n",
       "    .dataframe tbody tr th {\n",
       "        vertical-align: top;\n",
       "    }\n",
       "\n",
       "    .dataframe thead th {\n",
       "        text-align: right;\n",
       "    }\n",
       "</style>\n",
       "<table border=\"1\" class=\"dataframe\">\n",
       "  <thead>\n",
       "    <tr style=\"text-align: right;\">\n",
       "      <th></th>\n",
       "      <th>Description</th>\n",
       "      <th>GPE</th>\n",
       "      <th>PERSON</th>\n",
       "      <th>FACILITY</th>\n",
       "      <th>GSP</th>\n",
       "      <th>CARDINAL</th>\n",
       "      <th>ORGANIZATION</th>\n",
       "      <th>LOCATION</th>\n",
       "    </tr>\n",
       "  </thead>\n",
       "  <tbody>\n",
       "    <tr>\n",
       "      <th>0</th>\n",
       "      <td>NEFT Cr-SBIN0010368-RAO INSULATING COMPANY PRI...</td>\n",
       "      <td>0</td>\n",
       "      <td>1.0</td>\n",
       "      <td>0</td>\n",
       "      <td>0</td>\n",
       "      <td>0</td>\n",
       "      <td>3.0</td>\n",
       "      <td>0</td>\n",
       "    </tr>\n",
       "    <tr>\n",
       "      <th>1</th>\n",
       "      <td>UPI-Razorpay Software Pr-razor.pay@sbi-SBIN001...</td>\n",
       "      <td>0</td>\n",
       "      <td>0.0</td>\n",
       "      <td>0</td>\n",
       "      <td>0</td>\n",
       "      <td>0</td>\n",
       "      <td>2.0</td>\n",
       "      <td>0</td>\n",
       "    </tr>\n",
       "    <tr>\n",
       "      <th>2</th>\n",
       "      <td>UPI-razorpay-razorpay@icici-ICIC0000001-111815...</td>\n",
       "      <td>0</td>\n",
       "      <td>1.0</td>\n",
       "      <td>0</td>\n",
       "      <td>0</td>\n",
       "      <td>0</td>\n",
       "      <td>0.0</td>\n",
       "      <td>0</td>\n",
       "    </tr>\n",
       "    <tr>\n",
       "      <th>3</th>\n",
       "      <td>UPI-lazypay-lazypay.payu@axisbank-UTIB0000000-...</td>\n",
       "      <td>0</td>\n",
       "      <td>0.0</td>\n",
       "      <td>0</td>\n",
       "      <td>0</td>\n",
       "      <td>0</td>\n",
       "      <td>0.0</td>\n",
       "      <td>0</td>\n",
       "    </tr>\n",
       "    <tr>\n",
       "      <th>4</th>\n",
       "      <td>UPI-PUNITH C-punithcgowda740@okhdfcbank-PYTM01...</td>\n",
       "      <td>0</td>\n",
       "      <td>0.0</td>\n",
       "      <td>0</td>\n",
       "      <td>0</td>\n",
       "      <td>0</td>\n",
       "      <td>0.0</td>\n",
       "      <td>0</td>\n",
       "    </tr>\n",
       "    <tr>\n",
       "      <th>5</th>\n",
       "      <td>UPI-lazypay-lazypay.payu@axisbank-UTIB0000000-...</td>\n",
       "      <td>0</td>\n",
       "      <td>0.0</td>\n",
       "      <td>0</td>\n",
       "      <td>0</td>\n",
       "      <td>0</td>\n",
       "      <td>0.0</td>\n",
       "      <td>0</td>\n",
       "    </tr>\n",
       "    <tr>\n",
       "      <th>6</th>\n",
       "      <td>UPI-LAZY PAY-lazypay.payu@hdfcbank-HDFC0000499...</td>\n",
       "      <td>0</td>\n",
       "      <td>0.0</td>\n",
       "      <td>0</td>\n",
       "      <td>0</td>\n",
       "      <td>0</td>\n",
       "      <td>0.0</td>\n",
       "      <td>0</td>\n",
       "    </tr>\n",
       "    <tr>\n",
       "      <th>7</th>\n",
       "      <td>UPI-JYOTHI VASUDEV ANAND-jvanandaram66@okhdfcb...</td>\n",
       "      <td>0</td>\n",
       "      <td>0.0</td>\n",
       "      <td>0</td>\n",
       "      <td>0</td>\n",
       "      <td>0</td>\n",
       "      <td>1.0</td>\n",
       "      <td>0</td>\n",
       "    </tr>\n",
       "    <tr>\n",
       "      <th>8</th>\n",
       "      <td>UPI-LAZY PAY-lazypay.payu@hdfcbank-HDFC0000499...</td>\n",
       "      <td>0</td>\n",
       "      <td>0.0</td>\n",
       "      <td>0</td>\n",
       "      <td>0</td>\n",
       "      <td>0</td>\n",
       "      <td>0.0</td>\n",
       "      <td>0</td>\n",
       "    </tr>\n",
       "    <tr>\n",
       "      <th>9</th>\n",
       "      <td>IMPS-110410843404-PayU Payment Private-HDFC-xx...</td>\n",
       "      <td>0</td>\n",
       "      <td>0.0</td>\n",
       "      <td>0</td>\n",
       "      <td>0</td>\n",
       "      <td>0</td>\n",
       "      <td>0.0</td>\n",
       "      <td>0</td>\n",
       "    </tr>\n",
       "    <tr>\n",
       "      <th>10</th>\n",
       "      <td>UPI-BHARATH KUMAR R-bharathraj808-1@okaxis-BAR...</td>\n",
       "      <td>0</td>\n",
       "      <td>0.0</td>\n",
       "      <td>0</td>\n",
       "      <td>0</td>\n",
       "      <td>0</td>\n",
       "      <td>1.0</td>\n",
       "      <td>0</td>\n",
       "    </tr>\n",
       "    <tr>\n",
       "      <th>11</th>\n",
       "      <td>50200055363432-TPT-Capital-MYCAP FINANCIAL TEC...</td>\n",
       "      <td>0</td>\n",
       "      <td>0.0</td>\n",
       "      <td>0</td>\n",
       "      <td>0</td>\n",
       "      <td>0</td>\n",
       "      <td>2.0</td>\n",
       "      <td>0</td>\n",
       "    </tr>\n",
       "    <tr>\n",
       "      <th>12</th>\n",
       "      <td>RTGS Cr-CNRB0000885-PAVAN G-Ishwar Venkat Gogi...</td>\n",
       "      <td>0</td>\n",
       "      <td>1.0</td>\n",
       "      <td>0</td>\n",
       "      <td>0</td>\n",
       "      <td>0</td>\n",
       "      <td>1.0</td>\n",
       "      <td>0</td>\n",
       "    </tr>\n",
       "    <tr>\n",
       "      <th>13</th>\n",
       "      <td>UPI-dunzo-dunzo.payu@axisbank-UTIB0000000-1094...</td>\n",
       "      <td>0</td>\n",
       "      <td>0.0</td>\n",
       "      <td>0</td>\n",
       "      <td>0</td>\n",
       "      <td>0</td>\n",
       "      <td>0.0</td>\n",
       "      <td>0</td>\n",
       "    </tr>\n",
       "    <tr>\n",
       "      <th>14</th>\n",
       "      <td>Credit Interest Capitalised</td>\n",
       "      <td>0</td>\n",
       "      <td>1.0</td>\n",
       "      <td>0</td>\n",
       "      <td>0</td>\n",
       "      <td>0</td>\n",
       "      <td>1.0</td>\n",
       "      <td>0</td>\n",
       "    </tr>\n",
       "    <tr>\n",
       "      <th>15</th>\n",
       "      <td>UPI-razorpay-razorpay@icici-ICIC0000001-109011...</td>\n",
       "      <td>0</td>\n",
       "      <td>1.0</td>\n",
       "      <td>0</td>\n",
       "      <td>0</td>\n",
       "      <td>0</td>\n",
       "      <td>0.0</td>\n",
       "      <td>0</td>\n",
       "    </tr>\n",
       "    <tr>\n",
       "      <th>16</th>\n",
       "      <td>POS 416021XXXXXX2221 BLUETOKAI COFFEE</td>\n",
       "      <td>0</td>\n",
       "      <td>0.0</td>\n",
       "      <td>0</td>\n",
       "      <td>0</td>\n",
       "      <td>0</td>\n",
       "      <td>1.0</td>\n",
       "      <td>0</td>\n",
       "    </tr>\n",
       "    <tr>\n",
       "      <th>17</th>\n",
       "      <td>UPI-PUNITH C-punithcgowda740-2@okicici-ICIC000...</td>\n",
       "      <td>0</td>\n",
       "      <td>0.0</td>\n",
       "      <td>0</td>\n",
       "      <td>0</td>\n",
       "      <td>0</td>\n",
       "      <td>0.0</td>\n",
       "      <td>0</td>\n",
       "    </tr>\n",
       "    <tr>\n",
       "      <th>18</th>\n",
       "      <td>NEFT Cr-SBIN0010368-RAO INSULATING COMPANY PRI...</td>\n",
       "      <td>0</td>\n",
       "      <td>1.0</td>\n",
       "      <td>0</td>\n",
       "      <td>0</td>\n",
       "      <td>0</td>\n",
       "      <td>3.0</td>\n",
       "      <td>0</td>\n",
       "    </tr>\n",
       "    <tr>\n",
       "      <th>19</th>\n",
       "      <td>UPI-KEZIAH MARIA KORAH-keziahko-1@okhdfcbank-C...</td>\n",
       "      <td>0</td>\n",
       "      <td>0.0</td>\n",
       "      <td>0</td>\n",
       "      <td>0</td>\n",
       "      <td>0</td>\n",
       "      <td>1.0</td>\n",
       "      <td>0</td>\n",
       "    </tr>\n",
       "  </tbody>\n",
       "</table>\n",
       "</div>"
      ],
      "text/plain": [
       "                                          Description  GPE  PERSON  FACILITY  \\\n",
       "0   NEFT Cr-SBIN0010368-RAO INSULATING COMPANY PRI...    0     1.0         0   \n",
       "1   UPI-Razorpay Software Pr-razor.pay@sbi-SBIN001...    0     0.0         0   \n",
       "2   UPI-razorpay-razorpay@icici-ICIC0000001-111815...    0     1.0         0   \n",
       "3   UPI-lazypay-lazypay.payu@axisbank-UTIB0000000-...    0     0.0         0   \n",
       "4   UPI-PUNITH C-punithcgowda740@okhdfcbank-PYTM01...    0     0.0         0   \n",
       "5   UPI-lazypay-lazypay.payu@axisbank-UTIB0000000-...    0     0.0         0   \n",
       "6   UPI-LAZY PAY-lazypay.payu@hdfcbank-HDFC0000499...    0     0.0         0   \n",
       "7   UPI-JYOTHI VASUDEV ANAND-jvanandaram66@okhdfcb...    0     0.0         0   \n",
       "8   UPI-LAZY PAY-lazypay.payu@hdfcbank-HDFC0000499...    0     0.0         0   \n",
       "9   IMPS-110410843404-PayU Payment Private-HDFC-xx...    0     0.0         0   \n",
       "10  UPI-BHARATH KUMAR R-bharathraj808-1@okaxis-BAR...    0     0.0         0   \n",
       "11  50200055363432-TPT-Capital-MYCAP FINANCIAL TEC...    0     0.0         0   \n",
       "12  RTGS Cr-CNRB0000885-PAVAN G-Ishwar Venkat Gogi...    0     1.0         0   \n",
       "13  UPI-dunzo-dunzo.payu@axisbank-UTIB0000000-1094...    0     0.0         0   \n",
       "14                        Credit Interest Capitalised    0     1.0         0   \n",
       "15  UPI-razorpay-razorpay@icici-ICIC0000001-109011...    0     1.0         0   \n",
       "16              POS 416021XXXXXX2221 BLUETOKAI COFFEE    0     0.0         0   \n",
       "17  UPI-PUNITH C-punithcgowda740-2@okicici-ICIC000...    0     0.0         0   \n",
       "18  NEFT Cr-SBIN0010368-RAO INSULATING COMPANY PRI...    0     1.0         0   \n",
       "19  UPI-KEZIAH MARIA KORAH-keziahko-1@okhdfcbank-C...    0     0.0         0   \n",
       "\n",
       "    GSP  CARDINAL  ORGANIZATION  LOCATION  \n",
       "0     0         0           3.0         0  \n",
       "1     0         0           2.0         0  \n",
       "2     0         0           0.0         0  \n",
       "3     0         0           0.0         0  \n",
       "4     0         0           0.0         0  \n",
       "5     0         0           0.0         0  \n",
       "6     0         0           0.0         0  \n",
       "7     0         0           1.0         0  \n",
       "8     0         0           0.0         0  \n",
       "9     0         0           0.0         0  \n",
       "10    0         0           1.0         0  \n",
       "11    0         0           2.0         0  \n",
       "12    0         0           1.0         0  \n",
       "13    0         0           0.0         0  \n",
       "14    0         0           1.0         0  \n",
       "15    0         0           0.0         0  \n",
       "16    0         0           1.0         0  \n",
       "17    0         0           0.0         0  \n",
       "18    0         0           3.0         0  \n",
       "19    0         0           1.0         0  "
      ]
     },
     "execution_count": 28,
     "metadata": {},
     "output_type": "execute_result"
    }
   ],
   "source": [
    "tagger = nltk.PerceptronTagger()\n",
    "chunker = nltk.data.load(nltk.chunk._MULTICLASS_NE_CHUNKER)\n",
    "NE_Types = {'GPE', 'ORGANIZATION', 'LOCATION', 'GSP', 'CARDINAL', 'FACILITY', 'PERSON'}\n",
    "\n",
    "def extract_ner_count(text):\n",
    "    c = collections.Counter()\n",
    "    chunks = chunker.parse(tagger.tag(nltk.word_tokenize(text,preserve_line=True)))\n",
    "    for chunk in chunks:\n",
    "        if type(chunk) is nltk.Tree:\n",
    "            c.update([chunk.label()])\n",
    "    return c\n",
    "\n",
    "description_values = pd.read_csv(r\"D:\\chatbot\\personal_finance_data.csv\",usecols=['Description'])\n",
    "for NE_Type in NE_Types:\n",
    "    description_values[NE_Type] = 0\n",
    "description_values.update(list(description_values[\"Description\"].apply(extract_ner_count)))\n",
    "\n",
    "description_values = pd.DataFrame(description_values)\n",
    "description_values"
   ]
  },
  {
   "cell_type": "markdown",
   "metadata": {},
   "source": [
    "**- OBSERVATION :**\n",
    "    \n",
    "- **PERSON** & **ORGANIZATION** are the only column which are been recognized."
   ]
  },
  {
   "cell_type": "markdown",
   "metadata": {},
   "source": [
    "<br>\n",
    "_____________________________________________________________________________________________________________________________\n",
    "\n",
    "# Categorize The Transactions Based On Condition  (IMP)\n",
    "\n",
    "#### Understanding `Description` column with characters"
   ]
  },
  {
   "cell_type": "markdown",
   "metadata": {},
   "source": [
    "### Get All the Records which inclues: `mask` \n",
    "\n",
    "**mask :** is a condition which will help us to extract important data."
   ]
  },
  {
   "cell_type": "code",
   "execution_count": 29,
   "metadata": {},
   "outputs": [],
   "source": [
    "# data     = dataframe name\n",
    "# col_name = column name on which we want to apply this get_record function\n",
    "# word     = on which word we are going to apply this search\n",
    "\n",
    "def get_records(data, col_name, word):\n",
    "    \n",
    "    # get all the column with the help of col_name feature which include word\n",
    "    mask = data[col_name].str.lower().str.contains(word)\n",
    "    return data[mask]"
   ]
  },
  {
   "cell_type": "markdown",
   "metadata": {},
   "source": [
    "-----------------------\n",
    "### Applying get_record on the column `Description` on the word `upi`\n",
    "\n",
    "- It will give us all the record which involve UPI transaction."
   ]
  },
  {
   "cell_type": "code",
   "execution_count": 30,
   "metadata": {},
   "outputs": [
    {
     "data": {
      "text/html": [
       "<div>\n",
       "<style scoped>\n",
       "    .dataframe tbody tr th:only-of-type {\n",
       "        vertical-align: middle;\n",
       "    }\n",
       "\n",
       "    .dataframe tbody tr th {\n",
       "        vertical-align: top;\n",
       "    }\n",
       "\n",
       "    .dataframe thead th {\n",
       "        text-align: right;\n",
       "    }\n",
       "</style>\n",
       "<table border=\"1\" class=\"dataframe\">\n",
       "  <thead>\n",
       "    <tr style=\"text-align: right;\">\n",
       "      <th></th>\n",
       "      <th>Txn_Date</th>\n",
       "      <th>Description</th>\n",
       "      <th>Value_Date</th>\n",
       "      <th>Ref_No_and_Check_No</th>\n",
       "      <th>Debit</th>\n",
       "      <th>Credit</th>\n",
       "      <th>Balance</th>\n",
       "      <th>new_debit</th>\n",
       "      <th>new_credit</th>\n",
       "    </tr>\n",
       "  </thead>\n",
       "  <tbody>\n",
       "    <tr>\n",
       "      <th>1</th>\n",
       "      <td>2021-04-29</td>\n",
       "      <td>UPI-Razorpay Software Pr-razor.pay@sbi-SBIN001...</td>\n",
       "      <td>2021-04-29</td>\n",
       "      <td>111910372620</td>\n",
       "      <td>588.82</td>\n",
       "      <td>NaN</td>\n",
       "      <td>33661.70</td>\n",
       "      <td>588.82</td>\n",
       "      <td>0.0</td>\n",
       "    </tr>\n",
       "    <tr>\n",
       "      <th>2</th>\n",
       "      <td>2021-04-28</td>\n",
       "      <td>UPI-razorpay-razorpay@icici-ICIC0000001-111815...</td>\n",
       "      <td>2021-04-28</td>\n",
       "      <td>111815326599</td>\n",
       "      <td>588.82</td>\n",
       "      <td>NaN</td>\n",
       "      <td>34250.52</td>\n",
       "      <td>588.82</td>\n",
       "      <td>0.0</td>\n",
       "    </tr>\n",
       "    <tr>\n",
       "      <th>3</th>\n",
       "      <td>2021-04-27</td>\n",
       "      <td>UPI-lazypay-lazypay.payu@axisbank-UTIB0000000-...</td>\n",
       "      <td>2021-04-27</td>\n",
       "      <td>111722088832</td>\n",
       "      <td>3096.00</td>\n",
       "      <td>NaN</td>\n",
       "      <td>34839.34</td>\n",
       "      <td>3096.00</td>\n",
       "      <td>0.0</td>\n",
       "    </tr>\n",
       "    <tr>\n",
       "      <th>4</th>\n",
       "      <td>2021-04-22</td>\n",
       "      <td>UPI-PUNITH C-punithcgowda740@okhdfcbank-PYTM01...</td>\n",
       "      <td>2021-04-22</td>\n",
       "      <td>111213624307</td>\n",
       "      <td>2700.00</td>\n",
       "      <td>NaN</td>\n",
       "      <td>37935.34</td>\n",
       "      <td>2700.00</td>\n",
       "      <td>0.0</td>\n",
       "    </tr>\n",
       "    <tr>\n",
       "      <th>5</th>\n",
       "      <td>2021-04-18</td>\n",
       "      <td>UPI-lazypay-lazypay.payu@axisbank-UTIB0000000-...</td>\n",
       "      <td>2021-04-18</td>\n",
       "      <td>110821046850</td>\n",
       "      <td>1788.00</td>\n",
       "      <td>NaN</td>\n",
       "      <td>40635.34</td>\n",
       "      <td>1788.00</td>\n",
       "      <td>0.0</td>\n",
       "    </tr>\n",
       "    <tr>\n",
       "      <th>6</th>\n",
       "      <td>2021-04-16</td>\n",
       "      <td>UPI-LAZY PAY-lazypay.payu@hdfcbank-HDFC0000499...</td>\n",
       "      <td>2021-04-16</td>\n",
       "      <td>110609687438</td>\n",
       "      <td>379.00</td>\n",
       "      <td>NaN</td>\n",
       "      <td>42423.34</td>\n",
       "      <td>379.00</td>\n",
       "      <td>0.0</td>\n",
       "    </tr>\n",
       "    <tr>\n",
       "      <th>7</th>\n",
       "      <td>2021-04-15</td>\n",
       "      <td>UPI-JYOTHI VASUDEV ANAND-jvanandaram66@okhdfcb...</td>\n",
       "      <td>2021-04-16</td>\n",
       "      <td>110523568403</td>\n",
       "      <td>3000.00</td>\n",
       "      <td>NaN</td>\n",
       "      <td>42802.34</td>\n",
       "      <td>3000.00</td>\n",
       "      <td>0.0</td>\n",
       "    </tr>\n",
       "    <tr>\n",
       "      <th>8</th>\n",
       "      <td>2021-04-14</td>\n",
       "      <td>UPI-LAZY PAY-lazypay.payu@hdfcbank-HDFC0000499...</td>\n",
       "      <td>2021-04-14</td>\n",
       "      <td>110411215936</td>\n",
       "      <td>202.00</td>\n",
       "      <td>NaN</td>\n",
       "      <td>45802.34</td>\n",
       "      <td>202.00</td>\n",
       "      <td>0.0</td>\n",
       "    </tr>\n",
       "    <tr>\n",
       "      <th>10</th>\n",
       "      <td>2021-07-04</td>\n",
       "      <td>UPI-BHARATH KUMAR R-bharathraj808-1@okaxis-BAR...</td>\n",
       "      <td>2021-07-04</td>\n",
       "      <td>109716830389</td>\n",
       "      <td>2850.00</td>\n",
       "      <td>NaN</td>\n",
       "      <td>46003.34</td>\n",
       "      <td>2850.00</td>\n",
       "      <td>0.0</td>\n",
       "    </tr>\n",
       "    <tr>\n",
       "      <th>13</th>\n",
       "      <td>2021-04-04</td>\n",
       "      <td>UPI-dunzo-dunzo.payu@axisbank-UTIB0000000-1094...</td>\n",
       "      <td>2021-04-04</td>\n",
       "      <td>109418446327</td>\n",
       "      <td>2384.00</td>\n",
       "      <td>NaN</td>\n",
       "      <td>48853.34</td>\n",
       "      <td>2384.00</td>\n",
       "      <td>0.0</td>\n",
       "    </tr>\n",
       "    <tr>\n",
       "      <th>15</th>\n",
       "      <td>2021-03-31</td>\n",
       "      <td>UPI-razorpay-razorpay@icici-ICIC0000001-109011...</td>\n",
       "      <td>2021-03-31</td>\n",
       "      <td>109011126937</td>\n",
       "      <td>588.82</td>\n",
       "      <td>NaN</td>\n",
       "      <td>50506.34</td>\n",
       "      <td>588.82</td>\n",
       "      <td>0.0</td>\n",
       "    </tr>\n",
       "    <tr>\n",
       "      <th>17</th>\n",
       "      <td>2021-03-29</td>\n",
       "      <td>UPI-PUNITH C-punithcgowda740-2@okicici-ICIC000...</td>\n",
       "      <td>2021-03-29</td>\n",
       "      <td>108814778271</td>\n",
       "      <td>1000.00</td>\n",
       "      <td>NaN</td>\n",
       "      <td>51465.16</td>\n",
       "      <td>1000.00</td>\n",
       "      <td>0.0</td>\n",
       "    </tr>\n",
       "    <tr>\n",
       "      <th>19</th>\n",
       "      <td>2021-03-19</td>\n",
       "      <td>UPI-KEZIAH MARIA KORAH-keziahko-1@okhdfcbank-C...</td>\n",
       "      <td>2021-03-19</td>\n",
       "      <td>107810329994</td>\n",
       "      <td>NaN</td>\n",
       "      <td>240.0</td>\n",
       "      <td>22465.16</td>\n",
       "      <td>0.00</td>\n",
       "      <td>240.0</td>\n",
       "    </tr>\n",
       "  </tbody>\n",
       "</table>\n",
       "</div>"
      ],
      "text/plain": [
       "     Txn_Date                                        Description Value_Date  \\\n",
       "1  2021-04-29  UPI-Razorpay Software Pr-razor.pay@sbi-SBIN001... 2021-04-29   \n",
       "2  2021-04-28  UPI-razorpay-razorpay@icici-ICIC0000001-111815... 2021-04-28   \n",
       "3  2021-04-27  UPI-lazypay-lazypay.payu@axisbank-UTIB0000000-... 2021-04-27   \n",
       "4  2021-04-22  UPI-PUNITH C-punithcgowda740@okhdfcbank-PYTM01... 2021-04-22   \n",
       "5  2021-04-18  UPI-lazypay-lazypay.payu@axisbank-UTIB0000000-... 2021-04-18   \n",
       "6  2021-04-16  UPI-LAZY PAY-lazypay.payu@hdfcbank-HDFC0000499... 2021-04-16   \n",
       "7  2021-04-15  UPI-JYOTHI VASUDEV ANAND-jvanandaram66@okhdfcb... 2021-04-16   \n",
       "8  2021-04-14  UPI-LAZY PAY-lazypay.payu@hdfcbank-HDFC0000499... 2021-04-14   \n",
       "10 2021-07-04  UPI-BHARATH KUMAR R-bharathraj808-1@okaxis-BAR... 2021-07-04   \n",
       "13 2021-04-04  UPI-dunzo-dunzo.payu@axisbank-UTIB0000000-1094... 2021-04-04   \n",
       "15 2021-03-31  UPI-razorpay-razorpay@icici-ICIC0000001-109011... 2021-03-31   \n",
       "17 2021-03-29  UPI-PUNITH C-punithcgowda740-2@okicici-ICIC000... 2021-03-29   \n",
       "19 2021-03-19  UPI-KEZIAH MARIA KORAH-keziahko-1@okhdfcbank-C... 2021-03-19   \n",
       "\n",
       "   Ref_No_and_Check_No    Debit  Credit   Balance  new_debit  new_credit  \n",
       "1         111910372620   588.82     NaN  33661.70     588.82         0.0  \n",
       "2         111815326599   588.82     NaN  34250.52     588.82         0.0  \n",
       "3         111722088832  3096.00     NaN  34839.34    3096.00         0.0  \n",
       "4         111213624307  2700.00     NaN  37935.34    2700.00         0.0  \n",
       "5         110821046850  1788.00     NaN  40635.34    1788.00         0.0  \n",
       "6         110609687438   379.00     NaN  42423.34     379.00         0.0  \n",
       "7         110523568403  3000.00     NaN  42802.34    3000.00         0.0  \n",
       "8         110411215936   202.00     NaN  45802.34     202.00         0.0  \n",
       "10        109716830389  2850.00     NaN  46003.34    2850.00         0.0  \n",
       "13        109418446327  2384.00     NaN  48853.34    2384.00         0.0  \n",
       "15        109011126937   588.82     NaN  50506.34     588.82         0.0  \n",
       "17        108814778271  1000.00     NaN  51465.16    1000.00         0.0  \n",
       "19        107810329994      NaN   240.0  22465.16       0.00       240.0  "
      ]
     },
     "execution_count": 30,
     "metadata": {},
     "output_type": "execute_result"
    }
   ],
   "source": [
    "get_records(df, 'Description', 'upi')"
   ]
  },
  {
   "cell_type": "markdown",
   "metadata": {},
   "source": [
    "**- OBSERVATION :**\n",
    "\n",
    "- While searching with UPI we can see that 95% of our `Credit` column in 0.\n",
    "<br>\n",
    "\n",
    "- And 95% of values are present in `Debit` column."
   ]
  },
  {
   "cell_type": "markdown",
   "metadata": {},
   "source": [
    "### Diving deep into the UPI transaction only :\n",
    "\n",
    "(i) UPI-razorpay :"
   ]
  },
  {
   "cell_type": "code",
   "execution_count": 31,
   "metadata": {},
   "outputs": [
    {
     "data": {
      "text/html": [
       "<div>\n",
       "<style scoped>\n",
       "    .dataframe tbody tr th:only-of-type {\n",
       "        vertical-align: middle;\n",
       "    }\n",
       "\n",
       "    .dataframe tbody tr th {\n",
       "        vertical-align: top;\n",
       "    }\n",
       "\n",
       "    .dataframe thead th {\n",
       "        text-align: right;\n",
       "    }\n",
       "</style>\n",
       "<table border=\"1\" class=\"dataframe\">\n",
       "  <thead>\n",
       "    <tr style=\"text-align: right;\">\n",
       "      <th></th>\n",
       "      <th>Txn_Date</th>\n",
       "      <th>Description</th>\n",
       "      <th>Value_Date</th>\n",
       "      <th>Ref_No_and_Check_No</th>\n",
       "      <th>Debit</th>\n",
       "      <th>Credit</th>\n",
       "      <th>Balance</th>\n",
       "      <th>new_debit</th>\n",
       "      <th>new_credit</th>\n",
       "    </tr>\n",
       "  </thead>\n",
       "  <tbody>\n",
       "    <tr>\n",
       "      <th>1</th>\n",
       "      <td>2021-04-29</td>\n",
       "      <td>UPI-Razorpay Software Pr-razor.pay@sbi-SBIN001...</td>\n",
       "      <td>2021-04-29</td>\n",
       "      <td>111910372620</td>\n",
       "      <td>588.82</td>\n",
       "      <td>NaN</td>\n",
       "      <td>33661.70</td>\n",
       "      <td>588.82</td>\n",
       "      <td>0.0</td>\n",
       "    </tr>\n",
       "    <tr>\n",
       "      <th>2</th>\n",
       "      <td>2021-04-28</td>\n",
       "      <td>UPI-razorpay-razorpay@icici-ICIC0000001-111815...</td>\n",
       "      <td>2021-04-28</td>\n",
       "      <td>111815326599</td>\n",
       "      <td>588.82</td>\n",
       "      <td>NaN</td>\n",
       "      <td>34250.52</td>\n",
       "      <td>588.82</td>\n",
       "      <td>0.0</td>\n",
       "    </tr>\n",
       "    <tr>\n",
       "      <th>15</th>\n",
       "      <td>2021-03-31</td>\n",
       "      <td>UPI-razorpay-razorpay@icici-ICIC0000001-109011...</td>\n",
       "      <td>2021-03-31</td>\n",
       "      <td>109011126937</td>\n",
       "      <td>588.82</td>\n",
       "      <td>NaN</td>\n",
       "      <td>50506.34</td>\n",
       "      <td>588.82</td>\n",
       "      <td>0.0</td>\n",
       "    </tr>\n",
       "  </tbody>\n",
       "</table>\n",
       "</div>"
      ],
      "text/plain": [
       "     Txn_Date                                        Description Value_Date  \\\n",
       "1  2021-04-29  UPI-Razorpay Software Pr-razor.pay@sbi-SBIN001... 2021-04-29   \n",
       "2  2021-04-28  UPI-razorpay-razorpay@icici-ICIC0000001-111815... 2021-04-28   \n",
       "15 2021-03-31  UPI-razorpay-razorpay@icici-ICIC0000001-109011... 2021-03-31   \n",
       "\n",
       "   Ref_No_and_Check_No   Debit  Credit   Balance  new_debit  new_credit  \n",
       "1         111910372620  588.82     NaN  33661.70     588.82         0.0  \n",
       "2         111815326599  588.82     NaN  34250.52     588.82         0.0  \n",
       "15        109011126937  588.82     NaN  50506.34     588.82         0.0  "
      ]
     },
     "execution_count": 31,
     "metadata": {},
     "output_type": "execute_result"
    }
   ],
   "source": [
    "get_records(df, 'Description', 'upi-razorpay')"
   ]
  },
  {
   "cell_type": "markdown",
   "metadata": {},
   "source": [
    "**- OBSERVATION :**\n",
    "    \n",
    "- UPI-razorpay is only present in 3 records.\n",
    "<br>\n",
    "<br>\n",
    "<br>\n",
    "<br>\n",
    "\n",
    "\n",
    "(ii) UPI-Lazy"
   ]
  },
  {
   "cell_type": "code",
   "execution_count": 32,
   "metadata": {},
   "outputs": [
    {
     "data": {
      "text/html": [
       "<div>\n",
       "<style scoped>\n",
       "    .dataframe tbody tr th:only-of-type {\n",
       "        vertical-align: middle;\n",
       "    }\n",
       "\n",
       "    .dataframe tbody tr th {\n",
       "        vertical-align: top;\n",
       "    }\n",
       "\n",
       "    .dataframe thead th {\n",
       "        text-align: right;\n",
       "    }\n",
       "</style>\n",
       "<table border=\"1\" class=\"dataframe\">\n",
       "  <thead>\n",
       "    <tr style=\"text-align: right;\">\n",
       "      <th></th>\n",
       "      <th>Txn_Date</th>\n",
       "      <th>Description</th>\n",
       "      <th>Value_Date</th>\n",
       "      <th>Ref_No_and_Check_No</th>\n",
       "      <th>Debit</th>\n",
       "      <th>Credit</th>\n",
       "      <th>Balance</th>\n",
       "      <th>new_debit</th>\n",
       "      <th>new_credit</th>\n",
       "    </tr>\n",
       "  </thead>\n",
       "  <tbody>\n",
       "    <tr>\n",
       "      <th>3</th>\n",
       "      <td>2021-04-27</td>\n",
       "      <td>UPI-lazypay-lazypay.payu@axisbank-UTIB0000000-...</td>\n",
       "      <td>2021-04-27</td>\n",
       "      <td>111722088832</td>\n",
       "      <td>3096.0</td>\n",
       "      <td>NaN</td>\n",
       "      <td>34839.34</td>\n",
       "      <td>3096.0</td>\n",
       "      <td>0.0</td>\n",
       "    </tr>\n",
       "    <tr>\n",
       "      <th>5</th>\n",
       "      <td>2021-04-18</td>\n",
       "      <td>UPI-lazypay-lazypay.payu@axisbank-UTIB0000000-...</td>\n",
       "      <td>2021-04-18</td>\n",
       "      <td>110821046850</td>\n",
       "      <td>1788.0</td>\n",
       "      <td>NaN</td>\n",
       "      <td>40635.34</td>\n",
       "      <td>1788.0</td>\n",
       "      <td>0.0</td>\n",
       "    </tr>\n",
       "    <tr>\n",
       "      <th>6</th>\n",
       "      <td>2021-04-16</td>\n",
       "      <td>UPI-LAZY PAY-lazypay.payu@hdfcbank-HDFC0000499...</td>\n",
       "      <td>2021-04-16</td>\n",
       "      <td>110609687438</td>\n",
       "      <td>379.0</td>\n",
       "      <td>NaN</td>\n",
       "      <td>42423.34</td>\n",
       "      <td>379.0</td>\n",
       "      <td>0.0</td>\n",
       "    </tr>\n",
       "    <tr>\n",
       "      <th>8</th>\n",
       "      <td>2021-04-14</td>\n",
       "      <td>UPI-LAZY PAY-lazypay.payu@hdfcbank-HDFC0000499...</td>\n",
       "      <td>2021-04-14</td>\n",
       "      <td>110411215936</td>\n",
       "      <td>202.0</td>\n",
       "      <td>NaN</td>\n",
       "      <td>45802.34</td>\n",
       "      <td>202.0</td>\n",
       "      <td>0.0</td>\n",
       "    </tr>\n",
       "  </tbody>\n",
       "</table>\n",
       "</div>"
      ],
      "text/plain": [
       "    Txn_Date                                        Description Value_Date  \\\n",
       "3 2021-04-27  UPI-lazypay-lazypay.payu@axisbank-UTIB0000000-... 2021-04-27   \n",
       "5 2021-04-18  UPI-lazypay-lazypay.payu@axisbank-UTIB0000000-... 2021-04-18   \n",
       "6 2021-04-16  UPI-LAZY PAY-lazypay.payu@hdfcbank-HDFC0000499... 2021-04-16   \n",
       "8 2021-04-14  UPI-LAZY PAY-lazypay.payu@hdfcbank-HDFC0000499... 2021-04-14   \n",
       "\n",
       "  Ref_No_and_Check_No   Debit  Credit   Balance  new_debit  new_credit  \n",
       "3        111722088832  3096.0     NaN  34839.34     3096.0         0.0  \n",
       "5        110821046850  1788.0     NaN  40635.34     1788.0         0.0  \n",
       "6        110609687438   379.0     NaN  42423.34      379.0         0.0  \n",
       "8        110411215936   202.0     NaN  45802.34      202.0         0.0  "
      ]
     },
     "execution_count": 32,
     "metadata": {},
     "output_type": "execute_result"
    }
   ],
   "source": [
    "get_records(df, 'Description', 'upi-lazy')"
   ]
  },
  {
   "cell_type": "markdown",
   "metadata": {},
   "source": [
    "**- OBSERVATION :**\n",
    "    \n",
    "- UPI-Lazy is only present in 4 records.\n",
    "<br>\n",
    "<br>\n",
    "<br>\n",
    "<br>\n",
    "\n",
    "(iii) UPI-PUNITH"
   ]
  },
  {
   "cell_type": "code",
   "execution_count": 33,
   "metadata": {},
   "outputs": [
    {
     "data": {
      "text/html": [
       "<div>\n",
       "<style scoped>\n",
       "    .dataframe tbody tr th:only-of-type {\n",
       "        vertical-align: middle;\n",
       "    }\n",
       "\n",
       "    .dataframe tbody tr th {\n",
       "        vertical-align: top;\n",
       "    }\n",
       "\n",
       "    .dataframe thead th {\n",
       "        text-align: right;\n",
       "    }\n",
       "</style>\n",
       "<table border=\"1\" class=\"dataframe\">\n",
       "  <thead>\n",
       "    <tr style=\"text-align: right;\">\n",
       "      <th></th>\n",
       "      <th>Txn_Date</th>\n",
       "      <th>Description</th>\n",
       "      <th>Value_Date</th>\n",
       "      <th>Ref_No_and_Check_No</th>\n",
       "      <th>Debit</th>\n",
       "      <th>Credit</th>\n",
       "      <th>Balance</th>\n",
       "      <th>new_debit</th>\n",
       "      <th>new_credit</th>\n",
       "    </tr>\n",
       "  </thead>\n",
       "  <tbody>\n",
       "    <tr>\n",
       "      <th>4</th>\n",
       "      <td>2021-04-22</td>\n",
       "      <td>UPI-PUNITH C-punithcgowda740@okhdfcbank-PYTM01...</td>\n",
       "      <td>2021-04-22</td>\n",
       "      <td>111213624307</td>\n",
       "      <td>2700.0</td>\n",
       "      <td>NaN</td>\n",
       "      <td>37935.34</td>\n",
       "      <td>2700.0</td>\n",
       "      <td>0.0</td>\n",
       "    </tr>\n",
       "    <tr>\n",
       "      <th>17</th>\n",
       "      <td>2021-03-29</td>\n",
       "      <td>UPI-PUNITH C-punithcgowda740-2@okicici-ICIC000...</td>\n",
       "      <td>2021-03-29</td>\n",
       "      <td>108814778271</td>\n",
       "      <td>1000.0</td>\n",
       "      <td>NaN</td>\n",
       "      <td>51465.16</td>\n",
       "      <td>1000.0</td>\n",
       "      <td>0.0</td>\n",
       "    </tr>\n",
       "  </tbody>\n",
       "</table>\n",
       "</div>"
      ],
      "text/plain": [
       "     Txn_Date                                        Description Value_Date  \\\n",
       "4  2021-04-22  UPI-PUNITH C-punithcgowda740@okhdfcbank-PYTM01... 2021-04-22   \n",
       "17 2021-03-29  UPI-PUNITH C-punithcgowda740-2@okicici-ICIC000... 2021-03-29   \n",
       "\n",
       "   Ref_No_and_Check_No   Debit  Credit   Balance  new_debit  new_credit  \n",
       "4         111213624307  2700.0     NaN  37935.34     2700.0         0.0  \n",
       "17        108814778271  1000.0     NaN  51465.16     1000.0         0.0  "
      ]
     },
     "execution_count": 33,
     "metadata": {},
     "output_type": "execute_result"
    }
   ],
   "source": [
    "get_records(df, 'Description', 'upi-punith')"
   ]
  },
  {
   "cell_type": "markdown",
   "metadata": {},
   "source": [
    "**- OBSERVATION :**\n",
    "    \n",
    "- UPI-PUNITH is only present in 2 records.\n",
    "<br>\n",
    "<br>\n",
    "<br>\n",
    "<br>\n",
    "\n",
    "(iv) UPI-BHARAT"
   ]
  },
  {
   "cell_type": "code",
   "execution_count": 34,
   "metadata": {},
   "outputs": [
    {
     "data": {
      "text/html": [
       "<div>\n",
       "<style scoped>\n",
       "    .dataframe tbody tr th:only-of-type {\n",
       "        vertical-align: middle;\n",
       "    }\n",
       "\n",
       "    .dataframe tbody tr th {\n",
       "        vertical-align: top;\n",
       "    }\n",
       "\n",
       "    .dataframe thead th {\n",
       "        text-align: right;\n",
       "    }\n",
       "</style>\n",
       "<table border=\"1\" class=\"dataframe\">\n",
       "  <thead>\n",
       "    <tr style=\"text-align: right;\">\n",
       "      <th></th>\n",
       "      <th>Txn_Date</th>\n",
       "      <th>Description</th>\n",
       "      <th>Value_Date</th>\n",
       "      <th>Ref_No_and_Check_No</th>\n",
       "      <th>Debit</th>\n",
       "      <th>Credit</th>\n",
       "      <th>Balance</th>\n",
       "      <th>new_debit</th>\n",
       "      <th>new_credit</th>\n",
       "    </tr>\n",
       "  </thead>\n",
       "  <tbody>\n",
       "    <tr>\n",
       "      <th>10</th>\n",
       "      <td>2021-07-04</td>\n",
       "      <td>UPI-BHARATH KUMAR R-bharathraj808-1@okaxis-BAR...</td>\n",
       "      <td>2021-07-04</td>\n",
       "      <td>109716830389</td>\n",
       "      <td>2850.0</td>\n",
       "      <td>NaN</td>\n",
       "      <td>46003.34</td>\n",
       "      <td>2850.0</td>\n",
       "      <td>0.0</td>\n",
       "    </tr>\n",
       "  </tbody>\n",
       "</table>\n",
       "</div>"
      ],
      "text/plain": [
       "     Txn_Date                                        Description Value_Date  \\\n",
       "10 2021-07-04  UPI-BHARATH KUMAR R-bharathraj808-1@okaxis-BAR... 2021-07-04   \n",
       "\n",
       "   Ref_No_and_Check_No   Debit  Credit   Balance  new_debit  new_credit  \n",
       "10        109716830389  2850.0     NaN  46003.34     2850.0         0.0  "
      ]
     },
     "execution_count": 34,
     "metadata": {},
     "output_type": "execute_result"
    }
   ],
   "source": [
    "get_records(df, 'Description', 'upi-bharat')"
   ]
  },
  {
   "cell_type": "markdown",
   "metadata": {},
   "source": [
    "**- OBSERVATION :**\n",
    "    \n",
    "- UPI-BHARAT is only present in 1 records.\n",
    "<br>"
   ]
  },
  {
   "cell_type": "markdown",
   "metadata": {},
   "source": [
    "##### WITH THE HELP OF THIS FUNCTION WE CAN EXTRACT EXACT PERSONS ALL `UPI` TRANSACTIONS AND ABOVE WERE ONLY FEW EXAMPLES\n",
    "\n",
    "<br>\n",
    "____________________________________________________________________________________________________________________________"
   ]
  },
  {
   "cell_type": "markdown",
   "metadata": {},
   "source": [
    "# Transaction happend on each bank"
   ]
  },
  {
   "cell_type": "markdown",
   "metadata": {},
   "source": [
    "### 1.)  Want to see all the transaction done on Axis bank"
   ]
  },
  {
   "cell_type": "code",
   "execution_count": 35,
   "metadata": {},
   "outputs": [
    {
     "data": {
      "text/html": [
       "<div>\n",
       "<style scoped>\n",
       "    .dataframe tbody tr th:only-of-type {\n",
       "        vertical-align: middle;\n",
       "    }\n",
       "\n",
       "    .dataframe tbody tr th {\n",
       "        vertical-align: top;\n",
       "    }\n",
       "\n",
       "    .dataframe thead th {\n",
       "        text-align: right;\n",
       "    }\n",
       "</style>\n",
       "<table border=\"1\" class=\"dataframe\">\n",
       "  <thead>\n",
       "    <tr style=\"text-align: right;\">\n",
       "      <th></th>\n",
       "      <th>Txn_Date</th>\n",
       "      <th>Description</th>\n",
       "      <th>Value_Date</th>\n",
       "      <th>Ref_No_and_Check_No</th>\n",
       "      <th>Debit</th>\n",
       "      <th>Credit</th>\n",
       "      <th>Balance</th>\n",
       "      <th>new_debit</th>\n",
       "      <th>new_credit</th>\n",
       "    </tr>\n",
       "  </thead>\n",
       "  <tbody>\n",
       "    <tr>\n",
       "      <th>3</th>\n",
       "      <td>2021-04-27</td>\n",
       "      <td>UPI-lazypay-lazypay.payu@axisbank-UTIB0000000-...</td>\n",
       "      <td>2021-04-27</td>\n",
       "      <td>111722088832</td>\n",
       "      <td>3096.0</td>\n",
       "      <td>NaN</td>\n",
       "      <td>34839.34</td>\n",
       "      <td>3096.0</td>\n",
       "      <td>0.0</td>\n",
       "    </tr>\n",
       "    <tr>\n",
       "      <th>5</th>\n",
       "      <td>2021-04-18</td>\n",
       "      <td>UPI-lazypay-lazypay.payu@axisbank-UTIB0000000-...</td>\n",
       "      <td>2021-04-18</td>\n",
       "      <td>110821046850</td>\n",
       "      <td>1788.0</td>\n",
       "      <td>NaN</td>\n",
       "      <td>40635.34</td>\n",
       "      <td>1788.0</td>\n",
       "      <td>0.0</td>\n",
       "    </tr>\n",
       "    <tr>\n",
       "      <th>10</th>\n",
       "      <td>2021-07-04</td>\n",
       "      <td>UPI-BHARATH KUMAR R-bharathraj808-1@okaxis-BAR...</td>\n",
       "      <td>2021-07-04</td>\n",
       "      <td>109716830389</td>\n",
       "      <td>2850.0</td>\n",
       "      <td>NaN</td>\n",
       "      <td>46003.34</td>\n",
       "      <td>2850.0</td>\n",
       "      <td>0.0</td>\n",
       "    </tr>\n",
       "    <tr>\n",
       "      <th>13</th>\n",
       "      <td>2021-04-04</td>\n",
       "      <td>UPI-dunzo-dunzo.payu@axisbank-UTIB0000000-1094...</td>\n",
       "      <td>2021-04-04</td>\n",
       "      <td>109418446327</td>\n",
       "      <td>2384.0</td>\n",
       "      <td>NaN</td>\n",
       "      <td>48853.34</td>\n",
       "      <td>2384.0</td>\n",
       "      <td>0.0</td>\n",
       "    </tr>\n",
       "  </tbody>\n",
       "</table>\n",
       "</div>"
      ],
      "text/plain": [
       "     Txn_Date                                        Description Value_Date  \\\n",
       "3  2021-04-27  UPI-lazypay-lazypay.payu@axisbank-UTIB0000000-... 2021-04-27   \n",
       "5  2021-04-18  UPI-lazypay-lazypay.payu@axisbank-UTIB0000000-... 2021-04-18   \n",
       "10 2021-07-04  UPI-BHARATH KUMAR R-bharathraj808-1@okaxis-BAR... 2021-07-04   \n",
       "13 2021-04-04  UPI-dunzo-dunzo.payu@axisbank-UTIB0000000-1094... 2021-04-04   \n",
       "\n",
       "   Ref_No_and_Check_No   Debit  Credit   Balance  new_debit  new_credit  \n",
       "3         111722088832  3096.0     NaN  34839.34     3096.0         0.0  \n",
       "5         110821046850  1788.0     NaN  40635.34     1788.0         0.0  \n",
       "10        109716830389  2850.0     NaN  46003.34     2850.0         0.0  \n",
       "13        109418446327  2384.0     NaN  48853.34     2384.0         0.0  "
      ]
     },
     "execution_count": 35,
     "metadata": {},
     "output_type": "execute_result"
    }
   ],
   "source": [
    "axis = get_records(df, 'Description', 'axis')\n",
    "axis"
   ]
  },
  {
   "cell_type": "markdown",
   "metadata": {},
   "source": [
    "### 2.)  Want to see all the transaction done on HDFC bank"
   ]
  },
  {
   "cell_type": "code",
   "execution_count": 36,
   "metadata": {},
   "outputs": [
    {
     "data": {
      "text/html": [
       "<div>\n",
       "<style scoped>\n",
       "    .dataframe tbody tr th:only-of-type {\n",
       "        vertical-align: middle;\n",
       "    }\n",
       "\n",
       "    .dataframe tbody tr th {\n",
       "        vertical-align: top;\n",
       "    }\n",
       "\n",
       "    .dataframe thead th {\n",
       "        text-align: right;\n",
       "    }\n",
       "</style>\n",
       "<table border=\"1\" class=\"dataframe\">\n",
       "  <thead>\n",
       "    <tr style=\"text-align: right;\">\n",
       "      <th></th>\n",
       "      <th>Txn_Date</th>\n",
       "      <th>Description</th>\n",
       "      <th>Value_Date</th>\n",
       "      <th>Ref_No_and_Check_No</th>\n",
       "      <th>Debit</th>\n",
       "      <th>Credit</th>\n",
       "      <th>Balance</th>\n",
       "      <th>new_debit</th>\n",
       "      <th>new_credit</th>\n",
       "    </tr>\n",
       "  </thead>\n",
       "  <tbody>\n",
       "    <tr>\n",
       "      <th>4</th>\n",
       "      <td>2021-04-22</td>\n",
       "      <td>UPI-PUNITH C-punithcgowda740@okhdfcbank-PYTM01...</td>\n",
       "      <td>2021-04-22</td>\n",
       "      <td>111213624307</td>\n",
       "      <td>2700.0</td>\n",
       "      <td>NaN</td>\n",
       "      <td>37935.34</td>\n",
       "      <td>2700.0</td>\n",
       "      <td>0.0</td>\n",
       "    </tr>\n",
       "    <tr>\n",
       "      <th>6</th>\n",
       "      <td>2021-04-16</td>\n",
       "      <td>UPI-LAZY PAY-lazypay.payu@hdfcbank-HDFC0000499...</td>\n",
       "      <td>2021-04-16</td>\n",
       "      <td>110609687438</td>\n",
       "      <td>379.0</td>\n",
       "      <td>NaN</td>\n",
       "      <td>42423.34</td>\n",
       "      <td>379.0</td>\n",
       "      <td>0.0</td>\n",
       "    </tr>\n",
       "    <tr>\n",
       "      <th>7</th>\n",
       "      <td>2021-04-15</td>\n",
       "      <td>UPI-JYOTHI VASUDEV ANAND-jvanandaram66@okhdfcb...</td>\n",
       "      <td>2021-04-16</td>\n",
       "      <td>110523568403</td>\n",
       "      <td>3000.0</td>\n",
       "      <td>NaN</td>\n",
       "      <td>42802.34</td>\n",
       "      <td>3000.0</td>\n",
       "      <td>0.0</td>\n",
       "    </tr>\n",
       "    <tr>\n",
       "      <th>8</th>\n",
       "      <td>2021-04-14</td>\n",
       "      <td>UPI-LAZY PAY-lazypay.payu@hdfcbank-HDFC0000499...</td>\n",
       "      <td>2021-04-14</td>\n",
       "      <td>110411215936</td>\n",
       "      <td>202.0</td>\n",
       "      <td>NaN</td>\n",
       "      <td>45802.34</td>\n",
       "      <td>202.0</td>\n",
       "      <td>0.0</td>\n",
       "    </tr>\n",
       "    <tr>\n",
       "      <th>9</th>\n",
       "      <td>2021-04-14</td>\n",
       "      <td>IMPS-110410843404-PayU Payment Private-HDFC-xx...</td>\n",
       "      <td>2021-04-14</td>\n",
       "      <td>110410843404</td>\n",
       "      <td>NaN</td>\n",
       "      <td>1.0</td>\n",
       "      <td>46004.34</td>\n",
       "      <td>0.0</td>\n",
       "      <td>1.0</td>\n",
       "    </tr>\n",
       "    <tr>\n",
       "      <th>19</th>\n",
       "      <td>2021-03-19</td>\n",
       "      <td>UPI-KEZIAH MARIA KORAH-keziahko-1@okhdfcbank-C...</td>\n",
       "      <td>2021-03-19</td>\n",
       "      <td>107810329994</td>\n",
       "      <td>NaN</td>\n",
       "      <td>240.0</td>\n",
       "      <td>22465.16</td>\n",
       "      <td>0.0</td>\n",
       "      <td>240.0</td>\n",
       "    </tr>\n",
       "  </tbody>\n",
       "</table>\n",
       "</div>"
      ],
      "text/plain": [
       "     Txn_Date                                        Description Value_Date  \\\n",
       "4  2021-04-22  UPI-PUNITH C-punithcgowda740@okhdfcbank-PYTM01... 2021-04-22   \n",
       "6  2021-04-16  UPI-LAZY PAY-lazypay.payu@hdfcbank-HDFC0000499... 2021-04-16   \n",
       "7  2021-04-15  UPI-JYOTHI VASUDEV ANAND-jvanandaram66@okhdfcb... 2021-04-16   \n",
       "8  2021-04-14  UPI-LAZY PAY-lazypay.payu@hdfcbank-HDFC0000499... 2021-04-14   \n",
       "9  2021-04-14  IMPS-110410843404-PayU Payment Private-HDFC-xx... 2021-04-14   \n",
       "19 2021-03-19  UPI-KEZIAH MARIA KORAH-keziahko-1@okhdfcbank-C... 2021-03-19   \n",
       "\n",
       "   Ref_No_and_Check_No   Debit  Credit   Balance  new_debit  new_credit  \n",
       "4         111213624307  2700.0     NaN  37935.34     2700.0         0.0  \n",
       "6         110609687438   379.0     NaN  42423.34      379.0         0.0  \n",
       "7         110523568403  3000.0     NaN  42802.34     3000.0         0.0  \n",
       "8         110411215936   202.0     NaN  45802.34      202.0         0.0  \n",
       "9         110410843404     NaN     1.0  46004.34        0.0         1.0  \n",
       "19        107810329994     NaN   240.0  22465.16        0.0       240.0  "
      ]
     },
     "execution_count": 36,
     "metadata": {},
     "output_type": "execute_result"
    }
   ],
   "source": [
    "hdfc = get_records(df, 'Description', 'hdfc')\n",
    "hdfc"
   ]
  },
  {
   "cell_type": "markdown",
   "metadata": {},
   "source": [
    "### 3.)  Want to see all the transaction done on SBI bank"
   ]
  },
  {
   "cell_type": "code",
   "execution_count": 37,
   "metadata": {},
   "outputs": [
    {
     "data": {
      "text/html": [
       "<div>\n",
       "<style scoped>\n",
       "    .dataframe tbody tr th:only-of-type {\n",
       "        vertical-align: middle;\n",
       "    }\n",
       "\n",
       "    .dataframe tbody tr th {\n",
       "        vertical-align: top;\n",
       "    }\n",
       "\n",
       "    .dataframe thead th {\n",
       "        text-align: right;\n",
       "    }\n",
       "</style>\n",
       "<table border=\"1\" class=\"dataframe\">\n",
       "  <thead>\n",
       "    <tr style=\"text-align: right;\">\n",
       "      <th></th>\n",
       "      <th>Txn_Date</th>\n",
       "      <th>Description</th>\n",
       "      <th>Value_Date</th>\n",
       "      <th>Ref_No_and_Check_No</th>\n",
       "      <th>Debit</th>\n",
       "      <th>Credit</th>\n",
       "      <th>Balance</th>\n",
       "      <th>new_debit</th>\n",
       "      <th>new_credit</th>\n",
       "    </tr>\n",
       "  </thead>\n",
       "  <tbody>\n",
       "    <tr>\n",
       "      <th>0</th>\n",
       "      <td>2021-04-29</td>\n",
       "      <td>NEFT Cr-SBIN0010368-RAO INSULATING COMPANY PRI...</td>\n",
       "      <td>2021-04-29</td>\n",
       "      <td>SBIN421119062694</td>\n",
       "      <td>NaN</td>\n",
       "      <td>30000.0</td>\n",
       "      <td>63661.70</td>\n",
       "      <td>0.00</td>\n",
       "      <td>30000.0</td>\n",
       "    </tr>\n",
       "    <tr>\n",
       "      <th>1</th>\n",
       "      <td>2021-04-29</td>\n",
       "      <td>UPI-Razorpay Software Pr-razor.pay@sbi-SBIN001...</td>\n",
       "      <td>2021-04-29</td>\n",
       "      <td>111910372620</td>\n",
       "      <td>588.82</td>\n",
       "      <td>NaN</td>\n",
       "      <td>33661.70</td>\n",
       "      <td>588.82</td>\n",
       "      <td>0.0</td>\n",
       "    </tr>\n",
       "    <tr>\n",
       "      <th>18</th>\n",
       "      <td>2021-03-29</td>\n",
       "      <td>NEFT Cr-SBIN0010368-RAO INSULATING COMPANY PRI...</td>\n",
       "      <td>2021-03-29</td>\n",
       "      <td>SBIN221088754138</td>\n",
       "      <td>NaN</td>\n",
       "      <td>30000.0</td>\n",
       "      <td>52465.16</td>\n",
       "      <td>0.00</td>\n",
       "      <td>30000.0</td>\n",
       "    </tr>\n",
       "  </tbody>\n",
       "</table>\n",
       "</div>"
      ],
      "text/plain": [
       "     Txn_Date                                        Description Value_Date  \\\n",
       "0  2021-04-29  NEFT Cr-SBIN0010368-RAO INSULATING COMPANY PRI... 2021-04-29   \n",
       "1  2021-04-29  UPI-Razorpay Software Pr-razor.pay@sbi-SBIN001... 2021-04-29   \n",
       "18 2021-03-29  NEFT Cr-SBIN0010368-RAO INSULATING COMPANY PRI... 2021-03-29   \n",
       "\n",
       "   Ref_No_and_Check_No   Debit   Credit   Balance  new_debit  new_credit  \n",
       "0     SBIN421119062694     NaN  30000.0  63661.70       0.00     30000.0  \n",
       "1         111910372620  588.82      NaN  33661.70     588.82         0.0  \n",
       "18    SBIN221088754138     NaN  30000.0  52465.16       0.00     30000.0  "
      ]
     },
     "execution_count": 37,
     "metadata": {},
     "output_type": "execute_result"
    }
   ],
   "source": [
    "sbi = get_records(df, 'Description', 'sbi')\n",
    "sbi"
   ]
  },
  {
   "cell_type": "markdown",
   "metadata": {},
   "source": [
    "### 4.)  Want to see all the transaction done on ICICI bank"
   ]
  },
  {
   "cell_type": "code",
   "execution_count": 38,
   "metadata": {},
   "outputs": [
    {
     "data": {
      "text/html": [
       "<div>\n",
       "<style scoped>\n",
       "    .dataframe tbody tr th:only-of-type {\n",
       "        vertical-align: middle;\n",
       "    }\n",
       "\n",
       "    .dataframe tbody tr th {\n",
       "        vertical-align: top;\n",
       "    }\n",
       "\n",
       "    .dataframe thead th {\n",
       "        text-align: right;\n",
       "    }\n",
       "</style>\n",
       "<table border=\"1\" class=\"dataframe\">\n",
       "  <thead>\n",
       "    <tr style=\"text-align: right;\">\n",
       "      <th></th>\n",
       "      <th>Txn_Date</th>\n",
       "      <th>Description</th>\n",
       "      <th>Value_Date</th>\n",
       "      <th>Ref_No_and_Check_No</th>\n",
       "      <th>Debit</th>\n",
       "      <th>Credit</th>\n",
       "      <th>Balance</th>\n",
       "      <th>new_debit</th>\n",
       "      <th>new_credit</th>\n",
       "    </tr>\n",
       "  </thead>\n",
       "  <tbody>\n",
       "    <tr>\n",
       "      <th>2</th>\n",
       "      <td>2021-04-28</td>\n",
       "      <td>UPI-razorpay-razorpay@icici-ICIC0000001-111815...</td>\n",
       "      <td>2021-04-28</td>\n",
       "      <td>111815326599</td>\n",
       "      <td>588.82</td>\n",
       "      <td>NaN</td>\n",
       "      <td>34250.52</td>\n",
       "      <td>588.82</td>\n",
       "      <td>0.0</td>\n",
       "    </tr>\n",
       "    <tr>\n",
       "      <th>15</th>\n",
       "      <td>2021-03-31</td>\n",
       "      <td>UPI-razorpay-razorpay@icici-ICIC0000001-109011...</td>\n",
       "      <td>2021-03-31</td>\n",
       "      <td>109011126937</td>\n",
       "      <td>588.82</td>\n",
       "      <td>NaN</td>\n",
       "      <td>50506.34</td>\n",
       "      <td>588.82</td>\n",
       "      <td>0.0</td>\n",
       "    </tr>\n",
       "    <tr>\n",
       "      <th>17</th>\n",
       "      <td>2021-03-29</td>\n",
       "      <td>UPI-PUNITH C-punithcgowda740-2@okicici-ICIC000...</td>\n",
       "      <td>2021-03-29</td>\n",
       "      <td>108814778271</td>\n",
       "      <td>1000.00</td>\n",
       "      <td>NaN</td>\n",
       "      <td>51465.16</td>\n",
       "      <td>1000.00</td>\n",
       "      <td>0.0</td>\n",
       "    </tr>\n",
       "  </tbody>\n",
       "</table>\n",
       "</div>"
      ],
      "text/plain": [
       "     Txn_Date                                        Description Value_Date  \\\n",
       "2  2021-04-28  UPI-razorpay-razorpay@icici-ICIC0000001-111815... 2021-04-28   \n",
       "15 2021-03-31  UPI-razorpay-razorpay@icici-ICIC0000001-109011... 2021-03-31   \n",
       "17 2021-03-29  UPI-PUNITH C-punithcgowda740-2@okicici-ICIC000... 2021-03-29   \n",
       "\n",
       "   Ref_No_and_Check_No    Debit  Credit   Balance  new_debit  new_credit  \n",
       "2         111815326599   588.82     NaN  34250.52     588.82         0.0  \n",
       "15        109011126937   588.82     NaN  50506.34     588.82         0.0  \n",
       "17        108814778271  1000.00     NaN  51465.16    1000.00         0.0  "
      ]
     },
     "execution_count": 38,
     "metadata": {},
     "output_type": "execute_result"
    }
   ],
   "source": [
    "icici = get_records(df, 'Description', 'icici')\n",
    "icici"
   ]
  },
  {
   "cell_type": "markdown",
   "metadata": {},
   "source": [
    "### * Number of transaction happend in each bank :"
   ]
  },
  {
   "cell_type": "code",
   "execution_count": 39,
   "metadata": {},
   "outputs": [
    {
     "name": "stdout",
     "output_type": "stream",
     "text": [
      "Number of Transactions Happend in axis bank: 4\n",
      "Number of Transactions Happend in hdfc bank: 6\n",
      "Number of Transactions Happend in sbi bank: 3\n",
      "Number of Transactions Happend in icici bank: 3\n"
     ]
    }
   ],
   "source": [
    "dict_bank = {'axis':axis, 'hdfc':hdfc, 'sbi': sbi, 'icici':icici}\n",
    "\n",
    "\n",
    "for key, value in dict_bank.items():\n",
    "    print(f\"Number of Transactions Happend in {key} bank: {len(value)}\")"
   ]
  },
  {
   "cell_type": "markdown",
   "metadata": {},
   "source": [
    "**- OBSERVATION :**\n",
    "    \n",
    "- HDFC Bank had the most number of transaction i.e 6\n",
    "<br>\n",
    "\n",
    "- Axis Bank had the 2nd most number of transaction i.e 4\n",
    "<br>\n",
    "\n",
    "- SBI & ICICI Bank had the same number of transaction i.e 3 for each\n",
    "<br>"
   ]
  },
  {
   "cell_type": "markdown",
   "metadata": {},
   "source": [
    "<br>\n",
    "____________________________________________________________________________________________________________________________\n",
    "\n",
    "# Finding the Correlation between the columns"
   ]
  },
  {
   "cell_type": "markdown",
   "metadata": {},
   "source": [
    "- Before finding the correlation between the columns lets drop `Credit` & `Debit` columns.\n",
    "<br>\n",
    "\n",
    "- Replace NaN value in `Ref_No_and_Check_No` with XXXXXXXX "
   ]
  },
  {
   "cell_type": "markdown",
   "metadata": {},
   "source": [
    "**Replace NaN value in `Ref_No_and_Check_No` with XXXXXXXX :**"
   ]
  },
  {
   "cell_type": "code",
   "execution_count": 40,
   "metadata": {},
   "outputs": [],
   "source": [
    "df['Ref_No_and_Check_No'].fillna('XXXXXXX', inplace = True)"
   ]
  },
  {
   "cell_type": "markdown",
   "metadata": {},
   "source": [
    "**DROPING `Credit` & `Debit` :**"
   ]
  },
  {
   "cell_type": "code",
   "execution_count": 41,
   "metadata": {},
   "outputs": [],
   "source": [
    "df.drop(['Credit', 'Debit'], axis=1, inplace=True)"
   ]
  },
  {
   "cell_type": "code",
   "execution_count": 42,
   "metadata": {},
   "outputs": [
    {
     "data": {
      "text/html": [
       "<div>\n",
       "<style scoped>\n",
       "    .dataframe tbody tr th:only-of-type {\n",
       "        vertical-align: middle;\n",
       "    }\n",
       "\n",
       "    .dataframe tbody tr th {\n",
       "        vertical-align: top;\n",
       "    }\n",
       "\n",
       "    .dataframe thead th {\n",
       "        text-align: right;\n",
       "    }\n",
       "</style>\n",
       "<table border=\"1\" class=\"dataframe\">\n",
       "  <thead>\n",
       "    <tr style=\"text-align: right;\">\n",
       "      <th></th>\n",
       "      <th>Txn_Date</th>\n",
       "      <th>Description</th>\n",
       "      <th>Value_Date</th>\n",
       "      <th>Ref_No_and_Check_No</th>\n",
       "      <th>Balance</th>\n",
       "      <th>new_debit</th>\n",
       "      <th>new_credit</th>\n",
       "    </tr>\n",
       "  </thead>\n",
       "  <tbody>\n",
       "    <tr>\n",
       "      <th>0</th>\n",
       "      <td>2021-04-29</td>\n",
       "      <td>NEFT Cr-SBIN0010368-RAO INSULATING COMPANY PRI...</td>\n",
       "      <td>2021-04-29</td>\n",
       "      <td>SBIN421119062694</td>\n",
       "      <td>63661.7</td>\n",
       "      <td>0.00</td>\n",
       "      <td>30000.0</td>\n",
       "    </tr>\n",
       "    <tr>\n",
       "      <th>1</th>\n",
       "      <td>2021-04-29</td>\n",
       "      <td>UPI-Razorpay Software Pr-razor.pay@sbi-SBIN001...</td>\n",
       "      <td>2021-04-29</td>\n",
       "      <td>111910372620</td>\n",
       "      <td>33661.7</td>\n",
       "      <td>588.82</td>\n",
       "      <td>0.0</td>\n",
       "    </tr>\n",
       "  </tbody>\n",
       "</table>\n",
       "</div>"
      ],
      "text/plain": [
       "    Txn_Date                                        Description Value_Date  \\\n",
       "0 2021-04-29  NEFT Cr-SBIN0010368-RAO INSULATING COMPANY PRI... 2021-04-29   \n",
       "1 2021-04-29  UPI-Razorpay Software Pr-razor.pay@sbi-SBIN001... 2021-04-29   \n",
       "\n",
       "  Ref_No_and_Check_No  Balance  new_debit  new_credit  \n",
       "0    SBIN421119062694  63661.7       0.00     30000.0  \n",
       "1        111910372620  33661.7     588.82         0.0  "
      ]
     },
     "execution_count": 42,
     "metadata": {},
     "output_type": "execute_result"
    }
   ],
   "source": [
    "df.head(2)"
   ]
  },
  {
   "cell_type": "code",
   "execution_count": 43,
   "metadata": {},
   "outputs": [
    {
     "data": {
      "text/plain": [
       "Txn_Date               0\n",
       "Description            0\n",
       "Value_Date             0\n",
       "Ref_No_and_Check_No    0\n",
       "Balance                0\n",
       "new_debit              0\n",
       "new_credit             0\n",
       "dtype: int64"
      ]
     },
     "execution_count": 43,
     "metadata": {},
     "output_type": "execute_result"
    }
   ],
   "source": [
    "df.isna().sum()"
   ]
  },
  {
   "cell_type": "markdown",
   "metadata": {},
   "source": [
    "------------------------------------------------------\n",
    "**FINDING OUT THE CO-ORELATION BETWEEN COLUMNS :**"
   ]
  },
  {
   "cell_type": "code",
   "execution_count": 44,
   "metadata": {},
   "outputs": [
    {
     "data": {
      "image/png": "[encoded data removed]",
      "text/plain": [
       "<Figure size 576x432 with 2 Axes>"
      ]
     },
     "metadata": {
      "needs_background": "light"
     },
     "output_type": "display_data"
    }
   ],
   "source": [
    "plt.figure(figsize=(8,6))                                       # Help to set figure size                                     \n",
    "\n",
    "sns.heatmap(df.corr(),annot=True,cmap='Blues',fmt='.3f',linewidths=2, linecolor='black')    \n",
    "\n",
    "plt.ylim(3,0)                                                     # show us exact number of values we want\n",
    "plt.show()"
   ]
  },
  {
   "cell_type": "markdown",
   "metadata": {},
   "source": [
    "**- OBSERVATION :**\n",
    "\n",
    "- `Balance` and `new_credit` has almost 98% of positive correlation with each other that means that they are effecting each other very much.\n",
    "<br>\n",
    "\n",
    "\n",
    "- `new_debit` and `new_credit` has almost -0.07% of negative correlation with each other"
   ]
  },
  {
   "cell_type": "markdown",
   "metadata": {},
   "source": [
    "**Checking our 1st observation from above :**"
   ]
  },
  {
   "cell_type": "code",
   "execution_count": 45,
   "metadata": {},
   "outputs": [
    {
     "data": {
      "image/png": "[encoded data removed]",
      "text/plain": [
       "<Figure size 432x288 with 1 Axes>"
      ]
     },
     "metadata": {
      "needs_background": "light"
     },
     "output_type": "display_data"
    }
   ],
   "source": [
    "df.corr()['Balance'].sort_values().plot(kind='bar',color='blue')\n",
    "plt.grid(color='k')"
   ]
  },
  {
   "cell_type": "markdown",
   "metadata": {},
   "source": [
    "**Checking our 2nd observation from above :**"
   ]
  },
  {
   "cell_type": "code",
   "execution_count": 52,
   "metadata": {},
   "outputs": [
    {
     "data": {
      "image/png": "[encoded data removed]",
      "text/plain": [
       "<Figure size 432x288 with 1 Axes>"
      ]
     },
     "metadata": {
      "needs_background": "light"
     },
     "output_type": "display_data"
    }
   ],
   "source": [
    "df.corr()['new_debit'].sort_values().plot(kind='bar', color='orange')\n",
    "plt.grid(color='k')"
   ]
  },
  {
   "cell_type": "markdown",
   "metadata": {},
   "source": [
    "<br>\n",
    "_____________________________________________________________________________________________________________________________\n",
    "\n",
    "\n",
    "## Plotting Pair-Plots with Numerical Data :"
   ]
  },
  {
   "cell_type": "markdown",
   "metadata": {},
   "source": [
    "### - Basic Pair Plot For Whole Data Set :"
   ]
  },
  {
   "cell_type": "code",
   "execution_count": 47,
   "metadata": {},
   "outputs": [
    {
     "data": {
      "text/plain": [
       "<seaborn.axisgrid.PairGrid at 0x273d5b57248>"
      ]
     },
     "execution_count": 47,
     "metadata": {},
     "output_type": "execute_result"
    },
    {
     "data": {
      "image/png": "[encoded data removed]",
      "text/plain": [
       "<Figure size 540x540 with 12 Axes>"
      ]
     },
     "metadata": {
      "needs_background": "light"
     },
     "output_type": "display_data"
    }
   ],
   "source": [
    "sns.pairplot(data = df)"
   ]
  },
  {
   "cell_type": "markdown",
   "metadata": {},
   "source": [
    "**- OBSERVATION :**\n",
    "\n",
    "- We can easily identiy the density of the points and can make some estimates.\n",
    "<br>\n",
    "\n",
    "- Such as `Balance`, `new_credit`, `new_debit` data is RIGHT SKEWED.\n",
    "<br>\n"
   ]
  },
  {
   "cell_type": "markdown",
   "metadata": {},
   "source": [
    "###  Pair Plot For Whole Data Set based on Balance:"
   ]
  },
  {
   "cell_type": "markdown",
   "metadata": {},
   "source": [
    "- **hue** parameter determines which column in the data frame should be used for colour encoding"
   ]
  },
  {
   "cell_type": "markdown",
   "metadata": {},
   "source": [
    "**1.) hue = `Balance` :**"
   ]
  },
  {
   "cell_type": "code",
   "execution_count": 48,
   "metadata": {
    "scrolled": false
   },
   "outputs": [
    {
     "data": {
      "text/plain": [
       "<seaborn.axisgrid.PairGrid at 0x273d7304448>"
      ]
     },
     "execution_count": 48,
     "metadata": {},
     "output_type": "execute_result"
    },
    {
     "data": {
      "image/png": "[encoded data removed]",
      "text/plain": [
       "<Figure size 450.25x360 with 6 Axes>"
      ]
     },
     "metadata": {
      "needs_background": "light"
     },
     "output_type": "display_data"
    }
   ],
   "source": [
    "sns.pairplot(df, hue=\"Balance\", palette=\"rainbow\")"
   ]
  },
  {
   "cell_type": "markdown",
   "metadata": {},
   "source": [
    "**- OBSERVATION :**\n",
    "\n",
    "- With hue = `Balance` we can see the data is NORMALLY DISTRIBUTED."
   ]
  },
  {
   "cell_type": "markdown",
   "metadata": {},
   "source": [
    "**2.) hue = `new_credit` :**"
   ]
  },
  {
   "cell_type": "code",
   "execution_count": 49,
   "metadata": {
    "scrolled": false
   },
   "outputs": [
    {
     "data": {
      "text/plain": [
       "<seaborn.axisgrid.PairGrid at 0x273d5a33c88>"
      ]
     },
     "execution_count": 49,
     "metadata": {},
     "output_type": "execute_result"
    },
    {
     "data": {
      "image/png": "[encoded data removed]",
      "text/plain": [
       "<Figure size 443.875x360 with 6 Axes>"
      ]
     },
     "metadata": {
      "needs_background": "light"
     },
     "output_type": "display_data"
    }
   ],
   "source": [
    "sns.pairplot(df, hue=\"new_credit\", palette=\"rainbow\")"
   ]
  },
  {
   "cell_type": "markdown",
   "metadata": {},
   "source": [
    "**- OBSERVATION :**\n",
    "\n",
    "- With hue = `new_credit` we can say data is RIGHT SKEWED."
   ]
  },
  {
   "cell_type": "markdown",
   "metadata": {},
   "source": [
    "**3.) hue = `new_debit` :**"
   ]
  },
  {
   "cell_type": "code",
   "execution_count": 50,
   "metadata": {},
   "outputs": [
    {
     "data": {
      "text/plain": [
       "<seaborn.axisgrid.PairGrid at 0x273d79fe888>"
      ]
     },
     "execution_count": 50,
     "metadata": {},
     "output_type": "execute_result"
    },
    {
     "data": {
      "image/png": "[encoded data removed]",
      "text/plain": [
       "<Figure size 443.875x360 with 6 Axes>"
      ]
     },
     "metadata": {
      "needs_background": "light"
     },
     "output_type": "display_data"
    }
   ],
   "source": [
    "sns.pairplot(df, hue=\"new_debit\", palette=\"rainbow\")"
   ]
  },
  {
   "cell_type": "markdown",
   "metadata": {},
   "source": [
    "**- OBSERVATION :**\n",
    "\n",
    "- With hue = `new_debit` we can say data is RIGHT SKEWED"
   ]
  },
  {
   "cell_type": "code",
   "execution_count": 51,
   "metadata": {},
   "outputs": [
    {
     "data": {
      "text/plain": [
       "<seaborn.axisgrid.PairGrid at 0x273d7642ac8>"
      ]
     },
     "execution_count": 51,
     "metadata": {},
     "output_type": "execute_result"
    },
    {
     "data": {
      "image/png": "[encoded data removed]",
      "text/plain": [
       "<Figure size 719.375x540 with 12 Axes>"
      ]
     },
     "metadata": {
      "needs_background": "light"
     },
     "output_type": "display_data"
    }
   ],
   "source": [
    "sns.pairplot(df, hue=\"Ref_No_and_Check_No\", palette=\"rainbow\")"
   ]
  },
  {
   "cell_type": "markdown",
   "metadata": {},
   "source": [
    "**- OBSERVATION :**\n",
    "\n",
    "- With hue = `Ref_No_and_Check_No` we now where most of the date is located"
   ]
  },
  {
   "cell_type": "markdown",
   "metadata": {},
   "source": [
    "<br>\n",
    "___________________________________________________________________________________________________________________________\n",
    "\n",
    "# CONCLUTION : \n",
    "<br>\n",
    "\n",
    "**- IMPORTED DATA & NECESSARY LIBRARY :**\n",
    "\n",
    "- Observed wide spaces insead of NaN value\n",
    "<br>\n",
    "<br>\n",
    "\n",
    "**- GET DATATYPE OF THE COLUMNS :**\n",
    "\n",
    "- Got dtypes: datetime64(2), float64(1), object(4)\n",
    "<br>\n",
    "<br>\n",
    "\n",
    "**- REPLACING ALL WIDE SPACES WITH NAN :**\n",
    "\n",
    "- Because we had NaN value as well as Wide Space. So instead of converting NaN with wide space, we converted Wide Space with NaN which make easy to replace those values.\n",
    "<br>\n",
    "<br>\n",
    "\n",
    "**- CHANGING THE DATATYPES OF DEBIT & CREDIT COLUMN TO FLOAT :**\n",
    "\n",
    "- Because they contain most NaN values and it would be easy to just inseart 0. For better computation.\n",
    "<br>\n",
    "<br>\n",
    "\n",
    "**- REMOVING WIDE SPACE & DECIMAL VALUE IF IT EXIST IN OUR REF_NO_AND_CHECK_NO :**\n",
    "\n",
    "- So it does not become problem later.\n",
    "<br>\n",
    "<br>\n",
    "\n",
    "**- FINDING PERCENT OF ALL THE NULL VALUES IN THE DATA :**\n",
    "\n",
    "- which help us to better understand how much Credit and Debit happend.\n",
    "<br>\n",
    "<br>\n",
    "\n",
    "**- CHECKING THE EXACT NUMBER OF MISSING VALUES WHICH ARE PRESENT IN THE FOLLOWING COLUMNS :**\n",
    "\n",
    "- Which help us to understand that we have to drop that column or not.\n",
    "<br>\n",
    "<br>\n",
    "\n",
    "**- VISUALIZING DATETIME FORMAT DATA :**\n",
    "\n",
    "- To know the frequency of transactions.\n",
    "<br>\n",
    "<br>\n",
    "\n",
    "**- DEALING WITH NAN VALUES :**\n",
    "\n",
    "- Which help us to do more computation on data and visualize it properly.\n",
    "<br>\n",
    "<br>\n",
    "\n",
    "**- UNDERSTANDING NEW_DEBIT & NEW_CREDIT :**\n",
    "\n",
    "- Visualized the data for better understanding of how data is formated.\n",
    "<br>\n",
    "<br>\n",
    "\n",
    "**- UNDERSTANDING RELATION DESCRIPTION & REF_NO_AND_CHECK_NO :**\n",
    "\n",
    "- Found the correlation that the last numerical value in Description is the value in Ref_No_and_Check_No.\n",
    "<br>\n",
    "<br>\n",
    "\n",
    "**- USING NLP TECHNIQUES TO FIND OUT SOME INSIDES :**\n",
    "\n",
    "- Used NER and Column classification to get some insides.\n",
    "<br>\n",
    "<br>\n",
    "\n",
    "**- CATEGORIZE THE TRANSACTIONS BASED ON CONDITION :          (----IMPORTANT----)**\n",
    "\n",
    "- Helped us to find all the transaction details of an *individual* and *even bank* in a *presentable* format.\n",
    "<br>\n",
    "<br>\n",
    "\n",
    "**- UNDERSTANDING DESCRIPTION COLUMN WITH CHARACTERS :**\n",
    "\n",
    "- Replaced NAN value in Ref_No_and_Check_No with NaN.\n",
    "\n",
    "\n",
    "- Unerstood the correlation between Balance, new_debit, new_credit.\n",
    "\n",
    "<br>\n",
    "<br>\n",
    "\n",
    "\n",
    "***--------------------------------------------------- END ---------------------------------------------------***"
   ]
  },
  {
   "cell_type": "code",
   "execution_count": null,
   "metadata": {},
   "outputs": [],
   "source": []
  }
 ],
 "metadata": {
  "kernelspec": {
   "display_name": "Python 3",
   "language": "python",
   "name": "python3"
  },
  "language_info": {
   "codemirror_mode": {
    "name": "ipython",
    "version": 3
   },
   "file_extension": ".py",
   "mimetype": "text/x-python",
   "name": "python",
   "nbconvert_exporter": "python",
   "pygments_lexer": "ipython3",
   "version": "3.7.7"
  }
 },
 "nbformat": 4,
 "nbformat_minor": 4
}
